{
 "cells": [
  {
   "attachments": {},
   "cell_type": "markdown",
   "metadata": {
    "pycharm": {
     "name": "#%% md\n"
    }
   },
   "source": [
    "# Demonstrating `mobile-env`: Multi-Agent RL with Ray RLlib\n",
    "\n",
    "`mobile-env` is a simple and open environment for training, testing, and evaluating autonomous coordination\n",
    "approaches for wireless mobile networks.\n",
    "\n",
    "* `mobile-env` is written in pure Python and can be installed easily via [PyPI](https://pypi.org/project/mobile-env/)\n",
    "* It allows simulating various scenarios with moving users in a cellular network with multiple base stations\n",
    "* `mobile-env` implements the standard [Gymnasium](https://gymnasium.farama.org/) (previously [OpenAI Gym](https://gym.openai.com/)) interface such that it can be used with all common frameworks for reinforcement learning\n",
    "* `mobile-env` is not restricted to reinforcement learning approaches but can also be used with conventional control approaches or dummy benchmark algorithms\n",
    "* It supports both centralized, single-agent control and distributed, multi-agent control\n",
    "* It can be configured easily (e.g., adjusting number and movement of users, properties of cells, etc.)\n",
    "* It is also easy to extend `mobile-env`, e.g., implementing different observations, actions, or reward\n",
    "\n",
    "As such `mobile-env` is a simple platform to evaluate and compare different coordination approaches in a meaningful way.\n",
    "\n",
    "\n",
    "\n",
    "**Demonstration Steps:**\n",
    "\n",
    "This demonstration consists of the following steps (split accross separate notebooks):\n",
    "\n",
    "1. [Previous notebook](examples\\demo.ipynb): Installation and usage of `mobile-env` with dummy actions\n",
    "2. [Previous notebook](examples\\demo.ipynb): Configuration of `mobile-env` and adjustment of the observation space (optional)\n",
    "3. [Previous notebook](examples\\demo.ipynb): Training a single-agent reinforcement learning approach with [`stable-baselines3`](https://github.com/DLR-RM/stable-baselines3)\n",
    "4. **This notebook:** Training a multi-agent reinforcement learning approach with [Ray RLlib](https://docs.ray.io/en/latest/rllib.html)"
   ]
  },
  {
   "attachments": {},
   "cell_type": "markdown",
   "metadata": {},
   "source": [
    "## Step 4: Multi-Agent RL with Ray RLlib\n",
    "\n",
    "As alternative to controlling cell selection centrally for all users from a single RL agent, we can also use multi-agent RL, i.e., delegating control to multiple agents that act in parallel.\n",
    "As an example, we could have each RL agent responsible for the cell selection of a single user. Then we would need as many agents as we have users.\n",
    "That's what happens in the predefined multi-agent scenarios, e.g., `mobile-small-ma-v0`.\n",
    "\n",
    "Let's use RLlib to train a multi-agent policy on the `mobile-small-ma-v0` scenario, which has three base stations and five users.\n",
    "\n",
    "### Set up Ray RLlib\n",
    "\n",
    "To train a multi-agent approach, we can use Ray RLlib, which supports multi-agent RL out of the box. To register the predefined multi-agent scenario with RLlib, `mobile-env` provides a wrapper `RLlibMAWrapper`. But first we need to install `mobile-env` and `ray` with RLlib:"
   ]
  },
  {
   "cell_type": "code",
   "execution_count": 1,
   "metadata": {
    "collapsed": false,
    "jupyter": {
     "outputs_hidden": false
    },
    "pycharm": {
     "name": "#%%\n"
    }
   },
   "outputs": [
    {
     "name": "stdout",
     "output_type": "stream",
     "text": [
      "Requirement already satisfied: mobile-env in /Users/stefanshschneider/Projects/private/mobile-env/venv/lib/python3.12/site-packages (2.0.3)\n",
      "Collecting gymnasium<1.0.0 (from mobile-env)\n",
      "  Using cached gymnasium-0.29.1-py3-none-any.whl.metadata (10 kB)\n",
      "Requirement already satisfied: matplotlib in /Users/stefanshschneider/Projects/private/mobile-env/venv/lib/python3.12/site-packages (from mobile-env) (3.9.2)\n",
      "Requirement already satisfied: numpy in /Users/stefanshschneider/Projects/private/mobile-env/venv/lib/python3.12/site-packages (from mobile-env) (1.26.4)\n",
      "Requirement already satisfied: pandas in /Users/stefanshschneider/Projects/private/mobile-env/venv/lib/python3.12/site-packages (from mobile-env) (2.2.3)\n",
      "Requirement already satisfied: pygame in /Users/stefanshschneider/Projects/private/mobile-env/venv/lib/python3.12/site-packages (from mobile-env) (2.6.1)\n",
      "Requirement already satisfied: shapely in /Users/stefanshschneider/Projects/private/mobile-env/venv/lib/python3.12/site-packages (from mobile-env) (2.0.6)\n",
      "Requirement already satisfied: svgpath2mpl in /Users/stefanshschneider/Projects/private/mobile-env/venv/lib/python3.12/site-packages (from mobile-env) (1.0.0)\n",
      "Requirement already satisfied: cloudpickle>=1.2.0 in /Users/stefanshschneider/Projects/private/mobile-env/venv/lib/python3.12/site-packages (from gymnasium<1.0.0->mobile-env) (3.1.0)\n",
      "Requirement already satisfied: typing-extensions>=4.3.0 in /Users/stefanshschneider/Projects/private/mobile-env/venv/lib/python3.12/site-packages (from gymnasium<1.0.0->mobile-env) (4.12.2)\n",
      "Requirement already satisfied: farama-notifications>=0.0.1 in /Users/stefanshschneider/Projects/private/mobile-env/venv/lib/python3.12/site-packages (from gymnasium<1.0.0->mobile-env) (0.0.4)\n",
      "Requirement already satisfied: contourpy>=1.0.1 in /Users/stefanshschneider/Projects/private/mobile-env/venv/lib/python3.12/site-packages (from matplotlib->mobile-env) (1.3.0)\n",
      "Requirement already satisfied: cycler>=0.10 in /Users/stefanshschneider/Projects/private/mobile-env/venv/lib/python3.12/site-packages (from matplotlib->mobile-env) (0.12.1)\n",
      "Requirement already satisfied: fonttools>=4.22.0 in /Users/stefanshschneider/Projects/private/mobile-env/venv/lib/python3.12/site-packages (from matplotlib->mobile-env) (4.54.1)\n",
      "Requirement already satisfied: kiwisolver>=1.3.1 in /Users/stefanshschneider/Projects/private/mobile-env/venv/lib/python3.12/site-packages (from matplotlib->mobile-env) (1.4.7)\n",
      "Requirement already satisfied: packaging>=20.0 in /Users/stefanshschneider/Projects/private/mobile-env/venv/lib/python3.12/site-packages (from matplotlib->mobile-env) (24.1)\n",
      "Requirement already satisfied: pillow>=8 in /Users/stefanshschneider/Projects/private/mobile-env/venv/lib/python3.12/site-packages (from matplotlib->mobile-env) (11.0.0)\n",
      "Requirement already satisfied: pyparsing>=2.3.1 in /Users/stefanshschneider/Projects/private/mobile-env/venv/lib/python3.12/site-packages (from matplotlib->mobile-env) (3.2.0)\n",
      "Requirement already satisfied: python-dateutil>=2.7 in /Users/stefanshschneider/Projects/private/mobile-env/venv/lib/python3.12/site-packages (from matplotlib->mobile-env) (2.9.0.post0)\n",
      "Requirement already satisfied: pytz>=2020.1 in /Users/stefanshschneider/Projects/private/mobile-env/venv/lib/python3.12/site-packages (from pandas->mobile-env) (2024.2)\n",
      "Requirement already satisfied: tzdata>=2022.7 in /Users/stefanshschneider/Projects/private/mobile-env/venv/lib/python3.12/site-packages (from pandas->mobile-env) (2024.2)\n",
      "Requirement already satisfied: six>=1.5 in /Users/stefanshschneider/Projects/private/mobile-env/venv/lib/python3.12/site-packages (from python-dateutil>=2.7->matplotlib->mobile-env) (1.16.0)\n",
      "Using cached gymnasium-0.29.1-py3-none-any.whl (953 kB)\n",
      "Installing collected packages: gymnasium\n",
      "  Attempting uninstall: gymnasium\n",
      "    Found existing installation: gymnasium 1.0.0\n",
      "    Uninstalling gymnasium-1.0.0:\n",
      "      Successfully uninstalled gymnasium-1.0.0\n",
      "\u001b[31mERROR: pip's dependency resolver does not currently take into account all the packages that are installed. This behaviour is the source of the following dependency conflicts.\n",
      "stable-baselines3 2.0.0 requires gymnasium==0.28.1, but you have gymnasium 0.29.1 which is incompatible.\n",
      "sb3-contrib 2.4.0a11 requires stable-baselines3<3.0,>=2.4.0a11, but you have stable-baselines3 2.0.0 which is incompatible.\u001b[0m\u001b[31m\n",
      "\u001b[0mSuccessfully installed gymnasium-0.29.1\n",
      "Note: you may need to restart the kernel to use updated packages.\n",
      "Requirement already satisfied: ray==2.39.0 in /Users/stefanshschneider/Projects/private/mobile-env/venv/lib/python3.12/site-packages (from ray[rllib]==2.39.0) (2.39.0)\n",
      "Requirement already satisfied: torch in /Users/stefanshschneider/Projects/private/mobile-env/venv/lib/python3.12/site-packages (2.5.1)\n",
      "Requirement already satisfied: tensorboard in /Users/stefanshschneider/Projects/private/mobile-env/venv/lib/python3.12/site-packages (2.18.0)\n",
      "Requirement already satisfied: click>=7.0 in /Users/stefanshschneider/Projects/private/mobile-env/venv/lib/python3.12/site-packages (from ray==2.39.0->ray[rllib]==2.39.0) (8.1.7)\n",
      "Requirement already satisfied: filelock in /Users/stefanshschneider/Projects/private/mobile-env/venv/lib/python3.12/site-packages (from ray==2.39.0->ray[rllib]==2.39.0) (3.16.1)\n",
      "Requirement already satisfied: jsonschema in /Users/stefanshschneider/Projects/private/mobile-env/venv/lib/python3.12/site-packages (from ray==2.39.0->ray[rllib]==2.39.0) (4.23.0)\n",
      "Requirement already satisfied: msgpack<2.0.0,>=1.0.0 in /Users/stefanshschneider/Projects/private/mobile-env/venv/lib/python3.12/site-packages (from ray==2.39.0->ray[rllib]==2.39.0) (1.1.0)\n",
      "Requirement already satisfied: packaging in /Users/stefanshschneider/Projects/private/mobile-env/venv/lib/python3.12/site-packages (from ray==2.39.0->ray[rllib]==2.39.0) (24.1)\n",
      "Requirement already satisfied: protobuf!=3.19.5,>=3.15.3 in /Users/stefanshschneider/Projects/private/mobile-env/venv/lib/python3.12/site-packages (from ray==2.39.0->ray[rllib]==2.39.0) (5.28.3)\n",
      "Requirement already satisfied: pyyaml in /Users/stefanshschneider/Projects/private/mobile-env/venv/lib/python3.12/site-packages (from ray==2.39.0->ray[rllib]==2.39.0) (6.0.2)\n",
      "Requirement already satisfied: aiosignal in /Users/stefanshschneider/Projects/private/mobile-env/venv/lib/python3.12/site-packages (from ray==2.39.0->ray[rllib]==2.39.0) (1.3.1)\n",
      "Requirement already satisfied: frozenlist in /Users/stefanshschneider/Projects/private/mobile-env/venv/lib/python3.12/site-packages (from ray==2.39.0->ray[rllib]==2.39.0) (1.5.0)\n",
      "Requirement already satisfied: requests in /Users/stefanshschneider/Projects/private/mobile-env/venv/lib/python3.12/site-packages (from ray==2.39.0->ray[rllib]==2.39.0) (2.32.3)\n",
      "Requirement already satisfied: pandas in /Users/stefanshschneider/Projects/private/mobile-env/venv/lib/python3.12/site-packages (from ray[rllib]==2.39.0) (2.2.3)\n",
      "Requirement already satisfied: tensorboardX>=1.9 in /Users/stefanshschneider/Projects/private/mobile-env/venv/lib/python3.12/site-packages (from ray[rllib]==2.39.0) (2.6.2.2)\n",
      "Requirement already satisfied: pyarrow>=6.0.1 in /Users/stefanshschneider/Projects/private/mobile-env/venv/lib/python3.12/site-packages (from ray[rllib]==2.39.0) (18.0.0)\n",
      "Requirement already satisfied: fsspec in /Users/stefanshschneider/Projects/private/mobile-env/venv/lib/python3.12/site-packages (from ray[rllib]==2.39.0) (2024.10.0)\n",
      "Requirement already satisfied: dm-tree in /Users/stefanshschneider/Projects/private/mobile-env/venv/lib/python3.12/site-packages (from ray[rllib]==2.39.0) (0.1.8)\n",
      "Collecting gymnasium==1.0.0 (from ray[rllib]==2.39.0)\n",
      "  Using cached gymnasium-1.0.0-py3-none-any.whl.metadata (9.5 kB)\n",
      "Requirement already satisfied: lz4 in /Users/stefanshschneider/Projects/private/mobile-env/venv/lib/python3.12/site-packages (from ray[rllib]==2.39.0) (4.3.3)\n",
      "Requirement already satisfied: scikit-image in /Users/stefanshschneider/Projects/private/mobile-env/venv/lib/python3.12/site-packages (from ray[rllib]==2.39.0) (0.24.0)\n",
      "Requirement already satisfied: scipy in /Users/stefanshschneider/Projects/private/mobile-env/venv/lib/python3.12/site-packages (from ray[rllib]==2.39.0) (1.14.1)\n",
      "Requirement already satisfied: typer in /Users/stefanshschneider/Projects/private/mobile-env/venv/lib/python3.12/site-packages (from ray[rllib]==2.39.0) (0.12.5)\n",
      "Requirement already satisfied: rich in /Users/stefanshschneider/Projects/private/mobile-env/venv/lib/python3.12/site-packages (from ray[rllib]==2.39.0) (13.9.4)\n",
      "Requirement already satisfied: numpy>=1.21.0 in /Users/stefanshschneider/Projects/private/mobile-env/venv/lib/python3.12/site-packages (from gymnasium==1.0.0->ray[rllib]==2.39.0) (1.26.4)\n",
      "Requirement already satisfied: cloudpickle>=1.2.0 in /Users/stefanshschneider/Projects/private/mobile-env/venv/lib/python3.12/site-packages (from gymnasium==1.0.0->ray[rllib]==2.39.0) (3.1.0)\n",
      "Requirement already satisfied: typing-extensions>=4.3.0 in /Users/stefanshschneider/Projects/private/mobile-env/venv/lib/python3.12/site-packages (from gymnasium==1.0.0->ray[rllib]==2.39.0) (4.12.2)\n",
      "Requirement already satisfied: farama-notifications>=0.0.1 in /Users/stefanshschneider/Projects/private/mobile-env/venv/lib/python3.12/site-packages (from gymnasium==1.0.0->ray[rllib]==2.39.0) (0.0.4)\n",
      "Requirement already satisfied: networkx in /Users/stefanshschneider/Projects/private/mobile-env/venv/lib/python3.12/site-packages (from torch) (3.4.2)\n",
      "Requirement already satisfied: jinja2 in /Users/stefanshschneider/Projects/private/mobile-env/venv/lib/python3.12/site-packages (from torch) (3.1.4)\n",
      "Requirement already satisfied: setuptools in /Users/stefanshschneider/Projects/private/mobile-env/venv/lib/python3.12/site-packages (from torch) (75.3.0)\n",
      "Requirement already satisfied: sympy==1.13.1 in /Users/stefanshschneider/Projects/private/mobile-env/venv/lib/python3.12/site-packages (from torch) (1.13.1)\n",
      "Requirement already satisfied: mpmath<1.4,>=1.1.0 in /Users/stefanshschneider/Projects/private/mobile-env/venv/lib/python3.12/site-packages (from sympy==1.13.1->torch) (1.3.0)\n",
      "Requirement already satisfied: absl-py>=0.4 in /Users/stefanshschneider/Projects/private/mobile-env/venv/lib/python3.12/site-packages (from tensorboard) (2.1.0)\n",
      "Requirement already satisfied: grpcio>=1.48.2 in /Users/stefanshschneider/Projects/private/mobile-env/venv/lib/python3.12/site-packages (from tensorboard) (1.67.1)\n",
      "Requirement already satisfied: markdown>=2.6.8 in /Users/stefanshschneider/Projects/private/mobile-env/venv/lib/python3.12/site-packages (from tensorboard) (3.7)\n",
      "Requirement already satisfied: six>1.9 in /Users/stefanshschneider/Projects/private/mobile-env/venv/lib/python3.12/site-packages (from tensorboard) (1.16.0)\n",
      "Requirement already satisfied: tensorboard-data-server<0.8.0,>=0.7.0 in /Users/stefanshschneider/Projects/private/mobile-env/venv/lib/python3.12/site-packages (from tensorboard) (0.7.2)\n",
      "Requirement already satisfied: werkzeug>=1.0.1 in /Users/stefanshschneider/Projects/private/mobile-env/venv/lib/python3.12/site-packages (from tensorboard) (3.1.1)\n",
      "Requirement already satisfied: MarkupSafe>=2.1.1 in /Users/stefanshschneider/Projects/private/mobile-env/venv/lib/python3.12/site-packages (from werkzeug>=1.0.1->tensorboard) (3.0.2)\n",
      "Requirement already satisfied: attrs>=22.2.0 in /Users/stefanshschneider/Projects/private/mobile-env/venv/lib/python3.12/site-packages (from jsonschema->ray==2.39.0->ray[rllib]==2.39.0) (24.2.0)\n",
      "Requirement already satisfied: jsonschema-specifications>=2023.03.6 in /Users/stefanshschneider/Projects/private/mobile-env/venv/lib/python3.12/site-packages (from jsonschema->ray==2.39.0->ray[rllib]==2.39.0) (2024.10.1)\n",
      "Requirement already satisfied: referencing>=0.28.4 in /Users/stefanshschneider/Projects/private/mobile-env/venv/lib/python3.12/site-packages (from jsonschema->ray==2.39.0->ray[rllib]==2.39.0) (0.35.1)\n",
      "Requirement already satisfied: rpds-py>=0.7.1 in /Users/stefanshschneider/Projects/private/mobile-env/venv/lib/python3.12/site-packages (from jsonschema->ray==2.39.0->ray[rllib]==2.39.0) (0.20.1)\n",
      "Requirement already satisfied: python-dateutil>=2.8.2 in /Users/stefanshschneider/Projects/private/mobile-env/venv/lib/python3.12/site-packages (from pandas->ray[rllib]==2.39.0) (2.9.0.post0)\n",
      "Requirement already satisfied: pytz>=2020.1 in /Users/stefanshschneider/Projects/private/mobile-env/venv/lib/python3.12/site-packages (from pandas->ray[rllib]==2.39.0) (2024.2)\n",
      "Requirement already satisfied: tzdata>=2022.7 in /Users/stefanshschneider/Projects/private/mobile-env/venv/lib/python3.12/site-packages (from pandas->ray[rllib]==2.39.0) (2024.2)\n",
      "Requirement already satisfied: charset-normalizer<4,>=2 in /Users/stefanshschneider/Projects/private/mobile-env/venv/lib/python3.12/site-packages (from requests->ray==2.39.0->ray[rllib]==2.39.0) (3.4.0)\n",
      "Requirement already satisfied: idna<4,>=2.5 in /Users/stefanshschneider/Projects/private/mobile-env/venv/lib/python3.12/site-packages (from requests->ray==2.39.0->ray[rllib]==2.39.0) (3.10)\n",
      "Requirement already satisfied: urllib3<3,>=1.21.1 in /Users/stefanshschneider/Projects/private/mobile-env/venv/lib/python3.12/site-packages (from requests->ray==2.39.0->ray[rllib]==2.39.0) (2.2.3)\n",
      "Requirement already satisfied: certifi>=2017.4.17 in /Users/stefanshschneider/Projects/private/mobile-env/venv/lib/python3.12/site-packages (from requests->ray==2.39.0->ray[rllib]==2.39.0) (2024.8.30)\n",
      "Requirement already satisfied: markdown-it-py>=2.2.0 in /Users/stefanshschneider/Projects/private/mobile-env/venv/lib/python3.12/site-packages (from rich->ray[rllib]==2.39.0) (3.0.0)\n",
      "Requirement already satisfied: pygments<3.0.0,>=2.13.0 in /Users/stefanshschneider/Projects/private/mobile-env/venv/lib/python3.12/site-packages (from rich->ray[rllib]==2.39.0) (2.18.0)\n",
      "Requirement already satisfied: pillow>=9.1 in /Users/stefanshschneider/Projects/private/mobile-env/venv/lib/python3.12/site-packages (from scikit-image->ray[rllib]==2.39.0) (11.0.0)\n",
      "Requirement already satisfied: imageio>=2.33 in /Users/stefanshschneider/Projects/private/mobile-env/venv/lib/python3.12/site-packages (from scikit-image->ray[rllib]==2.39.0) (2.36.0)\n",
      "Requirement already satisfied: tifffile>=2022.8.12 in /Users/stefanshschneider/Projects/private/mobile-env/venv/lib/python3.12/site-packages (from scikit-image->ray[rllib]==2.39.0) (2024.9.20)\n",
      "Requirement already satisfied: lazy-loader>=0.4 in /Users/stefanshschneider/Projects/private/mobile-env/venv/lib/python3.12/site-packages (from scikit-image->ray[rllib]==2.39.0) (0.4)\n",
      "Requirement already satisfied: shellingham>=1.3.0 in /Users/stefanshschneider/Projects/private/mobile-env/venv/lib/python3.12/site-packages (from typer->ray[rllib]==2.39.0) (1.5.4)\n",
      "Requirement already satisfied: mdurl~=0.1 in /Users/stefanshschneider/Projects/private/mobile-env/venv/lib/python3.12/site-packages (from markdown-it-py>=2.2.0->rich->ray[rllib]==2.39.0) (0.1.2)\n",
      "Using cached gymnasium-1.0.0-py3-none-any.whl (958 kB)\n",
      "Installing collected packages: gymnasium\n",
      "  Attempting uninstall: gymnasium\n",
      "    Found existing installation: gymnasium 0.29.1\n",
      "    Uninstalling gymnasium-0.29.1:\n",
      "      Successfully uninstalled gymnasium-0.29.1\n",
      "\u001b[31mERROR: pip's dependency resolver does not currently take into account all the packages that are installed. This behaviour is the source of the following dependency conflicts.\n",
      "stable-baselines3 2.0.0 requires gymnasium==0.28.1, but you have gymnasium 1.0.0 which is incompatible.\n",
      "mobile-env 2.0.3 requires gymnasium<1.0.0, but you have gymnasium 1.0.0 which is incompatible.\n",
      "sb3-contrib 2.4.0a11 requires stable-baselines3<3.0,>=2.4.0a11, but you have stable-baselines3 2.0.0 which is incompatible.\u001b[0m\u001b[31m\n",
      "\u001b[0mSuccessfully installed gymnasium-1.0.0\n",
      "Note: you may need to restart the kernel to use updated packages.\n"
     ]
    }
   ],
   "source": [
    "# install mobile-env\n",
    "%pip install -U mobile-env\n",
    "# install ray RLlib\n",
    "%pip install \"ray[rllib]==2.39.0\" torch tensorboard"
   ]
  },
  {
   "cell_type": "code",
   "execution_count": 2,
   "metadata": {
    "collapsed": false,
    "jupyter": {
     "outputs_hidden": false
    },
    "pycharm": {
     "name": "#%%\n"
    }
   },
   "outputs": [],
   "source": [
    "import gymnasium\n",
    "from ray.tune.registry import register_env\n",
    "\n",
    "# Name of the mobile-env environment (see registry)\n",
    "env_name: str = \"mobile-small-ma-v0\"\n",
    "\n",
    "# use the mobile-env RLlib wrapper for RLlib\n",
    "def register(config):\n",
    "    # importing mobile_env registers the included environments\n",
    "    import mobile_env\n",
    "    from mobile_env.wrappers.multi_agent import RLlibMAWrapper\n",
    "\n",
    "    env = gymnasium.make(env_name)\n",
    "    return RLlibMAWrapper(env)\n",
    "\n",
    "# register the predefined scenario with RLlib\n",
    "register_env(env_name, register)"
   ]
  },
  {
   "attachments": {},
   "cell_type": "markdown",
   "metadata": {},
   "source": [
    "### Train a PPO Multi-Agent Policy\n",
    "\n",
    "Now, that the predefined scenario is registered with RLlib, we can configure and train a multi-agent PPO approach on the scenario with RLlib."
   ]
  },
  {
   "cell_type": "code",
   "execution_count": 3,
   "metadata": {},
   "outputs": [
    {
     "name": "stderr",
     "output_type": "stream",
     "text": [
      "2024-11-16 21:13:25,398\tINFO worker.py:1819 -- Started a local Ray instance.\n"
     ]
    },
    {
     "data": {
      "application/vnd.jupyter.widget-view+json": {
       "model_id": "2c403bcd8a354cd9b9ad13c8946c28be",
       "version_major": 2,
       "version_minor": 0
      },
      "text/html": [
       "<div class=\"lm-Widget p-Widget lm-Panel p-Panel jp-Cell-outputWrapper\">\n",
       "    <div style=\"margin-left: 50px;display: flex;flex-direction: row;align-items: center\">\n",
       "        <div class=\"jp-RenderedHTMLCommon\" style=\"display: flex; flex-direction: row;\">\n",
       "  <svg viewBox=\"0 0 567 224\" fill=\"none\" xmlns=\"http://www.w3.org/2000/svg\" style=\"height: 3em;\">\n",
       "    <g clip-path=\"url(#clip0_4338_178347)\">\n",
       "        <path d=\"M341.29 165.561H355.29L330.13 129.051C345.63 123.991 354.21 112.051 354.21 94.2307C354.21 71.3707 338.72 58.1807 311.88 58.1807H271V165.561H283.27V131.661H311.8C314.25 131.661 316.71 131.501 319.01 131.351L341.25 165.561H341.29ZM283.29 119.851V70.0007H311.82C331.3 70.0007 342.34 78.2907 342.34 94.5507C342.34 111.271 331.34 119.861 311.82 119.861L283.29 119.851ZM451.4 138.411L463.4 165.561H476.74L428.74 58.1807H416L367.83 165.561H380.83L392.83 138.411H451.4ZM446.19 126.601H398L422 72.1407L446.24 126.601H446.19ZM526.11 128.741L566.91 58.1807H554.35L519.99 114.181L485.17 58.1807H472.44L514.01 129.181V165.541H526.13V128.741H526.11Z\" fill=\"var(--jp-ui-font-color0)\"/>\n",
       "        <path d=\"M82.35 104.44C84.0187 97.8827 87.8248 92.0678 93.1671 87.9146C98.5094 83.7614 105.083 81.5067 111.85 81.5067C118.617 81.5067 125.191 83.7614 130.533 87.9146C135.875 92.0678 139.681 97.8827 141.35 104.44H163.75C164.476 101.562 165.622 98.8057 167.15 96.2605L127.45 56.5605C121.071 60.3522 113.526 61.6823 106.235 60.3005C98.9443 58.9187 92.4094 54.9203 87.8602 49.0574C83.3109 43.1946 81.0609 35.8714 81.5332 28.4656C82.0056 21.0599 85.1679 14.0819 90.4252 8.8446C95.6824 3.60726 102.672 0.471508 110.08 0.0272655C117.487 -0.416977 124.802 1.86091 130.647 6.4324C136.493 11.0039 140.467 17.5539 141.821 24.8501C143.175 32.1463 141.816 39.6859 138 46.0505L177.69 85.7505C182.31 82.9877 187.58 81.4995 192.962 81.4375C198.345 81.3755 203.648 82.742 208.33 85.3976C213.012 88.0532 216.907 91.9029 219.616 96.5544C222.326 101.206 223.753 106.492 223.753 111.875C223.753 117.258 222.326 122.545 219.616 127.197C216.907 131.848 213.012 135.698 208.33 138.353C203.648 141.009 198.345 142.375 192.962 142.313C187.58 142.251 182.31 140.763 177.69 138L138 177.7C141.808 184.071 143.155 191.614 141.79 198.91C140.424 206.205 136.44 212.75 130.585 217.313C124.731 221.875 117.412 224.141 110.004 223.683C102.596 223.226 95.6103 220.077 90.3621 214.828C85.1139 209.58 81.9647 202.595 81.5072 195.187C81.0497 187.779 83.3154 180.459 87.878 174.605C92.4405 168.751 98.9853 164.766 106.281 163.401C113.576 162.035 121.119 163.383 127.49 167.19L167.19 127.49C165.664 124.941 164.518 122.182 163.79 119.3H141.39C139.721 125.858 135.915 131.673 130.573 135.826C125.231 139.98 118.657 142.234 111.89 142.234C105.123 142.234 98.5494 139.98 93.2071 135.826C87.8648 131.673 84.0587 125.858 82.39 119.3H60C58.1878 126.495 53.8086 132.78 47.6863 136.971C41.5641 141.163 34.1211 142.972 26.7579 142.059C19.3947 141.146 12.6191 137.574 7.70605 132.014C2.79302 126.454 0.0813599 119.29 0.0813599 111.87C0.0813599 104.451 2.79302 97.2871 7.70605 91.7272C12.6191 86.1673 19.3947 82.5947 26.7579 81.6817C34.1211 80.7686 41.5641 82.5781 47.6863 86.7696C53.8086 90.9611 58.1878 97.2456 60 104.44H82.35ZM100.86 204.32C103.407 206.868 106.759 208.453 110.345 208.806C113.93 209.159 117.527 208.258 120.522 206.256C123.517 204.254 125.725 201.276 126.771 197.828C127.816 194.38 127.633 190.677 126.253 187.349C124.874 184.021 122.383 181.274 119.205 179.577C116.027 177.88 112.359 177.337 108.826 178.042C105.293 178.746 102.113 180.654 99.8291 183.44C97.5451 186.226 96.2979 189.718 96.3 193.32C96.2985 195.364 96.7006 197.388 97.4831 199.275C98.2656 201.163 99.4132 202.877 100.86 204.32ZM204.32 122.88C206.868 120.333 208.453 116.981 208.806 113.396C209.159 109.811 208.258 106.214 206.256 103.219C204.254 100.223 201.275 98.0151 197.827 96.97C194.38 95.9249 190.676 96.1077 187.348 97.4873C184.02 98.8669 181.274 101.358 179.577 104.536C177.879 107.714 177.337 111.382 178.041 114.915C178.746 118.448 180.653 121.627 183.439 123.911C186.226 126.195 189.717 127.443 193.32 127.44C195.364 127.443 197.388 127.042 199.275 126.259C201.163 125.476 202.878 124.328 204.32 122.88ZM122.88 19.4205C120.333 16.8729 116.981 15.2876 113.395 14.9347C109.81 14.5817 106.213 15.483 103.218 17.4849C100.223 19.4868 98.0146 22.4654 96.9696 25.9131C95.9245 29.3608 96.1073 33.0642 97.4869 36.3922C98.8665 39.7202 101.358 42.4668 104.535 44.1639C107.713 45.861 111.381 46.4036 114.914 45.6992C118.447 44.9949 121.627 43.0871 123.911 40.301C126.195 37.515 127.442 34.0231 127.44 30.4205C127.44 28.3772 127.038 26.3539 126.255 24.4664C125.473 22.5788 124.326 20.8642 122.88 19.4205ZM19.42 100.86C16.8725 103.408 15.2872 106.76 14.9342 110.345C14.5813 113.93 15.4826 117.527 17.4844 120.522C19.4863 123.518 22.4649 125.726 25.9127 126.771C29.3604 127.816 33.0638 127.633 36.3918 126.254C39.7198 124.874 42.4664 122.383 44.1635 119.205C45.8606 116.027 46.4032 112.359 45.6988 108.826C44.9944 105.293 43.0866 102.114 40.3006 99.8296C37.5145 97.5455 34.0227 96.2983 30.42 96.3005C26.2938 96.3018 22.337 97.9421 19.42 100.86ZM100.86 100.86C98.3125 103.408 96.7272 106.76 96.3742 110.345C96.0213 113.93 96.9226 117.527 98.9244 120.522C100.926 123.518 103.905 125.726 107.353 126.771C110.8 127.816 114.504 127.633 117.832 126.254C121.16 124.874 123.906 122.383 125.604 119.205C127.301 116.027 127.843 112.359 127.139 108.826C126.434 105.293 124.527 102.114 121.741 99.8296C118.955 97.5455 115.463 96.2983 111.86 96.3005C109.817 96.299 107.793 96.701 105.905 97.4835C104.018 98.2661 102.303 99.4136 100.86 100.86Z\" fill=\"#00AEEF\"/>\n",
       "    </g>\n",
       "    <defs>\n",
       "        <clipPath id=\"clip0_4338_178347\">\n",
       "            <rect width=\"566.93\" height=\"223.75\" fill=\"white\"/>\n",
       "        </clipPath>\n",
       "    </defs>\n",
       "  </svg>\n",
       "</div>\n",
       "\n",
       "        <table class=\"jp-RenderedHTMLCommon\" style=\"border-collapse: collapse;color: var(--jp-ui-font-color1);font-size: var(--jp-ui-font-size1);\">\n",
       "    <tr>\n",
       "        <td style=\"text-align: left\"><b>Python version:</b></td>\n",
       "        <td style=\"text-align: left\"><b>3.12.6</b></td>\n",
       "    </tr>\n",
       "    <tr>\n",
       "        <td style=\"text-align: left\"><b>Ray version:</b></td>\n",
       "        <td style=\"text-align: left\"><b>2.39.0</b></td>\n",
       "    </tr>\n",
       "    \n",
       "</table>\n",
       "\n",
       "    </div>\n",
       "</div>\n"
      ],
      "text/plain": [
       "RayContext(dashboard_url='', python_version='3.12.6', ray_version='2.39.0', ray_commit='5a6c33536df3f6ed5e987a169b82739bb7e3d80e')"
      ]
     },
     "execution_count": 3,
     "metadata": {},
     "output_type": "execute_result"
    }
   ],
   "source": [
    "import ray\n",
    "\n",
    "num_cpus: int = 2\n",
    "\n",
    "# Init ray with available CPUs (and GPUs) and init ray.\n",
    "# For local debugging, set num_cpus=0 and local_mode=True. \n",
    "ray.init(\n",
    "  num_cpus=num_cpus,   # change to your available number of CPUs\n",
    "  include_dashboard=False,\n",
    "  ignore_reinit_error=True,\n",
    "  log_to_driver=False,\n",
    ")"
   ]
  },
  {
   "cell_type": "code",
   "execution_count": 4,
   "metadata": {},
   "outputs": [
    {
     "data": {
      "text/html": [
       "<div class=\"tuneStatus\">\n",
       "  <div style=\"display: flex;flex-direction: row\">\n",
       "    <div style=\"display: flex;flex-direction: column;\">\n",
       "      <h3>Tune Status</h3>\n",
       "      <table>\n",
       "<tbody>\n",
       "<tr><td>Current time:</td><td>2024-11-16 21:13:35</td></tr>\n",
       "<tr><td>Running for: </td><td>00:00:07.50        </td></tr>\n",
       "<tr><td>Memory:      </td><td>18.1/32.0 GiB      </td></tr>\n",
       "</tbody>\n",
       "</table>\n",
       "    </div>\n",
       "    <div class=\"vDivider\"></div>\n",
       "    <div class=\"systemInfo\">\n",
       "      <h3>System Info</h3>\n",
       "      Using FIFO scheduling algorithm.<br>Logical resource usage: 0/2 CPUs, 0/0 GPUs\n",
       "    </div>\n",
       "    <div class=\"vDivider\"></div>\n",
       "<div class=\"messages\">\n",
       "  <h3>Messages</h3>\n",
       "  \n",
       "  \n",
       "  Number of errored trials: 1<br><table>\n",
       "<thead>\n",
       "<tr><th>Trial name                        </th><th style=\"text-align: right;\">  # failures</th><th>error file                                                                                                                                                                                 </th></tr>\n",
       "</thead>\n",
       "<tbody>\n",
       "<tr><td>PPO_mobile-small-ma-v0_3dabb_00000</td><td style=\"text-align: right;\">           1</td><td>/tmp/ray/session_2024-11-16_21-13-23_564923_98212/artifacts/2024-11-16_21-13-27/PPO_2024-11-16_21-13-27/driver_artifacts/PPO_mobile-small-ma-v0_3dabb_00000_0_2024-11-16_21-13-27/error.txt</td></tr>\n",
       "</tbody>\n",
       "</table>\n",
       "</div>\n",
       "<style>\n",
       ".messages {\n",
       "  color: var(--jp-ui-font-color1);\n",
       "  display: flex;\n",
       "  flex-direction: column;\n",
       "  padding-left: 1em;\n",
       "  overflow-y: auto;\n",
       "}\n",
       ".messages h3 {\n",
       "  font-weight: bold;\n",
       "}\n",
       ".vDivider {\n",
       "  border-left-width: var(--jp-border-width);\n",
       "  border-left-color: var(--jp-border-color0);\n",
       "  border-left-style: solid;\n",
       "  margin: 0.5em 1em 0.5em 1em;\n",
       "}\n",
       "</style>\n",
       "\n",
       "  </div>\n",
       "  <div class=\"hDivider\"></div>\n",
       "  <div class=\"trialStatus\">\n",
       "    <h3>Trial Status</h3>\n",
       "    <table>\n",
       "<thead>\n",
       "<tr><th>Trial name                        </th><th>status  </th><th>loc  </th></tr>\n",
       "</thead>\n",
       "<tbody>\n",
       "<tr><td>PPO_mobile-small-ma-v0_3dabb_00000</td><td>ERROR   </td><td>     </td></tr>\n",
       "</tbody>\n",
       "</table>\n",
       "  </div>\n",
       "</div>\n",
       "<style>\n",
       ".tuneStatus {\n",
       "  color: var(--jp-ui-font-color1);\n",
       "}\n",
       ".tuneStatus .systemInfo {\n",
       "  display: flex;\n",
       "  flex-direction: column;\n",
       "}\n",
       ".tuneStatus td {\n",
       "  white-space: nowrap;\n",
       "}\n",
       ".tuneStatus .trialStatus {\n",
       "  display: flex;\n",
       "  flex-direction: column;\n",
       "}\n",
       ".tuneStatus h3 {\n",
       "  font-weight: bold;\n",
       "}\n",
       ".tuneStatus .hDivider {\n",
       "  border-bottom-width: var(--jp-border-width);\n",
       "  border-bottom-color: var(--jp-border-color0);\n",
       "  border-bottom-style: solid;\n",
       "}\n",
       ".tuneStatus .vDivider {\n",
       "  border-left-width: var(--jp-border-width);\n",
       "  border-left-color: var(--jp-border-color0);\n",
       "  border-left-style: solid;\n",
       "  margin: 0.5em 1em 0.5em 1em;\n",
       "}\n",
       "</style>\n"
      ],
      "text/plain": [
       "<IPython.core.display.HTML object>"
      ]
     },
     "metadata": {},
     "output_type": "display_data"
    },
    {
     "name": "stderr",
     "output_type": "stream",
     "text": [
      "2024-11-16 21:13:27,631\tWARNING ppo.py:305 -- You are running PPO on the new API stack! This is the new default behavior for this algorithm. If you don't want to use the new API stack, set `config.api_stack(enable_rl_module_and_learner=False,enable_env_runner_and_connector_v2=False)`. For a detailed migration guide, see here: https://docs.ray.io/en/master/rllib/new-api-stack-migration-guide.html\n",
      "2024-11-16 21:13:27,632\tWARNING ppo.py:305 -- You are running PPO on the new API stack! This is the new default behavior for this algorithm. If you don't want to use the new API stack, set `config.api_stack(enable_rl_module_and_learner=False,enable_env_runner_and_connector_v2=False)`. For a detailed migration guide, see here: https://docs.ray.io/en/master/rllib/new-api-stack-migration-guide.html\n",
      "2024-11-16 21:13:35,053\tERROR tune_controller.py:1331 -- Trial task failed for trial PPO_mobile-small-ma-v0_3dabb_00000\n",
      "Traceback (most recent call last):\n",
      "  File \"/Users/stefanshschneider/Projects/private/mobile-env/venv/lib/python3.12/site-packages/ray/air/execution/_internal/event_manager.py\", line 110, in resolve_future\n",
      "    result = ray.get(future)\n",
      "             ^^^^^^^^^^^^^^^\n",
      "  File \"/Users/stefanshschneider/Projects/private/mobile-env/venv/lib/python3.12/site-packages/ray/_private/auto_init_hook.py\", line 21, in auto_init_wrapper\n",
      "    return fn(*args, **kwargs)\n",
      "           ^^^^^^^^^^^^^^^^^^^\n",
      "  File \"/Users/stefanshschneider/Projects/private/mobile-env/venv/lib/python3.12/site-packages/ray/_private/client_mode_hook.py\", line 103, in wrapper\n",
      "    return func(*args, **kwargs)\n",
      "           ^^^^^^^^^^^^^^^^^^^^^\n",
      "  File \"/Users/stefanshschneider/Projects/private/mobile-env/venv/lib/python3.12/site-packages/ray/_private/worker.py\", line 2753, in get\n",
      "    values, debugger_breakpoint = worker.get_objects(object_refs, timeout=timeout)\n",
      "                                  ^^^^^^^^^^^^^^^^^^^^^^^^^^^^^^^^^^^^^^^^^^^^^^^^\n",
      "  File \"/Users/stefanshschneider/Projects/private/mobile-env/venv/lib/python3.12/site-packages/ray/_private/worker.py\", line 906, in get_objects\n",
      "    raise value\n",
      "ray.exceptions.ActorDiedError: The actor died because of an error raised in its creation task, \u001b[36mray::PPO.__init__()\u001b[39m (pid=98290, ip=127.0.0.1, actor_id=4f983bb461cc69c378744e1a01000000, repr=PPO)\n",
      "           ^^^^^^^^^^^^^^^^^^^^^^^^^^^^^^^^^^^^\n",
      "           ^^^^^^^^^^^^^^^^^^^^^^^^^^^^^^^\n",
      "  File \"/Users/stefanshschneider/Projects/private/mobile-env/venv/lib/python3.12/site-packages/ray/rllib/algorithms/algorithm.py\", line 583, in __init__\n",
      "    super().__init__(\n",
      "  File \"/Users/stefanshschneider/Projects/private/mobile-env/venv/lib/python3.12/site-packages/ray/tune/trainable/trainable.py\", line 158, in __init__\n",
      "    self.setup(copy.deepcopy(self.config))\n",
      "           ^^^^^^^^^^^^^^^^^^^^^^^^^^^^^^^\n",
      "  File \"/Users/stefanshschneider/Projects/private/mobile-env/venv/lib/python3.12/site-packages/ray/rllib/algorithms/algorithm.py\", line 669, in setup\n",
      "    self.env_runner_group = EnvRunnerGroup(\n",
      "                            ^^^^^^^^^^^^^^^\n",
      "  File \"/Users/stefanshschneider/Projects/private/mobile-env/venv/lib/python3.12/site-packages/ray/rllib/env/env_runner_group.py\", line 194, in __init__\n",
      "    self._setup(\n",
      "  File \"/Users/stefanshschneider/Projects/private/mobile-env/venv/lib/python3.12/site-packages/ray/rllib/env/env_runner_group.py\", line 285, in _setup\n",
      "    self._local_env_runner = self._make_worker(\n",
      "                             ^^^^^^^^^^^^^^^^^^\n",
      "  File \"/Users/stefanshschneider/Projects/private/mobile-env/venv/lib/python3.12/site-packages/ray/rllib/env/env_runner_group.py\", line 1180, in _make_worker\n",
      "    worker = cls(\n",
      "             ^^^^\n",
      "  File \"/Users/stefanshschneider/Projects/private/mobile-env/venv/lib/python3.12/site-packages/ray/rllib/env/multi_agent_env_runner.py\", line 90, in __init__\n",
      "    self.make_env()\n",
      "  File \"/Users/stefanshschneider/Projects/private/mobile-env/venv/lib/python3.12/site-packages/ray/rllib/env/multi_agent_env_runner.py\", line 854, in make_env\n",
      "    self.env: MultiAgentEnv = gym.make(\"rllib-multi-agent-env-v0\")\n",
      "                              ^^^^^^^^^^^^^^^^^^^^^^^^^^^^^^^^^^^^\n",
      "  File \"/Users/stefanshschneider/Projects/private/mobile-env/venv/lib/python3.12/site-packages/gymnasium/envs/registration.py\", line 740, in make\n",
      "    env = env_creator(**env_spec_kwargs)\n",
      "          ^^^^^^^^^^^^^^^^^^^^^^^^^^^^^^\n",
      "  File \"/var/folders/1n/twp7by_x5t30fzp0f2md9j_h0000gn/T/ipykernel_98212/428465780.py\", line 14, in register\n",
      "  File \"/Users/stefanshschneider/Projects/private/mobile-env/venv/lib/python3.12/site-packages/mobile_env/wrappers/multi_agent.py\", line 19, in __init__\n",
      "    self.max_episode_steps = self.env.EP_MAX_TIME\n",
      "                             ^^^^^^^^^^^^^^^^^^^^\n",
      "AttributeError: 'OrderEnforcing' object has no attribute 'EP_MAX_TIME'\n",
      "2024-11-16 21:13:35,081\tINFO tune.py:1009 -- Wrote the latest version of all result files and experiment state to '/Users/stefanshschneider/ray_results/PPO_2024-11-16_21-13-27' in 0.0194s.\n",
      "2024-11-16 21:13:35,085\tERROR tune.py:1037 -- Trials did not complete: [PPO_mobile-small-ma-v0_3dabb_00000]\n",
      "2024-11-16 21:13:35,085\tINFO tune.py:1041 -- Total run time: 7.63 seconds (7.48 seconds for the tuning loop).\n",
      "2024-11-16 21:13:35,088\tWARNING experiment_analysis.py:180 -- Failed to fetch metrics for 1 trial(s):\n",
      "- PPO_mobile-small-ma-v0_3dabb_00000: FileNotFoundError('Could not fetch metrics for PPO_mobile-small-ma-v0_3dabb_00000: both result.json and progress.csv were not found at /Users/stefanshschneider/ray_results/PPO_2024-11-16_21-13-27/PPO_mobile-small-ma-v0_3dabb_00000_0_2024-11-16_21-13-27')\n"
     ]
    }
   ],
   "source": [
    "import ray.air\n",
    "from ray.rllib.algorithms.ppo import PPOConfig\n",
    "\n",
    "from ray.rllib.policy.policy import PolicySpec\n",
    "from ray.tune.stopper import MaximumIterationStopper\n",
    "\n",
    "# Create an RLlib config using multi-agent PPO on mobile-env's small scenario.\n",
    "config = (\n",
    "    PPOConfig()\n",
    "    .environment(env=env_name)\n",
    "    # Here, we configure all agents to share the same policy.\n",
    "    .multi_agent(\n",
    "        policies={\"shared_policy\": PolicySpec()},\n",
    "        policy_mapping_fn=lambda agent_id, episode, worker, **kwargs: \"shared_policy\",\n",
    "    )\n",
    "    # RLlib needs 1 CPU for the driver/trainer. The rest can be used for env runners.\n",
    "    .env_runners(num_env_runners=num_cpus - 1, num_cpus_per_env_runner=1)\n",
    ")\n",
    "\n",
    "# Create the Trainer/Tuner and define how long to train\n",
    "tuner = ray.tune.Tuner(\n",
    "    \"PPO\",\n",
    "    run_config=ray.air.RunConfig(\n",
    "        # Save the training progress and checkpoints locally under the specified subfolder.\n",
    "        storage_path=\"~/ray_results\",\n",
    "        # Control training length by setting the number of iterations. 1 iter = 4000 env steps by default.\n",
    "        stop=MaximumIterationStopper(max_iter=1),\n",
    "        checkpoint_config=ray.air.CheckpointConfig(checkpoint_at_end=True),\n",
    "    ),\n",
    "    param_space=config,\n",
    ")\n",
    "\n",
    "# Run training and save the result\n",
    "result_grid = tuner.fit()"
   ]
  },
  {
   "attachments": {},
   "cell_type": "markdown",
   "metadata": {},
   "source": [
    "We can check the learning curve on TensorBoard. The corresponding files are in the configured `storage_path=~/ray_results`.\n",
    "\n",
    "The \"episode_reward_mean\" should increase with increasing training, indicating that the agent is learning. RLlib also logs many other metrics by default, which can be useful for debugging. "
   ]
  },
  {
   "cell_type": "code",
   "execution_count": 5,
   "metadata": {},
   "outputs": [
    {
     "data": {
      "text/plain": [
       "Launching TensorBoard..."
      ]
     },
     "metadata": {},
     "output_type": "display_data"
    },
    {
     "data": {
      "text/html": [
       "\n",
       "      <iframe id=\"tensorboard-frame-3ffd5d37bf668de4\" width=\"100%\" height=\"800\" frameborder=\"0\">\n",
       "      </iframe>\n",
       "      <script>\n",
       "        (function() {\n",
       "          const frame = document.getElementById(\"tensorboard-frame-3ffd5d37bf668de4\");\n",
       "          const url = new URL(\"http://localhost\");\n",
       "          const port = 6006;\n",
       "          if (port) {\n",
       "            url.port = port;\n",
       "          }\n",
       "          frame.src = url;\n",
       "        })();\n",
       "      </script>\n",
       "    "
      ],
      "text/plain": [
       "<IPython.core.display.HTML object>"
      ]
     },
     "metadata": {},
     "output_type": "display_data"
    }
   ],
   "source": [
    "%load_ext tensorboard\n",
    "%tensorboard --logdir ~/ray_results"
   ]
  },
  {
   "attachments": {},
   "cell_type": "markdown",
   "metadata": {},
   "source": [
    "### Load and Test the Trained Multi-Agent Policy\n",
    "\n",
    "Let's load the trained multi-agent model and visualize the learned multi-agent policy:"
   ]
  },
  {
   "cell_type": "code",
   "execution_count": 6,
   "metadata": {},
   "outputs": [
    {
     "ename": "ValueError",
     "evalue": "`path` not provided in call to Algorithm.from_checkpoint()!",
     "output_type": "error",
     "traceback": [
      "\u001b[0;31m---------------------------------------------------------------------------\u001b[0m",
      "\u001b[0;31mValueError\u001b[0m                                Traceback (most recent call last)",
      "Cell \u001b[0;32mIn[6], line 5\u001b[0m\n\u001b[1;32m      3\u001b[0m \u001b[38;5;66;03m# load the trained agent from the stored checkpoint\u001b[39;00m\n\u001b[1;32m      4\u001b[0m best_result \u001b[38;5;241m=\u001b[39m result_grid\u001b[38;5;241m.\u001b[39mget_best_result(metric\u001b[38;5;241m=\u001b[39m\u001b[38;5;124m\"\u001b[39m\u001b[38;5;124mepisode_reward_mean\u001b[39m\u001b[38;5;124m\"\u001b[39m, mode\u001b[38;5;241m=\u001b[39m\u001b[38;5;124m\"\u001b[39m\u001b[38;5;124mmax\u001b[39m\u001b[38;5;124m\"\u001b[39m)\n\u001b[0;32m----> 5\u001b[0m ppo \u001b[38;5;241m=\u001b[39m \u001b[43mAlgorithm\u001b[49m\u001b[38;5;241;43m.\u001b[39;49m\u001b[43mfrom_checkpoint\u001b[49m\u001b[43m(\u001b[49m\u001b[43mbest_result\u001b[49m\u001b[38;5;241;43m.\u001b[39;49m\u001b[43mcheckpoint\u001b[49m\u001b[43m)\u001b[49m\n\u001b[1;32m      6\u001b[0m best_result\n",
      "File \u001b[0;32m~/Projects/private/mobile-env/venv/lib/python3.12/site-packages/ray/rllib/algorithms/algorithm.py:353\u001b[0m, in \u001b[0;36mAlgorithm.from_checkpoint\u001b[0;34m(cls, path, filesystem, policy_ids, policy_mapping_fn, policies_to_train, checkpoint, **kwargs)\u001b[0m\n\u001b[1;32m    351\u001b[0m     path \u001b[38;5;241m=\u001b[39m checkpoint\n\u001b[1;32m    352\u001b[0m \u001b[38;5;28;01mif\u001b[39;00m path \u001b[38;5;129;01mis\u001b[39;00m \u001b[38;5;28;01mNone\u001b[39;00m:\n\u001b[0;32m--> 353\u001b[0m     \u001b[38;5;28;01mraise\u001b[39;00m \u001b[38;5;167;01mValueError\u001b[39;00m(\n\u001b[1;32m    354\u001b[0m         \u001b[38;5;124m\"\u001b[39m\u001b[38;5;124m`path` not provided in call to Algorithm.from_checkpoint()!\u001b[39m\u001b[38;5;124m\"\u001b[39m\n\u001b[1;32m    355\u001b[0m     )\n\u001b[1;32m    357\u001b[0m checkpoint_info \u001b[38;5;241m=\u001b[39m get_checkpoint_info(path)\n\u001b[1;32m    359\u001b[0m \u001b[38;5;66;03m# Not possible for (v0.1) (algo class and config information missing\u001b[39;00m\n\u001b[1;32m    360\u001b[0m \u001b[38;5;66;03m# or very hard to retrieve).\u001b[39;00m\n",
      "\u001b[0;31mValueError\u001b[0m: `path` not provided in call to Algorithm.from_checkpoint()!"
     ]
    }
   ],
   "source": [
    "from ray.rllib.algorithms.algorithm import Algorithm\n",
    "\n",
    "# load the trained agent from the stored checkpoint\n",
    "best_result = result_grid.get_best_result(metric=\"episode_reward_mean\", mode=\"max\")\n",
    "ppo = Algorithm.from_checkpoint(best_result.checkpoint)\n",
    "best_result"
   ]
  },
  {
   "cell_type": "code",
   "execution_count": null,
   "metadata": {},
   "outputs": [
    {
     "data": {
      "image/png": "[encoded data removed]",
      "text/plain": [
       "<Figure size 640x480 with 1 Axes>"
      ]
     },
     "metadata": {},
     "output_type": "display_data"
    }
   ],
   "source": [
    "import mobile_env\n",
    "import matplotlib.pyplot as plt\n",
    "from IPython import display\n",
    "\n",
    "# create the env for testing\n",
    "# pass rgb_array as render mode so the env can be rendered inside the notebook\n",
    "env = gymnasium.make(env_name, render_mode=\"rgb_array\")\n",
    "obs, info = env.reset()\n",
    "done = False\n",
    "\n",
    "# run one episode with the trained model\n",
    "while not done:\n",
    "    # gather action from each actor (for each UE)\n",
    "    action = {}\n",
    "    for agent_id, agent_obs in obs.items():\n",
    "        # compute the action for the given agent using the shared policy\n",
    "        action[agent_id] = ppo.compute_single_action(agent_obs, policy_id=\"shared_policy\")\n",
    "\n",
    "    # apply actions and perform step on simulation environment\n",
    "    obs, reward, terminated, truncated, info = env.step(action)\n",
    "    done = terminated or truncated\n",
    "\n",
    "    # render environment as RGB\n",
    "    plt.imshow(env.render())\n",
    "    display.display(plt.gcf())\n",
    "    display.clear_output(wait=True)"
   ]
  },
  {
   "attachments": {},
   "cell_type": "markdown",
   "metadata": {},
   "source": [
    "While the learned policy is not yet perfect (the reward is still increasing, i.e., agent is still learning), the visualization shows that most users are connected to suitable cells.\n",
    "\n",
    "Feel free to experiment more with `mobile-env`, e.g., by training longer or customizing the environment.\n",
    "The [documentation](https://mobile-env.readthedocs.io/en/latest/) provides further information about the API.\n",
    "If you still have open questions or run into issues, you can [open an issue on GitHub](https://github.com/stefanbschneider/mobile-env/issues).\n",
    "\n",
    "We hope `mobile-env` is useful for you. If you use `mobile-env`, please cite it and let us know - then we can list your work on `mobile-env`'s Readme.\n",
    "We also very much appreciate contributions in the form of pull requests.\n",
    "\n",
    "```\n",
    "@inproceedings{schneider2022mobileenv,\n",
    "  author = {Schneider, Stefan and Werner, Stefan and Khalili, Ramin and Hecker, Artur and Karl, Holger},\n",
    "  title = {mobile-env: An Open Platform for Reinforcement Learning in Wireless Mobile Networks},\n",
    "  booktitle={Network Operations and Management Symposium (NOMS)},\n",
    "  year = {2022},\n",
    "  publisher = {IEEE/IFIP},\n",
    "}\n",
    "```\n",
    "\n",
    "Happy training/learning!"
   ]
  }
 ],
 "metadata": {
  "kernelspec": {
   "display_name": "venv",
   "language": "python",
   "name": "python3"
  },
  "language_info": {
   "codemirror_mode": {
    "name": "ipython",
    "version": 3
   },
   "file_extension": ".py",
   "mimetype": "text/x-python",
   "name": "python",
   "nbconvert_exporter": "python",
   "pygments_lexer": "ipython3",
   "version": "3.12.6"
  }
 },
 "nbformat": 4,
 "nbformat_minor": 4
}
