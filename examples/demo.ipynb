{
 "cells": [
  {
   "cell_type": "markdown",
   "metadata": {
    "pycharm": {
     "name": "#%% md\n"
    }
   },
   "source": [
    "# Demonstrating `mobile-env`\n",
    "\n",
    "`mobile-env` is a simple and open environment for training, testing, and evaluating autonomous coordination\n",
    "approaches for wireless mobile networks.\n",
    "\n",
    "* `mobile-env` is written in pure Python and can be installed easily via [PyPI](https://pypi.org/project/mobile-env/)\n",
    "* It allows simulating various scenarios with moving users in a cellular network with multiple base stations\n",
    "* `mobile-env` implements the [OpenAI Gym](https://gym.openai.com/) interface such that it can be used with all common frameworks for reinforcement learning\n",
    "* `mobile-env` is not restricted to reinforcement learning approaches but can also be used with conventional control approaches or dummy benchmark algorithms\n",
    "* It supports both centralized, single-agent control and distributed, multi-agent control\n",
    "* It can be configured easily (e.g., adjusting number and movement of users, properties of cells, etc.)\n",
    "* It is also easy to extend `mobile-env`, e.g., implementing different observations, actions, or reward\n",
    "\n",
    "As such `mobile-env` is a simple platform to evaluate and compare different coordination approaches in a meaningful way.\n",
    "\n",
    "\n",
    "\n",
    "**Demonstration Steps:**\n",
    "\n",
    "This demonstration consists of the following steps:\n",
    "\n",
    "1. Installation and usage of `mobile-env` with dummy actions\n",
    "2. Configuration of `mobile-env` and adjustment of the observation space (optional)\n",
    "3. Training a single-agent reinforcement learning approach with [`stable-baselines3`](https://github.com/DLR-RM/stable-baselines3)\n",
    "4. Training a multi-agent reinforcement learning approach with [Ray RLlib](https://docs.ray.io/en/latest/rllib.html)\n",
    "\n",
    "\n",
    "## Step 1: Install and Test `mobile-env` With Dummy Actions\n",
    "\n",
    "Installing `mobile_env` via PyPI is very simple:"
   ]
  },
  {
   "cell_type": "code",
   "execution_count": 15,
   "metadata": {
    "collapsed": false,
    "jupyter": {
     "outputs_hidden": false
    },
    "pycharm": {
     "name": "#%%\n"
    }
   },
   "outputs": [
    {
     "name": "stdout",
     "output_type": "stream",
     "text": [
      "Requirement already satisfied: mobile-env in c:\\users\\stefan\\git-repos\\work\\mobile-env (2.0.0.dev0)\n",
      "Requirement already satisfied: gym>=0.19.0 in c:\\users\\stefan\\git-repos\\work\\mobile-env\\venv\\lib\\site-packages (from mobile-env) (0.19.0)\n",
      "Requirement already satisfied: matplotlib==3.5.0 in c:\\users\\stefan\\git-repos\\work\\mobile-env\\venv\\lib\\site-packages (from mobile-env) (3.5.0)\n",
      "Requirement already satisfied: numpy==1.21.4 in c:\\users\\stefan\\git-repos\\work\\mobile-env\\venv\\lib\\site-packages (from mobile-env) (1.21.4)\n",
      "Requirement already satisfied: pygame==2.1.0 in c:\\users\\stefan\\git-repos\\work\\mobile-env\\venv\\lib\\site-packages (from mobile-env) (2.1.0)\n",
      "Requirement already satisfied: shapely==1.8.0 in c:\\users\\stefan\\git-repos\\work\\mobile-env\\venv\\lib\\site-packages (from mobile-env) (1.8.0)\n",
      "Requirement already satisfied: svgpath2mpl==1.0.0 in c:\\users\\stefan\\git-repos\\work\\mobile-env\\venv\\lib\\site-packages (from mobile-env) (1.0.0)\n",
      "Requirement already satisfied: pyparsing>=2.2.1 in c:\\users\\stefan\\git-repos\\work\\mobile-env\\venv\\lib\\site-packages (from matplotlib==3.5.0->mobile-env) (2.4.7)\n",
      "Requirement already satisfied: setuptools-scm>=4 in c:\\users\\stefan\\git-repos\\work\\mobile-env\\venv\\lib\\site-packages (from matplotlib==3.5.0->mobile-env) (6.3.2)\n",
      "Requirement already satisfied: kiwisolver>=1.0.1 in c:\\users\\stefan\\git-repos\\work\\mobile-env\\venv\\lib\\site-packages (from matplotlib==3.5.0->mobile-env) (1.3.1)\n",
      "Requirement already satisfied: cycler>=0.10 in c:\\users\\stefan\\git-repos\\work\\mobile-env\\venv\\lib\\site-packages (from matplotlib==3.5.0->mobile-env) (0.10.0)\n",
      "Requirement already satisfied: packaging>=20.0 in c:\\users\\stefan\\git-repos\\work\\mobile-env\\venv\\lib\\site-packages (from matplotlib==3.5.0->mobile-env) (21.3)\n",
      "Requirement already satisfied: python-dateutil>=2.7 in c:\\users\\stefan\\git-repos\\work\\mobile-env\\venv\\lib\\site-packages (from matplotlib==3.5.0->mobile-env) (2.8.1)\n",
      "Requirement already satisfied: pillow>=6.2.0 in c:\\users\\stefan\\git-repos\\work\\mobile-env\\venv\\lib\\site-packages (from matplotlib==3.5.0->mobile-env) (8.4.0)\n",
      "Requirement already satisfied: fonttools>=4.22.0 in c:\\users\\stefan\\git-repos\\work\\mobile-env\\venv\\lib\\site-packages (from matplotlib==3.5.0->mobile-env) (4.28.1)\n",
      "Requirement already satisfied: cloudpickle<1.7.0,>=1.2.0 in c:\\users\\stefan\\git-repos\\work\\mobile-env\\venv\\lib\\site-packages (from gym>=0.19.0->mobile-env) (1.6.0)\n",
      "Requirement already satisfied: six in c:\\users\\stefan\\git-repos\\work\\mobile-env\\venv\\lib\\site-packages (from cycler>=0.10->matplotlib==3.5.0->mobile-env) (1.15.0)\n",
      "Requirement already satisfied: tomli>=1.0.0 in c:\\users\\stefan\\git-repos\\work\\mobile-env\\venv\\lib\\site-packages (from setuptools-scm>=4->matplotlib==3.5.0->mobile-env) (1.2.2)\n",
      "Requirement already satisfied: setuptools in c:\\users\\stefan\\git-repos\\work\\mobile-env\\venv\\lib\\site-packages (from setuptools-scm>=4->matplotlib==3.5.0->mobile-env) (46.1.3)\n"
     ]
    }
   ],
   "source": [
    "# installation via PyPI\n",
    "!pip install -U mobile-env"
   ]
  },
  {
   "cell_type": "markdown",
   "metadata": {
    "pycharm": {
     "name": "#%% md\n"
    }
   },
   "source": [
    "`mobile_env` comes with a set of predefined scenarios, registered as Gym environments, that can be used out of the box for quick experimentation."
   ]
  },
  {
   "cell_type": "code",
   "execution_count": 4,
   "metadata": {
    "collapsed": false,
    "jupyter": {
     "outputs_hidden": false
    },
    "pycharm": {
     "name": "#%%\n"
    }
   },
   "outputs": [
    {
     "name": "stdout",
     "output_type": "stream",
     "text": [
      "\n",
      "Small environment with 5 users and 3 cells.\n"
     ]
    }
   ],
   "source": [
    "import gym\n",
    "import matplotlib.pyplot as plt\n",
    "# importing mobile_env automatically registers the predefined scenarios in Gym\n",
    "import mobile_env\n",
    "\n",
    "# create a small mobile environment for a single, centralized control agent\n",
    "env = gym.make(\"mobile-small-central-v0\")\n",
    "\n",
    "print(f\"\\nSmall environment with {env.NUM_USERS} users and {env.NUM_STATIONS} cells.\")"
   ]
  },
  {
   "cell_type": "markdown",
   "metadata": {
    "pycharm": {
     "name": "#%% md\n"
    }
   },
   "source": [
    "Here, we consider a small scenario (called `\"mobile-small-central-v0\"`) with 5 users and 3 cells.\n",
    "As the users move around, the goal is to connect the users to suitable cells, ensuring that all users have a good Quality of Experience (QoE).\n",
    "\n",
    "Using coordinated multipoint (CoMP), users can connect to multiple cells simultaneously.\n",
    "Connecting to more cells increases the user's data rate but also increases competition for resources and may decrease data rates of other users.\n",
    "Therefore, a good coordination policy needs to balance this trade-off, depending on available resources and users' positions (affecting their path loss).\n",
    "\n",
    "To measure QoE, `mobile-env` defaults to a logarithmic utility function of the users' data rate, where -20 indicates bad QoE and +20 indicates good QoE. This can be easily configured and changed.\n",
    "\n",
    "![Utility plot](https://raw.githubusercontent.com/stefanbschneider/mobile-env/main/docs/images/utility.png)\n",
    "\n",
    "To get started, we will use random dummy actions."
   ]
  },
  {
   "cell_type": "code",
   "execution_count": 7,
   "metadata": {
    "collapsed": false,
    "jupyter": {
     "outputs_hidden": false
    },
    "pycharm": {
     "name": "#%%\n"
    }
   },
   "outputs": [
    {
     "data": {
      "image/png": "[encoded data removed]",
      "text/plain": [
       "<Figure size 432x288 with 1 Axes>"
      ]
     },
     "metadata": {
      "needs_background": "light"
     },
     "output_type": "display_data"
    }
   ],
   "source": [
    "from IPython import display\n",
    "\n",
    "# run the simulation for 10 time steps\n",
    "done = False\n",
    "obs = env.reset()\n",
    "for _ in range(10):\n",
    "    # here, use random dummy actions by sampling from the action space\n",
    "    dummy_action = env.action_space.sample()\n",
    "    obs, reward, done, info = env.step(dummy_action)\n",
    "\n",
    "    # render the environment\n",
    "    plt.imshow(env.render(mode='rgb_array'))\n",
    "    display.display(plt.gcf())\n",
    "    display.clear_output(wait=True)"
   ]
  },
  {
   "cell_type": "markdown",
   "metadata": {
    "pycharm": {
     "name": "#%% md\n"
    }
   },
   "source": [
    "The rendered environment shows the three cells as cell towers with circles indicating their range.\n",
    "The five moving users are shown as small circles, where the number indicates the user ID and\n",
    "the color represents the user's current QoE (red = bad, yellow = ok, green = good).\n",
    "\n",
    "A line between a user and a cell indicates that the user is connected to the cell.\n",
    "Again, the line color indicates the QoE that's achieved via the connection.\n",
    "Note that users can connect to multiple cells simultaneously using coordinated multipoint (CoMP).\n",
    "\n",
    "Here, with random action, users sometimes connect to cells but are oftentimes also completely disconnected from any cells, leading to bad QoE (red circles).\n",
    "\n",
    "Before training a reinforcement learning agent to properly control cell selection, we will look at some configuration options of `mobile-env` next. If you are in a hurry, feel free to skip this step.\n",
    "\n",
    "\n",
    "\n",
    "## Step 2: Configure `mobile-env` (Optional)\n",
    "\n",
    "### Predefined Scenarios\n",
    "\n",
    "Configuration is optional.\n",
    "We can also choose between one of the [three predefined scenarios](https://mobile-env.readthedocs.io/en/latest/components.html#scenarios) (small, medium, and large) without having to configure anything.\n",
    "\n",
    "By default, these are available for either a single, centralized agent (e.g., `\"mobile-small-central-v0\"`)\n",
    "or multiple agents (e.g., `\"mobile-small-ma-v0\"`), which affects the observations, actions, and reward."
   ]
  },
  {
   "cell_type": "code",
   "execution_count": 8,
   "metadata": {
    "collapsed": false,
    "jupyter": {
     "outputs_hidden": false
    },
    "pycharm": {
     "name": "#%%\n"
    }
   },
   "outputs": [
    {
     "data": {
      "text/plain": [
       "{'width': 200,\n",
       " 'height': 200,\n",
       " 'EP_MAX_TIME': 100,\n",
       " 'seed': 0,\n",
       " 'reset_rng_episode': False,\n",
       " 'arrival': mobile_env.core.arrival.NoDeparture,\n",
       " 'channel': mobile_env.core.channels.OkumuraHata,\n",
       " 'scheduler': mobile_env.core.schedules.ResourceFair,\n",
       " 'movement': mobile_env.core.movement.RandomWaypointMovement,\n",
       " 'utility': mobile_env.core.utilities.BoundedLogUtility,\n",
       " 'handler': mobile_env.handlers.central.MComCentralHandler,\n",
       " 'bs': {'bw': 9000000.0, 'freq': 2500, 'tx': 30, 'height': 50},\n",
       " 'ue': {'velocity': 1.5, 'snr_tr': 2e-08, 'noise': 1e-09, 'height': 1.5},\n",
       " 'arrival_params': {'ep_time': 100, 'reset_rng_episode': False},\n",
       " 'channel_params': {},\n",
       " 'scheduler_params': {},\n",
       " 'movement_params': {'width': 200, 'height': 200, 'reset_rng_episode': False},\n",
       " 'utility_params': {'lower': -20, 'upper': 20, 'coeffs': (10, 0, 10)},\n",
       " 'metrics': {'scalar_metrics': {}, 'ue_metrics': {}, 'bs_metrics': {}}}"
      ]
     },
     "execution_count": 8,
     "metadata": {},
     "output_type": "execute_result"
    }
   ],
   "source": [
    "# predefined small scenarios\n",
    "from mobile_env.scenarios.small import MComSmall\n",
    "\n",
    "# easy access to the default configuration\n",
    "MComSmall.default_config()"
   ]
  },
  {
   "cell_type": "code",
   "execution_count": 9,
   "metadata": {
    "collapsed": false,
    "jupyter": {
     "outputs_hidden": false
    },
    "pycharm": {
     "name": "#%%\n"
    }
   },
   "outputs": [
    {
     "data": {
      "image/png": "[encoded data removed]",
      "text/plain": [
       "<Figure size 432x288 with 1 Axes>"
      ]
     },
     "metadata": {
      "needs_background": "light"
     },
     "output_type": "display_data"
    }
   ],
   "source": [
    "def plot_env(env_name):\n",
    "    \"\"\"Create env, take a random step, and then render the environment.\"\"\"\n",
    "    env = gym.make(env_name)\n",
    "    env.reset()\n",
    "    env.step(env.action_space.sample())\n",
    "    plt.imshow(env.render(mode='rgb_array'))\n",
    "    plt.title(env_name)\n",
    "\n",
    "# plot small env from earlier\n",
    "plot_env(\"mobile-small-central-v0\")"
   ]
  },
  {
   "cell_type": "code",
   "execution_count": 10,
   "metadata": {
    "collapsed": false,
    "jupyter": {
     "outputs_hidden": false
    },
    "pycharm": {
     "name": "#%%\n"
    }
   },
   "outputs": [
    {
     "data": {
      "image/png": "[encoded data removed]",
      "text/plain": [
       "<Figure size 432x288 with 1 Axes>"
      ]
     },
     "metadata": {
      "needs_background": "light"
     },
     "output_type": "display_data"
    }
   ],
   "source": [
    "plot_env(\"mobile-medium-central-v0\")"
   ]
  },
  {
   "cell_type": "code",
   "execution_count": 11,
   "metadata": {
    "collapsed": false,
    "jupyter": {
     "outputs_hidden": false
    },
    "pycharm": {
     "name": "#%%\n"
    }
   },
   "outputs": [
    {
     "data": {
      "image/png": "[encoded data removed]",
      "text/plain": [
       "<Figure size 432x288 with 1 Axes>"
      ]
     },
     "metadata": {
      "needs_background": "light"
     },
     "output_type": "display_data"
    }
   ],
   "source": [
    "plot_env(\"mobile-large-central-v0\")"
   ]
  },
  {
   "cell_type": "markdown",
   "metadata": {
    "pycharm": {
     "name": "#%% md\n"
    }
   },
   "source": [
    "### Custom Scenario\n",
    "\n",
    "It is also easy to define a custom scenario by subclassing `mobile-env`'s `MComCore` base class.\n",
    "\n",
    "Here, we create a custom scenario with two cells and three users, where one user is stationary and the other two users move quickly with 10 m/s.\n",
    "\n",
    "We also configure the environment to simulate each episode with identical user positions and movement. By default, users appear and move randomly in each episode.\n",
    "We also set the episode length to 10 (instead of default 100 steps)."
   ]
  },
  {
   "cell_type": "code",
   "execution_count": 13,
   "metadata": {
    "collapsed": false,
    "jupyter": {
     "outputs_hidden": false
    },
    "pycharm": {
     "name": "#%%\n"
    }
   },
   "outputs": [
    {
     "data": {
      "image/png": "[encoded data removed]",
      "text/plain": [
       "<Figure size 432x288 with 1 Axes>"
      ]
     },
     "metadata": {
      "needs_background": "light"
     },
     "output_type": "display_data"
    }
   ],
   "source": [
    "from mobile_env.core.base import MComCore\n",
    "from mobile_env.core.entities import BaseStation, UserEquipment\n",
    "\n",
    "\n",
    "class CustomEnv(MComCore):\n",
    "    # overwrite the default config\n",
    "    @classmethod\n",
    "    def default_config(cls):\n",
    "        config = super().default_config()\n",
    "        config.update({\n",
    "            # 10 steps per episode\n",
    "            \"EP_MAX_TIME\": 10,\n",
    "            # identical episodes\n",
    "            \"seed\": 1234,\n",
    "            'reset_rng_episode': True,\n",
    "        })\n",
    "        # faster user movement\n",
    "        config[\"ue\"].update({\n",
    "            \"velocity\": 10,\n",
    "        })\n",
    "        return config\n",
    "\n",
    "    # configure users and cells in the constructor\n",
    "    def __init__(self, config={}):\n",
    "        # load default config defined above; overwrite with custom params\n",
    "        env_config = self.default_config()\n",
    "        env_config.update(config)\n",
    "\n",
    "        # two cells next to each other; unpack config defaults for other params\n",
    "        stations = [\n",
    "            BaseStation(bs_id=0, pos=(50, 100), **env_config[\"bs\"]),\n",
    "            BaseStation(bs_id=1, pos=(100, 100), **env_config[\"bs\"])\n",
    "        ]\n",
    "\n",
    "        # users\n",
    "        users = [\n",
    "            # two fast moving users with config defaults\n",
    "            UserEquipment(ue_id=1, **env_config[\"ue\"]),\n",
    "            UserEquipment(ue_id=2, **env_config[\"ue\"]),\n",
    "            # stationary user --> set velocity to 0\n",
    "            UserEquipment(ue_id=3, velocity=0, snr_tr=env_config[\"ue\"][\"snr_tr\"], noise=env_config[\"ue\"][\"noise\"],\n",
    "                          height=env_config[\"ue\"][\"height\"]),\n",
    "        ]\n",
    "\n",
    "        super().__init__(stations, users, config)\n",
    "\n",
    "\n",
    "# init and render the custom scenario\n",
    "env = CustomEnv()\n",
    "env.reset()\n",
    "for _ in range(10):\n",
    "    # here, use random dummy actions by sampling from the action space\n",
    "    dummy_action = env.action_space.sample()\n",
    "    obs, reward, done, info = env.step(dummy_action)\n",
    "\n",
    "    # render the environment\n",
    "    plt.imshow(env.render(mode='rgb_array'))\n",
    "    display.display(plt.gcf())\n",
    "    display.clear_output(wait=True)"
   ]
  },
  {
   "cell_type": "markdown",
   "metadata": {},
   "source": [
    "### Extending `mobile-env`: Tracking custom metrics\n",
    "\n",
    "`mobile-env` allows to define and track custom metrics during the training and testing phases. It defines an interface for metrics that record values per user equipment (e.g. utility per user), basestation (e.g. number of connections per station) or time step (e.g. average utility of users).\n",
    "\n",
    "Here, we show as an example how the number of overall connections, connections per station and utility per user can be monitored. Also, we track each user's distance to their closest station. Later, we load the monitored metrics as `pandas` data frames."
   ]
  },
  {
   "cell_type": "code",
   "execution_count": 5,
   "metadata": {},
   "outputs": [
    {
     "data": {
      "text/html": [
       "<div>\n",
       "<style scoped>\n",
       "    .dataframe tbody tr th:only-of-type {\n",
       "        vertical-align: middle;\n",
       "    }\n",
       "\n",
       "    .dataframe tbody tr th {\n",
       "        vertical-align: top;\n",
       "    }\n",
       "\n",
       "    .dataframe thead th {\n",
       "        text-align: right;\n",
       "    }\n",
       "</style>\n",
       "<table border=\"1\" class=\"dataframe\">\n",
       "  <thead>\n",
       "    <tr style=\"text-align: right;\">\n",
       "      <th></th>\n",
       "      <th>overall connections</th>\n",
       "      <th>number connections</th>\n",
       "      <th>number connected</th>\n",
       "      <th>mean utility</th>\n",
       "      <th>mean datarate</th>\n",
       "    </tr>\n",
       "    <tr>\n",
       "      <th>Time Step</th>\n",
       "      <th></th>\n",
       "      <th></th>\n",
       "      <th></th>\n",
       "      <th></th>\n",
       "      <th></th>\n",
       "    </tr>\n",
       "  </thead>\n",
       "  <tbody>\n",
       "    <tr>\n",
       "      <th>0</th>\n",
       "      <td>2</td>\n",
       "      <td>2</td>\n",
       "      <td>2</td>\n",
       "      <td>-0.651931</td>\n",
       "      <td>0.685616</td>\n",
       "    </tr>\n",
       "    <tr>\n",
       "      <th>1</th>\n",
       "      <td>2</td>\n",
       "      <td>2</td>\n",
       "      <td>1</td>\n",
       "      <td>-0.780157</td>\n",
       "      <td>1.579176</td>\n",
       "    </tr>\n",
       "    <tr>\n",
       "      <th>2</th>\n",
       "      <td>1</td>\n",
       "      <td>1</td>\n",
       "      <td>1</td>\n",
       "      <td>-0.796599</td>\n",
       "      <td>1.081446</td>\n",
       "    </tr>\n",
       "    <tr>\n",
       "      <th>3</th>\n",
       "      <td>0</td>\n",
       "      <td>0</td>\n",
       "      <td>0</td>\n",
       "      <td>-1.000000</td>\n",
       "      <td>0.000000</td>\n",
       "    </tr>\n",
       "    <tr>\n",
       "      <th>4</th>\n",
       "      <td>0</td>\n",
       "      <td>0</td>\n",
       "      <td>0</td>\n",
       "      <td>-1.000000</td>\n",
       "      <td>0.000000</td>\n",
       "    </tr>\n",
       "  </tbody>\n",
       "</table>\n",
       "</div>"
      ],
      "text/plain": [
       "           overall connections  number connections  number connected  \\\n",
       "Time Step                                                              \n",
       "0                            2                   2                 2   \n",
       "1                            2                   2                 1   \n",
       "2                            1                   1                 1   \n",
       "3                            0                   0                 0   \n",
       "4                            0                   0                 0   \n",
       "\n",
       "           mean utility  mean datarate  \n",
       "Time Step                               \n",
       "0             -0.651931       0.685616  \n",
       "1             -0.780157       1.579176  \n",
       "2             -0.796599       1.081446  \n",
       "3             -1.000000       0.000000  \n",
       "4             -1.000000       0.000000  "
      ]
     },
     "execution_count": 5,
     "metadata": {},
     "output_type": "execute_result"
    }
   ],
   "source": [
    "import numpy as np\n",
    "\n",
    "# overall number of active connections\n",
    "def overall_connections(sim):\n",
    "    return sum([len(conns) for conns in sim.connections.values()])\n",
    "\n",
    "\n",
    "# monitors utility per user equipment\n",
    "def user_utility(sim):\n",
    "    return {ue.ue_id: utility for ue, utility in sim.utilities.items()}\n",
    "\n",
    "\n",
    "# monitors each user equipments' distance to their closest base station\n",
    "def user_closest_distance(sim):\n",
    "    # position vector of basestations\n",
    "    bpos = np.array([[bs.x, bs.y] for bs in sim.stations.values()])\n",
    "\n",
    "    distances = {}    \n",
    "    for ue_id, ue in sim.users.items():\n",
    "        upos = np.array([[ue.x, ue.y]])\n",
    "        dist = np.sqrt(np.sum((bpos - upos)**2, axis=1)).min()\n",
    "        \n",
    "        distances[ue_id] = dist\n",
    "    \n",
    "    return distances\n",
    "\n",
    "\n",
    "# number of connections per basestation\n",
    "def station_connections(sim):\n",
    "    return {bs.bs_id: len(conns) for bs, conns in sim.connections.items()}\n",
    "\n",
    "\n",
    "\n",
    "# add custom metrics to config of environment\n",
    "config = {\"metrics\": {\n",
    "            \"scalar_metrics\": {\"overall connections\": overall_connections},\n",
    "            \"ue_metrics\": {\"user utility\": user_utility, 'distance station': user_closest_distance},\n",
    "            \"bs_metrics\": {\"station connections\": station_connections}\n",
    "            }\n",
    "         }\n",
    "    \n",
    "# pass the configuration to the environment\n",
    "env = gym.make(\"mobile-small-central-v0\", config=config)\n",
    "env.reset()\n",
    "\n",
    "for _ in range(40):\n",
    "    # here, use random dummy actions by sampling from the action space\n",
    "    dummy_action = env.action_space.sample()\n",
    "    obs, reward, done, info = env.step(dummy_action)\n",
    "\n",
    "    # render the environment\n",
    "    plt.imshow(env.render(mode='rgb_array'))\n",
    "    display.display(plt.gcf())\n",
    "    display.clear_output(wait=True)\n",
    "    \n",
    "plt.close()\n",
    "          \n",
    "        \n",
    "# load all tracked results as pandas data frames\n",
    "scalar_results, ue_results, bs_results = env.monitor.load_results()\n",
    "\n",
    "# show general specific results\n",
    "scalar_results.head()"
   ]
  },
  {
   "cell_type": "markdown",
   "metadata": {},
   "source": [
    "Using the monitored metrics per user equipment, we analyse the average, maximum and minimum distance and utility per user."
   ]
  },
  {
   "cell_type": "code",
   "execution_count": 6,
   "metadata": {},
   "outputs": [
    {
     "data": {
      "text/html": [
       "<div>\n",
       "<style scoped>\n",
       "    .dataframe tbody tr th:only-of-type {\n",
       "        vertical-align: middle;\n",
       "    }\n",
       "\n",
       "    .dataframe tbody tr th {\n",
       "        vertical-align: top;\n",
       "    }\n",
       "\n",
       "    .dataframe thead tr th {\n",
       "        text-align: left;\n",
       "    }\n",
       "\n",
       "    .dataframe thead tr:last-of-type th {\n",
       "        text-align: right;\n",
       "    }\n",
       "</style>\n",
       "<table border=\"1\" class=\"dataframe\">\n",
       "  <thead>\n",
       "    <tr>\n",
       "      <th>Metric</th>\n",
       "      <th colspan=\"3\" halign=\"left\">distance station</th>\n",
       "      <th colspan=\"3\" halign=\"left\">user utility</th>\n",
       "    </tr>\n",
       "    <tr>\n",
       "      <th></th>\n",
       "      <th>mean</th>\n",
       "      <th>min</th>\n",
       "      <th>max</th>\n",
       "      <th>mean</th>\n",
       "      <th>min</th>\n",
       "      <th>max</th>\n",
       "    </tr>\n",
       "    <tr>\n",
       "      <th>UE ID</th>\n",
       "      <th></th>\n",
       "      <th></th>\n",
       "      <th></th>\n",
       "      <th></th>\n",
       "      <th></th>\n",
       "      <th></th>\n",
       "    </tr>\n",
       "  </thead>\n",
       "  <tbody>\n",
       "    <tr>\n",
       "      <th>0</th>\n",
       "      <td>67.215703</td>\n",
       "      <td>52.943728</td>\n",
       "      <td>83.360218</td>\n",
       "      <td>-0.962852</td>\n",
       "      <td>-1.0</td>\n",
       "      <td>-0.090989</td>\n",
       "    </tr>\n",
       "    <tr>\n",
       "      <th>1</th>\n",
       "      <td>60.145925</td>\n",
       "      <td>51.157285</td>\n",
       "      <td>76.509602</td>\n",
       "      <td>-0.623835</td>\n",
       "      <td>-1.0</td>\n",
       "      <td>-0.069069</td>\n",
       "    </tr>\n",
       "    <tr>\n",
       "      <th>2</th>\n",
       "      <td>56.253197</td>\n",
       "      <td>45.321201</td>\n",
       "      <td>74.520349</td>\n",
       "      <td>-0.536634</td>\n",
       "      <td>-1.0</td>\n",
       "      <td>0.099215</td>\n",
       "    </tr>\n",
       "    <tr>\n",
       "      <th>3</th>\n",
       "      <td>58.155210</td>\n",
       "      <td>40.677124</td>\n",
       "      <td>75.709291</td>\n",
       "      <td>-0.687646</td>\n",
       "      <td>-1.0</td>\n",
       "      <td>-0.025206</td>\n",
       "    </tr>\n",
       "    <tr>\n",
       "      <th>4</th>\n",
       "      <td>40.510698</td>\n",
       "      <td>16.895876</td>\n",
       "      <td>67.734091</td>\n",
       "      <td>-0.455190</td>\n",
       "      <td>-1.0</td>\n",
       "      <td>0.522633</td>\n",
       "    </tr>\n",
       "  </tbody>\n",
       "</table>\n",
       "</div>"
      ],
      "text/plain": [
       "Metric distance station                       user utility               \n",
       "                   mean        min        max         mean  min       max\n",
       "UE ID                                                                    \n",
       "0             67.215703  52.943728  83.360218    -0.962852 -1.0 -0.090989\n",
       "1             60.145925  51.157285  76.509602    -0.623835 -1.0 -0.069069\n",
       "2             56.253197  45.321201  74.520349    -0.536634 -1.0  0.099215\n",
       "3             58.155210  40.677124  75.709291    -0.687646 -1.0 -0.025206\n",
       "4             40.510698  16.895876  67.734091    -0.455190 -1.0  0.522633"
      ]
     },
     "execution_count": 6,
     "metadata": {},
     "output_type": "execute_result"
    }
   ],
   "source": [
    "data = ue_results.reset_index()\n",
    "data = data.groupby('UE ID').agg(['mean', 'min', 'max'])\n",
    "data = data.drop('Time Step', axis='columns')\n",
    "data.head()"
   ]
  },
  {
   "cell_type": "markdown",
   "metadata": {},
   "source": [
    "### Extending `mobile-env`: Adding a Handler for a Custom Observation Space\n",
    "\n",
    "Handlers define the observation and action spaces as well as the reward for an environment.\n",
    "Hence, when designing a new Markov Decision Process for a reinforcement learning approach, you can quickly validate it by implementing a new handler in `mobile-env`.\n",
    "\n",
    "Let's first look at the default handler (for single-agent RL) and then add a new handler with a custom observation space."
   ]
  },
  {
   "cell_type": "code",
   "execution_count": 14,
   "metadata": {
    "collapsed": false,
    "jupyter": {
     "outputs_hidden": false
    },
    "pycharm": {
     "name": "#%%\n"
    }
   },
   "outputs": [
    {
     "data": {
      "text/plain": [
       "['connections', 'snrs', 'utility']"
      ]
     },
     "execution_count": 14,
     "metadata": {},
     "output_type": "execute_result"
    }
   ],
   "source": [
    "env.handler.features"
   ]
  },
  {
   "cell_type": "markdown",
   "metadata": {},
   "source": [
    "By default, observed features are:\n",
    "* The current connections between users and cells (binary)\n",
    "* The signal-to-noise-ratio (SNR) between all users and cells (normalized to [0,1])\n",
    "* The current utility (i.e., QoE) of each user (normalized to [-1,1])"
   ]
  },
  {
   "cell_type": "code",
   "execution_count": 15,
   "metadata": {
    "collapsed": false,
    "jupyter": {
     "outputs_hidden": false
    },
    "pycharm": {
     "name": "#%%\n"
    }
   },
   "outputs": [
    {
     "name": "stdout",
     "output_type": "stream",
     "text": [
      "Raw observations:  [ 0.          0.          0.3470676   1.         -1.          0.\n",
      "  1.          1.          0.2665389  -0.08450864  0.          0.\n",
      "  0.38201445  1.         -1.        ]\n",
      "\n",
      "Observations for user 1:\n",
      "Current connections to the 2 cells: [0. 0.]\n",
      "SNR to the 2 cells: [0.3470676 1.       ]\n",
      "Current utility: -1.0\n",
      "\n",
      "Observations for user 2:\n",
      "Current connections to the 2 cells: [0. 1.]\n",
      "SNR to the 2 cells: [1.        0.2665389]\n",
      "Current utility: -0.08450863510370255\n",
      "\n",
      "Observations for user 3:\n",
      "Current connections to the 2 cells: [0. 0.]\n",
      "SNR to the 2 cells: [0.38201445 1.        ]\n",
      "Current utility: -1.0\n"
     ]
    }
   ],
   "source": [
    "env = CustomEnv(config={\"seed\": 42})\n",
    "obs = env.reset()\n",
    "obs, reward, done, info = env.step(env.action_space.sample())\n",
    "\n",
    "print(\"Raw observations: \", obs)\n",
    "\n",
    "# connections and SNR are per user and station, utility just per user\n",
    "obs_per_user = 2 * env.NUM_STATIONS + 1\n",
    "for ue in range(env.NUM_USERS):\n",
    "    print(f\"\\nObservations for user {ue + 1}:\")\n",
    "    offset = ue * obs_per_user\n",
    "    print(f\"Current connections to the {env.NUM_STATIONS} cells: {obs[offset:offset+env.NUM_STATIONS]}\")\n",
    "    print(f\"SNR to the {env.NUM_STATIONS} cells: {obs[offset+env.NUM_STATIONS:offset+2*env.NUM_STATIONS]}\")\n",
    "    print(f\"Current utility: {obs[offset+2*env.NUM_STATIONS]}\")\n"
   ]
  },
  {
   "cell_type": "markdown",
   "metadata": {},
   "source": [
    "Now, let's extend the observation space by adding an observation that indicates whether a user is connected to any cell at all, i.e., a single binary entry per user.\n",
    "\n",
    "For that, we create a new handler that inherits from the existing central handler and simply overwrite the relevant parts: The available features and the observations."
   ]
  },
  {
   "cell_type": "code",
   "execution_count": 16,
   "metadata": {
    "collapsed": false,
    "jupyter": {
     "outputs_hidden": false
    },
    "pycharm": {
     "name": "#%%\n"
    }
   },
   "outputs": [],
   "source": [
    "from mobile_env.handlers.central import MComCentralHandler\n",
    "import numpy as np\n",
    "\n",
    "\n",
    "class CustomHandler(MComCentralHandler):\n",
    "    # let's call the new observation \"any_connection\"\n",
    "    features = MComCentralHandler.features + [\"any_connection\"]\n",
    "\n",
    "    # overwrite the observation size per user\n",
    "    @classmethod\n",
    "    def ue_obs_size(cls, env) -> int:\n",
    "        \"\"\"Increase observations by 1 for each user for the new obs\"\"\"\n",
    "        # previously: connections for all cells, SNR for all cells, utility\n",
    "        prev_size = env.NUM_STATIONS + env.NUM_STATIONS + 1\n",
    "        return prev_size + 1\n",
    "\n",
    "    # add the new observation\n",
    "    @classmethod\n",
    "    def observation(cls, env) -> np.ndarray:\n",
    "        \"\"\"Concatenated observations for all users\"\"\"\n",
    "        # get all available obs from the env\n",
    "        obs_dict = env.features()\n",
    "\n",
    "        # add the new observation for each user (ue)\n",
    "        for ue_id in obs_dict.keys():\n",
    "            any_connection = np.any(obs_dict[ue_id][\"connections\"])\n",
    "            obs_dict[ue_id][\"any_connection\"] = int(any_connection)\n",
    "\n",
    "        # select the relevant obs and flatten into single vector\n",
    "        flattened_obs = []\n",
    "        for ue_id, ue_obs in obs_dict.items():\n",
    "            flattened_obs.extend(ue_obs[\"connections\"])\n",
    "            flattened_obs.append(ue_obs[\"any_connection\"])\n",
    "            flattened_obs.extend(ue_obs[\"snrs\"])\n",
    "            flattened_obs.extend(ue_obs[\"utility\"])\n",
    "\n",
    "        return flattened_obs"
   ]
  },
  {
   "cell_type": "code",
   "execution_count": 17,
   "metadata": {
    "collapsed": false,
    "jupyter": {
     "outputs_hidden": false
    },
    "pycharm": {
     "name": "#%%\n"
    }
   },
   "outputs": [
    {
     "name": "stdout",
     "output_type": "stream",
     "text": [
      "New, raw observations:  [0.0, 0.0, 0, 0.39157578, 1.0, -1.0, 0.0, 0.0, 0, 0.08438771, 1.0, -1.0, 0.0, 0.0, 0, 1.0, 0.021902867, -1.0]\n",
      "\n",
      "Observations for user 1:\n",
      "Current connections to the 2 cells: [0.0, 0.0]\n",
      "NEW: Any connection?: 0\n",
      "SNR to the 2 cells: [0.39157578, 1.0]\n",
      "Current utility: -1.0\n",
      "\n",
      "Observations for user 2:\n",
      "Current connections to the 2 cells: [0.0, 0.0]\n",
      "NEW: Any connection?: 0\n",
      "SNR to the 2 cells: [0.08438771, 1.0]\n",
      "Current utility: -1.0\n",
      "\n",
      "Observations for user 3:\n",
      "Current connections to the 2 cells: [0.0, 0.0]\n",
      "NEW: Any connection?: 0\n",
      "SNR to the 2 cells: [1.0, 0.021902867]\n",
      "Current utility: -1.0\n"
     ]
    }
   ],
   "source": [
    "# create the env with the new handler and check the obs\n",
    "env = CustomEnv(config={\"handler\": CustomHandler})\n",
    "obs = env.reset()\n",
    "obs, reward, done, info = env.step(env.action_space.sample())\n",
    "\n",
    "print(\"New, raw observations: \", obs)\n",
    "\n",
    "# connections and SNR are per user and station, utility just per user\n",
    "obs_per_user = 2 * env.NUM_STATIONS + 2\n",
    "for ue in range(env.NUM_USERS):\n",
    "    print(f\"\\nObservations for user {ue + 1}:\")\n",
    "    offset = ue * obs_per_user\n",
    "    print(f\"Current connections to the {env.NUM_STATIONS} cells: {obs[offset:offset+env.NUM_STATIONS]}\")\n",
    "    print(f\"NEW: Any connection?: {obs[offset+env.NUM_STATIONS]}\")\n",
    "    print(f\"SNR to the {env.NUM_STATIONS} cells: {obs[offset+env.NUM_STATIONS+1:offset+2*env.NUM_STATIONS+1]}\")\n",
    "    print(f\"Current utility: {obs[offset+2*env.NUM_STATIONS+1]}\")"
   ]
  },
  {
   "cell_type": "markdown",
   "metadata": {},
   "source": [
    "Now, the observations include an additional entry per user that indicates whether the user is connected to any cell at all. Maybe that's a useful observation for an RL approach?\n",
    "\n",
    "Let's try to train an RL agent with the custom observations on our custom environment.\n",
    "\n",
    "\n",
    "## Step 3: Single-Agent RL with `stable-baselines3`\n",
    "\n",
    "In a single-agent approach, the single RL agent controls cell selection for all users simultaneously.\n",
    "We can train such a single-agent approach with many different RL frameworks.\n",
    "A popular example is `stable-baselines3`, using the PPO algorithm.\n",
    "\n",
    "### Set Up `stable-baselines3`"
   ]
  },
  {
   "cell_type": "code",
   "execution_count": 27,
   "metadata": {
    "collapsed": false,
    "jupyter": {
     "outputs_hidden": false
    },
    "pycharm": {
     "name": "#%%\n"
    }
   },
   "outputs": [
    {
     "name": "stdout",
     "output_type": "stream",
     "text": [
      "Requirement already satisfied: stable-baselines3 in c:\\users\\stefan\\git-repos\\work\\mobile-env\\venv\\lib\\site-packages (1.3.0)\n",
      "Requirement already satisfied: gym<0.20,>=0.17 in c:\\users\\stefan\\git-repos\\work\\mobile-env\\venv\\lib\\site-packages (from stable-baselines3) (0.19.0)\n",
      "Requirement already satisfied: torch>=1.8.1 in c:\\users\\stefan\\git-repos\\work\\mobile-env\\venv\\lib\\site-packages (from stable-baselines3) (1.10.0)\n",
      "Requirement already satisfied: pandas in c:\\users\\stefan\\git-repos\\work\\mobile-env\\venv\\lib\\site-packages (from stable-baselines3) (1.2.3)\n",
      "Requirement already satisfied: cloudpickle in c:\\users\\stefan\\git-repos\\work\\mobile-env\\venv\\lib\\site-packages (from stable-baselines3) (1.6.0)\n",
      "Requirement already satisfied: matplotlib in c:\\users\\stefan\\git-repos\\work\\mobile-env\\venv\\lib\\site-packages (from stable-baselines3) (3.5.0)\n",
      "Requirement already satisfied: numpy in c:\\users\\stefan\\git-repos\\work\\mobile-env\\venv\\lib\\site-packages (from stable-baselines3) (1.21.4)\n",
      "Requirement already satisfied: typing-extensions in c:\\users\\stefan\\git-repos\\work\\mobile-env\\venv\\lib\\site-packages (from torch>=1.8.1->stable-baselines3) (4.0.0)\n",
      "Requirement already satisfied: setuptools-scm>=4 in c:\\users\\stefan\\git-repos\\work\\mobile-env\\venv\\lib\\site-packages (from matplotlib->stable-baselines3) (6.3.2)\n",
      "Requirement already satisfied: python-dateutil>=2.7 in c:\\users\\stefan\\git-repos\\work\\mobile-env\\venv\\lib\\site-packages (from matplotlib->stable-baselines3) (2.8.1)\n",
      "Requirement already satisfied: cycler>=0.10 in c:\\users\\stefan\\git-repos\\work\\mobile-env\\venv\\lib\\site-packages (from matplotlib->stable-baselines3) (0.10.0)\n",
      "Requirement already satisfied: kiwisolver>=1.0.1 in c:\\users\\stefan\\git-repos\\work\\mobile-env\\venv\\lib\\site-packages (from matplotlib->stable-baselines3) (1.3.1)\n",
      "Requirement already satisfied: pyparsing>=2.2.1 in c:\\users\\stefan\\git-repos\\work\\mobile-env\\venv\\lib\\site-packages (from matplotlib->stable-baselines3) (2.4.7)\n",
      "Requirement already satisfied: fonttools>=4.22.0 in c:\\users\\stefan\\git-repos\\work\\mobile-env\\venv\\lib\\site-packages (from matplotlib->stable-baselines3) (4.28.1)\n",
      "Requirement already satisfied: pillow>=6.2.0 in c:\\users\\stefan\\git-repos\\work\\mobile-env\\venv\\lib\\site-packages (from matplotlib->stable-baselines3) (8.4.0)\n",
      "Requirement already satisfied: packaging>=20.0 in c:\\users\\stefan\\git-repos\\work\\mobile-env\\venv\\lib\\site-packages (from matplotlib->stable-baselines3) (21.3)\n",
      "Requirement already satisfied: pytz>=2017.3 in c:\\users\\stefan\\git-repos\\work\\mobile-env\\venv\\lib\\site-packages (from pandas->stable-baselines3) (2021.1)\n",
      "Requirement already satisfied: six in c:\\users\\stefan\\git-repos\\work\\mobile-env\\venv\\lib\\site-packages (from cycler>=0.10->matplotlib->stable-baselines3) (1.15.0)\n",
      "Requirement already satisfied: setuptools in c:\\users\\stefan\\git-repos\\work\\mobile-env\\venv\\lib\\site-packages (from setuptools-scm>=4->matplotlib->stable-baselines3) (46.1.3)\n",
      "Requirement already satisfied: tomli>=1.0.0 in c:\\users\\stefan\\git-repos\\work\\mobile-env\\venv\\lib\\site-packages (from setuptools-scm>=4->matplotlib->stable-baselines3) (1.2.2)\n"
     ]
    }
   ],
   "source": [
    "# first, install stable baselines\n",
    "!pip install stable-baselines3"
   ]
  },
  {
   "cell_type": "markdown",
   "metadata": {},
   "source": [
    "### Train a Single PPO Agent"
   ]
  },
  {
   "cell_type": "code",
   "execution_count": 28,
   "metadata": {
    "collapsed": false,
    "jupyter": {
     "outputs_hidden": false
    },
    "pycharm": {
     "name": "#%%\n"
    }
   },
   "outputs": [
    {
     "name": "stdout",
     "output_type": "stream",
     "text": [
      "Using cpu device\n",
      "Wrapping the env with a `Monitor` wrapper\n",
      "Wrapping the env in a DummyVecEnv.\n",
      "Logging to results_sb\\PPO_2\n",
      "---------------------------------\n",
      "| rollout/           |          |\n",
      "|    ep_len_mean     | 10       |\n",
      "|    ep_rew_mean     | -5.52    |\n",
      "| time/              |          |\n",
      "|    fps             | 137      |\n",
      "|    iterations      | 1        |\n",
      "|    time_elapsed    | 14       |\n",
      "|    total_timesteps | 2048     |\n",
      "---------------------------------\n",
      "----------------------------------------\n",
      "| rollout/                |            |\n",
      "|    ep_len_mean          | 10         |\n",
      "|    ep_rew_mean          | -5.93      |\n",
      "| time/                   |            |\n",
      "|    fps                  | 145        |\n",
      "|    iterations           | 2          |\n",
      "|    time_elapsed         | 28         |\n",
      "|    total_timesteps      | 4096       |\n",
      "| train/                  |            |\n",
      "|    approx_kl            | 0.00966817 |\n",
      "|    clip_fraction        | 0.0976     |\n",
      "|    clip_range           | 0.2        |\n",
      "|    entropy_loss         | -3.29      |\n",
      "|    explained_variance   | -0.14      |\n",
      "|    learning_rate        | 0.0003     |\n",
      "|    loss                 | 1.18       |\n",
      "|    n_updates            | 10         |\n",
      "|    policy_gradient_loss | -0.0146    |\n",
      "|    value_loss           | 2.37       |\n",
      "----------------------------------------\n",
      "-----------------------------------------\n",
      "| rollout/                |             |\n",
      "|    ep_len_mean          | 10          |\n",
      "|    ep_rew_mean          | -5.08       |\n",
      "| time/                   |             |\n",
      "|    fps                  | 146         |\n",
      "|    iterations           | 3           |\n",
      "|    time_elapsed         | 41          |\n",
      "|    total_timesteps      | 6144        |\n",
      "| train/                  |             |\n",
      "|    approx_kl            | 0.012774698 |\n",
      "|    clip_fraction        | 0.143       |\n",
      "|    clip_range           | 0.2         |\n",
      "|    entropy_loss         | -3.27       |\n",
      "|    explained_variance   | 0.306       |\n",
      "|    learning_rate        | 0.0003      |\n",
      "|    loss                 | 1.14        |\n",
      "|    n_updates            | 20          |\n",
      "|    policy_gradient_loss | -0.0218     |\n",
      "|    value_loss           | 2.57        |\n",
      "-----------------------------------------\n",
      "-----------------------------------------\n",
      "| rollout/                |             |\n",
      "|    ep_len_mean          | 10          |\n",
      "|    ep_rew_mean          | -5.38       |\n",
      "| time/                   |             |\n",
      "|    fps                  | 149         |\n",
      "|    iterations           | 4           |\n",
      "|    time_elapsed         | 54          |\n",
      "|    total_timesteps      | 8192        |\n",
      "| train/                  |             |\n",
      "|    approx_kl            | 0.011263395 |\n",
      "|    clip_fraction        | 0.114       |\n",
      "|    clip_range           | 0.2         |\n",
      "|    entropy_loss         | -3.25       |\n",
      "|    explained_variance   | 0.351       |\n",
      "|    learning_rate        | 0.0003      |\n",
      "|    loss                 | 1.09        |\n",
      "|    n_updates            | 30          |\n",
      "|    policy_gradient_loss | -0.0183     |\n",
      "|    value_loss           | 2.54        |\n",
      "-----------------------------------------\n",
      "-----------------------------------------\n",
      "| rollout/                |             |\n",
      "|    ep_len_mean          | 10          |\n",
      "|    ep_rew_mean          | -4.74       |\n",
      "| time/                   |             |\n",
      "|    fps                  | 149         |\n",
      "|    iterations           | 5           |\n",
      "|    time_elapsed         | 68          |\n",
      "|    total_timesteps      | 10240       |\n",
      "| train/                  |             |\n",
      "|    approx_kl            | 0.012882629 |\n",
      "|    clip_fraction        | 0.146       |\n",
      "|    clip_range           | 0.2         |\n",
      "|    entropy_loss         | -3.2        |\n",
      "|    explained_variance   | 0.335       |\n",
      "|    learning_rate        | 0.0003      |\n",
      "|    loss                 | 1.05        |\n",
      "|    n_updates            | 40          |\n",
      "|    policy_gradient_loss | -0.0197     |\n",
      "|    value_loss           | 2.66        |\n",
      "-----------------------------------------\n",
      "-----------------------------------------\n",
      "| rollout/                |             |\n",
      "|    ep_len_mean          | 10          |\n",
      "|    ep_rew_mean          | -4.72       |\n",
      "| time/                   |             |\n",
      "|    fps                  | 151         |\n",
      "|    iterations           | 6           |\n",
      "|    time_elapsed         | 81          |\n",
      "|    total_timesteps      | 12288       |\n",
      "| train/                  |             |\n",
      "|    approx_kl            | 0.012676832 |\n",
      "|    clip_fraction        | 0.166       |\n",
      "|    clip_range           | 0.2         |\n",
      "|    entropy_loss         | -3.16       |\n",
      "|    explained_variance   | 0.427       |\n",
      "|    learning_rate        | 0.0003      |\n",
      "|    loss                 | 0.891       |\n",
      "|    n_updates            | 50          |\n",
      "|    policy_gradient_loss | -0.0221     |\n",
      "|    value_loss           | 2.07        |\n",
      "-----------------------------------------\n",
      "----------------------------------------\n",
      "| rollout/                |            |\n",
      "|    ep_len_mean          | 10         |\n",
      "|    ep_rew_mean          | -4.59      |\n",
      "| time/                   |            |\n",
      "|    fps                  | 159        |\n",
      "|    iterations           | 7          |\n",
      "|    time_elapsed         | 90         |\n",
      "|    total_timesteps      | 14336      |\n",
      "| train/                  |            |\n",
      "|    approx_kl            | 0.01478526 |\n",
      "|    clip_fraction        | 0.167      |\n",
      "|    clip_range           | 0.2        |\n",
      "|    entropy_loss         | -3.1       |\n",
      "|    explained_variance   | 0.41       |\n",
      "|    learning_rate        | 0.0003     |\n",
      "|    loss                 | 0.996      |\n",
      "|    n_updates            | 60         |\n",
      "|    policy_gradient_loss | -0.0233    |\n",
      "|    value_loss           | 2.28       |\n",
      "----------------------------------------\n",
      "-----------------------------------------\n",
      "| rollout/                |             |\n",
      "|    ep_len_mean          | 10          |\n",
      "|    ep_rew_mean          | -4.15       |\n",
      "| time/                   |             |\n",
      "|    fps                  | 165         |\n",
      "|    iterations           | 8           |\n",
      "|    time_elapsed         | 99          |\n",
      "|    total_timesteps      | 16384       |\n",
      "| train/                  |             |\n",
      "|    approx_kl            | 0.010950519 |\n",
      "|    clip_fraction        | 0.135       |\n",
      "|    clip_range           | 0.2         |\n",
      "|    entropy_loss         | -3.03       |\n",
      "|    explained_variance   | 0.413       |\n",
      "|    learning_rate        | 0.0003      |\n",
      "|    loss                 | 0.832       |\n",
      "|    n_updates            | 70          |\n",
      "|    policy_gradient_loss | -0.0172     |\n",
      "|    value_loss           | 2.03        |\n",
      "-----------------------------------------\n",
      "-----------------------------------------\n",
      "| rollout/                |             |\n",
      "|    ep_len_mean          | 10          |\n",
      "|    ep_rew_mean          | -4.13       |\n",
      "| time/                   |             |\n",
      "|    fps                  | 168         |\n",
      "|    iterations           | 9           |\n",
      "|    time_elapsed         | 109         |\n",
      "|    total_timesteps      | 18432       |\n",
      "| train/                  |             |\n",
      "|    approx_kl            | 0.013974641 |\n",
      "|    clip_fraction        | 0.182       |\n",
      "|    clip_range           | 0.2         |\n",
      "|    entropy_loss         | -2.95       |\n",
      "|    explained_variance   | 0.461       |\n",
      "|    learning_rate        | 0.0003      |\n",
      "|    loss                 | 0.911       |\n",
      "|    n_updates            | 80          |\n",
      "|    policy_gradient_loss | -0.0215     |\n",
      "|    value_loss           | 1.85        |\n",
      "-----------------------------------------\n",
      "-----------------------------------------\n",
      "| rollout/                |             |\n",
      "|    ep_len_mean          | 10          |\n",
      "|    ep_rew_mean          | -4.08       |\n",
      "| time/                   |             |\n",
      "|    fps                  | 166         |\n",
      "|    iterations           | 10          |\n",
      "|    time_elapsed         | 123         |\n",
      "|    total_timesteps      | 20480       |\n",
      "| train/                  |             |\n",
      "|    approx_kl            | 0.013551852 |\n",
      "|    clip_fraction        | 0.174       |\n",
      "|    clip_range           | 0.2         |\n",
      "|    entropy_loss         | -2.86       |\n",
      "|    explained_variance   | 0.489       |\n",
      "|    learning_rate        | 0.0003      |\n",
      "|    loss                 | 0.745       |\n",
      "|    n_updates            | 90          |\n",
      "|    policy_gradient_loss | -0.0212     |\n",
      "|    value_loss           | 1.51        |\n",
      "-----------------------------------------\n",
      "-----------------------------------------\n",
      "| rollout/                |             |\n",
      "|    ep_len_mean          | 10          |\n",
      "|    ep_rew_mean          | -3.96       |\n",
      "| time/                   |             |\n",
      "|    fps                  | 167         |\n",
      "|    iterations           | 11          |\n",
      "|    time_elapsed         | 134         |\n",
      "|    total_timesteps      | 22528       |\n",
      "| train/                  |             |\n",
      "|    approx_kl            | 0.012691457 |\n",
      "|    clip_fraction        | 0.156       |\n",
      "|    clip_range           | 0.2         |\n",
      "|    entropy_loss         | -2.78       |\n",
      "|    explained_variance   | 0.485       |\n",
      "|    learning_rate        | 0.0003      |\n",
      "|    loss                 | 0.94        |\n",
      "|    n_updates            | 100         |\n",
      "|    policy_gradient_loss | -0.018      |\n",
      "|    value_loss           | 1.82        |\n",
      "-----------------------------------------\n",
      "-----------------------------------------\n",
      "| rollout/                |             |\n",
      "|    ep_len_mean          | 10          |\n",
      "|    ep_rew_mean          | -3.94       |\n",
      "| time/                   |             |\n",
      "|    fps                  | 168         |\n",
      "|    iterations           | 12          |\n",
      "|    time_elapsed         | 145         |\n",
      "|    total_timesteps      | 24576       |\n",
      "| train/                  |             |\n",
      "|    approx_kl            | 0.013166713 |\n",
      "|    clip_fraction        | 0.171       |\n",
      "|    clip_range           | 0.2         |\n",
      "|    entropy_loss         | -2.69       |\n",
      "|    explained_variance   | 0.492       |\n",
      "|    learning_rate        | 0.0003      |\n",
      "|    loss                 | 0.76        |\n",
      "|    n_updates            | 110         |\n",
      "|    policy_gradient_loss | -0.0186     |\n",
      "|    value_loss           | 1.46        |\n",
      "-----------------------------------------\n",
      "-----------------------------------------\n",
      "| rollout/                |             |\n",
      "|    ep_len_mean          | 10          |\n",
      "|    ep_rew_mean          | -3.24       |\n",
      "| time/                   |             |\n",
      "|    fps                  | 168         |\n",
      "|    iterations           | 13          |\n",
      "|    time_elapsed         | 157         |\n",
      "|    total_timesteps      | 26624       |\n",
      "| train/                  |             |\n",
      "|    approx_kl            | 0.011980441 |\n",
      "|    clip_fraction        | 0.137       |\n",
      "|    clip_range           | 0.2         |\n",
      "|    entropy_loss         | -2.63       |\n",
      "|    explained_variance   | 0.507       |\n",
      "|    learning_rate        | 0.0003      |\n",
      "|    loss                 | 0.765       |\n",
      "|    n_updates            | 120         |\n",
      "|    policy_gradient_loss | -0.0173     |\n",
      "|    value_loss           | 1.49        |\n",
      "-----------------------------------------\n",
      "-----------------------------------------\n",
      "| rollout/                |             |\n",
      "|    ep_len_mean          | 10          |\n",
      "|    ep_rew_mean          | -3.71       |\n",
      "| time/                   |             |\n",
      "|    fps                  | 171         |\n",
      "|    iterations           | 14          |\n",
      "|    time_elapsed         | 167         |\n",
      "|    total_timesteps      | 28672       |\n",
      "| train/                  |             |\n",
      "|    approx_kl            | 0.012702217 |\n",
      "|    clip_fraction        | 0.129       |\n",
      "|    clip_range           | 0.2         |\n",
      "|    entropy_loss         | -2.53       |\n",
      "|    explained_variance   | 0.502       |\n",
      "|    learning_rate        | 0.0003      |\n",
      "|    loss                 | 0.628       |\n",
      "|    n_updates            | 130         |\n",
      "|    policy_gradient_loss | -0.0151     |\n",
      "|    value_loss           | 1.58        |\n",
      "-----------------------------------------\n",
      "-----------------------------------------\n",
      "| rollout/                |             |\n",
      "|    ep_len_mean          | 10          |\n",
      "|    ep_rew_mean          | -3.6        |\n",
      "| time/                   |             |\n",
      "|    fps                  | 172         |\n",
      "|    iterations           | 15          |\n",
      "|    time_elapsed         | 177         |\n",
      "|    total_timesteps      | 30720       |\n",
      "| train/                  |             |\n",
      "|    approx_kl            | 0.010899981 |\n",
      "|    clip_fraction        | 0.122       |\n",
      "|    clip_range           | 0.2         |\n",
      "|    entropy_loss         | -2.48       |\n",
      "|    explained_variance   | 0.549       |\n",
      "|    learning_rate        | 0.0003      |\n",
      "|    loss                 | 0.816       |\n",
      "|    n_updates            | 140         |\n",
      "|    policy_gradient_loss | -0.0165     |\n",
      "|    value_loss           | 1.47        |\n",
      "-----------------------------------------\n"
     ]
    },
    {
     "data": {
      "text/plain": [
       "<stable_baselines3.ppo.ppo.PPO at 0x2510e607400>"
      ]
     },
     "execution_count": 28,
     "metadata": {},
     "output_type": "execute_result"
    }
   ],
   "source": [
    "from stable_baselines3 import PPO\n",
    "from stable_baselines3.ppo import MlpPolicy\n",
    "\n",
    "# create the custom env with the custom handler (obs space) from step 2\n",
    "env = CustomEnv(config={\"handler\": CustomHandler})\n",
    "\n",
    "# train PPO agent on environment. this takes a while\n",
    "model = PPO(MlpPolicy, env, tensorboard_log='results_sb', verbose=1)\n",
    "model.learn(total_timesteps=30000)"
   ]
  },
  {
   "cell_type": "markdown",
   "metadata": {
    "pycharm": {
     "name": "#%% md\n"
    }
   },
   "source": [
    "To visualize training progress, we can use TensorBoard using `tensorboard --logdir results_sb`, i.e., pointing to the TensorBoard log directory that we defined above.\n",
    "\n",
    "If we run it in another terminal, we can monitor training progress live. After training finishes, we can also show TensorBoard inside the notebook (works on Google CoLab):"
   ]
  },
  {
   "cell_type": "code",
   "execution_count": 29,
   "metadata": {
    "collapsed": false,
    "jupyter": {
     "outputs_hidden": false
    },
    "pycharm": {
     "name": "#%%\n"
    }
   },
   "outputs": [
    {
     "name": "stdout",
     "output_type": "stream",
     "text": [
      "Requirement already satisfied: tensorboard in c:\\users\\stefan\\git-repos\\work\\mobile-env\\venv\\lib\\site-packages (2.7.0)\n",
      "Requirement already satisfied: absl-py>=0.4 in c:\\users\\stefan\\git-repos\\work\\mobile-env\\venv\\lib\\site-packages (from tensorboard) (1.0.0)\n",
      "Requirement already satisfied: google-auth<3,>=1.6.3 in c:\\users\\stefan\\git-repos\\work\\mobile-env\\venv\\lib\\site-packages (from tensorboard) (2.3.3)\n",
      "Requirement already satisfied: requests<3,>=2.21.0 in c:\\users\\stefan\\git-repos\\work\\mobile-env\\venv\\lib\\site-packages (from tensorboard) (2.26.0)\n",
      "Requirement already satisfied: numpy>=1.12.0 in c:\\users\\stefan\\git-repos\\work\\mobile-env\\venv\\lib\\site-packages (from tensorboard) (1.21.4)\n",
      "Requirement already satisfied: tensorboard-data-server<0.7.0,>=0.6.0 in c:\\users\\stefan\\git-repos\\work\\mobile-env\\venv\\lib\\site-packages (from tensorboard) (0.6.1)\n",
      "Requirement already satisfied: wheel>=0.26 in c:\\users\\stefan\\git-repos\\work\\mobile-env\\venv\\lib\\site-packages (from tensorboard) (0.34.2)\n",
      "Requirement already satisfied: google-auth-oauthlib<0.5,>=0.4.1 in c:\\users\\stefan\\git-repos\\work\\mobile-env\\venv\\lib\\site-packages (from tensorboard) (0.4.6)\n",
      "Requirement already satisfied: protobuf>=3.6.0 in c:\\users\\stefan\\git-repos\\work\\mobile-env\\venv\\lib\\site-packages (from tensorboard) (3.19.1)\n",
      "Requirement already satisfied: setuptools>=41.0.0 in c:\\users\\stefan\\git-repos\\work\\mobile-env\\venv\\lib\\site-packages (from tensorboard) (46.1.3)\n",
      "Requirement already satisfied: tensorboard-plugin-wit>=1.6.0 in c:\\users\\stefan\\git-repos\\work\\mobile-env\\venv\\lib\\site-packages (from tensorboard) (1.8.0)\n",
      "Requirement already satisfied: grpcio>=1.24.3 in c:\\users\\stefan\\git-repos\\work\\mobile-env\\venv\\lib\\site-packages (from tensorboard) (1.42.0)\n",
      "Requirement already satisfied: werkzeug>=0.11.15 in c:\\users\\stefan\\git-repos\\work\\mobile-env\\venv\\lib\\site-packages (from tensorboard) (2.0.2)\n",
      "Requirement already satisfied: markdown>=2.6.8 in c:\\users\\stefan\\git-repos\\work\\mobile-env\\venv\\lib\\site-packages (from tensorboard) (3.3.6)\n",
      "Requirement already satisfied: six in c:\\users\\stefan\\git-repos\\work\\mobile-env\\venv\\lib\\site-packages (from absl-py>=0.4->tensorboard) (1.15.0)\n",
      "Requirement already satisfied: cachetools<5.0,>=2.0.0 in c:\\users\\stefan\\git-repos\\work\\mobile-env\\venv\\lib\\site-packages (from google-auth<3,>=1.6.3->tensorboard) (4.2.4)\n",
      "Requirement already satisfied: pyasn1-modules>=0.2.1 in c:\\users\\stefan\\git-repos\\work\\mobile-env\\venv\\lib\\site-packages (from google-auth<3,>=1.6.3->tensorboard) (0.2.8)\n",
      "Requirement already satisfied: rsa<5,>=3.1.4 in c:\\users\\stefan\\git-repos\\work\\mobile-env\\venv\\lib\\site-packages (from google-auth<3,>=1.6.3->tensorboard) (4.8)\n",
      "Requirement already satisfied: requests-oauthlib>=0.7.0 in c:\\users\\stefan\\git-repos\\work\\mobile-env\\venv\\lib\\site-packages (from google-auth-oauthlib<0.5,>=0.4.1->tensorboard) (1.3.0)\n",
      "Requirement already satisfied: importlib-metadata>=4.4 in c:\\users\\stefan\\git-repos\\work\\mobile-env\\venv\\lib\\site-packages (from markdown>=2.6.8->tensorboard) (4.8.2)\n",
      "Requirement already satisfied: urllib3<1.27,>=1.21.1 in c:\\users\\stefan\\git-repos\\work\\mobile-env\\venv\\lib\\site-packages (from requests<3,>=2.21.0->tensorboard) (1.26.7)\n",
      "Requirement already satisfied: certifi>=2017.4.17 in c:\\users\\stefan\\git-repos\\work\\mobile-env\\venv\\lib\\site-packages (from requests<3,>=2.21.0->tensorboard) (2021.10.8)\n",
      "Requirement already satisfied: idna<4,>=2.5 in c:\\users\\stefan\\git-repos\\work\\mobile-env\\venv\\lib\\site-packages (from requests<3,>=2.21.0->tensorboard) (3.3)\n",
      "Requirement already satisfied: charset-normalizer~=2.0.0 in c:\\users\\stefan\\git-repos\\work\\mobile-env\\venv\\lib\\site-packages (from requests<3,>=2.21.0->tensorboard) (2.0.7)\n",
      "Requirement already satisfied: zipp>=0.5 in c:\\users\\stefan\\git-repos\\work\\mobile-env\\venv\\lib\\site-packages (from importlib-metadata>=4.4->markdown>=2.6.8->tensorboard) (3.6.0)\n",
      "Requirement already satisfied: pyasn1<0.5.0,>=0.4.6 in c:\\users\\stefan\\git-repos\\work\\mobile-env\\venv\\lib\\site-packages (from pyasn1-modules>=0.2.1->google-auth<3,>=1.6.3->tensorboard) (0.4.8)\n",
      "Requirement already satisfied: oauthlib>=3.0.0 in c:\\users\\stefan\\git-repos\\work\\mobile-env\\venv\\lib\\site-packages (from requests-oauthlib>=0.7.0->google-auth-oauthlib<0.5,>=0.4.1->tensorboard) (3.1.1)\n"
     ]
    }
   ],
   "source": [
    "# install and load tensorboard\n",
    "!pip install tensorboard\n",
    "%load_ext tensorboard"
   ]
  },
  {
   "cell_type": "code",
   "execution_count": 39,
   "metadata": {
    "collapsed": false,
    "jupyter": {
     "outputs_hidden": false
    },
    "pycharm": {
     "name": "#%%\n"
    }
   },
   "outputs": [
    {
     "data": {
      "text/plain": [
       "Reusing TensorBoard on port 6006 (pid 6156), started 0:20:37 ago. (Use '!kill 6156' to kill it.)"
      ]
     },
     "metadata": {},
     "output_type": "display_data"
    },
    {
     "data": {
      "text/html": [
       "\n",
       "      <iframe id=\"tensorboard-frame-88b9e566a094a68a\" width=\"100%\" height=\"800\" frameborder=\"0\">\n",
       "      </iframe>\n",
       "      <script>\n",
       "        (function() {\n",
       "          const frame = document.getElementById(\"tensorboard-frame-88b9e566a094a68a\");\n",
       "          const url = new URL(\"/\", window.location);\n",
       "          const port = 6006;\n",
       "          if (port) {\n",
       "            url.port = port;\n",
       "          }\n",
       "          frame.src = url;\n",
       "        })();\n",
       "      </script>\n",
       "    "
      ],
      "text/plain": [
       "<IPython.core.display.HTML object>"
      ]
     },
     "metadata": {},
     "output_type": "display_data"
    }
   ],
   "source": [
    "# show training progress\n",
    "%tensorboard --logdir results_sb"
   ]
  },
  {
   "cell_type": "markdown",
   "metadata": {
    "pycharm": {
     "name": "#%% md\n"
    }
   },
   "source": [
    "TensorBoard should show that the agent's reward (\"ep_rew_mean\") increases with increasing training, indicating that the agent is learning. After 30k training steps, the agent is still learning (reward is still going up; not converged), but the agent already learned a useful policy.\n",
    "\n",
    "### Test and Visualize the Trained Policy\n",
    "\n",
    "To get a sense of what the agent learned, we can easily visualize the learned policy with `mobile-env`."
   ]
  },
  {
   "cell_type": "code",
   "execution_count": 31,
   "metadata": {
    "collapsed": false,
    "jupyter": {
     "outputs_hidden": false
    },
    "pycharm": {
     "name": "#%%\n"
    }
   },
   "outputs": [
    {
     "data": {
      "image/png": "[encoded data removed]",
      "text/plain": [
       "<Figure size 432x288 with 1 Axes>"
      ]
     },
     "metadata": {
      "needs_background": "light"
     },
     "output_type": "display_data"
    }
   ],
   "source": [
    "env = CustomEnv(config={\"handler\": CustomHandler})\n",
    "obs = env.reset()\n",
    "done = False\n",
    "\n",
    "# run one episode with the trained model\n",
    "while not done:\n",
    "    action, _ = model.predict(obs)\n",
    "\n",
    "    # perform step on simulation environment\n",
    "    obs, reward, done, info = env.step(action)\n",
    "\n",
    "    # render environment as RGB\n",
    "    plt.imshow(env.render(mode='rgb_array'))\n",
    "    display.display(plt.gcf())\n",
    "    display.clear_output(wait=True)"
   ]
  },
  {
   "cell_type": "markdown",
   "metadata": {},
   "source": [
    "Indeed, the visualization shows that the trained agent successfully connects all users to the available cells (indicated by the line connections), leading to rather good QoE (yellow to green color).\n",
    "\n",
    "\n",
    "## Step 4: Multi-Agent RL with Ray RLlib\n",
    "\n",
    "As alternative to controlling cell selection centrally for all users from a single RL agent, we can also use multi-agent RL, i.e., delegating control to multiple agents that act in parallel.\n",
    "As an example, we could have each RL agent responsible for the cell selection of a single user. Then we would need as many agents as we have users.\n",
    "That's what happens in the predefined multi-agent scenarios, e.g., `mobile-small-ma-v0`.\n",
    "\n",
    "Let's use RLlib to train a multi-agent policy on the `mobile-small-ma-v0` scenario, which has three base stations and five users.\n",
    "\n",
    "### Set up Ray RLlib\n",
    "\n",
    "To train a multi-agent approach, we can use Ray RLlib, which supports multi-agent RL out of the box. To register the predefined multi-agent scenario with RLlib, `mobile-env` provides a wrapper `RLlibMAWrapper`."
   ]
  },
  {
   "cell_type": "code",
   "execution_count": 32,
   "metadata": {
    "collapsed": false,
    "jupyter": {
     "outputs_hidden": false
    },
    "pycharm": {
     "name": "#%%\n"
    }
   },
   "outputs": [
    {
     "name": "stdout",
     "output_type": "stream",
     "text": [
      "Requirement already satisfied: ray[rllib] in c:\\users\\stefan\\git-repos\\work\\mobile-env\\venv\\lib\\site-packages (1.9.0)\n",
      "Requirement already satisfied: grpcio>=1.28.1 in c:\\users\\stefan\\git-repos\\work\\mobile-env\\venv\\lib\\site-packages (from ray[rllib]) (1.42.0)\n",
      "Requirement already satisfied: msgpack<2.0.0,>=1.0.0 in c:\\users\\stefan\\git-repos\\work\\mobile-env\\venv\\lib\\site-packages (from ray[rllib]) (1.0.2)\n",
      "Requirement already satisfied: filelock in c:\\users\\stefan\\git-repos\\work\\mobile-env\\venv\\lib\\site-packages (from ray[rllib]) (3.4.0)\n",
      "Requirement already satisfied: numpy>=1.16 in c:\\users\\stefan\\git-repos\\work\\mobile-env\\venv\\lib\\site-packages (from ray[rllib]) (1.21.4)\n",
      "Requirement already satisfied: click>=7.0 in c:\\users\\stefan\\git-repos\\work\\mobile-env\\venv\\lib\\site-packages (from ray[rllib]) (8.0.3)\n",
      "Requirement already satisfied: pyyaml in c:\\users\\stefan\\git-repos\\work\\mobile-env\\venv\\lib\\site-packages (from ray[rllib]) (6.0)\n",
      "Requirement already satisfied: protobuf>=3.15.3 in c:\\users\\stefan\\git-repos\\work\\mobile-env\\venv\\lib\\site-packages (from ray[rllib]) (3.19.1)\n",
      "Requirement already satisfied: attrs in c:\\users\\stefan\\git-repos\\work\\mobile-env\\venv\\lib\\site-packages (from ray[rllib]) (21.2.0)\n",
      "Requirement already satisfied: redis>=3.5.0 in c:\\users\\stefan\\git-repos\\work\\mobile-env\\venv\\lib\\site-packages (from ray[rllib]) (4.0.1)\n",
      "Requirement already satisfied: jsonschema in c:\\users\\stefan\\git-repos\\work\\mobile-env\\venv\\lib\\site-packages (from ray[rllib]) (4.2.1)\n",
      "Requirement already satisfied: scikit-image in c:\\users\\stefan\\git-repos\\work\\mobile-env\\venv\\lib\\site-packages (from ray[rllib]) (0.18.3)\n",
      "Requirement already satisfied: scipy in c:\\users\\stefan\\git-repos\\work\\mobile-env\\venv\\lib\\site-packages (from ray[rllib]) (1.6.2)\n",
      "Requirement already satisfied: dm-tree in c:\\users\\stefan\\git-repos\\work\\mobile-env\\venv\\lib\\site-packages (from ray[rllib]) (0.1.6)\n",
      "Requirement already satisfied: tensorboardX>=1.9 in c:\\users\\stefan\\git-repos\\work\\mobile-env\\venv\\lib\\site-packages (from ray[rllib]) (2.4)\n",
      "Requirement already satisfied: pandas in c:\\users\\stefan\\git-repos\\work\\mobile-env\\venv\\lib\\site-packages (from ray[rllib]) (1.2.3)\n",
      "Requirement already satisfied: gym in c:\\users\\stefan\\git-repos\\work\\mobile-env\\venv\\lib\\site-packages (from ray[rllib]) (0.19.0)\n",
      "Requirement already satisfied: matplotlib!=3.4.3 in c:\\users\\stefan\\git-repos\\work\\mobile-env\\venv\\lib\\site-packages (from ray[rllib]) (3.5.0)\n",
      "Requirement already satisfied: tabulate in c:\\users\\stefan\\git-repos\\work\\mobile-env\\venv\\lib\\site-packages (from ray[rllib]) (0.8.9)\n",
      "Requirement already satisfied: requests in c:\\users\\stefan\\git-repos\\work\\mobile-env\\venv\\lib\\site-packages (from ray[rllib]) (2.26.0)\n",
      "Requirement already satisfied: lz4 in c:\\users\\stefan\\git-repos\\work\\mobile-env\\venv\\lib\\site-packages (from ray[rllib]) (3.1.3)\n",
      "Requirement already satisfied: colorama in c:\\users\\stefan\\git-repos\\work\\mobile-env\\venv\\lib\\site-packages (from click>=7.0->ray[rllib]) (0.4.4)\n",
      "Requirement already satisfied: six>=1.5.2 in c:\\users\\stefan\\git-repos\\work\\mobile-env\\venv\\lib\\site-packages (from grpcio>=1.28.1->ray[rllib]) (1.15.0)\n",
      "Requirement already satisfied: cycler>=0.10 in c:\\users\\stefan\\git-repos\\work\\mobile-env\\venv\\lib\\site-packages (from matplotlib!=3.4.3->ray[rllib]) (0.10.0)\n",
      "Requirement already satisfied: kiwisolver>=1.0.1 in c:\\users\\stefan\\git-repos\\work\\mobile-env\\venv\\lib\\site-packages (from matplotlib!=3.4.3->ray[rllib]) (1.3.1)\n",
      "Requirement already satisfied: fonttools>=4.22.0 in c:\\users\\stefan\\git-repos\\work\\mobile-env\\venv\\lib\\site-packages (from matplotlib!=3.4.3->ray[rllib]) (4.28.1)\n",
      "Requirement already satisfied: python-dateutil>=2.7 in c:\\users\\stefan\\git-repos\\work\\mobile-env\\venv\\lib\\site-packages (from matplotlib!=3.4.3->ray[rllib]) (2.8.1)\n",
      "Requirement already satisfied: pyparsing>=2.2.1 in c:\\users\\stefan\\git-repos\\work\\mobile-env\\venv\\lib\\site-packages (from matplotlib!=3.4.3->ray[rllib]) (2.4.7)\n",
      "Requirement already satisfied: setuptools-scm>=4 in c:\\users\\stefan\\git-repos\\work\\mobile-env\\venv\\lib\\site-packages (from matplotlib!=3.4.3->ray[rllib]) (6.3.2)\n",
      "Requirement already satisfied: pillow>=6.2.0 in c:\\users\\stefan\\git-repos\\work\\mobile-env\\venv\\lib\\site-packages (from matplotlib!=3.4.3->ray[rllib]) (8.4.0)\n",
      "Requirement already satisfied: packaging>=20.0 in c:\\users\\stefan\\git-repos\\work\\mobile-env\\venv\\lib\\site-packages (from matplotlib!=3.4.3->ray[rllib]) (21.3)\n",
      "Requirement already satisfied: deprecated in c:\\users\\stefan\\git-repos\\work\\mobile-env\\venv\\lib\\site-packages (from redis>=3.5.0->ray[rllib]) (1.2.13)\n",
      "Requirement already satisfied: cloudpickle<1.7.0,>=1.2.0 in c:\\users\\stefan\\git-repos\\work\\mobile-env\\venv\\lib\\site-packages (from gym->ray[rllib]) (1.6.0)\n",
      "Requirement already satisfied: importlib-resources>=1.4.0 in c:\\users\\stefan\\git-repos\\work\\mobile-env\\venv\\lib\\site-packages (from jsonschema->ray[rllib]) (5.4.0)\n",
      "Requirement already satisfied: pyrsistent!=0.17.0,!=0.17.1,!=0.17.2,>=0.14.0 in c:\\users\\stefan\\git-repos\\work\\mobile-env\\venv\\lib\\site-packages (from jsonschema->ray[rllib]) (0.18.0)\n",
      "Requirement already satisfied: pytz>=2017.3 in c:\\users\\stefan\\git-repos\\work\\mobile-env\\venv\\lib\\site-packages (from pandas->ray[rllib]) (2021.1)\n",
      "Requirement already satisfied: urllib3<1.27,>=1.21.1 in c:\\users\\stefan\\git-repos\\work\\mobile-env\\venv\\lib\\site-packages (from requests->ray[rllib]) (1.26.7)\n",
      "Requirement already satisfied: certifi>=2017.4.17 in c:\\users\\stefan\\git-repos\\work\\mobile-env\\venv\\lib\\site-packages (from requests->ray[rllib]) (2021.10.8)\n",
      "Requirement already satisfied: idna<4,>=2.5 in c:\\users\\stefan\\git-repos\\work\\mobile-env\\venv\\lib\\site-packages (from requests->ray[rllib]) (3.3)\n",
      "Requirement already satisfied: charset-normalizer~=2.0.0 in c:\\users\\stefan\\git-repos\\work\\mobile-env\\venv\\lib\\site-packages (from requests->ray[rllib]) (2.0.7)\n",
      "Requirement already satisfied: networkx>=2.0 in c:\\users\\stefan\\git-repos\\work\\mobile-env\\venv\\lib\\site-packages (from scikit-image->ray[rllib]) (2.6.3)\n",
      "Requirement already satisfied: tifffile>=2019.7.26 in c:\\users\\stefan\\git-repos\\work\\mobile-env\\venv\\lib\\site-packages (from scikit-image->ray[rllib]) (2021.11.2)\n",
      "Requirement already satisfied: PyWavelets>=1.1.1 in c:\\users\\stefan\\git-repos\\work\\mobile-env\\venv\\lib\\site-packages (from scikit-image->ray[rllib]) (1.2.0)\n",
      "Requirement already satisfied: imageio>=2.3.0 in c:\\users\\stefan\\git-repos\\work\\mobile-env\\venv\\lib\\site-packages (from scikit-image->ray[rllib]) (2.11.0)\n",
      "Requirement already satisfied: zipp>=3.1.0 in c:\\users\\stefan\\git-repos\\work\\mobile-env\\venv\\lib\\site-packages (from importlib-resources>=1.4.0->jsonschema->ray[rllib]) (3.6.0)\n",
      "Requirement already satisfied: setuptools in c:\\users\\stefan\\git-repos\\work\\mobile-env\\venv\\lib\\site-packages (from setuptools-scm>=4->matplotlib!=3.4.3->ray[rllib]) (46.1.3)\n",
      "Requirement already satisfied: tomli>=1.0.0 in c:\\users\\stefan\\git-repos\\work\\mobile-env\\venv\\lib\\site-packages (from setuptools-scm>=4->matplotlib!=3.4.3->ray[rllib]) (1.2.2)\n",
      "Requirement already satisfied: wrapt<2,>=1.10 in c:\\users\\stefan\\git-repos\\work\\mobile-env\\venv\\lib\\site-packages (from deprecated->redis>=3.5.0->ray[rllib]) (1.13.3)\n"
     ]
    }
   ],
   "source": [
    "# install ray RLlib\n",
    "!pip install ray[rllib]"
   ]
  },
  {
   "cell_type": "code",
   "execution_count": 33,
   "metadata": {
    "collapsed": false,
    "jupyter": {
     "outputs_hidden": false
    },
    "pycharm": {
     "name": "#%%\n"
    }
   },
   "outputs": [],
   "source": [
    "from ray.tune.registry import register_env\n",
    "\n",
    "# use the mobile-env RLlib wrapper for RLlib\n",
    "def register(config):\n",
    "    import mobile_env\n",
    "    from mobile_env.wrappers.multi_agent import RLlibMAWrapper\n",
    "\n",
    "    env = gym.make(\"mobile-small-ma-v0\")\n",
    "    return RLlibMAWrapper(env)\n",
    "\n",
    "# register the predefined scenario with RLlib\n",
    "register_env(\"mobile-small-ma-v0\", register)"
   ]
  },
  {
   "cell_type": "markdown",
   "metadata": {},
   "source": [
    "### Train a PPO Multi-Agent Policy\n",
    "\n",
    "Now, that the predefined scenario is registered with RLlib, we can configure and train a multi-agent PPO approach on the scenario with RLlib."
   ]
  },
  {
   "cell_type": "code",
   "execution_count": 34,
   "metadata": {},
   "outputs": [
    {
     "data": {
      "text/plain": [
       "{'node_ip_address': '127.0.0.1',\n",
       " 'raylet_ip_address': '127.0.0.1',\n",
       " 'redis_address': '127.0.0.1:6379',\n",
       " 'object_store_address': 'tcp://127.0.0.1:54915',\n",
       " 'raylet_socket_name': 'tcp://127.0.0.1:57173',\n",
       " 'webui_url': None,\n",
       " 'session_dir': 'C:\\\\Users\\\\Stefan\\\\AppData\\\\Local\\\\Temp\\\\ray\\\\session_2022-01-12_15-40-53_565544_5008',\n",
       " 'metrics_export_port': 57682,\n",
       " 'node_id': 'c3da214d77e5f1bb60eee947e59a54c0d66dcd0fcf87f8ed860cad66'}"
      ]
     },
     "execution_count": 34,
     "metadata": {},
     "output_type": "execute_result"
    }
   ],
   "source": [
    "import ray\n",
    "\n",
    "\n",
    "# init ray with available CPUs (and GPUs) and init ray\n",
    "ray.init(\n",
    "  num_cpus=3,\n",
    "  include_dashboard=False,\n",
    "  ignore_reinit_error=True,\n",
    "  log_to_driver=False,\n",
    ")"
   ]
  },
  {
   "cell_type": "code",
   "execution_count": 35,
   "metadata": {},
   "outputs": [
    {
     "data": {
      "text/html": [
       "== Status ==<br>Current time: 2022-01-12 15:41:10 (running for 00:00:02.07)<br>Memory usage on this node: 7.6/11.9 GiB<br>Using FIFO scheduling algorithm.<br>Resources requested: 0/3 CPUs, 0/0 GPUs, 0.0/2.79 GiB heap, 0.0/1.4 GiB objects<br>Result logdir: C:\\Users\\Stefan\\git-repos\\work\\mobile-env\\examples\\results_rllib\\PPO<br>Number of trials: 1/1 (1 PENDING)<br><table>\n",
       "<thead>\n",
       "<tr><th>Trial name                        </th><th>status  </th><th>loc  </th></tr>\n",
       "</thead>\n",
       "<tbody>\n",
       "<tr><td>PPO_mobile-small-ma-v0_ada63_00000</td><td>PENDING </td><td>     </td></tr>\n",
       "</tbody>\n",
       "</table><br><br>"
      ],
      "text/plain": [
       "<IPython.core.display.HTML object>"
      ]
     },
     "metadata": {},
     "output_type": "display_data"
    },
    {
     "data": {
      "text/html": [
       "== Status ==<br>Current time: 2022-01-12 15:41:28 (running for 00:00:20.77)<br>Memory usage on this node: 8.3/11.9 GiB<br>Using FIFO scheduling algorithm.<br>Resources requested: 3.0/3 CPUs, 0/0 GPUs, 0.0/2.79 GiB heap, 0.0/1.4 GiB objects<br>Result logdir: C:\\Users\\Stefan\\git-repos\\work\\mobile-env\\examples\\results_rllib\\PPO<br>Number of trials: 1/1 (1 RUNNING)<br><table>\n",
       "<thead>\n",
       "<tr><th>Trial name                        </th><th>status  </th><th>loc            </th></tr>\n",
       "</thead>\n",
       "<tbody>\n",
       "<tr><td>PPO_mobile-small-ma-v0_ada63_00000</td><td>RUNNING </td><td>127.0.0.1:11532</td></tr>\n",
       "</tbody>\n",
       "</table><br><br>"
      ],
      "text/plain": [
       "<IPython.core.display.HTML object>"
      ]
     },
     "metadata": {},
     "output_type": "display_data"
    },
    {
     "data": {
      "text/html": [
       "== Status ==<br>Current time: 2022-01-12 15:41:29 (running for 00:00:21.79)<br>Memory usage on this node: 8.3/11.9 GiB<br>Using FIFO scheduling algorithm.<br>Resources requested: 3.0/3 CPUs, 0/0 GPUs, 0.0/2.79 GiB heap, 0.0/1.4 GiB objects<br>Result logdir: C:\\Users\\Stefan\\git-repos\\work\\mobile-env\\examples\\results_rllib\\PPO<br>Number of trials: 1/1 (1 RUNNING)<br><table>\n",
       "<thead>\n",
       "<tr><th>Trial name                        </th><th>status  </th><th>loc            </th></tr>\n",
       "</thead>\n",
       "<tbody>\n",
       "<tr><td>PPO_mobile-small-ma-v0_ada63_00000</td><td>RUNNING </td><td>127.0.0.1:11532</td></tr>\n",
       "</tbody>\n",
       "</table><br><br>"
      ],
      "text/plain": [
       "<IPython.core.display.HTML object>"
      ]
     },
     "metadata": {},
     "output_type": "display_data"
    },
    {
     "data": {
      "text/html": [
       "== Status ==<br>Current time: 2022-01-12 15:41:35 (running for 00:00:26.81)<br>Memory usage on this node: 8.4/11.9 GiB<br>Using FIFO scheduling algorithm.<br>Resources requested: 3.0/3 CPUs, 0/0 GPUs, 0.0/2.79 GiB heap, 0.0/1.4 GiB objects<br>Result logdir: C:\\Users\\Stefan\\git-repos\\work\\mobile-env\\examples\\results_rllib\\PPO<br>Number of trials: 1/1 (1 RUNNING)<br><table>\n",
       "<thead>\n",
       "<tr><th>Trial name                        </th><th>status  </th><th>loc            </th></tr>\n",
       "</thead>\n",
       "<tbody>\n",
       "<tr><td>PPO_mobile-small-ma-v0_ada63_00000</td><td>RUNNING </td><td>127.0.0.1:11532</td></tr>\n",
       "</tbody>\n",
       "</table><br><br>"
      ],
      "text/plain": [
       "<IPython.core.display.HTML object>"
      ]
     },
     "metadata": {},
     "output_type": "display_data"
    },
    {
     "data": {
      "text/html": [
       "== Status ==<br>Current time: 2022-01-12 15:41:40 (running for 00:00:31.88)<br>Memory usage on this node: 8.5/11.9 GiB<br>Using FIFO scheduling algorithm.<br>Resources requested: 3.0/3 CPUs, 0/0 GPUs, 0.0/2.79 GiB heap, 0.0/1.4 GiB objects<br>Result logdir: C:\\Users\\Stefan\\git-repos\\work\\mobile-env\\examples\\results_rllib\\PPO<br>Number of trials: 1/1 (1 RUNNING)<br><table>\n",
       "<thead>\n",
       "<tr><th>Trial name                        </th><th>status  </th><th>loc            </th></tr>\n",
       "</thead>\n",
       "<tbody>\n",
       "<tr><td>PPO_mobile-small-ma-v0_ada63_00000</td><td>RUNNING </td><td>127.0.0.1:11532</td></tr>\n",
       "</tbody>\n",
       "</table><br><br>"
      ],
      "text/plain": [
       "<IPython.core.display.HTML object>"
      ]
     },
     "metadata": {},
     "output_type": "display_data"
    },
    {
     "data": {
      "text/html": [
       "== Status ==<br>Current time: 2022-01-12 15:41:45 (running for 00:00:36.95)<br>Memory usage on this node: 8.4/11.9 GiB<br>Using FIFO scheduling algorithm.<br>Resources requested: 3.0/3 CPUs, 0/0 GPUs, 0.0/2.79 GiB heap, 0.0/1.4 GiB objects<br>Result logdir: C:\\Users\\Stefan\\git-repos\\work\\mobile-env\\examples\\results_rllib\\PPO<br>Number of trials: 1/1 (1 RUNNING)<br><table>\n",
       "<thead>\n",
       "<tr><th>Trial name                        </th><th>status  </th><th>loc            </th></tr>\n",
       "</thead>\n",
       "<tbody>\n",
       "<tr><td>PPO_mobile-small-ma-v0_ada63_00000</td><td>RUNNING </td><td>127.0.0.1:11532</td></tr>\n",
       "</tbody>\n",
       "</table><br><br>"
      ],
      "text/plain": [
       "<IPython.core.display.HTML object>"
      ]
     },
     "metadata": {},
     "output_type": "display_data"
    },
    {
     "data": {
      "text/html": [
       "== Status ==<br>Current time: 2022-01-12 15:41:50 (running for 00:00:42.00)<br>Memory usage on this node: 8.0/11.9 GiB<br>Using FIFO scheduling algorithm.<br>Resources requested: 3.0/3 CPUs, 0/0 GPUs, 0.0/2.79 GiB heap, 0.0/1.4 GiB objects<br>Result logdir: C:\\Users\\Stefan\\git-repos\\work\\mobile-env\\examples\\results_rllib\\PPO<br>Number of trials: 1/1 (1 RUNNING)<br><table>\n",
       "<thead>\n",
       "<tr><th>Trial name                        </th><th>status  </th><th>loc            </th></tr>\n",
       "</thead>\n",
       "<tbody>\n",
       "<tr><td>PPO_mobile-small-ma-v0_ada63_00000</td><td>RUNNING </td><td>127.0.0.1:11532</td></tr>\n",
       "</tbody>\n",
       "</table><br><br>"
      ],
      "text/plain": [
       "<IPython.core.display.HTML object>"
      ]
     },
     "metadata": {},
     "output_type": "display_data"
    },
    {
     "data": {
      "text/html": [
       "== Status ==<br>Current time: 2022-01-12 15:41:55 (running for 00:00:47.04)<br>Memory usage on this node: 8.0/11.9 GiB<br>Using FIFO scheduling algorithm.<br>Resources requested: 3.0/3 CPUs, 0/0 GPUs, 0.0/2.79 GiB heap, 0.0/1.4 GiB objects<br>Result logdir: C:\\Users\\Stefan\\git-repos\\work\\mobile-env\\examples\\results_rllib\\PPO<br>Number of trials: 1/1 (1 RUNNING)<br><table>\n",
       "<thead>\n",
       "<tr><th>Trial name                        </th><th>status  </th><th>loc            </th></tr>\n",
       "</thead>\n",
       "<tbody>\n",
       "<tr><td>PPO_mobile-small-ma-v0_ada63_00000</td><td>RUNNING </td><td>127.0.0.1:11532</td></tr>\n",
       "</tbody>\n",
       "</table><br><br>"
      ],
      "text/plain": [
       "<IPython.core.display.HTML object>"
      ]
     },
     "metadata": {},
     "output_type": "display_data"
    },
    {
     "data": {
      "text/html": [
       "== Status ==<br>Current time: 2022-01-12 15:42:00 (running for 00:00:52.14)<br>Memory usage on this node: 8.0/11.9 GiB<br>Using FIFO scheduling algorithm.<br>Resources requested: 3.0/3 CPUs, 0/0 GPUs, 0.0/2.79 GiB heap, 0.0/1.4 GiB objects<br>Result logdir: C:\\Users\\Stefan\\git-repos\\work\\mobile-env\\examples\\results_rllib\\PPO<br>Number of trials: 1/1 (1 RUNNING)<br><table>\n",
       "<thead>\n",
       "<tr><th>Trial name                        </th><th>status  </th><th>loc            </th></tr>\n",
       "</thead>\n",
       "<tbody>\n",
       "<tr><td>PPO_mobile-small-ma-v0_ada63_00000</td><td>RUNNING </td><td>127.0.0.1:11532</td></tr>\n",
       "</tbody>\n",
       "</table><br><br>"
      ],
      "text/plain": [
       "<IPython.core.display.HTML object>"
      ]
     },
     "metadata": {},
     "output_type": "display_data"
    },
    {
     "data": {
      "text/html": [
       "== Status ==<br>Current time: 2022-01-12 15:42:05 (running for 00:00:57.19)<br>Memory usage on this node: 8.0/11.9 GiB<br>Using FIFO scheduling algorithm.<br>Resources requested: 3.0/3 CPUs, 0/0 GPUs, 0.0/2.79 GiB heap, 0.0/1.4 GiB objects<br>Result logdir: C:\\Users\\Stefan\\git-repos\\work\\mobile-env\\examples\\results_rllib\\PPO<br>Number of trials: 1/1 (1 RUNNING)<br><table>\n",
       "<thead>\n",
       "<tr><th>Trial name                        </th><th>status  </th><th>loc            </th></tr>\n",
       "</thead>\n",
       "<tbody>\n",
       "<tr><td>PPO_mobile-small-ma-v0_ada63_00000</td><td>RUNNING </td><td>127.0.0.1:11532</td></tr>\n",
       "</tbody>\n",
       "</table><br><br>"
      ],
      "text/plain": [
       "<IPython.core.display.HTML object>"
      ]
     },
     "metadata": {},
     "output_type": "display_data"
    },
    {
     "data": {
      "text/html": [
       "== Status ==<br>Current time: 2022-01-12 15:42:10 (running for 00:01:02.25)<br>Memory usage on this node: 8.0/11.9 GiB<br>Using FIFO scheduling algorithm.<br>Resources requested: 3.0/3 CPUs, 0/0 GPUs, 0.0/2.79 GiB heap, 0.0/1.4 GiB objects<br>Result logdir: C:\\Users\\Stefan\\git-repos\\work\\mobile-env\\examples\\results_rllib\\PPO<br>Number of trials: 1/1 (1 RUNNING)<br><table>\n",
       "<thead>\n",
       "<tr><th>Trial name                        </th><th>status  </th><th>loc            </th></tr>\n",
       "</thead>\n",
       "<tbody>\n",
       "<tr><td>PPO_mobile-small-ma-v0_ada63_00000</td><td>RUNNING </td><td>127.0.0.1:11532</td></tr>\n",
       "</tbody>\n",
       "</table><br><br>"
      ],
      "text/plain": [
       "<IPython.core.display.HTML object>"
      ]
     },
     "metadata": {},
     "output_type": "display_data"
    },
    {
     "name": "stdout",
     "output_type": "stream",
     "text": [
      "Result for PPO_mobile-small-ma-v0_ada63_00000:\n",
      "  agent_timesteps_total: 20000\n",
      "  custom_metrics: {}\n",
      "  date: 2022-01-12_15-42-12\n",
      "  done: false\n",
      "  episode_len_mean: 100.0\n",
      "  episode_media: {}\n",
      "  episode_reward_max: -104.505083315312\n",
      "  episode_reward_mean: -197.36083092496628\n",
      "  episode_reward_min: -356.5391533132598\n",
      "  episodes_this_iter: 40\n",
      "  episodes_total: 40\n",
      "  experiment_id: 72e8a6f4607d4d5abbf07de3bfebe6cd\n",
      "  hostname: nb-stschn\n",
      "  info:\n",
      "    learner:\n",
      "      shared_policy:\n",
      "        custom_metrics: {}\n",
      "        learner_stats:\n",
      "          cur_kl_coeff: 0.20000000298023224\n",
      "          cur_lr: 4.999999873689376e-05\n",
      "          entropy: 1.3773549795150757\n",
      "          entropy_coeff: 0.0\n",
      "          kl: 0.009218202903866768\n",
      "          model: {}\n",
      "          policy_loss: -0.005394719075411558\n",
      "          total_loss: 161.3732452392578\n",
      "          vf_explained_var: 0.007443899754434824\n",
      "          vf_loss: 161.37680053710938\n",
      "    num_agent_steps_sampled: 20000\n",
      "    num_agent_steps_trained: 20000\n",
      "    num_steps_sampled: 4000\n",
      "    num_steps_trained: 4000\n",
      "  iterations_since_restore: 1\n",
      "  node_ip: 127.0.0.1\n",
      "  num_healthy_workers: 2\n",
      "  off_policy_estimator: {}\n",
      "  perf:\n",
      "    cpu_util_percent: 81.92459016393444\n",
      "    ram_util_percent: 68.79180327868852\n",
      "  pid: 11532\n",
      "  policy_reward_max:\n",
      "    shared_policy: -2.667546922863843\n",
      "  policy_reward_mean:\n",
      "    shared_policy: -39.472166184993256\n",
      "  policy_reward_min:\n",
      "    shared_policy: -86.76046312930109\n",
      "  sampler_perf:\n",
      "    mean_action_processing_ms: 0.23401641416764152\n",
      "    mean_env_render_ms: 0.0\n",
      "    mean_env_wait_ms: 8.66076345743983\n",
      "    mean_inference_ms: 2.1117648025085662\n",
      "    mean_raw_obs_processing_ms: 0.65014256291959\n",
      "  time_since_restore: 43.167922019958496\n",
      "  time_this_iter_s: 43.167922019958496\n",
      "  time_total_s: 43.167922019958496\n",
      "  timers:\n",
      "    learn_throughput: 204.135\n",
      "    learn_time_ms: 19594.835\n",
      "    load_throughput: 0.0\n",
      "    load_time_ms: 0.0\n",
      "    sample_throughput: 169.69\n",
      "    sample_time_ms: 23572.345\n",
      "    update_time_ms: 2.999\n",
      "  timestamp: 1641998532\n",
      "  timesteps_since_restore: 0\n",
      "  timesteps_this_iter: 0\n",
      "  timesteps_total: 4000\n",
      "  training_iteration: 1\n",
      "  trial_id: ada63_00000\n",
      "  \n"
     ]
    },
    {
     "data": {
      "text/html": [
       "== Status ==<br>Current time: 2022-01-12 15:42:16 (running for 00:01:08.02)<br>Memory usage on this node: 8.0/11.9 GiB<br>Using FIFO scheduling algorithm.<br>Resources requested: 3.0/3 CPUs, 0/0 GPUs, 0.0/2.79 GiB heap, 0.0/1.4 GiB objects<br>Result logdir: C:\\Users\\Stefan\\git-repos\\work\\mobile-env\\examples\\results_rllib\\PPO<br>Number of trials: 1/1 (1 RUNNING)<br><table>\n",
       "<thead>\n",
       "<tr><th>Trial name                        </th><th>status  </th><th>loc            </th><th style=\"text-align: right;\">  iter</th><th style=\"text-align: right;\">  total time (s)</th><th style=\"text-align: right;\">  ts</th><th style=\"text-align: right;\">  reward</th><th style=\"text-align: right;\">  episode_reward_max</th><th style=\"text-align: right;\">  episode_reward_min</th><th style=\"text-align: right;\">  episode_len_mean</th></tr>\n",
       "</thead>\n",
       "<tbody>\n",
       "<tr><td>PPO_mobile-small-ma-v0_ada63_00000</td><td>RUNNING </td><td>127.0.0.1:11532</td><td style=\"text-align: right;\">     1</td><td style=\"text-align: right;\">         43.1679</td><td style=\"text-align: right;\">4000</td><td style=\"text-align: right;\">-197.361</td><td style=\"text-align: right;\">            -104.505</td><td style=\"text-align: right;\">            -356.539</td><td style=\"text-align: right;\">               100</td></tr>\n",
       "</tbody>\n",
       "</table><br><br>"
      ],
      "text/plain": [
       "<IPython.core.display.HTML object>"
      ]
     },
     "metadata": {},
     "output_type": "display_data"
    },
    {
     "data": {
      "text/html": [
       "== Status ==<br>Current time: 2022-01-12 15:42:21 (running for 00:01:13.09)<br>Memory usage on this node: 8.0/11.9 GiB<br>Using FIFO scheduling algorithm.<br>Resources requested: 3.0/3 CPUs, 0/0 GPUs, 0.0/2.79 GiB heap, 0.0/1.4 GiB objects<br>Result logdir: C:\\Users\\Stefan\\git-repos\\work\\mobile-env\\examples\\results_rllib\\PPO<br>Number of trials: 1/1 (1 RUNNING)<br><table>\n",
       "<thead>\n",
       "<tr><th>Trial name                        </th><th>status  </th><th>loc            </th><th style=\"text-align: right;\">  iter</th><th style=\"text-align: right;\">  total time (s)</th><th style=\"text-align: right;\">  ts</th><th style=\"text-align: right;\">  reward</th><th style=\"text-align: right;\">  episode_reward_max</th><th style=\"text-align: right;\">  episode_reward_min</th><th style=\"text-align: right;\">  episode_len_mean</th></tr>\n",
       "</thead>\n",
       "<tbody>\n",
       "<tr><td>PPO_mobile-small-ma-v0_ada63_00000</td><td>RUNNING </td><td>127.0.0.1:11532</td><td style=\"text-align: right;\">     1</td><td style=\"text-align: right;\">         43.1679</td><td style=\"text-align: right;\">4000</td><td style=\"text-align: right;\">-197.361</td><td style=\"text-align: right;\">            -104.505</td><td style=\"text-align: right;\">            -356.539</td><td style=\"text-align: right;\">               100</td></tr>\n",
       "</tbody>\n",
       "</table><br><br>"
      ],
      "text/plain": [
       "<IPython.core.display.HTML object>"
      ]
     },
     "metadata": {},
     "output_type": "display_data"
    },
    {
     "data": {
      "text/html": [
       "== Status ==<br>Current time: 2022-01-12 15:42:26 (running for 00:01:18.12)<br>Memory usage on this node: 7.9/11.9 GiB<br>Using FIFO scheduling algorithm.<br>Resources requested: 3.0/3 CPUs, 0/0 GPUs, 0.0/2.79 GiB heap, 0.0/1.4 GiB objects<br>Result logdir: C:\\Users\\Stefan\\git-repos\\work\\mobile-env\\examples\\results_rllib\\PPO<br>Number of trials: 1/1 (1 RUNNING)<br><table>\n",
       "<thead>\n",
       "<tr><th>Trial name                        </th><th>status  </th><th>loc            </th><th style=\"text-align: right;\">  iter</th><th style=\"text-align: right;\">  total time (s)</th><th style=\"text-align: right;\">  ts</th><th style=\"text-align: right;\">  reward</th><th style=\"text-align: right;\">  episode_reward_max</th><th style=\"text-align: right;\">  episode_reward_min</th><th style=\"text-align: right;\">  episode_len_mean</th></tr>\n",
       "</thead>\n",
       "<tbody>\n",
       "<tr><td>PPO_mobile-small-ma-v0_ada63_00000</td><td>RUNNING </td><td>127.0.0.1:11532</td><td style=\"text-align: right;\">     1</td><td style=\"text-align: right;\">         43.1679</td><td style=\"text-align: right;\">4000</td><td style=\"text-align: right;\">-197.361</td><td style=\"text-align: right;\">            -104.505</td><td style=\"text-align: right;\">            -356.539</td><td style=\"text-align: right;\">               100</td></tr>\n",
       "</tbody>\n",
       "</table><br><br>"
      ],
      "text/plain": [
       "<IPython.core.display.HTML object>"
      ]
     },
     "metadata": {},
     "output_type": "display_data"
    },
    {
     "data": {
      "text/html": [
       "== Status ==<br>Current time: 2022-01-12 15:42:31 (running for 00:01:23.19)<br>Memory usage on this node: 7.9/11.9 GiB<br>Using FIFO scheduling algorithm.<br>Resources requested: 3.0/3 CPUs, 0/0 GPUs, 0.0/2.79 GiB heap, 0.0/1.4 GiB objects<br>Result logdir: C:\\Users\\Stefan\\git-repos\\work\\mobile-env\\examples\\results_rllib\\PPO<br>Number of trials: 1/1 (1 RUNNING)<br><table>\n",
       "<thead>\n",
       "<tr><th>Trial name                        </th><th>status  </th><th>loc            </th><th style=\"text-align: right;\">  iter</th><th style=\"text-align: right;\">  total time (s)</th><th style=\"text-align: right;\">  ts</th><th style=\"text-align: right;\">  reward</th><th style=\"text-align: right;\">  episode_reward_max</th><th style=\"text-align: right;\">  episode_reward_min</th><th style=\"text-align: right;\">  episode_len_mean</th></tr>\n",
       "</thead>\n",
       "<tbody>\n",
       "<tr><td>PPO_mobile-small-ma-v0_ada63_00000</td><td>RUNNING </td><td>127.0.0.1:11532</td><td style=\"text-align: right;\">     1</td><td style=\"text-align: right;\">         43.1679</td><td style=\"text-align: right;\">4000</td><td style=\"text-align: right;\">-197.361</td><td style=\"text-align: right;\">            -104.505</td><td style=\"text-align: right;\">            -356.539</td><td style=\"text-align: right;\">               100</td></tr>\n",
       "</tbody>\n",
       "</table><br><br>"
      ],
      "text/plain": [
       "<IPython.core.display.HTML object>"
      ]
     },
     "metadata": {},
     "output_type": "display_data"
    },
    {
     "data": {
      "text/html": [
       "== Status ==<br>Current time: 2022-01-12 15:42:36 (running for 00:01:28.25)<br>Memory usage on this node: 7.9/11.9 GiB<br>Using FIFO scheduling algorithm.<br>Resources requested: 3.0/3 CPUs, 0/0 GPUs, 0.0/2.79 GiB heap, 0.0/1.4 GiB objects<br>Result logdir: C:\\Users\\Stefan\\git-repos\\work\\mobile-env\\examples\\results_rllib\\PPO<br>Number of trials: 1/1 (1 RUNNING)<br><table>\n",
       "<thead>\n",
       "<tr><th>Trial name                        </th><th>status  </th><th>loc            </th><th style=\"text-align: right;\">  iter</th><th style=\"text-align: right;\">  total time (s)</th><th style=\"text-align: right;\">  ts</th><th style=\"text-align: right;\">  reward</th><th style=\"text-align: right;\">  episode_reward_max</th><th style=\"text-align: right;\">  episode_reward_min</th><th style=\"text-align: right;\">  episode_len_mean</th></tr>\n",
       "</thead>\n",
       "<tbody>\n",
       "<tr><td>PPO_mobile-small-ma-v0_ada63_00000</td><td>RUNNING </td><td>127.0.0.1:11532</td><td style=\"text-align: right;\">     1</td><td style=\"text-align: right;\">         43.1679</td><td style=\"text-align: right;\">4000</td><td style=\"text-align: right;\">-197.361</td><td style=\"text-align: right;\">            -104.505</td><td style=\"text-align: right;\">            -356.539</td><td style=\"text-align: right;\">               100</td></tr>\n",
       "</tbody>\n",
       "</table><br><br>"
      ],
      "text/plain": [
       "<IPython.core.display.HTML object>"
      ]
     },
     "metadata": {},
     "output_type": "display_data"
    },
    {
     "data": {
      "text/html": [
       "== Status ==<br>Current time: 2022-01-12 15:42:41 (running for 00:01:33.30)<br>Memory usage on this node: 7.9/11.9 GiB<br>Using FIFO scheduling algorithm.<br>Resources requested: 3.0/3 CPUs, 0/0 GPUs, 0.0/2.79 GiB heap, 0.0/1.4 GiB objects<br>Result logdir: C:\\Users\\Stefan\\git-repos\\work\\mobile-env\\examples\\results_rllib\\PPO<br>Number of trials: 1/1 (1 RUNNING)<br><table>\n",
       "<thead>\n",
       "<tr><th>Trial name                        </th><th>status  </th><th>loc            </th><th style=\"text-align: right;\">  iter</th><th style=\"text-align: right;\">  total time (s)</th><th style=\"text-align: right;\">  ts</th><th style=\"text-align: right;\">  reward</th><th style=\"text-align: right;\">  episode_reward_max</th><th style=\"text-align: right;\">  episode_reward_min</th><th style=\"text-align: right;\">  episode_len_mean</th></tr>\n",
       "</thead>\n",
       "<tbody>\n",
       "<tr><td>PPO_mobile-small-ma-v0_ada63_00000</td><td>RUNNING </td><td>127.0.0.1:11532</td><td style=\"text-align: right;\">     1</td><td style=\"text-align: right;\">         43.1679</td><td style=\"text-align: right;\">4000</td><td style=\"text-align: right;\">-197.361</td><td style=\"text-align: right;\">            -104.505</td><td style=\"text-align: right;\">            -356.539</td><td style=\"text-align: right;\">               100</td></tr>\n",
       "</tbody>\n",
       "</table><br><br>"
      ],
      "text/plain": [
       "<IPython.core.display.HTML object>"
      ]
     },
     "metadata": {},
     "output_type": "display_data"
    },
    {
     "data": {
      "text/html": [
       "== Status ==<br>Current time: 2022-01-12 15:42:46 (running for 00:01:38.36)<br>Memory usage on this node: 7.9/11.9 GiB<br>Using FIFO scheduling algorithm.<br>Resources requested: 3.0/3 CPUs, 0/0 GPUs, 0.0/2.79 GiB heap, 0.0/1.4 GiB objects<br>Result logdir: C:\\Users\\Stefan\\git-repos\\work\\mobile-env\\examples\\results_rllib\\PPO<br>Number of trials: 1/1 (1 RUNNING)<br><table>\n",
       "<thead>\n",
       "<tr><th>Trial name                        </th><th>status  </th><th>loc            </th><th style=\"text-align: right;\">  iter</th><th style=\"text-align: right;\">  total time (s)</th><th style=\"text-align: right;\">  ts</th><th style=\"text-align: right;\">  reward</th><th style=\"text-align: right;\">  episode_reward_max</th><th style=\"text-align: right;\">  episode_reward_min</th><th style=\"text-align: right;\">  episode_len_mean</th></tr>\n",
       "</thead>\n",
       "<tbody>\n",
       "<tr><td>PPO_mobile-small-ma-v0_ada63_00000</td><td>RUNNING </td><td>127.0.0.1:11532</td><td style=\"text-align: right;\">     1</td><td style=\"text-align: right;\">         43.1679</td><td style=\"text-align: right;\">4000</td><td style=\"text-align: right;\">-197.361</td><td style=\"text-align: right;\">            -104.505</td><td style=\"text-align: right;\">            -356.539</td><td style=\"text-align: right;\">               100</td></tr>\n",
       "</tbody>\n",
       "</table><br><br>"
      ],
      "text/plain": [
       "<IPython.core.display.HTML object>"
      ]
     },
     "metadata": {},
     "output_type": "display_data"
    },
    {
     "name": "stdout",
     "output_type": "stream",
     "text": [
      "Result for PPO_mobile-small-ma-v0_ada63_00000:\n",
      "  agent_timesteps_total: 40000\n",
      "  custom_metrics: {}\n",
      "  date: 2022-01-12_15-42-49\n",
      "  done: false\n",
      "  episode_len_mean: 100.0\n",
      "  episode_media: {}\n",
      "  episode_reward_max: 13.274351325029384\n",
      "  episode_reward_mean: -158.71046945234917\n",
      "  episode_reward_min: -356.5391533132598\n",
      "  episodes_this_iter: 40\n",
      "  episodes_total: 80\n",
      "  experiment_id: 72e8a6f4607d4d5abbf07de3bfebe6cd\n",
      "  hostname: nb-stschn\n",
      "  info:\n",
      "    learner:\n",
      "      shared_policy:\n",
      "        custom_metrics: {}\n",
      "        learner_stats:\n",
      "          cur_kl_coeff: 0.20000000298023224\n",
      "          cur_lr: 4.999999873689376e-05\n",
      "          entropy: 1.343367099761963\n",
      "          entropy_coeff: 0.0\n",
      "          kl: 0.014019348658621311\n",
      "          model: {}\n",
      "          policy_loss: -0.008816363289952278\n",
      "          total_loss: 88.98162078857422\n",
      "          vf_explained_var: -0.16223901510238647\n",
      "          vf_loss: 88.98763275146484\n",
      "    num_agent_steps_sampled: 40000\n",
      "    num_agent_steps_trained: 40000\n",
      "    num_steps_sampled: 8000\n",
      "    num_steps_trained: 8000\n",
      "    num_steps_trained_this_iter: 0\n",
      "  iterations_since_restore: 2\n",
      "  node_ip: 127.0.0.1\n",
      "  num_healthy_workers: 2\n",
      "  off_policy_estimator: {}\n",
      "  perf:\n",
      "    cpu_util_percent: 72.37169811320756\n",
      "    ram_util_percent: 66.84528301886795\n",
      "  pid: 11532\n",
      "  policy_reward_max:\n",
      "    shared_policy: 7.2028469534020045\n",
      "  policy_reward_mean:\n",
      "    shared_policy: -31.74209389046983\n",
      "  policy_reward_min:\n",
      "    shared_policy: -86.76046312930109\n",
      "  sampler_perf:\n",
      "    mean_action_processing_ms: 0.22123596376903146\n",
      "    mean_env_render_ms: 0.0\n",
      "    mean_env_wait_ms: 8.124883462869278\n",
      "    mean_inference_ms: 1.9886708985517274\n",
      "    mean_raw_obs_processing_ms: 0.6037179753485329\n",
      "  time_since_restore: 80.55749249458313\n",
      "  time_this_iter_s: 37.389570474624634\n",
      "  time_total_s: 80.55749249458313\n",
      "  timers:\n",
      "    learn_throughput: 203.739\n",
      "    learn_time_ms: 19632.932\n",
      "    load_throughput: 0.0\n",
      "    load_time_ms: 0.0\n",
      "    sample_throughput: 131.289\n",
      "    sample_time_ms: 30467.192\n",
      "    update_time_ms: 3.501\n",
      "  timestamp: 1641998569\n",
      "  timesteps_since_restore: 0\n",
      "  timesteps_this_iter: 0\n",
      "  timesteps_total: 8000\n",
      "  training_iteration: 2\n",
      "  trial_id: ada63_00000\n",
      "  \n"
     ]
    },
    {
     "data": {
      "text/html": [
       "== Status ==<br>Current time: 2022-01-12 15:42:51 (running for 00:01:43.49)<br>Memory usage on this node: 8.0/11.9 GiB<br>Using FIFO scheduling algorithm.<br>Resources requested: 3.0/3 CPUs, 0/0 GPUs, 0.0/2.79 GiB heap, 0.0/1.4 GiB objects<br>Result logdir: C:\\Users\\Stefan\\git-repos\\work\\mobile-env\\examples\\results_rllib\\PPO<br>Number of trials: 1/1 (1 RUNNING)<br><table>\n",
       "<thead>\n",
       "<tr><th>Trial name                        </th><th>status  </th><th>loc            </th><th style=\"text-align: right;\">  iter</th><th style=\"text-align: right;\">  total time (s)</th><th style=\"text-align: right;\">  ts</th><th style=\"text-align: right;\">  reward</th><th style=\"text-align: right;\">  episode_reward_max</th><th style=\"text-align: right;\">  episode_reward_min</th><th style=\"text-align: right;\">  episode_len_mean</th></tr>\n",
       "</thead>\n",
       "<tbody>\n",
       "<tr><td>PPO_mobile-small-ma-v0_ada63_00000</td><td>RUNNING </td><td>127.0.0.1:11532</td><td style=\"text-align: right;\">     2</td><td style=\"text-align: right;\">         80.5575</td><td style=\"text-align: right;\">8000</td><td style=\"text-align: right;\"> -158.71</td><td style=\"text-align: right;\">             13.2744</td><td style=\"text-align: right;\">            -356.539</td><td style=\"text-align: right;\">               100</td></tr>\n",
       "</tbody>\n",
       "</table><br><br>"
      ],
      "text/plain": [
       "<IPython.core.display.HTML object>"
      ]
     },
     "metadata": {},
     "output_type": "display_data"
    },
    {
     "data": {
      "text/html": [
       "== Status ==<br>Current time: 2022-01-12 15:42:56 (running for 00:01:48.55)<br>Memory usage on this node: 8.0/11.9 GiB<br>Using FIFO scheduling algorithm.<br>Resources requested: 3.0/3 CPUs, 0/0 GPUs, 0.0/2.79 GiB heap, 0.0/1.4 GiB objects<br>Result logdir: C:\\Users\\Stefan\\git-repos\\work\\mobile-env\\examples\\results_rllib\\PPO<br>Number of trials: 1/1 (1 RUNNING)<br><table>\n",
       "<thead>\n",
       "<tr><th>Trial name                        </th><th>status  </th><th>loc            </th><th style=\"text-align: right;\">  iter</th><th style=\"text-align: right;\">  total time (s)</th><th style=\"text-align: right;\">  ts</th><th style=\"text-align: right;\">  reward</th><th style=\"text-align: right;\">  episode_reward_max</th><th style=\"text-align: right;\">  episode_reward_min</th><th style=\"text-align: right;\">  episode_len_mean</th></tr>\n",
       "</thead>\n",
       "<tbody>\n",
       "<tr><td>PPO_mobile-small-ma-v0_ada63_00000</td><td>RUNNING </td><td>127.0.0.1:11532</td><td style=\"text-align: right;\">     2</td><td style=\"text-align: right;\">         80.5575</td><td style=\"text-align: right;\">8000</td><td style=\"text-align: right;\"> -158.71</td><td style=\"text-align: right;\">             13.2744</td><td style=\"text-align: right;\">            -356.539</td><td style=\"text-align: right;\">               100</td></tr>\n",
       "</tbody>\n",
       "</table><br><br>"
      ],
      "text/plain": [
       "<IPython.core.display.HTML object>"
      ]
     },
     "metadata": {},
     "output_type": "display_data"
    },
    {
     "data": {
      "text/html": [
       "== Status ==<br>Current time: 2022-01-12 15:43:01 (running for 00:01:53.60)<br>Memory usage on this node: 8.0/11.9 GiB<br>Using FIFO scheduling algorithm.<br>Resources requested: 3.0/3 CPUs, 0/0 GPUs, 0.0/2.79 GiB heap, 0.0/1.4 GiB objects<br>Result logdir: C:\\Users\\Stefan\\git-repos\\work\\mobile-env\\examples\\results_rllib\\PPO<br>Number of trials: 1/1 (1 RUNNING)<br><table>\n",
       "<thead>\n",
       "<tr><th>Trial name                        </th><th>status  </th><th>loc            </th><th style=\"text-align: right;\">  iter</th><th style=\"text-align: right;\">  total time (s)</th><th style=\"text-align: right;\">  ts</th><th style=\"text-align: right;\">  reward</th><th style=\"text-align: right;\">  episode_reward_max</th><th style=\"text-align: right;\">  episode_reward_min</th><th style=\"text-align: right;\">  episode_len_mean</th></tr>\n",
       "</thead>\n",
       "<tbody>\n",
       "<tr><td>PPO_mobile-small-ma-v0_ada63_00000</td><td>RUNNING </td><td>127.0.0.1:11532</td><td style=\"text-align: right;\">     2</td><td style=\"text-align: right;\">         80.5575</td><td style=\"text-align: right;\">8000</td><td style=\"text-align: right;\"> -158.71</td><td style=\"text-align: right;\">             13.2744</td><td style=\"text-align: right;\">            -356.539</td><td style=\"text-align: right;\">               100</td></tr>\n",
       "</tbody>\n",
       "</table><br><br>"
      ],
      "text/plain": [
       "<IPython.core.display.HTML object>"
      ]
     },
     "metadata": {},
     "output_type": "display_data"
    },
    {
     "data": {
      "text/html": [
       "== Status ==<br>Current time: 2022-01-12 15:43:06 (running for 00:01:58.65)<br>Memory usage on this node: 7.9/11.9 GiB<br>Using FIFO scheduling algorithm.<br>Resources requested: 3.0/3 CPUs, 0/0 GPUs, 0.0/2.79 GiB heap, 0.0/1.4 GiB objects<br>Result logdir: C:\\Users\\Stefan\\git-repos\\work\\mobile-env\\examples\\results_rllib\\PPO<br>Number of trials: 1/1 (1 RUNNING)<br><table>\n",
       "<thead>\n",
       "<tr><th>Trial name                        </th><th>status  </th><th>loc            </th><th style=\"text-align: right;\">  iter</th><th style=\"text-align: right;\">  total time (s)</th><th style=\"text-align: right;\">  ts</th><th style=\"text-align: right;\">  reward</th><th style=\"text-align: right;\">  episode_reward_max</th><th style=\"text-align: right;\">  episode_reward_min</th><th style=\"text-align: right;\">  episode_len_mean</th></tr>\n",
       "</thead>\n",
       "<tbody>\n",
       "<tr><td>PPO_mobile-small-ma-v0_ada63_00000</td><td>RUNNING </td><td>127.0.0.1:11532</td><td style=\"text-align: right;\">     2</td><td style=\"text-align: right;\">         80.5575</td><td style=\"text-align: right;\">8000</td><td style=\"text-align: right;\"> -158.71</td><td style=\"text-align: right;\">             13.2744</td><td style=\"text-align: right;\">            -356.539</td><td style=\"text-align: right;\">               100</td></tr>\n",
       "</tbody>\n",
       "</table><br><br>"
      ],
      "text/plain": [
       "<IPython.core.display.HTML object>"
      ]
     },
     "metadata": {},
     "output_type": "display_data"
    },
    {
     "data": {
      "text/html": [
       "== Status ==<br>Current time: 2022-01-12 15:43:11 (running for 00:02:03.72)<br>Memory usage on this node: 7.9/11.9 GiB<br>Using FIFO scheduling algorithm.<br>Resources requested: 3.0/3 CPUs, 0/0 GPUs, 0.0/2.79 GiB heap, 0.0/1.4 GiB objects<br>Result logdir: C:\\Users\\Stefan\\git-repos\\work\\mobile-env\\examples\\results_rllib\\PPO<br>Number of trials: 1/1 (1 RUNNING)<br><table>\n",
       "<thead>\n",
       "<tr><th>Trial name                        </th><th>status  </th><th>loc            </th><th style=\"text-align: right;\">  iter</th><th style=\"text-align: right;\">  total time (s)</th><th style=\"text-align: right;\">  ts</th><th style=\"text-align: right;\">  reward</th><th style=\"text-align: right;\">  episode_reward_max</th><th style=\"text-align: right;\">  episode_reward_min</th><th style=\"text-align: right;\">  episode_len_mean</th></tr>\n",
       "</thead>\n",
       "<tbody>\n",
       "<tr><td>PPO_mobile-small-ma-v0_ada63_00000</td><td>RUNNING </td><td>127.0.0.1:11532</td><td style=\"text-align: right;\">     2</td><td style=\"text-align: right;\">         80.5575</td><td style=\"text-align: right;\">8000</td><td style=\"text-align: right;\"> -158.71</td><td style=\"text-align: right;\">             13.2744</td><td style=\"text-align: right;\">            -356.539</td><td style=\"text-align: right;\">               100</td></tr>\n",
       "</tbody>\n",
       "</table><br><br>"
      ],
      "text/plain": [
       "<IPython.core.display.HTML object>"
      ]
     },
     "metadata": {},
     "output_type": "display_data"
    },
    {
     "data": {
      "text/html": [
       "== Status ==<br>Current time: 2022-01-12 15:43:16 (running for 00:02:08.79)<br>Memory usage on this node: 7.9/11.9 GiB<br>Using FIFO scheduling algorithm.<br>Resources requested: 3.0/3 CPUs, 0/0 GPUs, 0.0/2.79 GiB heap, 0.0/1.4 GiB objects<br>Result logdir: C:\\Users\\Stefan\\git-repos\\work\\mobile-env\\examples\\results_rllib\\PPO<br>Number of trials: 1/1 (1 RUNNING)<br><table>\n",
       "<thead>\n",
       "<tr><th>Trial name                        </th><th>status  </th><th>loc            </th><th style=\"text-align: right;\">  iter</th><th style=\"text-align: right;\">  total time (s)</th><th style=\"text-align: right;\">  ts</th><th style=\"text-align: right;\">  reward</th><th style=\"text-align: right;\">  episode_reward_max</th><th style=\"text-align: right;\">  episode_reward_min</th><th style=\"text-align: right;\">  episode_len_mean</th></tr>\n",
       "</thead>\n",
       "<tbody>\n",
       "<tr><td>PPO_mobile-small-ma-v0_ada63_00000</td><td>RUNNING </td><td>127.0.0.1:11532</td><td style=\"text-align: right;\">     2</td><td style=\"text-align: right;\">         80.5575</td><td style=\"text-align: right;\">8000</td><td style=\"text-align: right;\"> -158.71</td><td style=\"text-align: right;\">             13.2744</td><td style=\"text-align: right;\">            -356.539</td><td style=\"text-align: right;\">               100</td></tr>\n",
       "</tbody>\n",
       "</table><br><br>"
      ],
      "text/plain": [
       "<IPython.core.display.HTML object>"
      ]
     },
     "metadata": {},
     "output_type": "display_data"
    },
    {
     "data": {
      "text/html": [
       "== Status ==<br>Current time: 2022-01-12 15:43:22 (running for 00:02:13.86)<br>Memory usage on this node: 7.9/11.9 GiB<br>Using FIFO scheduling algorithm.<br>Resources requested: 3.0/3 CPUs, 0/0 GPUs, 0.0/2.79 GiB heap, 0.0/1.4 GiB objects<br>Result logdir: C:\\Users\\Stefan\\git-repos\\work\\mobile-env\\examples\\results_rllib\\PPO<br>Number of trials: 1/1 (1 RUNNING)<br><table>\n",
       "<thead>\n",
       "<tr><th>Trial name                        </th><th>status  </th><th>loc            </th><th style=\"text-align: right;\">  iter</th><th style=\"text-align: right;\">  total time (s)</th><th style=\"text-align: right;\">  ts</th><th style=\"text-align: right;\">  reward</th><th style=\"text-align: right;\">  episode_reward_max</th><th style=\"text-align: right;\">  episode_reward_min</th><th style=\"text-align: right;\">  episode_len_mean</th></tr>\n",
       "</thead>\n",
       "<tbody>\n",
       "<tr><td>PPO_mobile-small-ma-v0_ada63_00000</td><td>RUNNING </td><td>127.0.0.1:11532</td><td style=\"text-align: right;\">     2</td><td style=\"text-align: right;\">         80.5575</td><td style=\"text-align: right;\">8000</td><td style=\"text-align: right;\"> -158.71</td><td style=\"text-align: right;\">             13.2744</td><td style=\"text-align: right;\">            -356.539</td><td style=\"text-align: right;\">               100</td></tr>\n",
       "</tbody>\n",
       "</table><br><br>"
      ],
      "text/plain": [
       "<IPython.core.display.HTML object>"
      ]
     },
     "metadata": {},
     "output_type": "display_data"
    },
    {
     "data": {
      "text/html": [
       "== Status ==<br>Current time: 2022-01-12 15:43:27 (running for 00:02:18.91)<br>Memory usage on this node: 7.9/11.9 GiB<br>Using FIFO scheduling algorithm.<br>Resources requested: 3.0/3 CPUs, 0/0 GPUs, 0.0/2.79 GiB heap, 0.0/1.4 GiB objects<br>Result logdir: C:\\Users\\Stefan\\git-repos\\work\\mobile-env\\examples\\results_rllib\\PPO<br>Number of trials: 1/1 (1 RUNNING)<br><table>\n",
       "<thead>\n",
       "<tr><th>Trial name                        </th><th>status  </th><th>loc            </th><th style=\"text-align: right;\">  iter</th><th style=\"text-align: right;\">  total time (s)</th><th style=\"text-align: right;\">  ts</th><th style=\"text-align: right;\">  reward</th><th style=\"text-align: right;\">  episode_reward_max</th><th style=\"text-align: right;\">  episode_reward_min</th><th style=\"text-align: right;\">  episode_len_mean</th></tr>\n",
       "</thead>\n",
       "<tbody>\n",
       "<tr><td>PPO_mobile-small-ma-v0_ada63_00000</td><td>RUNNING </td><td>127.0.0.1:11532</td><td style=\"text-align: right;\">     2</td><td style=\"text-align: right;\">         80.5575</td><td style=\"text-align: right;\">8000</td><td style=\"text-align: right;\"> -158.71</td><td style=\"text-align: right;\">             13.2744</td><td style=\"text-align: right;\">            -356.539</td><td style=\"text-align: right;\">               100</td></tr>\n",
       "</tbody>\n",
       "</table><br><br>"
      ],
      "text/plain": [
       "<IPython.core.display.HTML object>"
      ]
     },
     "metadata": {},
     "output_type": "display_data"
    },
    {
     "name": "stdout",
     "output_type": "stream",
     "text": [
      "Result for PPO_mobile-small-ma-v0_ada63_00000:\n",
      "  agent_timesteps_total: 60000\n",
      "  custom_metrics: {}\n",
      "  date: 2022-01-12_15-43-28\n",
      "  done: false\n",
      "  episode_len_mean: 100.0\n",
      "  episode_media: {}\n",
      "  episode_reward_max: 13.274351325029384\n",
      "  episode_reward_mean: -126.03522777340389\n",
      "  episode_reward_min: -311.2182202555896\n",
      "  episodes_this_iter: 40\n",
      "  episodes_total: 120\n",
      "  experiment_id: 72e8a6f4607d4d5abbf07de3bfebe6cd\n",
      "  hostname: nb-stschn\n",
      "  info:\n",
      "    learner:\n",
      "      shared_policy:\n",
      "        custom_metrics: {}\n",
      "        learner_stats:\n",
      "          cur_kl_coeff: 0.20000000298023224\n",
      "          cur_lr: 4.999999873689376e-05\n",
      "          entropy: 1.3111240863800049\n",
      "          entropy_coeff: 0.0\n",
      "          kl: 0.009439274668693542\n",
      "          model: {}\n",
      "          policy_loss: -0.0036416323855519295\n",
      "          total_loss: 79.93509674072266\n",
      "          vf_explained_var: -0.24900077283382416\n",
      "          vf_loss: 79.93685150146484\n",
      "    num_agent_steps_sampled: 60000\n",
      "    num_agent_steps_trained: 60000\n",
      "    num_steps_sampled: 12000\n",
      "    num_steps_trained: 12000\n",
      "    num_steps_trained_this_iter: 0\n",
      "  iterations_since_restore: 3\n",
      "  node_ip: 127.0.0.1\n",
      "  num_healthy_workers: 2\n",
      "  off_policy_estimator: {}\n",
      "  perf:\n",
      "    cpu_util_percent: 71.4574074074074\n",
      "    ram_util_percent: 66.67962962962963\n",
      "  pid: 11532\n",
      "  policy_reward_max:\n",
      "    shared_policy: 12.288503080606427\n",
      "  policy_reward_mean:\n",
      "    shared_policy: -25.20704555468077\n",
      "  policy_reward_min:\n",
      "    shared_policy: -89.77934071957134\n",
      "  sampler_perf:\n",
      "    mean_action_processing_ms: 0.21212769007757068\n",
      "    mean_env_render_ms: 0.0\n",
      "    mean_env_wait_ms: 7.749011025429034\n",
      "    mean_inference_ms: 1.902687885707432\n",
      "    mean_raw_obs_processing_ms: 0.5777810588025318\n",
      "  time_since_restore: 119.22494339942932\n",
      "  time_this_iter_s: 38.66745090484619\n",
      "  time_total_s: 119.22494339942932\n",
      "  timers:\n",
      "    learn_throughput: 205.912\n",
      "    learn_time_ms: 19425.729\n",
      "    load_throughput: 0.0\n",
      "    load_time_ms: 0.0\n",
      "    sample_throughput: 119.583\n",
      "    sample_time_ms: 33449.439\n",
      "    update_time_ms: 3.665\n",
      "  timestamp: 1641998608\n",
      "  timesteps_since_restore: 0\n",
      "  timesteps_this_iter: 0\n",
      "  timesteps_total: 12000\n",
      "  training_iteration: 3\n",
      "  trial_id: ada63_00000\n",
      "  \n"
     ]
    },
    {
     "data": {
      "text/html": [
       "== Status ==<br>Current time: 2022-01-12 15:43:32 (running for 00:02:24.25)<br>Memory usage on this node: 7.9/11.9 GiB<br>Using FIFO scheduling algorithm.<br>Resources requested: 3.0/3 CPUs, 0/0 GPUs, 0.0/2.79 GiB heap, 0.0/1.4 GiB objects<br>Result logdir: C:\\Users\\Stefan\\git-repos\\work\\mobile-env\\examples\\results_rllib\\PPO<br>Number of trials: 1/1 (1 RUNNING)<br><table>\n",
       "<thead>\n",
       "<tr><th>Trial name                        </th><th>status  </th><th>loc            </th><th style=\"text-align: right;\">  iter</th><th style=\"text-align: right;\">  total time (s)</th><th style=\"text-align: right;\">   ts</th><th style=\"text-align: right;\">  reward</th><th style=\"text-align: right;\">  episode_reward_max</th><th style=\"text-align: right;\">  episode_reward_min</th><th style=\"text-align: right;\">  episode_len_mean</th></tr>\n",
       "</thead>\n",
       "<tbody>\n",
       "<tr><td>PPO_mobile-small-ma-v0_ada63_00000</td><td>RUNNING </td><td>127.0.0.1:11532</td><td style=\"text-align: right;\">     3</td><td style=\"text-align: right;\">         119.225</td><td style=\"text-align: right;\">12000</td><td style=\"text-align: right;\">-126.035</td><td style=\"text-align: right;\">             13.2744</td><td style=\"text-align: right;\">            -311.218</td><td style=\"text-align: right;\">               100</td></tr>\n",
       "</tbody>\n",
       "</table><br><br>"
      ],
      "text/plain": [
       "<IPython.core.display.HTML object>"
      ]
     },
     "metadata": {},
     "output_type": "display_data"
    },
    {
     "data": {
      "text/html": [
       "== Status ==<br>Current time: 2022-01-12 15:43:37 (running for 00:02:29.32)<br>Memory usage on this node: 7.9/11.9 GiB<br>Using FIFO scheduling algorithm.<br>Resources requested: 3.0/3 CPUs, 0/0 GPUs, 0.0/2.79 GiB heap, 0.0/1.4 GiB objects<br>Result logdir: C:\\Users\\Stefan\\git-repos\\work\\mobile-env\\examples\\results_rllib\\PPO<br>Number of trials: 1/1 (1 RUNNING)<br><table>\n",
       "<thead>\n",
       "<tr><th>Trial name                        </th><th>status  </th><th>loc            </th><th style=\"text-align: right;\">  iter</th><th style=\"text-align: right;\">  total time (s)</th><th style=\"text-align: right;\">   ts</th><th style=\"text-align: right;\">  reward</th><th style=\"text-align: right;\">  episode_reward_max</th><th style=\"text-align: right;\">  episode_reward_min</th><th style=\"text-align: right;\">  episode_len_mean</th></tr>\n",
       "</thead>\n",
       "<tbody>\n",
       "<tr><td>PPO_mobile-small-ma-v0_ada63_00000</td><td>RUNNING </td><td>127.0.0.1:11532</td><td style=\"text-align: right;\">     3</td><td style=\"text-align: right;\">         119.225</td><td style=\"text-align: right;\">12000</td><td style=\"text-align: right;\">-126.035</td><td style=\"text-align: right;\">             13.2744</td><td style=\"text-align: right;\">            -311.218</td><td style=\"text-align: right;\">               100</td></tr>\n",
       "</tbody>\n",
       "</table><br><br>"
      ],
      "text/plain": [
       "<IPython.core.display.HTML object>"
      ]
     },
     "metadata": {},
     "output_type": "display_data"
    },
    {
     "data": {
      "text/html": [
       "== Status ==<br>Current time: 2022-01-12 15:43:42 (running for 00:02:34.38)<br>Memory usage on this node: 7.9/11.9 GiB<br>Using FIFO scheduling algorithm.<br>Resources requested: 3.0/3 CPUs, 0/0 GPUs, 0.0/2.79 GiB heap, 0.0/1.4 GiB objects<br>Result logdir: C:\\Users\\Stefan\\git-repos\\work\\mobile-env\\examples\\results_rllib\\PPO<br>Number of trials: 1/1 (1 RUNNING)<br><table>\n",
       "<thead>\n",
       "<tr><th>Trial name                        </th><th>status  </th><th>loc            </th><th style=\"text-align: right;\">  iter</th><th style=\"text-align: right;\">  total time (s)</th><th style=\"text-align: right;\">   ts</th><th style=\"text-align: right;\">  reward</th><th style=\"text-align: right;\">  episode_reward_max</th><th style=\"text-align: right;\">  episode_reward_min</th><th style=\"text-align: right;\">  episode_len_mean</th></tr>\n",
       "</thead>\n",
       "<tbody>\n",
       "<tr><td>PPO_mobile-small-ma-v0_ada63_00000</td><td>RUNNING </td><td>127.0.0.1:11532</td><td style=\"text-align: right;\">     3</td><td style=\"text-align: right;\">         119.225</td><td style=\"text-align: right;\">12000</td><td style=\"text-align: right;\">-126.035</td><td style=\"text-align: right;\">             13.2744</td><td style=\"text-align: right;\">            -311.218</td><td style=\"text-align: right;\">               100</td></tr>\n",
       "</tbody>\n",
       "</table><br><br>"
      ],
      "text/plain": [
       "<IPython.core.display.HTML object>"
      ]
     },
     "metadata": {},
     "output_type": "display_data"
    },
    {
     "data": {
      "text/html": [
       "== Status ==<br>Current time: 2022-01-12 15:43:47 (running for 00:02:39.43)<br>Memory usage on this node: 7.9/11.9 GiB<br>Using FIFO scheduling algorithm.<br>Resources requested: 3.0/3 CPUs, 0/0 GPUs, 0.0/2.79 GiB heap, 0.0/1.4 GiB objects<br>Result logdir: C:\\Users\\Stefan\\git-repos\\work\\mobile-env\\examples\\results_rllib\\PPO<br>Number of trials: 1/1 (1 RUNNING)<br><table>\n",
       "<thead>\n",
       "<tr><th>Trial name                        </th><th>status  </th><th>loc            </th><th style=\"text-align: right;\">  iter</th><th style=\"text-align: right;\">  total time (s)</th><th style=\"text-align: right;\">   ts</th><th style=\"text-align: right;\">  reward</th><th style=\"text-align: right;\">  episode_reward_max</th><th style=\"text-align: right;\">  episode_reward_min</th><th style=\"text-align: right;\">  episode_len_mean</th></tr>\n",
       "</thead>\n",
       "<tbody>\n",
       "<tr><td>PPO_mobile-small-ma-v0_ada63_00000</td><td>RUNNING </td><td>127.0.0.1:11532</td><td style=\"text-align: right;\">     3</td><td style=\"text-align: right;\">         119.225</td><td style=\"text-align: right;\">12000</td><td style=\"text-align: right;\">-126.035</td><td style=\"text-align: right;\">             13.2744</td><td style=\"text-align: right;\">            -311.218</td><td style=\"text-align: right;\">               100</td></tr>\n",
       "</tbody>\n",
       "</table><br><br>"
      ],
      "text/plain": [
       "<IPython.core.display.HTML object>"
      ]
     },
     "metadata": {},
     "output_type": "display_data"
    },
    {
     "data": {
      "text/html": [
       "== Status ==<br>Current time: 2022-01-12 15:43:52 (running for 00:02:44.51)<br>Memory usage on this node: 7.9/11.9 GiB<br>Using FIFO scheduling algorithm.<br>Resources requested: 3.0/3 CPUs, 0/0 GPUs, 0.0/2.79 GiB heap, 0.0/1.4 GiB objects<br>Result logdir: C:\\Users\\Stefan\\git-repos\\work\\mobile-env\\examples\\results_rllib\\PPO<br>Number of trials: 1/1 (1 RUNNING)<br><table>\n",
       "<thead>\n",
       "<tr><th>Trial name                        </th><th>status  </th><th>loc            </th><th style=\"text-align: right;\">  iter</th><th style=\"text-align: right;\">  total time (s)</th><th style=\"text-align: right;\">   ts</th><th style=\"text-align: right;\">  reward</th><th style=\"text-align: right;\">  episode_reward_max</th><th style=\"text-align: right;\">  episode_reward_min</th><th style=\"text-align: right;\">  episode_len_mean</th></tr>\n",
       "</thead>\n",
       "<tbody>\n",
       "<tr><td>PPO_mobile-small-ma-v0_ada63_00000</td><td>RUNNING </td><td>127.0.0.1:11532</td><td style=\"text-align: right;\">     3</td><td style=\"text-align: right;\">         119.225</td><td style=\"text-align: right;\">12000</td><td style=\"text-align: right;\">-126.035</td><td style=\"text-align: right;\">             13.2744</td><td style=\"text-align: right;\">            -311.218</td><td style=\"text-align: right;\">               100</td></tr>\n",
       "</tbody>\n",
       "</table><br><br>"
      ],
      "text/plain": [
       "<IPython.core.display.HTML object>"
      ]
     },
     "metadata": {},
     "output_type": "display_data"
    },
    {
     "data": {
      "text/html": [
       "== Status ==<br>Current time: 2022-01-12 15:43:57 (running for 00:02:49.54)<br>Memory usage on this node: 7.9/11.9 GiB<br>Using FIFO scheduling algorithm.<br>Resources requested: 3.0/3 CPUs, 0/0 GPUs, 0.0/2.79 GiB heap, 0.0/1.4 GiB objects<br>Result logdir: C:\\Users\\Stefan\\git-repos\\work\\mobile-env\\examples\\results_rllib\\PPO<br>Number of trials: 1/1 (1 RUNNING)<br><table>\n",
       "<thead>\n",
       "<tr><th>Trial name                        </th><th>status  </th><th>loc            </th><th style=\"text-align: right;\">  iter</th><th style=\"text-align: right;\">  total time (s)</th><th style=\"text-align: right;\">   ts</th><th style=\"text-align: right;\">  reward</th><th style=\"text-align: right;\">  episode_reward_max</th><th style=\"text-align: right;\">  episode_reward_min</th><th style=\"text-align: right;\">  episode_len_mean</th></tr>\n",
       "</thead>\n",
       "<tbody>\n",
       "<tr><td>PPO_mobile-small-ma-v0_ada63_00000</td><td>RUNNING </td><td>127.0.0.1:11532</td><td style=\"text-align: right;\">     3</td><td style=\"text-align: right;\">         119.225</td><td style=\"text-align: right;\">12000</td><td style=\"text-align: right;\">-126.035</td><td style=\"text-align: right;\">             13.2744</td><td style=\"text-align: right;\">            -311.218</td><td style=\"text-align: right;\">               100</td></tr>\n",
       "</tbody>\n",
       "</table><br><br>"
      ],
      "text/plain": [
       "<IPython.core.display.HTML object>"
      ]
     },
     "metadata": {},
     "output_type": "display_data"
    },
    {
     "data": {
      "text/html": [
       "== Status ==<br>Current time: 2022-01-12 15:44:02 (running for 00:02:54.61)<br>Memory usage on this node: 7.9/11.9 GiB<br>Using FIFO scheduling algorithm.<br>Resources requested: 3.0/3 CPUs, 0/0 GPUs, 0.0/2.79 GiB heap, 0.0/1.4 GiB objects<br>Result logdir: C:\\Users\\Stefan\\git-repos\\work\\mobile-env\\examples\\results_rllib\\PPO<br>Number of trials: 1/1 (1 RUNNING)<br><table>\n",
       "<thead>\n",
       "<tr><th>Trial name                        </th><th>status  </th><th>loc            </th><th style=\"text-align: right;\">  iter</th><th style=\"text-align: right;\">  total time (s)</th><th style=\"text-align: right;\">   ts</th><th style=\"text-align: right;\">  reward</th><th style=\"text-align: right;\">  episode_reward_max</th><th style=\"text-align: right;\">  episode_reward_min</th><th style=\"text-align: right;\">  episode_len_mean</th></tr>\n",
       "</thead>\n",
       "<tbody>\n",
       "<tr><td>PPO_mobile-small-ma-v0_ada63_00000</td><td>RUNNING </td><td>127.0.0.1:11532</td><td style=\"text-align: right;\">     3</td><td style=\"text-align: right;\">         119.225</td><td style=\"text-align: right;\">12000</td><td style=\"text-align: right;\">-126.035</td><td style=\"text-align: right;\">             13.2744</td><td style=\"text-align: right;\">            -311.218</td><td style=\"text-align: right;\">               100</td></tr>\n",
       "</tbody>\n",
       "</table><br><br>"
      ],
      "text/plain": [
       "<IPython.core.display.HTML object>"
      ]
     },
     "metadata": {},
     "output_type": "display_data"
    },
    {
     "name": "stdout",
     "output_type": "stream",
     "text": [
      "Result for PPO_mobile-small-ma-v0_ada63_00000:\n",
      "  agent_timesteps_total: 80000\n",
      "  custom_metrics: {}\n",
      "  date: 2022-01-12_15-44-07\n",
      "  done: false\n",
      "  episode_len_mean: 100.0\n",
      "  episode_media: {}\n",
      "  episode_reward_max: 18.40618350165577\n",
      "  episode_reward_mean: -88.28880712278755\n",
      "  episode_reward_min: -284.9660294201879\n",
      "  episodes_this_iter: 40\n",
      "  episodes_total: 160\n",
      "  experiment_id: 72e8a6f4607d4d5abbf07de3bfebe6cd\n",
      "  hostname: nb-stschn\n",
      "  info:\n",
      "    learner:\n",
      "      shared_policy:\n",
      "        custom_metrics: {}\n",
      "        learner_stats:\n",
      "          cur_kl_coeff: 0.20000000298023224\n",
      "          cur_lr: 4.999999873689376e-05\n",
      "          entropy: 1.2756074666976929\n",
      "          entropy_coeff: 0.0\n",
      "          kl: 0.010192805901169777\n",
      "          model: {}\n",
      "          policy_loss: -0.005627624690532684\n",
      "          total_loss: 65.84101104736328\n",
      "          vf_explained_var: -0.3271481692790985\n",
      "          vf_loss: 65.84459686279297\n",
      "    num_agent_steps_sampled: 80000\n",
      "    num_agent_steps_trained: 80000\n",
      "    num_steps_sampled: 16000\n",
      "    num_steps_trained: 16000\n",
      "    num_steps_trained_this_iter: 0\n",
      "  iterations_since_restore: 4\n",
      "  node_ip: 127.0.0.1\n",
      "  num_healthy_workers: 2\n",
      "  off_policy_estimator: {}\n",
      "  perf:\n",
      "    cpu_util_percent: 69.97818181818181\n",
      "    ram_util_percent: 66.61454545454545\n",
      "  pid: 11532\n",
      "  policy_reward_max:\n",
      "    shared_policy: 20.565636939951034\n",
      "  policy_reward_mean:\n",
      "    shared_policy: -17.657761424557503\n",
      "  policy_reward_min:\n",
      "    shared_policy: -89.77934071957134\n",
      "  sampler_perf:\n",
      "    mean_action_processing_ms: 0.20436194944833333\n",
      "    mean_env_render_ms: 0.0\n",
      "    mean_env_wait_ms: 7.531172477506318\n",
      "    mean_inference_ms: 1.823786371075938\n",
      "    mean_raw_obs_processing_ms: 0.5562136233293795\n",
      "  time_since_restore: 158.43804550170898\n",
      "  time_this_iter_s: 39.21310210227966\n",
      "  time_total_s: 158.43804550170898\n",
      "  timers:\n",
      "    learn_throughput: 209.016\n",
      "    learn_time_ms: 19137.282\n",
      "    load_throughput: 0.0\n",
      "    load_time_ms: 0.0\n",
      "    sample_throughput: 113.981\n",
      "    sample_time_ms: 35093.702\n",
      "    update_time_ms: 3.746\n",
      "  timestamp: 1641998647\n",
      "  timesteps_since_restore: 0\n",
      "  timesteps_this_iter: 0\n",
      "  timesteps_total: 16000\n",
      "  training_iteration: 4\n",
      "  trial_id: ada63_00000\n",
      "  \n"
     ]
    },
    {
     "data": {
      "text/html": [
       "== Status ==<br>Current time: 2022-01-12 15:44:08 (running for 00:03:00.49)<br>Memory usage on this node: 7.9/11.9 GiB<br>Using FIFO scheduling algorithm.<br>Resources requested: 3.0/3 CPUs, 0/0 GPUs, 0.0/2.79 GiB heap, 0.0/1.4 GiB objects<br>Result logdir: C:\\Users\\Stefan\\git-repos\\work\\mobile-env\\examples\\results_rllib\\PPO<br>Number of trials: 1/1 (1 RUNNING)<br><table>\n",
       "<thead>\n",
       "<tr><th>Trial name                        </th><th>status  </th><th>loc            </th><th style=\"text-align: right;\">  iter</th><th style=\"text-align: right;\">  total time (s)</th><th style=\"text-align: right;\">   ts</th><th style=\"text-align: right;\">  reward</th><th style=\"text-align: right;\">  episode_reward_max</th><th style=\"text-align: right;\">  episode_reward_min</th><th style=\"text-align: right;\">  episode_len_mean</th></tr>\n",
       "</thead>\n",
       "<tbody>\n",
       "<tr><td>PPO_mobile-small-ma-v0_ada63_00000</td><td>RUNNING </td><td>127.0.0.1:11532</td><td style=\"text-align: right;\">     4</td><td style=\"text-align: right;\">         158.438</td><td style=\"text-align: right;\">16000</td><td style=\"text-align: right;\">-88.2888</td><td style=\"text-align: right;\">             18.4062</td><td style=\"text-align: right;\">            -284.966</td><td style=\"text-align: right;\">               100</td></tr>\n",
       "</tbody>\n",
       "</table><br><br>"
      ],
      "text/plain": [
       "<IPython.core.display.HTML object>"
      ]
     },
     "metadata": {},
     "output_type": "display_data"
    },
    {
     "data": {
      "text/html": [
       "== Status ==<br>Current time: 2022-01-12 15:44:13 (running for 00:03:05.54)<br>Memory usage on this node: 7.9/11.9 GiB<br>Using FIFO scheduling algorithm.<br>Resources requested: 3.0/3 CPUs, 0/0 GPUs, 0.0/2.79 GiB heap, 0.0/1.4 GiB objects<br>Result logdir: C:\\Users\\Stefan\\git-repos\\work\\mobile-env\\examples\\results_rllib\\PPO<br>Number of trials: 1/1 (1 RUNNING)<br><table>\n",
       "<thead>\n",
       "<tr><th>Trial name                        </th><th>status  </th><th>loc            </th><th style=\"text-align: right;\">  iter</th><th style=\"text-align: right;\">  total time (s)</th><th style=\"text-align: right;\">   ts</th><th style=\"text-align: right;\">  reward</th><th style=\"text-align: right;\">  episode_reward_max</th><th style=\"text-align: right;\">  episode_reward_min</th><th style=\"text-align: right;\">  episode_len_mean</th></tr>\n",
       "</thead>\n",
       "<tbody>\n",
       "<tr><td>PPO_mobile-small-ma-v0_ada63_00000</td><td>RUNNING </td><td>127.0.0.1:11532</td><td style=\"text-align: right;\">     4</td><td style=\"text-align: right;\">         158.438</td><td style=\"text-align: right;\">16000</td><td style=\"text-align: right;\">-88.2888</td><td style=\"text-align: right;\">             18.4062</td><td style=\"text-align: right;\">            -284.966</td><td style=\"text-align: right;\">               100</td></tr>\n",
       "</tbody>\n",
       "</table><br><br>"
      ],
      "text/plain": [
       "<IPython.core.display.HTML object>"
      ]
     },
     "metadata": {},
     "output_type": "display_data"
    },
    {
     "data": {
      "text/html": [
       "== Status ==<br>Current time: 2022-01-12 15:44:18 (running for 00:03:10.58)<br>Memory usage on this node: 7.9/11.9 GiB<br>Using FIFO scheduling algorithm.<br>Resources requested: 3.0/3 CPUs, 0/0 GPUs, 0.0/2.79 GiB heap, 0.0/1.4 GiB objects<br>Result logdir: C:\\Users\\Stefan\\git-repos\\work\\mobile-env\\examples\\results_rllib\\PPO<br>Number of trials: 1/1 (1 RUNNING)<br><table>\n",
       "<thead>\n",
       "<tr><th>Trial name                        </th><th>status  </th><th>loc            </th><th style=\"text-align: right;\">  iter</th><th style=\"text-align: right;\">  total time (s)</th><th style=\"text-align: right;\">   ts</th><th style=\"text-align: right;\">  reward</th><th style=\"text-align: right;\">  episode_reward_max</th><th style=\"text-align: right;\">  episode_reward_min</th><th style=\"text-align: right;\">  episode_len_mean</th></tr>\n",
       "</thead>\n",
       "<tbody>\n",
       "<tr><td>PPO_mobile-small-ma-v0_ada63_00000</td><td>RUNNING </td><td>127.0.0.1:11532</td><td style=\"text-align: right;\">     4</td><td style=\"text-align: right;\">         158.438</td><td style=\"text-align: right;\">16000</td><td style=\"text-align: right;\">-88.2888</td><td style=\"text-align: right;\">             18.4062</td><td style=\"text-align: right;\">            -284.966</td><td style=\"text-align: right;\">               100</td></tr>\n",
       "</tbody>\n",
       "</table><br><br>"
      ],
      "text/plain": [
       "<IPython.core.display.HTML object>"
      ]
     },
     "metadata": {},
     "output_type": "display_data"
    },
    {
     "data": {
      "text/html": [
       "== Status ==<br>Current time: 2022-01-12 15:44:23 (running for 00:03:15.62)<br>Memory usage on this node: 7.9/11.9 GiB<br>Using FIFO scheduling algorithm.<br>Resources requested: 3.0/3 CPUs, 0/0 GPUs, 0.0/2.79 GiB heap, 0.0/1.4 GiB objects<br>Result logdir: C:\\Users\\Stefan\\git-repos\\work\\mobile-env\\examples\\results_rllib\\PPO<br>Number of trials: 1/1 (1 RUNNING)<br><table>\n",
       "<thead>\n",
       "<tr><th>Trial name                        </th><th>status  </th><th>loc            </th><th style=\"text-align: right;\">  iter</th><th style=\"text-align: right;\">  total time (s)</th><th style=\"text-align: right;\">   ts</th><th style=\"text-align: right;\">  reward</th><th style=\"text-align: right;\">  episode_reward_max</th><th style=\"text-align: right;\">  episode_reward_min</th><th style=\"text-align: right;\">  episode_len_mean</th></tr>\n",
       "</thead>\n",
       "<tbody>\n",
       "<tr><td>PPO_mobile-small-ma-v0_ada63_00000</td><td>RUNNING </td><td>127.0.0.1:11532</td><td style=\"text-align: right;\">     4</td><td style=\"text-align: right;\">         158.438</td><td style=\"text-align: right;\">16000</td><td style=\"text-align: right;\">-88.2888</td><td style=\"text-align: right;\">             18.4062</td><td style=\"text-align: right;\">            -284.966</td><td style=\"text-align: right;\">               100</td></tr>\n",
       "</tbody>\n",
       "</table><br><br>"
      ],
      "text/plain": [
       "<IPython.core.display.HTML object>"
      ]
     },
     "metadata": {},
     "output_type": "display_data"
    },
    {
     "data": {
      "text/html": [
       "== Status ==<br>Current time: 2022-01-12 15:44:28 (running for 00:03:20.67)<br>Memory usage on this node: 7.9/11.9 GiB<br>Using FIFO scheduling algorithm.<br>Resources requested: 3.0/3 CPUs, 0/0 GPUs, 0.0/2.79 GiB heap, 0.0/1.4 GiB objects<br>Result logdir: C:\\Users\\Stefan\\git-repos\\work\\mobile-env\\examples\\results_rllib\\PPO<br>Number of trials: 1/1 (1 RUNNING)<br><table>\n",
       "<thead>\n",
       "<tr><th>Trial name                        </th><th>status  </th><th>loc            </th><th style=\"text-align: right;\">  iter</th><th style=\"text-align: right;\">  total time (s)</th><th style=\"text-align: right;\">   ts</th><th style=\"text-align: right;\">  reward</th><th style=\"text-align: right;\">  episode_reward_max</th><th style=\"text-align: right;\">  episode_reward_min</th><th style=\"text-align: right;\">  episode_len_mean</th></tr>\n",
       "</thead>\n",
       "<tbody>\n",
       "<tr><td>PPO_mobile-small-ma-v0_ada63_00000</td><td>RUNNING </td><td>127.0.0.1:11532</td><td style=\"text-align: right;\">     4</td><td style=\"text-align: right;\">         158.438</td><td style=\"text-align: right;\">16000</td><td style=\"text-align: right;\">-88.2888</td><td style=\"text-align: right;\">             18.4062</td><td style=\"text-align: right;\">            -284.966</td><td style=\"text-align: right;\">               100</td></tr>\n",
       "</tbody>\n",
       "</table><br><br>"
      ],
      "text/plain": [
       "<IPython.core.display.HTML object>"
      ]
     },
     "metadata": {},
     "output_type": "display_data"
    },
    {
     "data": {
      "text/html": [
       "== Status ==<br>Current time: 2022-01-12 15:44:33 (running for 00:03:25.74)<br>Memory usage on this node: 7.8/11.9 GiB<br>Using FIFO scheduling algorithm.<br>Resources requested: 3.0/3 CPUs, 0/0 GPUs, 0.0/2.79 GiB heap, 0.0/1.4 GiB objects<br>Result logdir: C:\\Users\\Stefan\\git-repos\\work\\mobile-env\\examples\\results_rllib\\PPO<br>Number of trials: 1/1 (1 RUNNING)<br><table>\n",
       "<thead>\n",
       "<tr><th>Trial name                        </th><th>status  </th><th>loc            </th><th style=\"text-align: right;\">  iter</th><th style=\"text-align: right;\">  total time (s)</th><th style=\"text-align: right;\">   ts</th><th style=\"text-align: right;\">  reward</th><th style=\"text-align: right;\">  episode_reward_max</th><th style=\"text-align: right;\">  episode_reward_min</th><th style=\"text-align: right;\">  episode_len_mean</th></tr>\n",
       "</thead>\n",
       "<tbody>\n",
       "<tr><td>PPO_mobile-small-ma-v0_ada63_00000</td><td>RUNNING </td><td>127.0.0.1:11532</td><td style=\"text-align: right;\">     4</td><td style=\"text-align: right;\">         158.438</td><td style=\"text-align: right;\">16000</td><td style=\"text-align: right;\">-88.2888</td><td style=\"text-align: right;\">             18.4062</td><td style=\"text-align: right;\">            -284.966</td><td style=\"text-align: right;\">               100</td></tr>\n",
       "</tbody>\n",
       "</table><br><br>"
      ],
      "text/plain": [
       "<IPython.core.display.HTML object>"
      ]
     },
     "metadata": {},
     "output_type": "display_data"
    },
    {
     "data": {
      "text/html": [
       "== Status ==<br>Current time: 2022-01-12 15:44:39 (running for 00:03:30.79)<br>Memory usage on this node: 7.8/11.9 GiB<br>Using FIFO scheduling algorithm.<br>Resources requested: 3.0/3 CPUs, 0/0 GPUs, 0.0/2.79 GiB heap, 0.0/1.4 GiB objects<br>Result logdir: C:\\Users\\Stefan\\git-repos\\work\\mobile-env\\examples\\results_rllib\\PPO<br>Number of trials: 1/1 (1 RUNNING)<br><table>\n",
       "<thead>\n",
       "<tr><th>Trial name                        </th><th>status  </th><th>loc            </th><th style=\"text-align: right;\">  iter</th><th style=\"text-align: right;\">  total time (s)</th><th style=\"text-align: right;\">   ts</th><th style=\"text-align: right;\">  reward</th><th style=\"text-align: right;\">  episode_reward_max</th><th style=\"text-align: right;\">  episode_reward_min</th><th style=\"text-align: right;\">  episode_len_mean</th></tr>\n",
       "</thead>\n",
       "<tbody>\n",
       "<tr><td>PPO_mobile-small-ma-v0_ada63_00000</td><td>RUNNING </td><td>127.0.0.1:11532</td><td style=\"text-align: right;\">     4</td><td style=\"text-align: right;\">         158.438</td><td style=\"text-align: right;\">16000</td><td style=\"text-align: right;\">-88.2888</td><td style=\"text-align: right;\">             18.4062</td><td style=\"text-align: right;\">            -284.966</td><td style=\"text-align: right;\">               100</td></tr>\n",
       "</tbody>\n",
       "</table><br><br>"
      ],
      "text/plain": [
       "<IPython.core.display.HTML object>"
      ]
     },
     "metadata": {},
     "output_type": "display_data"
    },
    {
     "name": "stdout",
     "output_type": "stream",
     "text": [
      "Result for PPO_mobile-small-ma-v0_ada63_00000:\n",
      "  agent_timesteps_total: 100000\n",
      "  custom_metrics: {}\n",
      "  date: 2022-01-12_15-44-43\n",
      "  done: false\n",
      "  episode_len_mean: 100.0\n",
      "  episode_media: {}\n",
      "  episode_reward_max: 18.40618350165577\n",
      "  episode_reward_mean: -77.5282783819838\n",
      "  episode_reward_min: -276.0569903908171\n",
      "  episodes_this_iter: 40\n",
      "  episodes_total: 200\n",
      "  experiment_id: 72e8a6f4607d4d5abbf07de3bfebe6cd\n",
      "  hostname: nb-stschn\n",
      "  info:\n",
      "    learner:\n",
      "      shared_policy:\n",
      "        custom_metrics: {}\n",
      "        learner_stats:\n",
      "          cur_kl_coeff: 0.20000000298023224\n",
      "          cur_lr: 4.999999873689376e-05\n",
      "          entropy: 1.2355804443359375\n",
      "          entropy_coeff: 0.0\n",
      "          kl: 0.009677665308117867\n",
      "          model: {}\n",
      "          policy_loss: -0.005862781312316656\n",
      "          total_loss: 75.90473937988281\n",
      "          vf_explained_var: -0.10566400736570358\n",
      "          vf_loss: 75.9086685180664\n",
      "    num_agent_steps_sampled: 100000\n",
      "    num_agent_steps_trained: 100000\n",
      "    num_steps_sampled: 20000\n",
      "    num_steps_trained: 20000\n",
      "    num_steps_trained_this_iter: 0\n",
      "  iterations_since_restore: 5\n",
      "  node_ip: 127.0.0.1\n",
      "  num_healthy_workers: 2\n",
      "  off_policy_estimator: {}\n",
      "  perf:\n",
      "    cpu_util_percent: 67.538\n",
      "    ram_util_percent: 65.98400000000001\n",
      "  pid: 11532\n",
      "  policy_reward_max:\n",
      "    shared_policy: 28.242952786302958\n",
      "  policy_reward_mean:\n",
      "    shared_policy: -15.505655676396756\n",
      "  policy_reward_min:\n",
      "    shared_policy: -87.74165433561299\n",
      "  sampler_perf:\n",
      "    mean_action_processing_ms: 0.19803323989156701\n",
      "    mean_env_render_ms: 0.0\n",
      "    mean_env_wait_ms: 7.444415987144432\n",
      "    mean_inference_ms: 1.7927660678881603\n",
      "    mean_raw_obs_processing_ms: 0.5430845330113676\n",
      "  time_since_restore: 193.9103283882141\n",
      "  time_this_iter_s: 35.47228288650513\n",
      "  time_total_s: 193.9103283882141\n",
      "  timers:\n",
      "    learn_throughput: 210.775\n",
      "    learn_time_ms: 18977.609\n",
      "    load_throughput: 0.0\n",
      "    load_time_ms: 0.0\n",
      "    sample_throughput: 113.737\n",
      "    sample_time_ms: 35168.863\n",
      "    update_time_ms: 2.997\n",
      "  timestamp: 1641998683\n",
      "  timesteps_since_restore: 0\n",
      "  timesteps_this_iter: 0\n",
      "  timesteps_total: 20000\n",
      "  training_iteration: 5\n",
      "  trial_id: ada63_00000\n",
      "  \n"
     ]
    },
    {
     "data": {
      "text/html": [
       "== Status ==<br>Current time: 2022-01-12 15:44:44 (running for 00:03:36.03)<br>Memory usage on this node: 7.7/11.9 GiB<br>Using FIFO scheduling algorithm.<br>Resources requested: 3.0/3 CPUs, 0/0 GPUs, 0.0/2.79 GiB heap, 0.0/1.4 GiB objects<br>Result logdir: C:\\Users\\Stefan\\git-repos\\work\\mobile-env\\examples\\results_rllib\\PPO<br>Number of trials: 1/1 (1 RUNNING)<br><table>\n",
       "<thead>\n",
       "<tr><th>Trial name                        </th><th>status  </th><th>loc            </th><th style=\"text-align: right;\">  iter</th><th style=\"text-align: right;\">  total time (s)</th><th style=\"text-align: right;\">   ts</th><th style=\"text-align: right;\">  reward</th><th style=\"text-align: right;\">  episode_reward_max</th><th style=\"text-align: right;\">  episode_reward_min</th><th style=\"text-align: right;\">  episode_len_mean</th></tr>\n",
       "</thead>\n",
       "<tbody>\n",
       "<tr><td>PPO_mobile-small-ma-v0_ada63_00000</td><td>RUNNING </td><td>127.0.0.1:11532</td><td style=\"text-align: right;\">     5</td><td style=\"text-align: right;\">          193.91</td><td style=\"text-align: right;\">20000</td><td style=\"text-align: right;\">-77.5283</td><td style=\"text-align: right;\">             18.4062</td><td style=\"text-align: right;\">            -276.057</td><td style=\"text-align: right;\">               100</td></tr>\n",
       "</tbody>\n",
       "</table><br><br>"
      ],
      "text/plain": [
       "<IPython.core.display.HTML object>"
      ]
     },
     "metadata": {},
     "output_type": "display_data"
    },
    {
     "data": {
      "text/html": [
       "== Status ==<br>Current time: 2022-01-12 15:44:49 (running for 00:03:41.08)<br>Memory usage on this node: 7.7/11.9 GiB<br>Using FIFO scheduling algorithm.<br>Resources requested: 3.0/3 CPUs, 0/0 GPUs, 0.0/2.79 GiB heap, 0.0/1.4 GiB objects<br>Result logdir: C:\\Users\\Stefan\\git-repos\\work\\mobile-env\\examples\\results_rllib\\PPO<br>Number of trials: 1/1 (1 RUNNING)<br><table>\n",
       "<thead>\n",
       "<tr><th>Trial name                        </th><th>status  </th><th>loc            </th><th style=\"text-align: right;\">  iter</th><th style=\"text-align: right;\">  total time (s)</th><th style=\"text-align: right;\">   ts</th><th style=\"text-align: right;\">  reward</th><th style=\"text-align: right;\">  episode_reward_max</th><th style=\"text-align: right;\">  episode_reward_min</th><th style=\"text-align: right;\">  episode_len_mean</th></tr>\n",
       "</thead>\n",
       "<tbody>\n",
       "<tr><td>PPO_mobile-small-ma-v0_ada63_00000</td><td>RUNNING </td><td>127.0.0.1:11532</td><td style=\"text-align: right;\">     5</td><td style=\"text-align: right;\">          193.91</td><td style=\"text-align: right;\">20000</td><td style=\"text-align: right;\">-77.5283</td><td style=\"text-align: right;\">             18.4062</td><td style=\"text-align: right;\">            -276.057</td><td style=\"text-align: right;\">               100</td></tr>\n",
       "</tbody>\n",
       "</table><br><br>"
      ],
      "text/plain": [
       "<IPython.core.display.HTML object>"
      ]
     },
     "metadata": {},
     "output_type": "display_data"
    },
    {
     "data": {
      "text/html": [
       "== Status ==<br>Current time: 2022-01-12 15:44:54 (running for 00:03:46.16)<br>Memory usage on this node: 7.7/11.9 GiB<br>Using FIFO scheduling algorithm.<br>Resources requested: 3.0/3 CPUs, 0/0 GPUs, 0.0/2.79 GiB heap, 0.0/1.4 GiB objects<br>Result logdir: C:\\Users\\Stefan\\git-repos\\work\\mobile-env\\examples\\results_rllib\\PPO<br>Number of trials: 1/1 (1 RUNNING)<br><table>\n",
       "<thead>\n",
       "<tr><th>Trial name                        </th><th>status  </th><th>loc            </th><th style=\"text-align: right;\">  iter</th><th style=\"text-align: right;\">  total time (s)</th><th style=\"text-align: right;\">   ts</th><th style=\"text-align: right;\">  reward</th><th style=\"text-align: right;\">  episode_reward_max</th><th style=\"text-align: right;\">  episode_reward_min</th><th style=\"text-align: right;\">  episode_len_mean</th></tr>\n",
       "</thead>\n",
       "<tbody>\n",
       "<tr><td>PPO_mobile-small-ma-v0_ada63_00000</td><td>RUNNING </td><td>127.0.0.1:11532</td><td style=\"text-align: right;\">     5</td><td style=\"text-align: right;\">          193.91</td><td style=\"text-align: right;\">20000</td><td style=\"text-align: right;\">-77.5283</td><td style=\"text-align: right;\">             18.4062</td><td style=\"text-align: right;\">            -276.057</td><td style=\"text-align: right;\">               100</td></tr>\n",
       "</tbody>\n",
       "</table><br><br>"
      ],
      "text/plain": [
       "<IPython.core.display.HTML object>"
      ]
     },
     "metadata": {},
     "output_type": "display_data"
    },
    {
     "data": {
      "text/html": [
       "== Status ==<br>Current time: 2022-01-12 15:44:59 (running for 00:03:51.21)<br>Memory usage on this node: 7.7/11.9 GiB<br>Using FIFO scheduling algorithm.<br>Resources requested: 3.0/3 CPUs, 0/0 GPUs, 0.0/2.79 GiB heap, 0.0/1.4 GiB objects<br>Result logdir: C:\\Users\\Stefan\\git-repos\\work\\mobile-env\\examples\\results_rllib\\PPO<br>Number of trials: 1/1 (1 RUNNING)<br><table>\n",
       "<thead>\n",
       "<tr><th>Trial name                        </th><th>status  </th><th>loc            </th><th style=\"text-align: right;\">  iter</th><th style=\"text-align: right;\">  total time (s)</th><th style=\"text-align: right;\">   ts</th><th style=\"text-align: right;\">  reward</th><th style=\"text-align: right;\">  episode_reward_max</th><th style=\"text-align: right;\">  episode_reward_min</th><th style=\"text-align: right;\">  episode_len_mean</th></tr>\n",
       "</thead>\n",
       "<tbody>\n",
       "<tr><td>PPO_mobile-small-ma-v0_ada63_00000</td><td>RUNNING </td><td>127.0.0.1:11532</td><td style=\"text-align: right;\">     5</td><td style=\"text-align: right;\">          193.91</td><td style=\"text-align: right;\">20000</td><td style=\"text-align: right;\">-77.5283</td><td style=\"text-align: right;\">             18.4062</td><td style=\"text-align: right;\">            -276.057</td><td style=\"text-align: right;\">               100</td></tr>\n",
       "</tbody>\n",
       "</table><br><br>"
      ],
      "text/plain": [
       "<IPython.core.display.HTML object>"
      ]
     },
     "metadata": {},
     "output_type": "display_data"
    },
    {
     "data": {
      "text/html": [
       "== Status ==<br>Current time: 2022-01-12 15:45:04 (running for 00:03:56.30)<br>Memory usage on this node: 7.7/11.9 GiB<br>Using FIFO scheduling algorithm.<br>Resources requested: 3.0/3 CPUs, 0/0 GPUs, 0.0/2.79 GiB heap, 0.0/1.4 GiB objects<br>Result logdir: C:\\Users\\Stefan\\git-repos\\work\\mobile-env\\examples\\results_rllib\\PPO<br>Number of trials: 1/1 (1 RUNNING)<br><table>\n",
       "<thead>\n",
       "<tr><th>Trial name                        </th><th>status  </th><th>loc            </th><th style=\"text-align: right;\">  iter</th><th style=\"text-align: right;\">  total time (s)</th><th style=\"text-align: right;\">   ts</th><th style=\"text-align: right;\">  reward</th><th style=\"text-align: right;\">  episode_reward_max</th><th style=\"text-align: right;\">  episode_reward_min</th><th style=\"text-align: right;\">  episode_len_mean</th></tr>\n",
       "</thead>\n",
       "<tbody>\n",
       "<tr><td>PPO_mobile-small-ma-v0_ada63_00000</td><td>RUNNING </td><td>127.0.0.1:11532</td><td style=\"text-align: right;\">     5</td><td style=\"text-align: right;\">          193.91</td><td style=\"text-align: right;\">20000</td><td style=\"text-align: right;\">-77.5283</td><td style=\"text-align: right;\">             18.4062</td><td style=\"text-align: right;\">            -276.057</td><td style=\"text-align: right;\">               100</td></tr>\n",
       "</tbody>\n",
       "</table><br><br>"
      ],
      "text/plain": [
       "<IPython.core.display.HTML object>"
      ]
     },
     "metadata": {},
     "output_type": "display_data"
    },
    {
     "data": {
      "text/html": [
       "== Status ==<br>Current time: 2022-01-12 15:45:09 (running for 00:04:01.37)<br>Memory usage on this node: 7.6/11.9 GiB<br>Using FIFO scheduling algorithm.<br>Resources requested: 3.0/3 CPUs, 0/0 GPUs, 0.0/2.79 GiB heap, 0.0/1.4 GiB objects<br>Result logdir: C:\\Users\\Stefan\\git-repos\\work\\mobile-env\\examples\\results_rllib\\PPO<br>Number of trials: 1/1 (1 RUNNING)<br><table>\n",
       "<thead>\n",
       "<tr><th>Trial name                        </th><th>status  </th><th>loc            </th><th style=\"text-align: right;\">  iter</th><th style=\"text-align: right;\">  total time (s)</th><th style=\"text-align: right;\">   ts</th><th style=\"text-align: right;\">  reward</th><th style=\"text-align: right;\">  episode_reward_max</th><th style=\"text-align: right;\">  episode_reward_min</th><th style=\"text-align: right;\">  episode_len_mean</th></tr>\n",
       "</thead>\n",
       "<tbody>\n",
       "<tr><td>PPO_mobile-small-ma-v0_ada63_00000</td><td>RUNNING </td><td>127.0.0.1:11532</td><td style=\"text-align: right;\">     5</td><td style=\"text-align: right;\">          193.91</td><td style=\"text-align: right;\">20000</td><td style=\"text-align: right;\">-77.5283</td><td style=\"text-align: right;\">             18.4062</td><td style=\"text-align: right;\">            -276.057</td><td style=\"text-align: right;\">               100</td></tr>\n",
       "</tbody>\n",
       "</table><br><br>"
      ],
      "text/plain": [
       "<IPython.core.display.HTML object>"
      ]
     },
     "metadata": {},
     "output_type": "display_data"
    },
    {
     "data": {
      "text/html": [
       "== Status ==<br>Current time: 2022-01-12 15:45:14 (running for 00:04:06.44)<br>Memory usage on this node: 7.7/11.9 GiB<br>Using FIFO scheduling algorithm.<br>Resources requested: 3.0/3 CPUs, 0/0 GPUs, 0.0/2.79 GiB heap, 0.0/1.4 GiB objects<br>Result logdir: C:\\Users\\Stefan\\git-repos\\work\\mobile-env\\examples\\results_rllib\\PPO<br>Number of trials: 1/1 (1 RUNNING)<br><table>\n",
       "<thead>\n",
       "<tr><th>Trial name                        </th><th>status  </th><th>loc            </th><th style=\"text-align: right;\">  iter</th><th style=\"text-align: right;\">  total time (s)</th><th style=\"text-align: right;\">   ts</th><th style=\"text-align: right;\">  reward</th><th style=\"text-align: right;\">  episode_reward_max</th><th style=\"text-align: right;\">  episode_reward_min</th><th style=\"text-align: right;\">  episode_len_mean</th></tr>\n",
       "</thead>\n",
       "<tbody>\n",
       "<tr><td>PPO_mobile-small-ma-v0_ada63_00000</td><td>RUNNING </td><td>127.0.0.1:11532</td><td style=\"text-align: right;\">     5</td><td style=\"text-align: right;\">          193.91</td><td style=\"text-align: right;\">20000</td><td style=\"text-align: right;\">-77.5283</td><td style=\"text-align: right;\">             18.4062</td><td style=\"text-align: right;\">            -276.057</td><td style=\"text-align: right;\">               100</td></tr>\n",
       "</tbody>\n",
       "</table><br><br>"
      ],
      "text/plain": [
       "<IPython.core.display.HTML object>"
      ]
     },
     "metadata": {},
     "output_type": "display_data"
    },
    {
     "data": {
      "text/html": [
       "== Status ==<br>Current time: 2022-01-12 15:45:19 (running for 00:04:11.48)<br>Memory usage on this node: 7.7/11.9 GiB<br>Using FIFO scheduling algorithm.<br>Resources requested: 3.0/3 CPUs, 0/0 GPUs, 0.0/2.79 GiB heap, 0.0/1.4 GiB objects<br>Result logdir: C:\\Users\\Stefan\\git-repos\\work\\mobile-env\\examples\\results_rllib\\PPO<br>Number of trials: 1/1 (1 RUNNING)<br><table>\n",
       "<thead>\n",
       "<tr><th>Trial name                        </th><th>status  </th><th>loc            </th><th style=\"text-align: right;\">  iter</th><th style=\"text-align: right;\">  total time (s)</th><th style=\"text-align: right;\">   ts</th><th style=\"text-align: right;\">  reward</th><th style=\"text-align: right;\">  episode_reward_max</th><th style=\"text-align: right;\">  episode_reward_min</th><th style=\"text-align: right;\">  episode_len_mean</th></tr>\n",
       "</thead>\n",
       "<tbody>\n",
       "<tr><td>PPO_mobile-small-ma-v0_ada63_00000</td><td>RUNNING </td><td>127.0.0.1:11532</td><td style=\"text-align: right;\">     5</td><td style=\"text-align: right;\">          193.91</td><td style=\"text-align: right;\">20000</td><td style=\"text-align: right;\">-77.5283</td><td style=\"text-align: right;\">             18.4062</td><td style=\"text-align: right;\">            -276.057</td><td style=\"text-align: right;\">               100</td></tr>\n",
       "</tbody>\n",
       "</table><br><br>"
      ],
      "text/plain": [
       "<IPython.core.display.HTML object>"
      ]
     },
     "metadata": {},
     "output_type": "display_data"
    },
    {
     "name": "stdout",
     "output_type": "stream",
     "text": [
      "Result for PPO_mobile-small-ma-v0_ada63_00000:\n",
      "  agent_timesteps_total: 120000\n",
      "  custom_metrics: {}\n",
      "  date: 2022-01-12_15-45-23\n",
      "  done: false\n",
      "  episode_len_mean: 100.0\n",
      "  episode_media: {}\n",
      "  episode_reward_max: 22.733240401394905\n",
      "  episode_reward_mean: -64.0721329231562\n",
      "  episode_reward_min: -171.8911592656235\n",
      "  episodes_this_iter: 40\n",
      "  episodes_total: 240\n",
      "  experiment_id: 72e8a6f4607d4d5abbf07de3bfebe6cd\n",
      "  hostname: nb-stschn\n",
      "  info:\n",
      "    learner:\n",
      "      shared_policy:\n",
      "        custom_metrics: {}\n",
      "        learner_stats:\n",
      "          cur_kl_coeff: 0.20000000298023224\n",
      "          cur_lr: 4.999999873689376e-05\n",
      "          entropy: 1.198438048362732\n",
      "          entropy_coeff: 0.0\n",
      "          kl: 0.008811313658952713\n",
      "          model: {}\n",
      "          policy_loss: -0.00553107401356101\n",
      "          total_loss: 67.09331512451172\n",
      "          vf_explained_var: -0.16791217029094696\n",
      "          vf_loss: 67.09709167480469\n",
      "    num_agent_steps_sampled: 120000\n",
      "    num_agent_steps_trained: 120000\n",
      "    num_steps_sampled: 24000\n",
      "    num_steps_trained: 24000\n",
      "    num_steps_trained_this_iter: 0\n",
      "  iterations_since_restore: 6\n",
      "  node_ip: 127.0.0.1\n",
      "  num_healthy_workers: 2\n",
      "  off_policy_estimator: {}\n",
      "  perf:\n",
      "    cpu_util_percent: 71.19821428571429\n",
      "    ram_util_percent: 64.4625\n",
      "  pid: 11532\n",
      "  policy_reward_max:\n",
      "    shared_policy: 32.605002468438066\n",
      "  policy_reward_mean:\n",
      "    shared_policy: -12.814426584631237\n",
      "  policy_reward_min:\n",
      "    shared_policy: -87.74165433561299\n",
      "  sampler_perf:\n",
      "    mean_action_processing_ms: 0.1952760104752956\n",
      "    mean_env_render_ms: 0.0\n",
      "    mean_env_wait_ms: 7.366974372091746\n",
      "    mean_inference_ms: 1.7672015553719225\n",
      "    mean_raw_obs_processing_ms: 0.535636593804604\n",
      "  time_since_restore: 233.74779963493347\n",
      "  time_this_iter_s: 39.83747124671936\n",
      "  time_total_s: 233.74779963493347\n",
      "  timers:\n",
      "    learn_throughput: 209.216\n",
      "    learn_time_ms: 19119.018\n",
      "    load_throughput: 0.0\n",
      "    load_time_ms: 0.0\n",
      "    sample_throughput: 112.007\n",
      "    sample_time_ms: 35711.917\n",
      "    update_time_ms: 3.163\n",
      "  timestamp: 1641998723\n",
      "  timesteps_since_restore: 0\n",
      "  timesteps_this_iter: 0\n",
      "  timesteps_total: 24000\n",
      "  training_iteration: 6\n",
      "  trial_id: ada63_00000\n",
      "  \n"
     ]
    },
    {
     "data": {
      "text/html": [
       "== Status ==<br>Current time: 2022-01-12 15:45:25 (running for 00:04:16.95)<br>Memory usage on this node: 7.7/11.9 GiB<br>Using FIFO scheduling algorithm.<br>Resources requested: 3.0/3 CPUs, 0/0 GPUs, 0.0/2.79 GiB heap, 0.0/1.4 GiB objects<br>Result logdir: C:\\Users\\Stefan\\git-repos\\work\\mobile-env\\examples\\results_rllib\\PPO<br>Number of trials: 1/1 (1 RUNNING)<br><table>\n",
       "<thead>\n",
       "<tr><th>Trial name                        </th><th>status  </th><th>loc            </th><th style=\"text-align: right;\">  iter</th><th style=\"text-align: right;\">  total time (s)</th><th style=\"text-align: right;\">   ts</th><th style=\"text-align: right;\">  reward</th><th style=\"text-align: right;\">  episode_reward_max</th><th style=\"text-align: right;\">  episode_reward_min</th><th style=\"text-align: right;\">  episode_len_mean</th></tr>\n",
       "</thead>\n",
       "<tbody>\n",
       "<tr><td>PPO_mobile-small-ma-v0_ada63_00000</td><td>RUNNING </td><td>127.0.0.1:11532</td><td style=\"text-align: right;\">     6</td><td style=\"text-align: right;\">         233.748</td><td style=\"text-align: right;\">24000</td><td style=\"text-align: right;\">-64.0721</td><td style=\"text-align: right;\">             22.7332</td><td style=\"text-align: right;\">            -171.891</td><td style=\"text-align: right;\">               100</td></tr>\n",
       "</tbody>\n",
       "</table><br><br>"
      ],
      "text/plain": [
       "<IPython.core.display.HTML object>"
      ]
     },
     "metadata": {},
     "output_type": "display_data"
    },
    {
     "data": {
      "text/html": [
       "== Status ==<br>Current time: 2022-01-12 15:45:30 (running for 00:04:21.99)<br>Memory usage on this node: 7.7/11.9 GiB<br>Using FIFO scheduling algorithm.<br>Resources requested: 3.0/3 CPUs, 0/0 GPUs, 0.0/2.79 GiB heap, 0.0/1.4 GiB objects<br>Result logdir: C:\\Users\\Stefan\\git-repos\\work\\mobile-env\\examples\\results_rllib\\PPO<br>Number of trials: 1/1 (1 RUNNING)<br><table>\n",
       "<thead>\n",
       "<tr><th>Trial name                        </th><th>status  </th><th>loc            </th><th style=\"text-align: right;\">  iter</th><th style=\"text-align: right;\">  total time (s)</th><th style=\"text-align: right;\">   ts</th><th style=\"text-align: right;\">  reward</th><th style=\"text-align: right;\">  episode_reward_max</th><th style=\"text-align: right;\">  episode_reward_min</th><th style=\"text-align: right;\">  episode_len_mean</th></tr>\n",
       "</thead>\n",
       "<tbody>\n",
       "<tr><td>PPO_mobile-small-ma-v0_ada63_00000</td><td>RUNNING </td><td>127.0.0.1:11532</td><td style=\"text-align: right;\">     6</td><td style=\"text-align: right;\">         233.748</td><td style=\"text-align: right;\">24000</td><td style=\"text-align: right;\">-64.0721</td><td style=\"text-align: right;\">             22.7332</td><td style=\"text-align: right;\">            -171.891</td><td style=\"text-align: right;\">               100</td></tr>\n",
       "</tbody>\n",
       "</table><br><br>"
      ],
      "text/plain": [
       "<IPython.core.display.HTML object>"
      ]
     },
     "metadata": {},
     "output_type": "display_data"
    },
    {
     "data": {
      "text/html": [
       "== Status ==<br>Current time: 2022-01-12 15:45:35 (running for 00:04:27.06)<br>Memory usage on this node: 7.7/11.9 GiB<br>Using FIFO scheduling algorithm.<br>Resources requested: 3.0/3 CPUs, 0/0 GPUs, 0.0/2.79 GiB heap, 0.0/1.4 GiB objects<br>Result logdir: C:\\Users\\Stefan\\git-repos\\work\\mobile-env\\examples\\results_rllib\\PPO<br>Number of trials: 1/1 (1 RUNNING)<br><table>\n",
       "<thead>\n",
       "<tr><th>Trial name                        </th><th>status  </th><th>loc            </th><th style=\"text-align: right;\">  iter</th><th style=\"text-align: right;\">  total time (s)</th><th style=\"text-align: right;\">   ts</th><th style=\"text-align: right;\">  reward</th><th style=\"text-align: right;\">  episode_reward_max</th><th style=\"text-align: right;\">  episode_reward_min</th><th style=\"text-align: right;\">  episode_len_mean</th></tr>\n",
       "</thead>\n",
       "<tbody>\n",
       "<tr><td>PPO_mobile-small-ma-v0_ada63_00000</td><td>RUNNING </td><td>127.0.0.1:11532</td><td style=\"text-align: right;\">     6</td><td style=\"text-align: right;\">         233.748</td><td style=\"text-align: right;\">24000</td><td style=\"text-align: right;\">-64.0721</td><td style=\"text-align: right;\">             22.7332</td><td style=\"text-align: right;\">            -171.891</td><td style=\"text-align: right;\">               100</td></tr>\n",
       "</tbody>\n",
       "</table><br><br>"
      ],
      "text/plain": [
       "<IPython.core.display.HTML object>"
      ]
     },
     "metadata": {},
     "output_type": "display_data"
    },
    {
     "data": {
      "text/html": [
       "== Status ==<br>Current time: 2022-01-12 15:45:40 (running for 00:04:32.11)<br>Memory usage on this node: 7.7/11.9 GiB<br>Using FIFO scheduling algorithm.<br>Resources requested: 3.0/3 CPUs, 0/0 GPUs, 0.0/2.79 GiB heap, 0.0/1.4 GiB objects<br>Result logdir: C:\\Users\\Stefan\\git-repos\\work\\mobile-env\\examples\\results_rllib\\PPO<br>Number of trials: 1/1 (1 RUNNING)<br><table>\n",
       "<thead>\n",
       "<tr><th>Trial name                        </th><th>status  </th><th>loc            </th><th style=\"text-align: right;\">  iter</th><th style=\"text-align: right;\">  total time (s)</th><th style=\"text-align: right;\">   ts</th><th style=\"text-align: right;\">  reward</th><th style=\"text-align: right;\">  episode_reward_max</th><th style=\"text-align: right;\">  episode_reward_min</th><th style=\"text-align: right;\">  episode_len_mean</th></tr>\n",
       "</thead>\n",
       "<tbody>\n",
       "<tr><td>PPO_mobile-small-ma-v0_ada63_00000</td><td>RUNNING </td><td>127.0.0.1:11532</td><td style=\"text-align: right;\">     6</td><td style=\"text-align: right;\">         233.748</td><td style=\"text-align: right;\">24000</td><td style=\"text-align: right;\">-64.0721</td><td style=\"text-align: right;\">             22.7332</td><td style=\"text-align: right;\">            -171.891</td><td style=\"text-align: right;\">               100</td></tr>\n",
       "</tbody>\n",
       "</table><br><br>"
      ],
      "text/plain": [
       "<IPython.core.display.HTML object>"
      ]
     },
     "metadata": {},
     "output_type": "display_data"
    },
    {
     "data": {
      "text/html": [
       "== Status ==<br>Current time: 2022-01-12 15:45:45 (running for 00:04:37.17)<br>Memory usage on this node: 7.7/11.9 GiB<br>Using FIFO scheduling algorithm.<br>Resources requested: 3.0/3 CPUs, 0/0 GPUs, 0.0/2.79 GiB heap, 0.0/1.4 GiB objects<br>Result logdir: C:\\Users\\Stefan\\git-repos\\work\\mobile-env\\examples\\results_rllib\\PPO<br>Number of trials: 1/1 (1 RUNNING)<br><table>\n",
       "<thead>\n",
       "<tr><th>Trial name                        </th><th>status  </th><th>loc            </th><th style=\"text-align: right;\">  iter</th><th style=\"text-align: right;\">  total time (s)</th><th style=\"text-align: right;\">   ts</th><th style=\"text-align: right;\">  reward</th><th style=\"text-align: right;\">  episode_reward_max</th><th style=\"text-align: right;\">  episode_reward_min</th><th style=\"text-align: right;\">  episode_len_mean</th></tr>\n",
       "</thead>\n",
       "<tbody>\n",
       "<tr><td>PPO_mobile-small-ma-v0_ada63_00000</td><td>RUNNING </td><td>127.0.0.1:11532</td><td style=\"text-align: right;\">     6</td><td style=\"text-align: right;\">         233.748</td><td style=\"text-align: right;\">24000</td><td style=\"text-align: right;\">-64.0721</td><td style=\"text-align: right;\">             22.7332</td><td style=\"text-align: right;\">            -171.891</td><td style=\"text-align: right;\">               100</td></tr>\n",
       "</tbody>\n",
       "</table><br><br>"
      ],
      "text/plain": [
       "<IPython.core.display.HTML object>"
      ]
     },
     "metadata": {},
     "output_type": "display_data"
    },
    {
     "data": {
      "text/html": [
       "== Status ==<br>Current time: 2022-01-12 15:45:50 (running for 00:04:42.25)<br>Memory usage on this node: 7.7/11.9 GiB<br>Using FIFO scheduling algorithm.<br>Resources requested: 3.0/3 CPUs, 0/0 GPUs, 0.0/2.79 GiB heap, 0.0/1.4 GiB objects<br>Result logdir: C:\\Users\\Stefan\\git-repos\\work\\mobile-env\\examples\\results_rllib\\PPO<br>Number of trials: 1/1 (1 RUNNING)<br><table>\n",
       "<thead>\n",
       "<tr><th>Trial name                        </th><th>status  </th><th>loc            </th><th style=\"text-align: right;\">  iter</th><th style=\"text-align: right;\">  total time (s)</th><th style=\"text-align: right;\">   ts</th><th style=\"text-align: right;\">  reward</th><th style=\"text-align: right;\">  episode_reward_max</th><th style=\"text-align: right;\">  episode_reward_min</th><th style=\"text-align: right;\">  episode_len_mean</th></tr>\n",
       "</thead>\n",
       "<tbody>\n",
       "<tr><td>PPO_mobile-small-ma-v0_ada63_00000</td><td>RUNNING </td><td>127.0.0.1:11532</td><td style=\"text-align: right;\">     6</td><td style=\"text-align: right;\">         233.748</td><td style=\"text-align: right;\">24000</td><td style=\"text-align: right;\">-64.0721</td><td style=\"text-align: right;\">             22.7332</td><td style=\"text-align: right;\">            -171.891</td><td style=\"text-align: right;\">               100</td></tr>\n",
       "</tbody>\n",
       "</table><br><br>"
      ],
      "text/plain": [
       "<IPython.core.display.HTML object>"
      ]
     },
     "metadata": {},
     "output_type": "display_data"
    },
    {
     "data": {
      "text/html": [
       "== Status ==<br>Current time: 2022-01-12 15:45:55 (running for 00:04:47.32)<br>Memory usage on this node: 7.7/11.9 GiB<br>Using FIFO scheduling algorithm.<br>Resources requested: 3.0/3 CPUs, 0/0 GPUs, 0.0/2.79 GiB heap, 0.0/1.4 GiB objects<br>Result logdir: C:\\Users\\Stefan\\git-repos\\work\\mobile-env\\examples\\results_rllib\\PPO<br>Number of trials: 1/1 (1 RUNNING)<br><table>\n",
       "<thead>\n",
       "<tr><th>Trial name                        </th><th>status  </th><th>loc            </th><th style=\"text-align: right;\">  iter</th><th style=\"text-align: right;\">  total time (s)</th><th style=\"text-align: right;\">   ts</th><th style=\"text-align: right;\">  reward</th><th style=\"text-align: right;\">  episode_reward_max</th><th style=\"text-align: right;\">  episode_reward_min</th><th style=\"text-align: right;\">  episode_len_mean</th></tr>\n",
       "</thead>\n",
       "<tbody>\n",
       "<tr><td>PPO_mobile-small-ma-v0_ada63_00000</td><td>RUNNING </td><td>127.0.0.1:11532</td><td style=\"text-align: right;\">     6</td><td style=\"text-align: right;\">         233.748</td><td style=\"text-align: right;\">24000</td><td style=\"text-align: right;\">-64.0721</td><td style=\"text-align: right;\">             22.7332</td><td style=\"text-align: right;\">            -171.891</td><td style=\"text-align: right;\">               100</td></tr>\n",
       "</tbody>\n",
       "</table><br><br>"
      ],
      "text/plain": [
       "<IPython.core.display.HTML object>"
      ]
     },
     "metadata": {},
     "output_type": "display_data"
    },
    {
     "data": {
      "text/html": [
       "== Status ==<br>Current time: 2022-01-12 15:46:00 (running for 00:04:52.41)<br>Memory usage on this node: 7.7/11.9 GiB<br>Using FIFO scheduling algorithm.<br>Resources requested: 3.0/3 CPUs, 0/0 GPUs, 0.0/2.79 GiB heap, 0.0/1.4 GiB objects<br>Result logdir: C:\\Users\\Stefan\\git-repos\\work\\mobile-env\\examples\\results_rllib\\PPO<br>Number of trials: 1/1 (1 RUNNING)<br><table>\n",
       "<thead>\n",
       "<tr><th>Trial name                        </th><th>status  </th><th>loc            </th><th style=\"text-align: right;\">  iter</th><th style=\"text-align: right;\">  total time (s)</th><th style=\"text-align: right;\">   ts</th><th style=\"text-align: right;\">  reward</th><th style=\"text-align: right;\">  episode_reward_max</th><th style=\"text-align: right;\">  episode_reward_min</th><th style=\"text-align: right;\">  episode_len_mean</th></tr>\n",
       "</thead>\n",
       "<tbody>\n",
       "<tr><td>PPO_mobile-small-ma-v0_ada63_00000</td><td>RUNNING </td><td>127.0.0.1:11532</td><td style=\"text-align: right;\">     6</td><td style=\"text-align: right;\">         233.748</td><td style=\"text-align: right;\">24000</td><td style=\"text-align: right;\">-64.0721</td><td style=\"text-align: right;\">             22.7332</td><td style=\"text-align: right;\">            -171.891</td><td style=\"text-align: right;\">               100</td></tr>\n",
       "</tbody>\n",
       "</table><br><br>"
      ],
      "text/plain": [
       "<IPython.core.display.HTML object>"
      ]
     },
     "metadata": {},
     "output_type": "display_data"
    },
    {
     "name": "stdout",
     "output_type": "stream",
     "text": [
      "Result for PPO_mobile-small-ma-v0_ada63_00000:\n",
      "  agent_timesteps_total: 140000\n",
      "  custom_metrics: {}\n",
      "  date: 2022-01-12_15-46-00\n",
      "  done: false\n",
      "  episode_len_mean: 100.0\n",
      "  episode_media: {}\n",
      "  episode_reward_max: 22.733240401394905\n",
      "  episode_reward_mean: -57.56726855610601\n",
      "  episode_reward_min: -171.8911592656235\n",
      "  episodes_this_iter: 40\n",
      "  episodes_total: 280\n",
      "  experiment_id: 72e8a6f4607d4d5abbf07de3bfebe6cd\n",
      "  hostname: nb-stschn\n",
      "  info:\n",
      "    learner:\n",
      "      shared_policy:\n",
      "        custom_metrics: {}\n",
      "        learner_stats:\n",
      "          cur_kl_coeff: 0.20000000298023224\n",
      "          cur_lr: 4.999999873689376e-05\n",
      "          entropy: 1.1682722568511963\n",
      "          entropy_coeff: 0.0\n",
      "          kl: 0.005813933443278074\n",
      "          model: {}\n",
      "          policy_loss: -0.003936472348868847\n",
      "          total_loss: 68.7264404296875\n",
      "          vf_explained_var: -0.1793176829814911\n",
      "          vf_loss: 68.72921752929688\n",
      "    num_agent_steps_sampled: 140000\n",
      "    num_agent_steps_trained: 140000\n",
      "    num_steps_sampled: 28000\n",
      "    num_steps_trained: 28000\n",
      "    num_steps_trained_this_iter: 0\n",
      "  iterations_since_restore: 7\n",
      "  node_ip: 127.0.0.1\n",
      "  num_healthy_workers: 2\n",
      "  off_policy_estimator: {}\n",
      "  perf:\n",
      "    cpu_util_percent: 68.3811320754717\n",
      "    ram_util_percent: 64.48679245283017\n",
      "  pid: 11532\n",
      "  policy_reward_max:\n",
      "    shared_policy: 32.605002468438066\n",
      "  policy_reward_mean:\n",
      "    shared_policy: -11.513453711221198\n",
      "  policy_reward_min:\n",
      "    shared_policy: -82.3956086718593\n",
      "  sampler_perf:\n",
      "    mean_action_processing_ms: 0.1937917629241463\n",
      "    mean_env_render_ms: 0.0\n",
      "    mean_env_wait_ms: 7.301125184977567\n",
      "    mean_inference_ms: 1.7392837947857074\n",
      "    mean_raw_obs_processing_ms: 0.5293164830615686\n",
      "  time_since_restore: 271.57191729545593\n",
      "  time_this_iter_s: 37.82411766052246\n",
      "  time_total_s: 271.57191729545593\n",
      "  timers:\n",
      "    learn_throughput: 208.618\n",
      "    learn_time_ms: 19173.824\n",
      "    load_throughput: 0.0\n",
      "    load_time_ms: 0.0\n",
      "    sample_throughput: 110.898\n",
      "    sample_time_ms: 36069.095\n",
      "    update_time_ms: 3.282\n",
      "  timestamp: 1641998760\n",
      "  timesteps_since_restore: 0\n",
      "  timesteps_this_iter: 0\n",
      "  timesteps_total: 28000\n",
      "  training_iteration: 7\n",
      "  trial_id: ada63_00000\n",
      "  \n"
     ]
    },
    {
     "data": {
      "text/html": [
       "== Status ==<br>Current time: 2022-01-12 15:46:06 (running for 00:04:57.88)<br>Memory usage on this node: 7.7/11.9 GiB<br>Using FIFO scheduling algorithm.<br>Resources requested: 3.0/3 CPUs, 0/0 GPUs, 0.0/2.79 GiB heap, 0.0/1.4 GiB objects<br>Result logdir: C:\\Users\\Stefan\\git-repos\\work\\mobile-env\\examples\\results_rllib\\PPO<br>Number of trials: 1/1 (1 RUNNING)<br><table>\n",
       "<thead>\n",
       "<tr><th>Trial name                        </th><th>status  </th><th>loc            </th><th style=\"text-align: right;\">  iter</th><th style=\"text-align: right;\">  total time (s)</th><th style=\"text-align: right;\">   ts</th><th style=\"text-align: right;\">  reward</th><th style=\"text-align: right;\">  episode_reward_max</th><th style=\"text-align: right;\">  episode_reward_min</th><th style=\"text-align: right;\">  episode_len_mean</th></tr>\n",
       "</thead>\n",
       "<tbody>\n",
       "<tr><td>PPO_mobile-small-ma-v0_ada63_00000</td><td>RUNNING </td><td>127.0.0.1:11532</td><td style=\"text-align: right;\">     7</td><td style=\"text-align: right;\">         271.572</td><td style=\"text-align: right;\">28000</td><td style=\"text-align: right;\">-57.5673</td><td style=\"text-align: right;\">             22.7332</td><td style=\"text-align: right;\">            -171.891</td><td style=\"text-align: right;\">               100</td></tr>\n",
       "</tbody>\n",
       "</table><br><br>"
      ],
      "text/plain": [
       "<IPython.core.display.HTML object>"
      ]
     },
     "metadata": {},
     "output_type": "display_data"
    },
    {
     "data": {
      "text/html": [
       "== Status ==<br>Current time: 2022-01-12 15:46:11 (running for 00:05:02.93)<br>Memory usage on this node: 7.7/11.9 GiB<br>Using FIFO scheduling algorithm.<br>Resources requested: 3.0/3 CPUs, 0/0 GPUs, 0.0/2.79 GiB heap, 0.0/1.4 GiB objects<br>Result logdir: C:\\Users\\Stefan\\git-repos\\work\\mobile-env\\examples\\results_rllib\\PPO<br>Number of trials: 1/1 (1 RUNNING)<br><table>\n",
       "<thead>\n",
       "<tr><th>Trial name                        </th><th>status  </th><th>loc            </th><th style=\"text-align: right;\">  iter</th><th style=\"text-align: right;\">  total time (s)</th><th style=\"text-align: right;\">   ts</th><th style=\"text-align: right;\">  reward</th><th style=\"text-align: right;\">  episode_reward_max</th><th style=\"text-align: right;\">  episode_reward_min</th><th style=\"text-align: right;\">  episode_len_mean</th></tr>\n",
       "</thead>\n",
       "<tbody>\n",
       "<tr><td>PPO_mobile-small-ma-v0_ada63_00000</td><td>RUNNING </td><td>127.0.0.1:11532</td><td style=\"text-align: right;\">     7</td><td style=\"text-align: right;\">         271.572</td><td style=\"text-align: right;\">28000</td><td style=\"text-align: right;\">-57.5673</td><td style=\"text-align: right;\">             22.7332</td><td style=\"text-align: right;\">            -171.891</td><td style=\"text-align: right;\">               100</td></tr>\n",
       "</tbody>\n",
       "</table><br><br>"
      ],
      "text/plain": [
       "<IPython.core.display.HTML object>"
      ]
     },
     "metadata": {},
     "output_type": "display_data"
    },
    {
     "data": {
      "text/html": [
       "== Status ==<br>Current time: 2022-01-12 15:46:16 (running for 00:05:07.98)<br>Memory usage on this node: 7.7/11.9 GiB<br>Using FIFO scheduling algorithm.<br>Resources requested: 3.0/3 CPUs, 0/0 GPUs, 0.0/2.79 GiB heap, 0.0/1.4 GiB objects<br>Result logdir: C:\\Users\\Stefan\\git-repos\\work\\mobile-env\\examples\\results_rllib\\PPO<br>Number of trials: 1/1 (1 RUNNING)<br><table>\n",
       "<thead>\n",
       "<tr><th>Trial name                        </th><th>status  </th><th>loc            </th><th style=\"text-align: right;\">  iter</th><th style=\"text-align: right;\">  total time (s)</th><th style=\"text-align: right;\">   ts</th><th style=\"text-align: right;\">  reward</th><th style=\"text-align: right;\">  episode_reward_max</th><th style=\"text-align: right;\">  episode_reward_min</th><th style=\"text-align: right;\">  episode_len_mean</th></tr>\n",
       "</thead>\n",
       "<tbody>\n",
       "<tr><td>PPO_mobile-small-ma-v0_ada63_00000</td><td>RUNNING </td><td>127.0.0.1:11532</td><td style=\"text-align: right;\">     7</td><td style=\"text-align: right;\">         271.572</td><td style=\"text-align: right;\">28000</td><td style=\"text-align: right;\">-57.5673</td><td style=\"text-align: right;\">             22.7332</td><td style=\"text-align: right;\">            -171.891</td><td style=\"text-align: right;\">               100</td></tr>\n",
       "</tbody>\n",
       "</table><br><br>"
      ],
      "text/plain": [
       "<IPython.core.display.HTML object>"
      ]
     },
     "metadata": {},
     "output_type": "display_data"
    },
    {
     "data": {
      "text/html": [
       "== Status ==<br>Current time: 2022-01-12 15:46:21 (running for 00:05:13.04)<br>Memory usage on this node: 7.7/11.9 GiB<br>Using FIFO scheduling algorithm.<br>Resources requested: 3.0/3 CPUs, 0/0 GPUs, 0.0/2.79 GiB heap, 0.0/1.4 GiB objects<br>Result logdir: C:\\Users\\Stefan\\git-repos\\work\\mobile-env\\examples\\results_rllib\\PPO<br>Number of trials: 1/1 (1 RUNNING)<br><table>\n",
       "<thead>\n",
       "<tr><th>Trial name                        </th><th>status  </th><th>loc            </th><th style=\"text-align: right;\">  iter</th><th style=\"text-align: right;\">  total time (s)</th><th style=\"text-align: right;\">   ts</th><th style=\"text-align: right;\">  reward</th><th style=\"text-align: right;\">  episode_reward_max</th><th style=\"text-align: right;\">  episode_reward_min</th><th style=\"text-align: right;\">  episode_len_mean</th></tr>\n",
       "</thead>\n",
       "<tbody>\n",
       "<tr><td>PPO_mobile-small-ma-v0_ada63_00000</td><td>RUNNING </td><td>127.0.0.1:11532</td><td style=\"text-align: right;\">     7</td><td style=\"text-align: right;\">         271.572</td><td style=\"text-align: right;\">28000</td><td style=\"text-align: right;\">-57.5673</td><td style=\"text-align: right;\">             22.7332</td><td style=\"text-align: right;\">            -171.891</td><td style=\"text-align: right;\">               100</td></tr>\n",
       "</tbody>\n",
       "</table><br><br>"
      ],
      "text/plain": [
       "<IPython.core.display.HTML object>"
      ]
     },
     "metadata": {},
     "output_type": "display_data"
    },
    {
     "data": {
      "text/html": [
       "== Status ==<br>Current time: 2022-01-12 15:46:26 (running for 00:05:18.10)<br>Memory usage on this node: 7.7/11.9 GiB<br>Using FIFO scheduling algorithm.<br>Resources requested: 3.0/3 CPUs, 0/0 GPUs, 0.0/2.79 GiB heap, 0.0/1.4 GiB objects<br>Result logdir: C:\\Users\\Stefan\\git-repos\\work\\mobile-env\\examples\\results_rllib\\PPO<br>Number of trials: 1/1 (1 RUNNING)<br><table>\n",
       "<thead>\n",
       "<tr><th>Trial name                        </th><th>status  </th><th>loc            </th><th style=\"text-align: right;\">  iter</th><th style=\"text-align: right;\">  total time (s)</th><th style=\"text-align: right;\">   ts</th><th style=\"text-align: right;\">  reward</th><th style=\"text-align: right;\">  episode_reward_max</th><th style=\"text-align: right;\">  episode_reward_min</th><th style=\"text-align: right;\">  episode_len_mean</th></tr>\n",
       "</thead>\n",
       "<tbody>\n",
       "<tr><td>PPO_mobile-small-ma-v0_ada63_00000</td><td>RUNNING </td><td>127.0.0.1:11532</td><td style=\"text-align: right;\">     7</td><td style=\"text-align: right;\">         271.572</td><td style=\"text-align: right;\">28000</td><td style=\"text-align: right;\">-57.5673</td><td style=\"text-align: right;\">             22.7332</td><td style=\"text-align: right;\">            -171.891</td><td style=\"text-align: right;\">               100</td></tr>\n",
       "</tbody>\n",
       "</table><br><br>"
      ],
      "text/plain": [
       "<IPython.core.display.HTML object>"
      ]
     },
     "metadata": {},
     "output_type": "display_data"
    },
    {
     "data": {
      "text/html": [
       "== Status ==<br>Current time: 2022-01-12 15:46:31 (running for 00:05:23.16)<br>Memory usage on this node: 7.7/11.9 GiB<br>Using FIFO scheduling algorithm.<br>Resources requested: 3.0/3 CPUs, 0/0 GPUs, 0.0/2.79 GiB heap, 0.0/1.4 GiB objects<br>Result logdir: C:\\Users\\Stefan\\git-repos\\work\\mobile-env\\examples\\results_rllib\\PPO<br>Number of trials: 1/1 (1 RUNNING)<br><table>\n",
       "<thead>\n",
       "<tr><th>Trial name                        </th><th>status  </th><th>loc            </th><th style=\"text-align: right;\">  iter</th><th style=\"text-align: right;\">  total time (s)</th><th style=\"text-align: right;\">   ts</th><th style=\"text-align: right;\">  reward</th><th style=\"text-align: right;\">  episode_reward_max</th><th style=\"text-align: right;\">  episode_reward_min</th><th style=\"text-align: right;\">  episode_len_mean</th></tr>\n",
       "</thead>\n",
       "<tbody>\n",
       "<tr><td>PPO_mobile-small-ma-v0_ada63_00000</td><td>RUNNING </td><td>127.0.0.1:11532</td><td style=\"text-align: right;\">     7</td><td style=\"text-align: right;\">         271.572</td><td style=\"text-align: right;\">28000</td><td style=\"text-align: right;\">-57.5673</td><td style=\"text-align: right;\">             22.7332</td><td style=\"text-align: right;\">            -171.891</td><td style=\"text-align: right;\">               100</td></tr>\n",
       "</tbody>\n",
       "</table><br><br>"
      ],
      "text/plain": [
       "<IPython.core.display.HTML object>"
      ]
     },
     "metadata": {},
     "output_type": "display_data"
    },
    {
     "data": {
      "text/html": [
       "== Status ==<br>Current time: 2022-01-12 15:46:36 (running for 00:05:28.22)<br>Memory usage on this node: 7.7/11.9 GiB<br>Using FIFO scheduling algorithm.<br>Resources requested: 3.0/3 CPUs, 0/0 GPUs, 0.0/2.79 GiB heap, 0.0/1.4 GiB objects<br>Result logdir: C:\\Users\\Stefan\\git-repos\\work\\mobile-env\\examples\\results_rllib\\PPO<br>Number of trials: 1/1 (1 RUNNING)<br><table>\n",
       "<thead>\n",
       "<tr><th>Trial name                        </th><th>status  </th><th>loc            </th><th style=\"text-align: right;\">  iter</th><th style=\"text-align: right;\">  total time (s)</th><th style=\"text-align: right;\">   ts</th><th style=\"text-align: right;\">  reward</th><th style=\"text-align: right;\">  episode_reward_max</th><th style=\"text-align: right;\">  episode_reward_min</th><th style=\"text-align: right;\">  episode_len_mean</th></tr>\n",
       "</thead>\n",
       "<tbody>\n",
       "<tr><td>PPO_mobile-small-ma-v0_ada63_00000</td><td>RUNNING </td><td>127.0.0.1:11532</td><td style=\"text-align: right;\">     7</td><td style=\"text-align: right;\">         271.572</td><td style=\"text-align: right;\">28000</td><td style=\"text-align: right;\">-57.5673</td><td style=\"text-align: right;\">             22.7332</td><td style=\"text-align: right;\">            -171.891</td><td style=\"text-align: right;\">               100</td></tr>\n",
       "</tbody>\n",
       "</table><br><br>"
      ],
      "text/plain": [
       "<IPython.core.display.HTML object>"
      ]
     },
     "metadata": {},
     "output_type": "display_data"
    },
    {
     "name": "stdout",
     "output_type": "stream",
     "text": [
      "Result for PPO_mobile-small-ma-v0_ada63_00000:\n",
      "  agent_timesteps_total: 160000\n",
      "  custom_metrics: {}\n",
      "  date: 2022-01-12_15-46-41\n",
      "  done: true\n",
      "  episode_len_mean: 100.0\n",
      "  episode_media: {}\n",
      "  episode_reward_max: 22.733240401394905\n",
      "  episode_reward_mean: -44.147837746369696\n",
      "  episode_reward_min: -307.0891819558932\n",
      "  episodes_this_iter: 40\n",
      "  episodes_total: 320\n",
      "  experiment_id: 72e8a6f4607d4d5abbf07de3bfebe6cd\n",
      "  hostname: nb-stschn\n",
      "  info:\n",
      "    learner:\n",
      "      shared_policy:\n",
      "        custom_metrics: {}\n",
      "        learner_stats:\n",
      "          cur_kl_coeff: 0.20000000298023224\n",
      "          cur_lr: 4.999999873689376e-05\n",
      "          entropy: 1.1447539329528809\n",
      "          entropy_coeff: 0.0\n",
      "          kl: 0.00557562243193388\n",
      "          model: {}\n",
      "          policy_loss: -0.0035022348165512085\n",
      "          total_loss: 51.581783294677734\n",
      "          vf_explained_var: -0.2700594663619995\n",
      "          vf_loss: 51.58417510986328\n",
      "    num_agent_steps_sampled: 160000\n",
      "    num_agent_steps_trained: 160000\n",
      "    num_steps_sampled: 32000\n",
      "    num_steps_trained: 32000\n",
      "    num_steps_trained_this_iter: 0\n",
      "  iterations_since_restore: 8\n",
      "  node_ip: 127.0.0.1\n",
      "  num_healthy_workers: 2\n",
      "  off_policy_estimator: {}\n",
      "  perf:\n",
      "    cpu_util_percent: 73.73333333333333\n",
      "    ram_util_percent: 64.68771929824561\n",
      "  pid: 11532\n",
      "  policy_reward_max:\n",
      "    shared_policy: 28.389072725780565\n",
      "  policy_reward_mean:\n",
      "    shared_policy: -8.829567549273936\n",
      "  policy_reward_min:\n",
      "    shared_policy: -89.19354632272464\n",
      "  sampler_perf:\n",
      "    mean_action_processing_ms: 0.19582374720200083\n",
      "    mean_env_render_ms: 0.0\n",
      "    mean_env_wait_ms: 7.29865445380163\n",
      "    mean_inference_ms: 1.723012791740929\n",
      "    mean_raw_obs_processing_ms: 0.5289090097123231\n",
      "  time_since_restore: 311.89818954467773\n",
      "  time_this_iter_s: 40.3262722492218\n",
      "  time_total_s: 311.89818954467773\n",
      "  timers:\n",
      "    learn_throughput: 207.678\n",
      "    learn_time_ms: 19260.572\n",
      "    load_throughput: 0.0\n",
      "    load_time_ms: 0.0\n",
      "    sample_throughput: 109.397\n",
      "    sample_time_ms: 36564.178\n",
      "    update_time_ms: 3.373\n",
      "  timestamp: 1641998801\n",
      "  timesteps_since_restore: 0\n",
      "  timesteps_this_iter: 0\n",
      "  timesteps_total: 32000\n",
      "  training_iteration: 8\n",
      "  trial_id: ada63_00000\n",
      "  \n"
     ]
    },
    {
     "data": {
      "text/html": [
       "== Status ==<br>Current time: 2022-01-12 15:46:41 (running for 00:05:33.23)<br>Memory usage on this node: 7.7/11.9 GiB<br>Using FIFO scheduling algorithm.<br>Resources requested: 3.0/3 CPUs, 0/0 GPUs, 0.0/2.79 GiB heap, 0.0/1.4 GiB objects<br>Result logdir: C:\\Users\\Stefan\\git-repos\\work\\mobile-env\\examples\\results_rllib\\PPO<br>Number of trials: 1/1 (1 RUNNING)<br><table>\n",
       "<thead>\n",
       "<tr><th>Trial name                        </th><th>status  </th><th>loc            </th><th style=\"text-align: right;\">  iter</th><th style=\"text-align: right;\">  total time (s)</th><th style=\"text-align: right;\">   ts</th><th style=\"text-align: right;\">  reward</th><th style=\"text-align: right;\">  episode_reward_max</th><th style=\"text-align: right;\">  episode_reward_min</th><th style=\"text-align: right;\">  episode_len_mean</th></tr>\n",
       "</thead>\n",
       "<tbody>\n",
       "<tr><td>PPO_mobile-small-ma-v0_ada63_00000</td><td>RUNNING </td><td>127.0.0.1:11532</td><td style=\"text-align: right;\">     8</td><td style=\"text-align: right;\">         311.898</td><td style=\"text-align: right;\">32000</td><td style=\"text-align: right;\">-44.1478</td><td style=\"text-align: right;\">             22.7332</td><td style=\"text-align: right;\">            -307.089</td><td style=\"text-align: right;\">               100</td></tr>\n",
       "</tbody>\n",
       "</table><br><br>"
      ],
      "text/plain": [
       "<IPython.core.display.HTML object>"
      ]
     },
     "metadata": {},
     "output_type": "display_data"
    },
    {
     "data": {
      "text/html": [
       "== Status ==<br>Current time: 2022-01-12 15:46:41 (running for 00:05:33.33)<br>Memory usage on this node: 7.7/11.9 GiB<br>Using FIFO scheduling algorithm.<br>Resources requested: 0/3 CPUs, 0/0 GPUs, 0.0/2.79 GiB heap, 0.0/1.4 GiB objects<br>Result logdir: C:\\Users\\Stefan\\git-repos\\work\\mobile-env\\examples\\results_rllib\\PPO<br>Number of trials: 1/1 (1 TERMINATED)<br><table>\n",
       "<thead>\n",
       "<tr><th>Trial name                        </th><th>status    </th><th>loc            </th><th style=\"text-align: right;\">  iter</th><th style=\"text-align: right;\">  total time (s)</th><th style=\"text-align: right;\">   ts</th><th style=\"text-align: right;\">  reward</th><th style=\"text-align: right;\">  episode_reward_max</th><th style=\"text-align: right;\">  episode_reward_min</th><th style=\"text-align: right;\">  episode_len_mean</th></tr>\n",
       "</thead>\n",
       "<tbody>\n",
       "<tr><td>PPO_mobile-small-ma-v0_ada63_00000</td><td>TERMINATED</td><td>127.0.0.1:11532</td><td style=\"text-align: right;\">     8</td><td style=\"text-align: right;\">         311.898</td><td style=\"text-align: right;\">32000</td><td style=\"text-align: right;\">-44.1478</td><td style=\"text-align: right;\">             22.7332</td><td style=\"text-align: right;\">            -307.089</td><td style=\"text-align: right;\">               100</td></tr>\n",
       "</tbody>\n",
       "</table><br><br>"
      ],
      "text/plain": [
       "<IPython.core.display.HTML object>"
      ]
     },
     "metadata": {},
     "output_type": "display_data"
    },
    {
     "name": "stderr",
     "output_type": "stream",
     "text": [
      "2022-01-12 15:46:41,727\tINFO tune.py:626 -- Total run time: 333.61 seconds (333.28 seconds for the tuning loop).\n"
     ]
    }
   ],
   "source": [
    "# configure and run multi-agent PPO\n",
    "config = {\n",
    "        # environment configuration:\n",
    "        \"env\": \"mobile-small-ma-v0\",\n",
    "\n",
    "        # multi-agent configuration (here with shared policy)\n",
    "        \"multiagent\": {\n",
    "            \"policies\": {\"shared_policy\"},\n",
    "            \"policy_mapping_fn\": (\n",
    "                lambda agent_id, **kwargs: \"shared_policy\"),\n",
    "        },\n",
    "}\n",
    "\n",
    "analysis = ray.tune.run(\"PPO\", config=config, local_dir=\"results_rllib\", stop={\"timesteps_total\": 30000}, checkpoint_at_end=True)"
   ]
  },
  {
   "cell_type": "markdown",
   "metadata": {},
   "source": [
    "As before, we can check the learning curve on TensorBoard. The corresponding files are in the configured `save_dir=results_rllib`.\n",
    "\n",
    "The \"episode_reward_mean\" should increase with increasing training, indicating that the agent is learning. RLlib also logs many other metrics by default, which can be useful for debugging. "
   ]
  },
  {
   "cell_type": "code",
   "execution_count": 45,
   "metadata": {},
   "outputs": [
    {
     "data": {
      "text/html": [
       "\n",
       "      <iframe id=\"tensorboard-frame-686e7fb5f4b9ae93\" width=\"100%\" height=\"800\" frameborder=\"0\">\n",
       "      </iframe>\n",
       "      <script>\n",
       "        (function() {\n",
       "          const frame = document.getElementById(\"tensorboard-frame-686e7fb5f4b9ae93\");\n",
       "          const url = new URL(\"/\", window.location);\n",
       "          const port = 6010;\n",
       "          if (port) {\n",
       "            url.port = port;\n",
       "          }\n",
       "          frame.src = url;\n",
       "        })();\n",
       "      </script>\n",
       "    "
      ],
      "text/plain": [
       "<IPython.core.display.HTML object>"
      ]
     },
     "metadata": {},
     "output_type": "display_data"
    }
   ],
   "source": [
    "# launch a new tb instance on another port\n",
    "%tensorboard --logdir results_rllib --port 6010"
   ]
  },
  {
   "cell_type": "markdown",
   "metadata": {},
   "source": [
    "### Load and Test the Trained Multi-Agent Policy\n",
    "\n",
    "Let's load the trained multi-agent model and visualize the learned multi-agent policy:"
   ]
  },
  {
   "cell_type": "code",
   "execution_count": 46,
   "metadata": {},
   "outputs": [
    {
     "data": {
      "image/png": "[encoded data removed]",
      "text/plain": [
       "<Figure size 432x288 with 1 Axes>"
      ]
     },
     "metadata": {
      "needs_background": "light"
     },
     "output_type": "display_data"
    }
   ],
   "source": [
    "from ray.rllib.agents.ppo import PPOTrainer\n",
    "\n",
    "\n",
    "# load the trained agent\n",
    "checkpoint = analysis.get_last_checkpoint()\n",
    "model = PPOTrainer(config=config, env='mobile-small-ma-v0')\n",
    "model.restore(checkpoint)\n",
    "\n",
    "# create the env for testing\n",
    "env = gym.make(\"mobile-small-ma-v0\")\n",
    "obs = env.reset()\n",
    "done = False\n",
    "\n",
    "# run one episode with the trained model\n",
    "while not done:\n",
    "    # gather action from each actor (for each UE)\n",
    "    action = {}\n",
    "    for agent_id, agent_obs in obs.items():\n",
    "        policy_id = config['multiagent']['policy_mapping_fn'](agent_id)\n",
    "        action[agent_id] = model.compute_action(agent_obs, policy_id=policy_id)\n",
    "\n",
    "    # apply actions and perform step on simulation environment\n",
    "    obs, reward, done, info = env.step(action)\n",
    "\n",
    "    # render environment as RGB\n",
    "    plt.imshow(env.render(mode='rgb_array'))\n",
    "    display.display(plt.gcf())\n",
    "    display.clear_output(wait=True)"
   ]
  },
  {
   "cell_type": "markdown",
   "metadata": {},
   "source": [
    "While the learned policy is not yet perfect (the reward is still increasing, i.e., agent is still learning), the visualization shows that most users are connected to suitable cells.\n",
    "\n",
    "Feel free to experiment more with `mobile-env`, e.g., by training longer or customizing the environment.\n",
    "The [documentation](https://mobile-env.readthedocs.io/en/latest/) provides further information about the API.\n",
    "If you still have open questions or run into issues, you can [open an issue on GitHub](https://github.com/stefanbschneider/mobile-env/issues).\n",
    "\n",
    "We hope `mobile-env` is useful for you. If you use `mobile-env`, please cite it and let us know - then we can list your work on `mobile-env`'s Readme.\n",
    "We also very much appreciate contributions in the form of pull requests.\n",
    "\n",
    "Happy training/learning!"
   ]
  },
  {
   "cell_type": "code",
   "execution_count": null,
   "metadata": {},
   "outputs": [],
   "source": []
  }
 ],
 "metadata": {
  "kernelspec": {
   "display_name": "Python 3 (ipykernel)",
   "language": "python",
   "name": "python3"
  },
  "language_info": {
   "codemirror_mode": {
    "name": "ipython",
    "version": 3
   },
   "file_extension": ".py",
   "mimetype": "text/x-python",
   "name": "python",
   "nbconvert_exporter": "python",
   "pygments_lexer": "ipython3",
   "version": "3.8.11"
  }
 },
 "nbformat": 4,
 "nbformat_minor": 4
}
