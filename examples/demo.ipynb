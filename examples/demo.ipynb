{
 "cells": [
  {
   "cell_type": "markdown",
   "metadata": {
    "pycharm": {
     "name": "#%% md\n"
    }
   },
   "source": [
    "# Demonstrating `mobile-env`\n",
    "\n",
    "`mobile-env` is a simple and open environment for training, testing, and evaluating autonomous coordination\n",
    "approaches for wireless mobile networks.\n",
    "\n",
    "* `mobile-env` is written in pure Python and can be installed easily via [PyPI](https://pypi.org/project/mobile-env/)\n",
    "* It allows simulating various scenarios with moving users in a cellular network with multiple base stations\n",
    "* `mobile-env` implements the [OpenAI Gym](https://gym.openai.com/) interface such that it can be used with all common frameworks for reinforcement learning\n",
    "* It supports both centralized, single-agent control and distributed, multi-agent control\n",
    "* It can be configured easily (e.g., adjusting number and movement of users, properties of cells, etc.)\n",
    "* It is also easy to extend `mobile-env`, e.g., implementing different observations, actions, or reward\n",
    "\n",
    "As such `mobile-env` is a simple platform to evaluate and compare different coordination approaches in a meaningful way.\n",
    "\n",
    "\n",
    "\n",
    "**Demonstration Steps:**\n",
    "\n",
    "This demonstration consists of the following steps:\n",
    "\n",
    "1. Installation and usage of `mobile-env` with a dummy actions\n",
    "2. Configuration of `mobile-env` and adjustment of the observation space (optional)\n",
    "3. Training a single-agent reinforcement learning approach with [`stable-baselines3`](https://github.com/DLR-RM/stable-baselines3)\n",
    "4. Training a multi-agent reinforcement learning approach with [Ray RLlib](https://docs.ray.io/en/latest/rllib.html)\n",
    "\n",
    "\n",
    "## Step 1: Install and Test `mobile-env` With Dummy Actions\n",
    "\n",
    "Installing `mobile_env` via PyPI is very simple:"
   ]
  },
  {
   "cell_type": "code",
   "execution_count": 1,
   "metadata": {
    "collapsed": false,
    "jupyter": {
     "outputs_hidden": false
    },
    "pycharm": {
     "name": "#%%\n"
    }
   },
   "outputs": [
    {
     "name": "stdout",
     "output_type": "stream",
     "text": [
      "Requirement already satisfied: mobile-env in c:\\users\\stefan\\git-repos\\work\\mobile-env (2.0.0.dev0)\n",
      "Requirement already satisfied: gym>=0.19.0 in c:\\users\\stefan\\git-repos\\work\\mobile-env\\venv\\lib\\site-packages (from mobile-env) (0.19.0)\n",
      "Requirement already satisfied: matplotlib==3.5.0 in c:\\users\\stefan\\git-repos\\work\\mobile-env\\venv\\lib\\site-packages (from mobile-env) (3.5.0)\n",
      "Requirement already satisfied: numpy==1.21.4 in c:\\users\\stefan\\git-repos\\work\\mobile-env\\venv\\lib\\site-packages (from mobile-env) (1.21.4)\n",
      "Requirement already satisfied: pygame==2.1.0 in c:\\users\\stefan\\git-repos\\work\\mobile-env\\venv\\lib\\site-packages (from mobile-env) (2.1.0)\n",
      "Requirement already satisfied: shapely==1.8.0 in c:\\users\\stefan\\git-repos\\work\\mobile-env\\venv\\lib\\site-packages (from mobile-env) (1.8.0)\n",
      "Requirement already satisfied: svgpath2mpl==1.0.0 in c:\\users\\stefan\\git-repos\\work\\mobile-env\\venv\\lib\\site-packages (from mobile-env) (1.0.0)\n",
      "Requirement already satisfied: pyparsing>=2.2.1 in c:\\users\\stefan\\git-repos\\work\\mobile-env\\venv\\lib\\site-packages (from matplotlib==3.5.0->mobile-env) (2.4.7)\n",
      "Requirement already satisfied: kiwisolver>=1.0.1 in c:\\users\\stefan\\git-repos\\work\\mobile-env\\venv\\lib\\site-packages (from matplotlib==3.5.0->mobile-env) (1.3.1)\n",
      "Requirement already satisfied: fonttools>=4.22.0 in c:\\users\\stefan\\git-repos\\work\\mobile-env\\venv\\lib\\site-packages (from matplotlib==3.5.0->mobile-env) (4.28.1)\n",
      "Requirement already satisfied: setuptools-scm>=4 in c:\\users\\stefan\\git-repos\\work\\mobile-env\\venv\\lib\\site-packages (from matplotlib==3.5.0->mobile-env) (6.3.2)\n",
      "Requirement already satisfied: python-dateutil>=2.7 in c:\\users\\stefan\\git-repos\\work\\mobile-env\\venv\\lib\\site-packages (from matplotlib==3.5.0->mobile-env) (2.8.1)\n",
      "Requirement already satisfied: pillow>=6.2.0 in c:\\users\\stefan\\git-repos\\work\\mobile-env\\venv\\lib\\site-packages (from matplotlib==3.5.0->mobile-env) (8.4.0)\n",
      "Requirement already satisfied: cycler>=0.10 in c:\\users\\stefan\\git-repos\\work\\mobile-env\\venv\\lib\\site-packages (from matplotlib==3.5.0->mobile-env) (0.10.0)\n",
      "Requirement already satisfied: packaging>=20.0 in c:\\users\\stefan\\git-repos\\work\\mobile-env\\venv\\lib\\site-packages (from matplotlib==3.5.0->mobile-env) (21.3)\n",
      "Requirement already satisfied: cloudpickle<1.7.0,>=1.2.0 in c:\\users\\stefan\\git-repos\\work\\mobile-env\\venv\\lib\\site-packages (from gym>=0.19.0->mobile-env) (1.6.0)\n",
      "Requirement already satisfied: six in c:\\users\\stefan\\git-repos\\work\\mobile-env\\venv\\lib\\site-packages (from cycler>=0.10->matplotlib==3.5.0->mobile-env) (1.15.0)\n",
      "Requirement already satisfied: tomli>=1.0.0 in c:\\users\\stefan\\git-repos\\work\\mobile-env\\venv\\lib\\site-packages (from setuptools-scm>=4->matplotlib==3.5.0->mobile-env) (1.2.2)\n",
      "Requirement already satisfied: setuptools in c:\\users\\stefan\\git-repos\\work\\mobile-env\\venv\\lib\\site-packages (from setuptools-scm>=4->matplotlib==3.5.0->mobile-env) (46.1.3)\n"
     ]
    }
   ],
   "source": [
    "# installation via PyPI\n",
    "!pip install mobile-env"
   ]
  },
  {
   "cell_type": "markdown",
   "metadata": {
    "pycharm": {
     "name": "#%% md\n"
    }
   },
   "source": [
    "`mobile_env` comes with a set of predefined scenarios, registered as Gym environments, that can be used out of the box for quick experimentation."
   ]
  },
  {
   "cell_type": "code",
   "execution_count": 1,
   "metadata": {
    "collapsed": false,
    "jupyter": {
     "outputs_hidden": false
    },
    "pycharm": {
     "name": "#%%\n"
    }
   },
   "outputs": [
    {
     "name": "stdout",
     "output_type": "stream",
     "text": [
      "pygame 2.1.0 (SDL 2.0.16, Python 3.8.2)\n",
      "Hello from the pygame community. https://www.pygame.org/contribute.html\n",
      "\n",
      "Small environment with 5 users and 3 cells.\n"
     ]
    }
   ],
   "source": [
    "import gym\n",
    "import matplotlib.pyplot as plt\n",
    "# importing mobile_env automatically registers the predefined scenarios in Gym\n",
    "import mobile_env\n",
    "\n",
    "\n",
    "# create a small mobile environment for a single, centralized control agent\n",
    "env = gym.make(\"mobile-small-central-v0\")\n",
    "\n",
    "print(f\"\\nSmall environment with {env.NUM_USERS} users and {env.NUM_STATIONS} cells.\")"
   ]
  },
  {
   "cell_type": "markdown",
   "metadata": {
    "pycharm": {
     "name": "#%% md\n"
    }
   },
   "source": [
    "Here, we consider a small scenario (called `\"mobile-small-central-v0\"`) with 5 users and 3 cells.\n",
    "As the users move around, the goal is to connect the users to suitable cells, ensuring that all users have a good Quality of Experience (QoE).\n",
    "\n",
    "Using coordinated multipoint (CoMP), users can connect to multiple cells simultaneously.\n",
    "Connecting to more cells increases the user's data rate but also increases competition for resources and may decrease data rates of other users.\n",
    "Therefore, a good coordination policy needs to balance this trade-off, depending on available resources and users' positions (affecting their path loss).\n",
    "\n",
    "To measure QoE, `mobile-env` defaults to a logarithmic utility function of the users' data rate, where -20 indicates bad QoE and +20 indicates good QoE. This can be easily configured and changed.\n",
    "\n",
    "![Utility plot](../docs/images/utility.png)\n",
    "\n",
    "To get started, we will use random dummy actions."
   ]
  },
  {
   "cell_type": "code",
   "execution_count": 2,
   "metadata": {
    "collapsed": false,
    "jupyter": {
     "outputs_hidden": false
    },
    "pycharm": {
     "name": "#%%\n"
    }
   },
   "outputs": [
    {
     "data": {
      "image/png": "[encoded data removed]",
      "text/plain": [
       "<Figure size 432x288 with 1 Axes>"
      ]
     },
     "metadata": {
      "needs_background": "light"
     },
     "output_type": "display_data"
    }
   ],
   "source": [
    "from IPython import display\n",
    "\n",
    "# run the simulation for 10 time steps\n",
    "done = False\n",
    "obs = env.reset()\n",
    "for _ in range(10):\n",
    "    # here, use random dummy actions by sampling from the action space\n",
    "    dummy_action = env.action_space.sample()\n",
    "    obs, reward, done, info = env.step(dummy_action)\n",
    "\n",
    "    # render the environment\n",
    "    plt.imshow(env.render(mode='rgb_array'))\n",
    "    display.display(plt.gcf())\n",
    "    display.clear_output(wait=True)"
   ]
  },
  {
   "cell_type": "markdown",
   "metadata": {
    "pycharm": {
     "name": "#%% md\n"
    }
   },
   "source": [
    "The rendered environment shows the three cells as cell towers with circles indicating their range.\n",
    "The five moving users are shown as small circles, where the number indicates the user ID and\n",
    "the color represents the user's current QoE (red = bad, yellow = ok, green = good).\n",
    "\n",
    "A line between a user and a cell indicates that the user is connected to the cell.\n",
    "Again, the line color indicates the QoE that's achieved via the connection.\n",
    "Note that users can connect to multiple cells simultaneously using coordinated multipoint (CoMP).\n",
    "\n",
    "Before training a reinforcement learning agent to properly control cell selection, we will look at some configuration options of `mobile-env` next.\n",
    "\n",
    "\n",
    "\n",
    "## Step 2: Configure `mobile-env` (Optional)\n",
    "\n",
    "### Predefined Scenarios\n",
    "\n",
    "Configuration is optional.\n",
    "We can also choose between one of the [three predefined scenarios](https://mobile-env.readthedocs.io/en/latest/components.html#scenarios) (small, medium, and large) without having to configure anything.\n",
    "\n",
    "By default, these are available for either a single, centralized agent (e.g., `\"mobile-small-central-v0\"`)\n",
    "or multiple agents (e.g., `\"mobile-small-ma-v0\"`), which affects the observations, actions, and reward."
   ]
  },
  {
   "cell_type": "code",
   "execution_count": 3,
   "metadata": {
    "collapsed": false,
    "jupyter": {
     "outputs_hidden": false
    },
    "pycharm": {
     "name": "#%%\n"
    }
   },
   "outputs": [
    {
     "data": {
      "text/plain": [
       "{'width': 200,\n",
       " 'height': 200,\n",
       " 'EP_MAX_TIME': 100,\n",
       " 'seed': 0,\n",
       " 'reset_rng_episode': False,\n",
       " 'arrival': mobile_env.core.arrival.NoDeparture,\n",
       " 'channel': mobile_env.core.channels.OkumuraHata,\n",
       " 'scheduler': mobile_env.core.schedules.ResourceFair,\n",
       " 'movement': mobile_env.core.movement.RandomWaypointMovement,\n",
       " 'utility': mobile_env.core.utilities.BoundedLogUtility,\n",
       " 'handler': mobile_env.handlers.central.MComCentralHandler,\n",
       " 'bs': {'bw': 9000000.0, 'freq': 2500, 'tx': 30, 'height': 50},\n",
       " 'ue': {'velocity': 1.5, 'snr_tr': 2e-08, 'noise': 1e-09, 'height': 1.5},\n",
       " 'arrival_params': {'ep_time': 100, 'reset_rng_episode': False},\n",
       " 'channel_params': {},\n",
       " 'scheduler_params': {},\n",
       " 'movement_params': {'width': 200, 'height': 200, 'reset_rng_episode': False},\n",
       " 'utility_params': {'lower': -20, 'upper': 20, 'coeffs': (10, 0, 10)}}"
      ]
     },
     "execution_count": 3,
     "metadata": {},
     "output_type": "execute_result"
    }
   ],
   "source": [
    "# predefined small scenarios\n",
    "from mobile_env.scenarios.small import MComSmall\n",
    "\n",
    "# easy access to the default configuration\n",
    "MComSmall.default_config()"
   ]
  },
  {
   "cell_type": "code",
   "execution_count": 4,
   "metadata": {
    "collapsed": false,
    "jupyter": {
     "outputs_hidden": false
    },
    "pycharm": {
     "name": "#%%\n"
    }
   },
   "outputs": [
    {
     "data": {
      "image/png": "[encoded data removed]",
      "text/plain": [
       "<Figure size 432x288 with 1 Axes>"
      ]
     },
     "metadata": {
      "needs_background": "light"
     },
     "output_type": "display_data"
    }
   ],
   "source": [
    "def plot_env(env_name):\n",
    "    \"\"\"Create env, take a random step, and then render the environment.\"\"\"\n",
    "    env = gym.make(env_name)\n",
    "    env.reset()\n",
    "    env.step(env.action_space.sample())\n",
    "    plt.imshow(env.render(mode='rgb_array'))\n",
    "    plt.title(env_name)\n",
    "\n",
    "# plot small env from earlier\n",
    "plot_env(\"mobile-small-central-v0\")"
   ]
  },
  {
   "cell_type": "code",
   "execution_count": 5,
   "metadata": {
    "collapsed": false,
    "jupyter": {
     "outputs_hidden": false
    },
    "pycharm": {
     "name": "#%%\n"
    }
   },
   "outputs": [
    {
     "data": {
      "image/png": "[encoded data removed]",
      "text/plain": [
       "<Figure size 432x288 with 1 Axes>"
      ]
     },
     "metadata": {
      "needs_background": "light"
     },
     "output_type": "display_data"
    }
   ],
   "source": [
    "plot_env(\"mobile-medium-central-v0\")"
   ]
  },
  {
   "cell_type": "code",
   "execution_count": 6,
   "metadata": {
    "collapsed": false,
    "jupyter": {
     "outputs_hidden": false
    },
    "pycharm": {
     "name": "#%%\n"
    }
   },
   "outputs": [
    {
     "data": {
      "image/png": "[encoded data removed]",
      "text/plain": [
       "<Figure size 432x288 with 1 Axes>"
      ]
     },
     "metadata": {
      "needs_background": "light"
     },
     "output_type": "display_data"
    }
   ],
   "source": [
    "plot_env(\"mobile-large-central-v0\")"
   ]
  },
  {
   "cell_type": "markdown",
   "metadata": {
    "pycharm": {
     "name": "#%% md\n"
    }
   },
   "source": [
    "### Custom Scenario\n",
    "\n",
    "It is also easy to define a custom scenario by subclassing `mobile-env`'s `MComCore` base class.\n",
    "\n",
    "Here, we create a custom scenario with two cells and three users, where one user is stationary and the other two users move quickly with 10 m/s.\n",
    "\n",
    "We also configure the environment to simulate each episode with identical user positions and movement. By default, users appear and move randomly in each episode.\n",
    "We also set the episode length to 10 (instead of default 100 steps)."
   ]
  },
  {
   "cell_type": "code",
   "execution_count": 8,
   "metadata": {
    "collapsed": false,
    "jupyter": {
     "outputs_hidden": false
    },
    "pycharm": {
     "name": "#%%\n"
    }
   },
   "outputs": [
    {
     "data": {
      "image/png": "[encoded data removed]",
      "text/plain": [
       "<Figure size 432x288 with 1 Axes>"
      ]
     },
     "metadata": {
      "needs_background": "light"
     },
     "output_type": "display_data"
    }
   ],
   "source": [
    "from mobile_env.core.base import MComCore\n",
    "from mobile_env.core.entities import BaseStation, UserEquipment\n",
    "\n",
    "\n",
    "class CustomEnv(MComCore):\n",
    "    # overwrite the default config\n",
    "    @classmethod\n",
    "    def default_config(cls):\n",
    "        config = super().default_config()\n",
    "        config.update({\n",
    "            # 10 steps per episode\n",
    "            \"EP_MAX_TIME\": 10,\n",
    "            # identical episodes\n",
    "            \"seed\": 1234,\n",
    "            'reset_rng_episode': True,\n",
    "        })\n",
    "        # faster user movement\n",
    "        config[\"ue\"].update({\n",
    "            \"velocity\": 10,\n",
    "        })\n",
    "        return config\n",
    "\n",
    "    # configure users and cells in the constructor\n",
    "    def __init__(self, config={}):\n",
    "        # load default config defined above; overwrite with custom params\n",
    "        env_config = self.default_config()\n",
    "        env_config.update(config)\n",
    "\n",
    "        # two cells next to each other; unpack config defaults for other params\n",
    "        stations = [\n",
    "            BaseStation(bs_id=0, pos=(50, 100), **env_config[\"bs\"]),\n",
    "            BaseStation(bs_id=1, pos=(100, 100), **env_config[\"bs\"])\n",
    "        ]\n",
    "\n",
    "        # users\n",
    "        users = [\n",
    "            # two fast moving users with config defaults\n",
    "            UserEquipment(ue_id=1, **env_config[\"ue\"]),\n",
    "            UserEquipment(ue_id=2, **env_config[\"ue\"]),\n",
    "            # stationary user --> set velocity to 0\n",
    "            UserEquipment(ue_id=3, velocity=0, snr_tr=env_config[\"ue\"][\"snr_tr\"], noise=env_config[\"ue\"][\"noise\"],\n",
    "                          height=env_config[\"ue\"][\"height\"]),\n",
    "        ]\n",
    "\n",
    "        super().__init__(stations, users, config)\n",
    "\n",
    "\n",
    "# init and render the custom scenario\n",
    "env = CustomEnv()\n",
    "env.reset()\n",
    "for _ in range(10):\n",
    "    # here, use random dummy actions by sampling from the action space\n",
    "    dummy_action = env.action_space.sample()\n",
    "    obs, reward, done, info = env.step(dummy_action)\n",
    "\n",
    "    # render the environment\n",
    "    plt.imshow(env.render(mode='rgb_array'))\n",
    "    display.display(plt.gcf())\n",
    "    display.clear_output(wait=True)"
   ]
  },
  {
   "cell_type": "markdown",
   "metadata": {},
   "source": [
    "### Extending `mobile-env`: Adding a Handler for a Custom Observation Space\n",
    "\n",
    "Handlers define the observation and action spaces as well as the reward for an environment.\n",
    "Hence, when designing a new Markov Decision Process for a reinforcement learning approach, you can quickly validate it by implementing a new handler in `mobile-env`.\n",
    "\n",
    "Let's first look at the default handler (for single-agent RL) and then add a new handler with a custom observation space."
   ]
  },
  {
   "cell_type": "code",
   "execution_count": 9,
   "metadata": {
    "collapsed": false,
    "jupyter": {
     "outputs_hidden": false
    },
    "pycharm": {
     "name": "#%%\n"
    }
   },
   "outputs": [
    {
     "data": {
      "text/plain": [
       "['connections', 'snrs', 'utility']"
      ]
     },
     "execution_count": 9,
     "metadata": {},
     "output_type": "execute_result"
    }
   ],
   "source": [
    "env.handler.features"
   ]
  },
  {
   "cell_type": "markdown",
   "metadata": {},
   "source": [
    "By default, observed features are:\n",
    "* The current connections between users and cells (binary)\n",
    "* The signal-to-noise-ratio (SNR) between all users and cells (normalized to [0,1])\n",
    "* The current utility (i.e., QoE) of each user (normalized to [-1,1])"
   ]
  },
  {
   "cell_type": "code",
   "execution_count": 10,
   "metadata": {
    "collapsed": false,
    "jupyter": {
     "outputs_hidden": false
    },
    "pycharm": {
     "name": "#%%\n"
    }
   },
   "outputs": [
    {
     "name": "stdout",
     "output_type": "stream",
     "text": [
      "Raw observations:  [ 0.          0.          0.3470676   1.         -1.          0.\n",
      "  0.          1.          0.2665389  -1.          0.          0.\n",
      "  0.38201445  1.         -1.        ]\n",
      "\n",
      "Observations for user 1:\n",
      "Current connections to the 2 cells: [0. 0.]\n",
      "SNR to the 2 cells: [0.3470676 1.       ]\n",
      "Current utility: -1.0\n",
      "\n",
      "Observations for user 2:\n",
      "Current connections to the 2 cells: [0. 0.]\n",
      "SNR to the 2 cells: [1.        0.2665389]\n",
      "Current utility: -1.0\n",
      "\n",
      "Observations for user 3:\n",
      "Current connections to the 2 cells: [0. 0.]\n",
      "SNR to the 2 cells: [0.38201445 1.        ]\n",
      "Current utility: -1.0\n"
     ]
    }
   ],
   "source": [
    "env = CustomEnv(config={\"seed\": 42})\n",
    "obs = env.reset()\n",
    "obs, reward, done, info = env.step(env.action_space.sample())\n",
    "\n",
    "print(\"Raw observations: \", obs)\n",
    "\n",
    "# connections and SNR are per user and station, utility just per user\n",
    "obs_per_user = 2 * env.NUM_STATIONS + 1\n",
    "for ue in range(env.NUM_USERS):\n",
    "    print(f\"\\nObservations for user {ue + 1}:\")\n",
    "    offset = ue * obs_per_user\n",
    "    print(f\"Current connections to the {env.NUM_STATIONS} cells: {obs[offset:offset+env.NUM_STATIONS]}\")\n",
    "    print(f\"SNR to the {env.NUM_STATIONS} cells: {obs[offset+env.NUM_STATIONS:offset+2*env.NUM_STATIONS]}\")\n",
    "    print(f\"Current utility: {obs[offset+2*env.NUM_STATIONS]}\")\n"
   ]
  },
  {
   "cell_type": "markdown",
   "metadata": {},
   "source": [
    "Now, let's extend the observation space by adding an observation that indicates whether a user is connected to any cell at all, i.e., a single binary entry per user.\n",
    "\n",
    "For that, we create a new handler that inherits from the existing central handler and simply overwrite the relevant parts: The available features and the observations."
   ]
  },
  {
   "cell_type": "code",
   "execution_count": 11,
   "metadata": {
    "collapsed": false,
    "jupyter": {
     "outputs_hidden": false
    },
    "pycharm": {
     "name": "#%%\n"
    }
   },
   "outputs": [],
   "source": [
    "from mobile_env.handlers.central import MComCentralHandler\n",
    "import numpy as np\n",
    "\n",
    "\n",
    "class CustomHandler(MComCentralHandler):\n",
    "    # let's call the new observation \"any_connection\"\n",
    "    features = MComCentralHandler.features + [\"any_connection\"]\n",
    "\n",
    "    # overwrite the observation size per user\n",
    "    @classmethod\n",
    "    def ue_obs_size(cls, env) -> int:\n",
    "        \"\"\"Increase observations by 1 for each user for the new obs\"\"\"\n",
    "        # previously: connections for all cells, SNR for all cells, utility\n",
    "        prev_size = env.NUM_STATIONS + env.NUM_STATIONS + 1\n",
    "        return prev_size + 1\n",
    "\n",
    "    # add the new observation\n",
    "    @classmethod\n",
    "    def observation(cls, env) -> np.ndarray:\n",
    "        \"\"\"Concatenated observations for all users\"\"\"\n",
    "        # get all available obs from the env\n",
    "        obs_dict = env.features()\n",
    "\n",
    "        # add the new observation for each user (ue)\n",
    "        for ue_id in obs_dict.keys():\n",
    "            any_connection = np.any(obs_dict[ue_id][\"connections\"])\n",
    "            obs_dict[ue_id][\"any_connection\"] = int(any_connection)\n",
    "\n",
    "        # select the relevant obs and flatten into single vector\n",
    "        flattened_obs = []\n",
    "        for ue_id, ue_obs in obs_dict.items():\n",
    "            flattened_obs.extend(ue_obs[\"connections\"])\n",
    "            flattened_obs.append(ue_obs[\"any_connection\"])\n",
    "            flattened_obs.extend(ue_obs[\"snrs\"])\n",
    "            flattened_obs.extend(ue_obs[\"utility\"])\n",
    "\n",
    "        return flattened_obs"
   ]
  },
  {
   "cell_type": "code",
   "execution_count": 12,
   "metadata": {
    "collapsed": false,
    "jupyter": {
     "outputs_hidden": false
    },
    "pycharm": {
     "name": "#%%\n"
    }
   },
   "outputs": [
    {
     "name": "stdout",
     "output_type": "stream",
     "text": [
      "New, raw observations:  [0.0, 0.0, 0, 0.39157578, 1.0, -1.0, 0.0, 1.0, 1, 0.08438771, 1.0, -0.14720577, 1.0, 0.0, 1, 1.0, 0.021902867, 0.65321183]\n",
      "\n",
      "Observations for user 1:\n",
      "Current connections to the 2 cells: [0.0, 0.0]\n",
      "NEW: Any connection?: 0\n",
      "SNR to the 2 cells: [0.39157578, 1.0]\n",
      "Current utility: -1.0\n",
      "\n",
      "Observations for user 2:\n",
      "Current connections to the 2 cells: [0.0, 1.0]\n",
      "NEW: Any connection?: 1\n",
      "SNR to the 2 cells: [0.08438771, 1.0]\n",
      "Current utility: -0.14720577001571655\n",
      "\n",
      "Observations for user 3:\n",
      "Current connections to the 2 cells: [1.0, 0.0]\n",
      "NEW: Any connection?: 1\n",
      "SNR to the 2 cells: [1.0, 0.021902867]\n",
      "Current utility: 0.6532118320465088\n"
     ]
    }
   ],
   "source": [
    "# create the env with the new handler and check the obs\n",
    "env = CustomEnv(config={\"handler\": CustomHandler})\n",
    "obs = env.reset()\n",
    "obs, reward, done, info = env.step(env.action_space.sample())\n",
    "\n",
    "print(\"New, raw observations: \", obs)\n",
    "\n",
    "# connections and SNR are per user and station, utility just per user\n",
    "obs_per_user = 2 * env.NUM_STATIONS + 2\n",
    "for ue in range(env.NUM_USERS):\n",
    "    print(f\"\\nObservations for user {ue + 1}:\")\n",
    "    offset = ue * obs_per_user\n",
    "    print(f\"Current connections to the {env.NUM_STATIONS} cells: {obs[offset:offset+env.NUM_STATIONS]}\")\n",
    "    print(f\"NEW: Any connection?: {obs[offset+env.NUM_STATIONS]}\")\n",
    "    print(f\"SNR to the {env.NUM_STATIONS} cells: {obs[offset+env.NUM_STATIONS+1:offset+2*env.NUM_STATIONS+1]}\")\n",
    "    print(f\"Current utility: {obs[offset+2*env.NUM_STATIONS+1]}\")"
   ]
  },
  {
   "cell_type": "markdown",
   "metadata": {},
   "source": [
    "Now, the observations include an additional entry per user that indicates whether the user is connected to any cell at all. Maybe that's a useful observation for an RL approach?\n",
    "\n",
    "Let's try to train an RL agent with the custom observations on our custom environment.\n",
    "\n",
    "\n",
    "## Step 3: Single-Agent RL with `stable-baselines3`\n",
    "\n",
    "In a single-agent approach, the single RL agent controls cell selection for all users simultaneously.\n",
    "We can train such a single-agent approach with many different RL frameworks.\n",
    "A popular example is `stable-baselines3`, using the PPO algorithm.\n",
    "\n",
    "### Set Up `stable-baselines3`"
   ]
  },
  {
   "cell_type": "code",
   "execution_count": 13,
   "metadata": {
    "collapsed": false,
    "jupyter": {
     "outputs_hidden": false
    },
    "pycharm": {
     "name": "#%%\n"
    }
   },
   "outputs": [
    {
     "name": "stdout",
     "output_type": "stream",
     "text": [
      "Requirement already satisfied: stable-baselines3 in c:\\users\\stefan\\git-repos\\work\\mobile-env\\venv\\lib\\site-packages (1.3.0)\n",
      "Requirement already satisfied: numpy in c:\\users\\stefan\\git-repos\\work\\mobile-env\\venv\\lib\\site-packages (from stable-baselines3) (1.21.4)\n",
      "Requirement already satisfied: pandas in c:\\users\\stefan\\git-repos\\work\\mobile-env\\venv\\lib\\site-packages (from stable-baselines3) (1.2.3)\n",
      "Requirement already satisfied: cloudpickle in c:\\users\\stefan\\git-repos\\work\\mobile-env\\venv\\lib\\site-packages (from stable-baselines3) (1.6.0)\n",
      "Requirement already satisfied: torch>=1.8.1 in c:\\users\\stefan\\git-repos\\work\\mobile-env\\venv\\lib\\site-packages (from stable-baselines3) (1.10.0)\n",
      "Requirement already satisfied: matplotlib in c:\\users\\stefan\\git-repos\\work\\mobile-env\\venv\\lib\\site-packages (from stable-baselines3) (3.5.0)\n",
      "Requirement already satisfied: gym<0.20,>=0.17 in c:\\users\\stefan\\git-repos\\work\\mobile-env\\venv\\lib\\site-packages (from stable-baselines3) (0.19.0)\n",
      "Requirement already satisfied: typing-extensions in c:\\users\\stefan\\git-repos\\work\\mobile-env\\venv\\lib\\site-packages (from torch>=1.8.1->stable-baselines3) (4.0.0)\n",
      "Requirement already satisfied: pillow>=6.2.0 in c:\\users\\stefan\\git-repos\\work\\mobile-env\\venv\\lib\\site-packages (from matplotlib->stable-baselines3) (8.4.0)\n",
      "Requirement already satisfied: setuptools-scm>=4 in c:\\users\\stefan\\git-repos\\work\\mobile-env\\venv\\lib\\site-packages (from matplotlib->stable-baselines3) (6.3.2)\n",
      "Requirement already satisfied: pyparsing>=2.2.1 in c:\\users\\stefan\\git-repos\\work\\mobile-env\\venv\\lib\\site-packages (from matplotlib->stable-baselines3) (2.4.7)\n",
      "Requirement already satisfied: python-dateutil>=2.7 in c:\\users\\stefan\\git-repos\\work\\mobile-env\\venv\\lib\\site-packages (from matplotlib->stable-baselines3) (2.8.1)\n",
      "Requirement already satisfied: fonttools>=4.22.0 in c:\\users\\stefan\\git-repos\\work\\mobile-env\\venv\\lib\\site-packages (from matplotlib->stable-baselines3) (4.28.1)\n",
      "Requirement already satisfied: packaging>=20.0 in c:\\users\\stefan\\git-repos\\work\\mobile-env\\venv\\lib\\site-packages (from matplotlib->stable-baselines3) (21.3)\n",
      "Requirement already satisfied: kiwisolver>=1.0.1 in c:\\users\\stefan\\git-repos\\work\\mobile-env\\venv\\lib\\site-packages (from matplotlib->stable-baselines3) (1.3.1)\n",
      "Requirement already satisfied: cycler>=0.10 in c:\\users\\stefan\\git-repos\\work\\mobile-env\\venv\\lib\\site-packages (from matplotlib->stable-baselines3) (0.10.0)\n",
      "Requirement already satisfied: pytz>=2017.3 in c:\\users\\stefan\\git-repos\\work\\mobile-env\\venv\\lib\\site-packages (from pandas->stable-baselines3) (2021.1)\n",
      "Requirement already satisfied: six in c:\\users\\stefan\\git-repos\\work\\mobile-env\\venv\\lib\\site-packages (from cycler>=0.10->matplotlib->stable-baselines3) (1.15.0)\n",
      "Requirement already satisfied: tomli>=1.0.0 in c:\\users\\stefan\\git-repos\\work\\mobile-env\\venv\\lib\\site-packages (from setuptools-scm>=4->matplotlib->stable-baselines3) (1.2.2)\n",
      "Requirement already satisfied: setuptools in c:\\users\\stefan\\git-repos\\work\\mobile-env\\venv\\lib\\site-packages (from setuptools-scm>=4->matplotlib->stable-baselines3) (46.1.3)\n"
     ]
    }
   ],
   "source": [
    "# first, install stable baselines\n",
    "!pip install stable-baselines3"
   ]
  },
  {
   "cell_type": "markdown",
   "metadata": {},
   "source": [
    "### Train a Single PPO Agent"
   ]
  },
  {
   "cell_type": "code",
   "execution_count": 14,
   "metadata": {
    "collapsed": false,
    "jupyter": {
     "outputs_hidden": false
    },
    "pycharm": {
     "name": "#%%\n"
    }
   },
   "outputs": [
    {
     "name": "stdout",
     "output_type": "stream",
     "text": [
      "Using cpu device\n",
      "Wrapping the env with a `Monitor` wrapper\n",
      "Wrapping the env in a DummyVecEnv.\n",
      "Logging to results_sb\\PPO_1\n",
      "---------------------------------\n",
      "| rollout/           |          |\n",
      "|    ep_len_mean     | 10       |\n",
      "|    ep_rew_mean     | -5.47    |\n",
      "| time/              |          |\n",
      "|    fps             | 168      |\n",
      "|    iterations      | 1        |\n",
      "|    time_elapsed    | 12       |\n",
      "|    total_timesteps | 2048     |\n",
      "---------------------------------\n",
      "-----------------------------------------\n",
      "| rollout/                |             |\n",
      "|    ep_len_mean          | 10          |\n",
      "|    ep_rew_mean          | -5.83       |\n",
      "| time/                   |             |\n",
      "|    fps                  | 187         |\n",
      "|    iterations           | 2           |\n",
      "|    time_elapsed         | 21          |\n",
      "|    total_timesteps      | 4096        |\n",
      "| train/                  |             |\n",
      "|    approx_kl            | 0.011307748 |\n",
      "|    clip_fraction        | 0.119       |\n",
      "|    clip_range           | 0.2         |\n",
      "|    entropy_loss         | -3.29       |\n",
      "|    explained_variance   | -0.0886     |\n",
      "|    learning_rate        | 0.0003      |\n",
      "|    loss                 | 0.845       |\n",
      "|    n_updates            | 10          |\n",
      "|    policy_gradient_loss | -0.015      |\n",
      "|    value_loss           | 2.43        |\n",
      "-----------------------------------------\n",
      "-----------------------------------------\n",
      "| rollout/                |             |\n",
      "|    ep_len_mean          | 10          |\n",
      "|    ep_rew_mean          | -5.18       |\n",
      "| time/                   |             |\n",
      "|    fps                  | 197         |\n",
      "|    iterations           | 3           |\n",
      "|    time_elapsed         | 31          |\n",
      "|    total_timesteps      | 6144        |\n",
      "| train/                  |             |\n",
      "|    approx_kl            | 0.010906098 |\n",
      "|    clip_fraction        | 0.0975      |\n",
      "|    clip_range           | 0.2         |\n",
      "|    entropy_loss         | -3.27       |\n",
      "|    explained_variance   | 0.283       |\n",
      "|    learning_rate        | 0.0003      |\n",
      "|    loss                 | 1.11        |\n",
      "|    n_updates            | 20          |\n",
      "|    policy_gradient_loss | -0.0166     |\n",
      "|    value_loss           | 2.71        |\n",
      "-----------------------------------------\n",
      "-----------------------------------------\n",
      "| rollout/                |             |\n",
      "|    ep_len_mean          | 10          |\n",
      "|    ep_rew_mean          | -5.6        |\n",
      "| time/                   |             |\n",
      "|    fps                  | 201         |\n",
      "|    iterations           | 4           |\n",
      "|    time_elapsed         | 40          |\n",
      "|    total_timesteps      | 8192        |\n",
      "| train/                  |             |\n",
      "|    approx_kl            | 0.012331916 |\n",
      "|    clip_fraction        | 0.132       |\n",
      "|    clip_range           | 0.2         |\n",
      "|    entropy_loss         | -3.25       |\n",
      "|    explained_variance   | 0.327       |\n",
      "|    learning_rate        | 0.0003      |\n",
      "|    loss                 | 1.3         |\n",
      "|    n_updates            | 30          |\n",
      "|    policy_gradient_loss | -0.0193     |\n",
      "|    value_loss           | 2.51        |\n",
      "-----------------------------------------\n",
      "-----------------------------------------\n",
      "| rollout/                |             |\n",
      "|    ep_len_mean          | 10          |\n",
      "|    ep_rew_mean          | -5.09       |\n",
      "| time/                   |             |\n",
      "|    fps                  | 202         |\n",
      "|    iterations           | 5           |\n",
      "|    time_elapsed         | 50          |\n",
      "|    total_timesteps      | 10240       |\n",
      "| train/                  |             |\n",
      "|    approx_kl            | 0.014774322 |\n",
      "|    clip_fraction        | 0.156       |\n",
      "|    clip_range           | 0.2         |\n",
      "|    entropy_loss         | -3.2        |\n",
      "|    explained_variance   | 0.348       |\n",
      "|    learning_rate        | 0.0003      |\n",
      "|    loss                 | 1.38        |\n",
      "|    n_updates            | 40          |\n",
      "|    policy_gradient_loss | -0.0223     |\n",
      "|    value_loss           | 2.62        |\n",
      "-----------------------------------------\n",
      "-----------------------------------------\n",
      "| rollout/                |             |\n",
      "|    ep_len_mean          | 10          |\n",
      "|    ep_rew_mean          | -4.83       |\n",
      "| time/                   |             |\n",
      "|    fps                  | 203         |\n",
      "|    iterations           | 6           |\n",
      "|    time_elapsed         | 60          |\n",
      "|    total_timesteps      | 12288       |\n",
      "| train/                  |             |\n",
      "|    approx_kl            | 0.013777858 |\n",
      "|    clip_fraction        | 0.16        |\n",
      "|    clip_range           | 0.2         |\n",
      "|    entropy_loss         | -3.14       |\n",
      "|    explained_variance   | 0.434       |\n",
      "|    learning_rate        | 0.0003      |\n",
      "|    loss                 | 1.04        |\n",
      "|    n_updates            | 50          |\n",
      "|    policy_gradient_loss | -0.0227     |\n",
      "|    value_loss           | 2.2         |\n",
      "-----------------------------------------\n",
      "-----------------------------------------\n",
      "| rollout/                |             |\n",
      "|    ep_len_mean          | 10          |\n",
      "|    ep_rew_mean          | -4.67       |\n",
      "| time/                   |             |\n",
      "|    fps                  | 205         |\n",
      "|    iterations           | 7           |\n",
      "|    time_elapsed         | 69          |\n",
      "|    total_timesteps      | 14336       |\n",
      "| train/                  |             |\n",
      "|    approx_kl            | 0.012769257 |\n",
      "|    clip_fraction        | 0.166       |\n",
      "|    clip_range           | 0.2         |\n",
      "|    entropy_loss         | -3.08       |\n",
      "|    explained_variance   | 0.434       |\n",
      "|    learning_rate        | 0.0003      |\n",
      "|    loss                 | 1.19        |\n",
      "|    n_updates            | 60          |\n",
      "|    policy_gradient_loss | -0.0197     |\n",
      "|    value_loss           | 2.09        |\n",
      "-----------------------------------------\n",
      "-----------------------------------------\n",
      "| rollout/                |             |\n",
      "|    ep_len_mean          | 10          |\n",
      "|    ep_rew_mean          | -4.16       |\n",
      "| time/                   |             |\n",
      "|    fps                  | 206         |\n",
      "|    iterations           | 8           |\n",
      "|    time_elapsed         | 79          |\n",
      "|    total_timesteps      | 16384       |\n",
      "| train/                  |             |\n",
      "|    approx_kl            | 0.012809217 |\n",
      "|    clip_fraction        | 0.147       |\n",
      "|    clip_range           | 0.2         |\n",
      "|    entropy_loss         | -3.02       |\n",
      "|    explained_variance   | 0.42        |\n",
      "|    learning_rate        | 0.0003      |\n",
      "|    loss                 | 0.857       |\n",
      "|    n_updates            | 70          |\n",
      "|    policy_gradient_loss | -0.0186     |\n",
      "|    value_loss           | 2.09        |\n",
      "-----------------------------------------\n",
      "-----------------------------------------\n",
      "| rollout/                |             |\n",
      "|    ep_len_mean          | 10          |\n",
      "|    ep_rew_mean          | -4.15       |\n",
      "| time/                   |             |\n",
      "|    fps                  | 206         |\n",
      "|    iterations           | 9           |\n",
      "|    time_elapsed         | 89          |\n",
      "|    total_timesteps      | 18432       |\n",
      "| train/                  |             |\n",
      "|    approx_kl            | 0.014097567 |\n",
      "|    clip_fraction        | 0.149       |\n",
      "|    clip_range           | 0.2         |\n",
      "|    entropy_loss         | -2.95       |\n",
      "|    explained_variance   | 0.473       |\n",
      "|    learning_rate        | 0.0003      |\n",
      "|    loss                 | 0.967       |\n",
      "|    n_updates            | 80          |\n",
      "|    policy_gradient_loss | -0.0178     |\n",
      "|    value_loss           | 1.87        |\n",
      "-----------------------------------------\n",
      "-----------------------------------------\n",
      "| rollout/                |             |\n",
      "|    ep_len_mean          | 10          |\n",
      "|    ep_rew_mean          | -4.18       |\n",
      "| time/                   |             |\n",
      "|    fps                  | 206         |\n",
      "|    iterations           | 10          |\n",
      "|    time_elapsed         | 99          |\n",
      "|    total_timesteps      | 20480       |\n",
      "| train/                  |             |\n",
      "|    approx_kl            | 0.013525041 |\n",
      "|    clip_fraction        | 0.143       |\n",
      "|    clip_range           | 0.2         |\n",
      "|    entropy_loss         | -2.87       |\n",
      "|    explained_variance   | 0.498       |\n",
      "|    learning_rate        | 0.0003      |\n",
      "|    loss                 | 0.716       |\n",
      "|    n_updates            | 90          |\n",
      "|    policy_gradient_loss | -0.0184     |\n",
      "|    value_loss           | 1.58        |\n",
      "-----------------------------------------\n",
      "-----------------------------------------\n",
      "| rollout/                |             |\n",
      "|    ep_len_mean          | 10          |\n",
      "|    ep_rew_mean          | -3.8        |\n",
      "| time/                   |             |\n",
      "|    fps                  | 205         |\n",
      "|    iterations           | 11          |\n",
      "|    time_elapsed         | 109         |\n",
      "|    total_timesteps      | 22528       |\n",
      "| train/                  |             |\n",
      "|    approx_kl            | 0.011971119 |\n",
      "|    clip_fraction        | 0.147       |\n",
      "|    clip_range           | 0.2         |\n",
      "|    entropy_loss         | -2.8        |\n",
      "|    explained_variance   | 0.503       |\n",
      "|    learning_rate        | 0.0003      |\n",
      "|    loss                 | 1.13        |\n",
      "|    n_updates            | 100         |\n",
      "|    policy_gradient_loss | -0.0191     |\n",
      "|    value_loss           | 1.75        |\n",
      "-----------------------------------------\n",
      "-----------------------------------------\n",
      "| rollout/                |             |\n",
      "|    ep_len_mean          | 10          |\n",
      "|    ep_rew_mean          | -4.04       |\n",
      "| time/                   |             |\n",
      "|    fps                  | 205         |\n",
      "|    iterations           | 12          |\n",
      "|    time_elapsed         | 119         |\n",
      "|    total_timesteps      | 24576       |\n",
      "| train/                  |             |\n",
      "|    approx_kl            | 0.011888548 |\n",
      "|    clip_fraction        | 0.153       |\n",
      "|    clip_range           | 0.2         |\n",
      "|    entropy_loss         | -2.71       |\n",
      "|    explained_variance   | 0.508       |\n",
      "|    learning_rate        | 0.0003      |\n",
      "|    loss                 | 0.697       |\n",
      "|    n_updates            | 110         |\n",
      "|    policy_gradient_loss | -0.0171     |\n",
      "|    value_loss           | 1.42        |\n",
      "-----------------------------------------\n",
      "-----------------------------------------\n",
      "| rollout/                |             |\n",
      "|    ep_len_mean          | 10          |\n",
      "|    ep_rew_mean          | -3.2        |\n",
      "| time/                   |             |\n",
      "|    fps                  | 206         |\n",
      "|    iterations           | 13          |\n",
      "|    time_elapsed         | 128         |\n",
      "|    total_timesteps      | 26624       |\n",
      "| train/                  |             |\n",
      "|    approx_kl            | 0.011168966 |\n",
      "|    clip_fraction        | 0.16        |\n",
      "|    clip_range           | 0.2         |\n",
      "|    entropy_loss         | -2.66       |\n",
      "|    explained_variance   | 0.513       |\n",
      "|    learning_rate        | 0.0003      |\n",
      "|    loss                 | 0.735       |\n",
      "|    n_updates            | 120         |\n",
      "|    policy_gradient_loss | -0.0208     |\n",
      "|    value_loss           | 1.55        |\n",
      "-----------------------------------------\n",
      "-----------------------------------------\n",
      "| rollout/                |             |\n",
      "|    ep_len_mean          | 10          |\n",
      "|    ep_rew_mean          | -3.76       |\n",
      "| time/                   |             |\n",
      "|    fps                  | 206         |\n",
      "|    iterations           | 14          |\n",
      "|    time_elapsed         | 138         |\n",
      "|    total_timesteps      | 28672       |\n",
      "| train/                  |             |\n",
      "|    approx_kl            | 0.013959848 |\n",
      "|    clip_fraction        | 0.174       |\n",
      "|    clip_range           | 0.2         |\n",
      "|    entropy_loss         | -2.6        |\n",
      "|    explained_variance   | 0.503       |\n",
      "|    learning_rate        | 0.0003      |\n",
      "|    loss                 | 0.876       |\n",
      "|    n_updates            | 130         |\n",
      "|    policy_gradient_loss | -0.0216     |\n",
      "|    value_loss           | 1.6         |\n",
      "-----------------------------------------\n",
      "-----------------------------------------\n",
      "| rollout/                |             |\n",
      "|    ep_len_mean          | 10          |\n",
      "|    ep_rew_mean          | -3.54       |\n",
      "| time/                   |             |\n",
      "|    fps                  | 207         |\n",
      "|    iterations           | 15          |\n",
      "|    time_elapsed         | 148         |\n",
      "|    total_timesteps      | 30720       |\n",
      "| train/                  |             |\n",
      "|    approx_kl            | 0.010908822 |\n",
      "|    clip_fraction        | 0.133       |\n",
      "|    clip_range           | 0.2         |\n",
      "|    entropy_loss         | -2.52       |\n",
      "|    explained_variance   | 0.548       |\n",
      "|    learning_rate        | 0.0003      |\n",
      "|    loss                 | 1.02        |\n",
      "|    n_updates            | 140         |\n",
      "|    policy_gradient_loss | -0.0144     |\n",
      "|    value_loss           | 1.54        |\n",
      "-----------------------------------------\n"
     ]
    },
    {
     "data": {
      "text/plain": [
       "<stable_baselines3.ppo.ppo.PPO at 0x1538da9d490>"
      ]
     },
     "execution_count": 14,
     "metadata": {},
     "output_type": "execute_result"
    }
   ],
   "source": [
    "from stable_baselines3 import PPO\n",
    "from stable_baselines3.ppo import MlpPolicy\n",
    "\n",
    "# create the custom env with the custom handler (obs space) from step 2\n",
    "env = CustomEnv(config={\"handler\": CustomHandler})\n",
    "\n",
    "# train PPO agent on environment. this takes a while\n",
    "model = PPO(MlpPolicy, env, tensorboard_log='results_sb', verbose=1)\n",
    "model.learn(total_timesteps=30000)"
   ]
  },
  {
   "cell_type": "markdown",
   "metadata": {
    "pycharm": {
     "name": "#%% md\n"
    }
   },
   "source": [
    "To visualize training progress, we can use TensorBoard using `tensorboard --logdir results_sb`, i.e., pointing to the TensorBoard log directory that we defined above.\n",
    "\n",
    "If we run it in another terminal, we can monitor training progress live. After training finishes, we can also show TensorBoard inside the notebook (works on Google CoLab):"
   ]
  },
  {
   "cell_type": "code",
   "execution_count": 15,
   "metadata": {
    "collapsed": false,
    "jupyter": {
     "outputs_hidden": false
    },
    "pycharm": {
     "name": "#%%\n"
    }
   },
   "outputs": [
    {
     "name": "stdout",
     "output_type": "stream",
     "text": [
      "Requirement already satisfied: tensorboard in c:\\users\\stefan\\git-repos\\work\\mobile-env\\venv\\lib\\site-packages (2.7.0)\n",
      "Requirement already satisfied: tensorboard-plugin-wit>=1.6.0 in c:\\users\\stefan\\git-repos\\work\\mobile-env\\venv\\lib\\site-packages (from tensorboard) (1.8.0)\n",
      "Requirement already satisfied: google-auth<3,>=1.6.3 in c:\\users\\stefan\\git-repos\\work\\mobile-env\\venv\\lib\\site-packages (from tensorboard) (2.3.3)\n",
      "Requirement already satisfied: werkzeug>=0.11.15 in c:\\users\\stefan\\git-repos\\work\\mobile-env\\venv\\lib\\site-packages (from tensorboard) (2.0.2)\n",
      "Requirement already satisfied: grpcio>=1.24.3 in c:\\users\\stefan\\git-repos\\work\\mobile-env\\venv\\lib\\site-packages (from tensorboard) (1.42.0)\n",
      "Requirement already satisfied: markdown>=2.6.8 in c:\\users\\stefan\\git-repos\\work\\mobile-env\\venv\\lib\\site-packages (from tensorboard) (3.3.6)\n",
      "Requirement already satisfied: requests<3,>=2.21.0 in c:\\users\\stefan\\git-repos\\work\\mobile-env\\venv\\lib\\site-packages (from tensorboard) (2.26.0)\n",
      "Requirement already satisfied: absl-py>=0.4 in c:\\users\\stefan\\git-repos\\work\\mobile-env\\venv\\lib\\site-packages (from tensorboard) (1.0.0)\n",
      "Requirement already satisfied: numpy>=1.12.0 in c:\\users\\stefan\\git-repos\\work\\mobile-env\\venv\\lib\\site-packages (from tensorboard) (1.21.4)\n",
      "Requirement already satisfied: protobuf>=3.6.0 in c:\\users\\stefan\\git-repos\\work\\mobile-env\\venv\\lib\\site-packages (from tensorboard) (3.19.1)\n",
      "Requirement already satisfied: wheel>=0.26 in c:\\users\\stefan\\git-repos\\work\\mobile-env\\venv\\lib\\site-packages (from tensorboard) (0.34.2)\n",
      "Requirement already satisfied: google-auth-oauthlib<0.5,>=0.4.1 in c:\\users\\stefan\\git-repos\\work\\mobile-env\\venv\\lib\\site-packages (from tensorboard) (0.4.6)\n",
      "Requirement already satisfied: setuptools>=41.0.0 in c:\\users\\stefan\\git-repos\\work\\mobile-env\\venv\\lib\\site-packages (from tensorboard) (46.1.3)\n",
      "Requirement already satisfied: tensorboard-data-server<0.7.0,>=0.6.0 in c:\\users\\stefan\\git-repos\\work\\mobile-env\\venv\\lib\\site-packages (from tensorboard) (0.6.1)\n",
      "Requirement already satisfied: six in c:\\users\\stefan\\git-repos\\work\\mobile-env\\venv\\lib\\site-packages (from absl-py>=0.4->tensorboard) (1.15.0)\n",
      "Requirement already satisfied: cachetools<5.0,>=2.0.0 in c:\\users\\stefan\\git-repos\\work\\mobile-env\\venv\\lib\\site-packages (from google-auth<3,>=1.6.3->tensorboard) (4.2.4)\n",
      "Requirement already satisfied: rsa<5,>=3.1.4 in c:\\users\\stefan\\git-repos\\work\\mobile-env\\venv\\lib\\site-packages (from google-auth<3,>=1.6.3->tensorboard) (4.8)\n",
      "Requirement already satisfied: pyasn1-modules>=0.2.1 in c:\\users\\stefan\\git-repos\\work\\mobile-env\\venv\\lib\\site-packages (from google-auth<3,>=1.6.3->tensorboard) (0.2.8)\n",
      "Requirement already satisfied: requests-oauthlib>=0.7.0 in c:\\users\\stefan\\git-repos\\work\\mobile-env\\venv\\lib\\site-packages (from google-auth-oauthlib<0.5,>=0.4.1->tensorboard) (1.3.0)\n",
      "Requirement already satisfied: importlib-metadata>=4.4 in c:\\users\\stefan\\git-repos\\work\\mobile-env\\venv\\lib\\site-packages (from markdown>=2.6.8->tensorboard) (4.8.2)\n",
      "Requirement already satisfied: charset-normalizer~=2.0.0 in c:\\users\\stefan\\git-repos\\work\\mobile-env\\venv\\lib\\site-packages (from requests<3,>=2.21.0->tensorboard) (2.0.7)\n",
      "Requirement already satisfied: idna<4,>=2.5 in c:\\users\\stefan\\git-repos\\work\\mobile-env\\venv\\lib\\site-packages (from requests<3,>=2.21.0->tensorboard) (3.3)\n",
      "Requirement already satisfied: urllib3<1.27,>=1.21.1 in c:\\users\\stefan\\git-repos\\work\\mobile-env\\venv\\lib\\site-packages (from requests<3,>=2.21.0->tensorboard) (1.26.7)\n",
      "Requirement already satisfied: certifi>=2017.4.17 in c:\\users\\stefan\\git-repos\\work\\mobile-env\\venv\\lib\\site-packages (from requests<3,>=2.21.0->tensorboard) (2021.10.8)\n",
      "Requirement already satisfied: zipp>=0.5 in c:\\users\\stefan\\git-repos\\work\\mobile-env\\venv\\lib\\site-packages (from importlib-metadata>=4.4->markdown>=2.6.8->tensorboard) (3.6.0)\n",
      "Requirement already satisfied: pyasn1<0.5.0,>=0.4.6 in c:\\users\\stefan\\git-repos\\work\\mobile-env\\venv\\lib\\site-packages (from pyasn1-modules>=0.2.1->google-auth<3,>=1.6.3->tensorboard) (0.4.8)\n",
      "Requirement already satisfied: oauthlib>=3.0.0 in c:\\users\\stefan\\git-repos\\work\\mobile-env\\venv\\lib\\site-packages (from requests-oauthlib>=0.7.0->google-auth-oauthlib<0.5,>=0.4.1->tensorboard) (3.1.1)\n"
     ]
    }
   ],
   "source": [
    "# install and load tensorboard\n",
    "!pip install tensorboard\n",
    "%load_ext tensorboard"
   ]
  },
  {
   "cell_type": "code",
   "execution_count": 18,
   "metadata": {
    "collapsed": false,
    "jupyter": {
     "outputs_hidden": false
    },
    "pycharm": {
     "name": "#%%\n"
    }
   },
   "outputs": [
    {
     "data": {
      "text/plain": [
       "Reusing TensorBoard on port 6006 (pid 19344), started 22:35:08 ago. (Use '!kill 19344' to kill it.)"
      ]
     },
     "metadata": {},
     "output_type": "display_data"
    },
    {
     "data": {
      "text/html": [
       "\n",
       "      <iframe id=\"tensorboard-frame-ab2f281971edf476\" width=\"100%\" height=\"800\" frameborder=\"0\">\n",
       "      </iframe>\n",
       "      <script>\n",
       "        (function() {\n",
       "          const frame = document.getElementById(\"tensorboard-frame-ab2f281971edf476\");\n",
       "          const url = new URL(\"/\", window.location);\n",
       "          const port = 6006;\n",
       "          if (port) {\n",
       "            url.port = port;\n",
       "          }\n",
       "          frame.src = url;\n",
       "        })();\n",
       "      </script>\n",
       "    "
      ],
      "text/plain": [
       "<IPython.core.display.HTML object>"
      ]
     },
     "metadata": {},
     "output_type": "display_data"
    }
   ],
   "source": [
    "# show training progress on tensorboard\n",
    "%tensorboard --logdir results_sb"
   ]
  },
  {
   "cell_type": "markdown",
   "metadata": {
    "pycharm": {
     "name": "#%% md\n"
    }
   },
   "source": [
    "TensorBoard should show that the agent's reward (\"ep_rew_mean\") increases with increasing training, indicating that the agent is learning. After 30k training steps, the agent is still learning (reward is still going up; not converged), but the agent already learned a useful policy.\n",
    "\n",
    "### Test and Visualize the Trained Policy\n",
    "\n",
    "To get a sense of what the agent learned, we can easily visualize the learned policy with `mobile-env`."
   ]
  },
  {
   "cell_type": "code",
   "execution_count": 19,
   "metadata": {
    "collapsed": false,
    "jupyter": {
     "outputs_hidden": false
    },
    "pycharm": {
     "name": "#%%\n"
    }
   },
   "outputs": [
    {
     "data": {
      "image/png": "[encoded data removed]",
      "text/plain": [
       "<Figure size 432x288 with 1 Axes>"
      ]
     },
     "metadata": {
      "needs_background": "light"
     },
     "output_type": "display_data"
    }
   ],
   "source": [
    "env = CustomEnv(config={\"handler\": CustomHandler})\n",
    "obs = env.reset()\n",
    "done = False\n",
    "\n",
    "# run one episode with the trained model\n",
    "while not done:\n",
    "    action, _ = model.predict(obs)\n",
    "\n",
    "    # perform step on simulation environment\n",
    "    obs, reward, done, info = env.step(action)\n",
    "\n",
    "    # render environment as RGB\n",
    "    plt.imshow(env.render(mode='rgb_array'))\n",
    "    display.display(plt.gcf())\n",
    "    display.clear_output(wait=True)"
   ]
  },
  {
   "cell_type": "markdown",
   "metadata": {},
   "source": [
    "Indeed, the visualization shows that the trained agent successfully connects all users to the available cells (indicated by the line connections), leading to rather good QoE (yellow to green color).\n",
    "\n",
    "\n",
    "## Step 4: Multi-Agent RL with Ray RLlib\n",
    "\n",
    "As alternative to controlling cell selection centrally for all users from a single RL agent, we can also use multi-agent RL, i.e., delegating control to multiple agents that act in parallel.\n",
    "As an example, we could have each RL agent responsible for the cell selection of a single user. Then we would need as many agents as we have users.\n",
    "That's what happens in the predefined multi-agent scenarios, e.g., `mobile-small-ma-v0`.\n",
    "\n",
    "Let's use RLlib to train a multi-agent policy on the `mobile-small-ma-v0` scenario, which has three base stations and five users.\n",
    "\n",
    "### Set up Ray RLlib\n",
    "\n",
    "To train a multi-agent approach, we can use Ray RLlib, which supports multi-agent RL out of the box. To register the predefined multi-agent scenario with RLlib, `mobile-env` provides a wrapper `RLlibMAWrapper`."
   ]
  },
  {
   "cell_type": "code",
   "execution_count": 18,
   "metadata": {
    "collapsed": false,
    "jupyter": {
     "outputs_hidden": false
    },
    "pycharm": {
     "name": "#%%\n"
    }
   },
   "outputs": [
    {
     "name": "stdout",
     "output_type": "stream",
     "text": [
      "Requirement already satisfied: ray[rllib] in c:\\users\\stefan\\git-repos\\work\\mobile-env\\venv\\lib\\site-packages (1.8.0)\n",
      "Requirement already satisfied: click>=7.0 in c:\\users\\stefan\\git-repos\\work\\mobile-env\\venv\\lib\\site-packages (from ray[rllib]) (8.0.3)\n",
      "Requirement already satisfied: grpcio>=1.28.1 in c:\\users\\stefan\\git-repos\\work\\mobile-env\\venv\\lib\\site-packages (from ray[rllib]) (1.42.0)\n",
      "Requirement already satisfied: attrs in c:\\users\\stefan\\git-repos\\work\\mobile-env\\venv\\lib\\site-packages (from ray[rllib]) (21.2.0)\n",
      "Requirement already satisfied: filelock in c:\\users\\stefan\\git-repos\\work\\mobile-env\\venv\\lib\\site-packages (from ray[rllib]) (3.4.0)\n",
      "Requirement already satisfied: pyyaml in c:\\users\\stefan\\git-repos\\work\\mobile-env\\venv\\lib\\site-packages (from ray[rllib]) (6.0)\n",
      "Requirement already satisfied: jsonschema in c:\\users\\stefan\\git-repos\\work\\mobile-env\\venv\\lib\\site-packages (from ray[rllib]) (4.2.1)\n",
      "Requirement already satisfied: msgpack<2.0.0,>=1.0.0 in c:\\users\\stefan\\git-repos\\work\\mobile-env\\venv\\lib\\site-packages (from ray[rllib]) (1.0.2)\n",
      "Requirement already satisfied: protobuf>=3.15.3 in c:\\users\\stefan\\git-repos\\work\\mobile-env\\venv\\lib\\site-packages (from ray[rllib]) (3.19.1)\n",
      "Requirement already satisfied: redis>=3.5.0 in c:\\users\\stefan\\git-repos\\work\\mobile-env\\venv\\lib\\site-packages (from ray[rllib]) (4.0.1)\n",
      "Requirement already satisfied: numpy>=1.16 in c:\\users\\stefan\\git-repos\\work\\mobile-env\\venv\\lib\\site-packages (from ray[rllib]) (1.21.4)\n",
      "Requirement already satisfied: dm-tree in c:\\users\\stefan\\git-repos\\work\\mobile-env\\venv\\lib\\site-packages (from ray[rllib]) (0.1.6)\n",
      "Requirement already satisfied: lz4 in c:\\users\\stefan\\git-repos\\work\\mobile-env\\venv\\lib\\site-packages (from ray[rllib]) (3.1.3)\n",
      "Requirement already satisfied: gym in c:\\users\\stefan\\git-repos\\work\\mobile-env\\venv\\lib\\site-packages (from ray[rllib]) (0.19.0)\n",
      "Requirement already satisfied: scipy in c:\\users\\stefan\\git-repos\\work\\mobile-env\\venv\\lib\\site-packages (from ray[rllib]) (1.6.2)\n",
      "Requirement already satisfied: tabulate in c:\\users\\stefan\\git-repos\\work\\mobile-env\\venv\\lib\\site-packages (from ray[rllib]) (0.8.9)\n",
      "Requirement already satisfied: matplotlib!=3.4.3 in c:\\users\\stefan\\git-repos\\work\\mobile-env\\venv\\lib\\site-packages (from ray[rllib]) (3.5.0)\n",
      "Requirement already satisfied: scikit-image in c:\\users\\stefan\\git-repos\\work\\mobile-env\\venv\\lib\\site-packages (from ray[rllib]) (0.18.3)\n",
      "Requirement already satisfied: tensorboardX>=1.9 in c:\\users\\stefan\\git-repos\\work\\mobile-env\\venv\\lib\\site-packages (from ray[rllib]) (2.4)\n",
      "Requirement already satisfied: pandas in c:\\users\\stefan\\git-repos\\work\\mobile-env\\venv\\lib\\site-packages (from ray[rllib]) (1.2.3)\n",
      "Requirement already satisfied: requests in c:\\users\\stefan\\git-repos\\work\\mobile-env\\venv\\lib\\site-packages (from ray[rllib]) (2.26.0)\n",
      "Requirement already satisfied: colorama in c:\\users\\stefan\\git-repos\\work\\mobile-env\\venv\\lib\\site-packages (from click>=7.0->ray[rllib]) (0.4.4)\n",
      "Requirement already satisfied: six>=1.5.2 in c:\\users\\stefan\\git-repos\\work\\mobile-env\\venv\\lib\\site-packages (from grpcio>=1.28.1->ray[rllib]) (1.15.0)\n",
      "Requirement already satisfied: pillow>=6.2.0 in c:\\users\\stefan\\git-repos\\work\\mobile-env\\venv\\lib\\site-packages (from matplotlib!=3.4.3->ray[rllib]) (8.4.0)\n",
      "Requirement already satisfied: pyparsing>=2.2.1 in c:\\users\\stefan\\git-repos\\work\\mobile-env\\venv\\lib\\site-packages (from matplotlib!=3.4.3->ray[rllib]) (2.4.7)\n",
      "Requirement already satisfied: setuptools-scm>=4 in c:\\users\\stefan\\git-repos\\work\\mobile-env\\venv\\lib\\site-packages (from matplotlib!=3.4.3->ray[rllib]) (6.3.2)\n",
      "Requirement already satisfied: fonttools>=4.22.0 in c:\\users\\stefan\\git-repos\\work\\mobile-env\\venv\\lib\\site-packages (from matplotlib!=3.4.3->ray[rllib]) (4.28.1)\n",
      "Requirement already satisfied: packaging>=20.0 in c:\\users\\stefan\\git-repos\\work\\mobile-env\\venv\\lib\\site-packages (from matplotlib!=3.4.3->ray[rllib]) (21.3)\n",
      "Requirement already satisfied: python-dateutil>=2.7 in c:\\users\\stefan\\git-repos\\work\\mobile-env\\venv\\lib\\site-packages (from matplotlib!=3.4.3->ray[rllib]) (2.8.1)\n",
      "Requirement already satisfied: kiwisolver>=1.0.1 in c:\\users\\stefan\\git-repos\\work\\mobile-env\\venv\\lib\\site-packages (from matplotlib!=3.4.3->ray[rllib]) (1.3.1)\n",
      "Requirement already satisfied: cycler>=0.10 in c:\\users\\stefan\\git-repos\\work\\mobile-env\\venv\\lib\\site-packages (from matplotlib!=3.4.3->ray[rllib]) (0.10.0)\n",
      "Requirement already satisfied: deprecated in c:\\users\\stefan\\git-repos\\work\\mobile-env\\venv\\lib\\site-packages (from redis>=3.5.0->ray[rllib]) (1.2.13)\n",
      "Requirement already satisfied: cloudpickle<1.7.0,>=1.2.0 in c:\\users\\stefan\\git-repos\\work\\mobile-env\\venv\\lib\\site-packages (from gym->ray[rllib]) (1.6.0)\n",
      "Requirement already satisfied: importlib-resources>=1.4.0 in c:\\users\\stefan\\git-repos\\work\\mobile-env\\venv\\lib\\site-packages (from jsonschema->ray[rllib]) (5.4.0)\n",
      "Requirement already satisfied: pyrsistent!=0.17.0,!=0.17.1,!=0.17.2,>=0.14.0 in c:\\users\\stefan\\git-repos\\work\\mobile-env\\venv\\lib\\site-packages (from jsonschema->ray[rllib]) (0.18.0)\n",
      "Requirement already satisfied: pytz>=2017.3 in c:\\users\\stefan\\git-repos\\work\\mobile-env\\venv\\lib\\site-packages (from pandas->ray[rllib]) (2021.1)\n",
      "Requirement already satisfied: certifi>=2017.4.17 in c:\\users\\stefan\\git-repos\\work\\mobile-env\\venv\\lib\\site-packages (from requests->ray[rllib]) (2021.10.8)\n",
      "Requirement already satisfied: idna<4,>=2.5 in c:\\users\\stefan\\git-repos\\work\\mobile-env\\venv\\lib\\site-packages (from requests->ray[rllib]) (3.3)\n",
      "Requirement already satisfied: charset-normalizer~=2.0.0 in c:\\users\\stefan\\git-repos\\work\\mobile-env\\venv\\lib\\site-packages (from requests->ray[rllib]) (2.0.7)\n",
      "Requirement already satisfied: urllib3<1.27,>=1.21.1 in c:\\users\\stefan\\git-repos\\work\\mobile-env\\venv\\lib\\site-packages (from requests->ray[rllib]) (1.26.7)\n",
      "Requirement already satisfied: PyWavelets>=1.1.1 in c:\\users\\stefan\\git-repos\\work\\mobile-env\\venv\\lib\\site-packages (from scikit-image->ray[rllib]) (1.2.0)\n",
      "Requirement already satisfied: tifffile>=2019.7.26 in c:\\users\\stefan\\git-repos\\work\\mobile-env\\venv\\lib\\site-packages (from scikit-image->ray[rllib]) (2021.11.2)\n",
      "Requirement already satisfied: networkx>=2.0 in c:\\users\\stefan\\git-repos\\work\\mobile-env\\venv\\lib\\site-packages (from scikit-image->ray[rllib]) (2.6.3)\n",
      "Requirement already satisfied: imageio>=2.3.0 in c:\\users\\stefan\\git-repos\\work\\mobile-env\\venv\\lib\\site-packages (from scikit-image->ray[rllib]) (2.11.0)\n",
      "Requirement already satisfied: zipp>=3.1.0 in c:\\users\\stefan\\git-repos\\work\\mobile-env\\venv\\lib\\site-packages (from importlib-resources>=1.4.0->jsonschema->ray[rllib]) (3.6.0)\n",
      "Requirement already satisfied: setuptools in c:\\users\\stefan\\git-repos\\work\\mobile-env\\venv\\lib\\site-packages (from setuptools-scm>=4->matplotlib!=3.4.3->ray[rllib]) (46.1.3)\n",
      "Requirement already satisfied: tomli>=1.0.0 in c:\\users\\stefan\\git-repos\\work\\mobile-env\\venv\\lib\\site-packages (from setuptools-scm>=4->matplotlib!=3.4.3->ray[rllib]) (1.2.2)\n",
      "Requirement already satisfied: wrapt<2,>=1.10 in c:\\users\\stefan\\git-repos\\work\\mobile-env\\venv\\lib\\site-packages (from deprecated->redis>=3.5.0->ray[rllib]) (1.13.3)\n"
     ]
    }
   ],
   "source": [
    "# install ray RLlib\n",
    "!pip install ray[rllib]"
   ]
  },
  {
   "cell_type": "code",
   "execution_count": 20,
   "metadata": {
    "collapsed": false,
    "jupyter": {
     "outputs_hidden": false
    },
    "pycharm": {
     "name": "#%%\n"
    }
   },
   "outputs": [],
   "source": [
    "from ray.tune.registry import register_env\n",
    "\n",
    "# use the mobile-env RLlib wrapper for RLlib\n",
    "def register(config):\n",
    "    import mobile_env\n",
    "    from mobile_env.wrappers.multi_agent import RLlibMAWrapper\n",
    "\n",
    "    env = gym.make(\"mobile-small-ma-v0\")\n",
    "    return RLlibMAWrapper(env)\n",
    "\n",
    "# register the predefined scenario with RLlib\n",
    "register_env(\"mobile-small-ma-v0\", register)"
   ]
  },
  {
   "cell_type": "markdown",
   "metadata": {},
   "source": [
    "### Train a PPO Multi-Agent Policy\n",
    "\n",
    "Now, that the predefined scenario is registered with RLlib, we can configure and train a multi-agent PPO approach on the scenario with RLlib."
   ]
  },
  {
   "cell_type": "code",
   "execution_count": 27,
   "metadata": {},
   "outputs": [
    {
     "name": "stderr",
     "output_type": "stream",
     "text": [
      "2021-12-13 16:47:11,236\tINFO worker.py:852 -- Calling ray.init() again after it has already been called.\n"
     ]
    }
   ],
   "source": [
    "import ray\n",
    "\n",
    "\n",
    "# init ray with available CPUs (and GPUs) and init ray\n",
    "ray.init(\n",
    "  num_cpus=3,\n",
    "  include_dashboard=False,\n",
    "  ignore_reinit_error=True,\n",
    "  log_to_driver=False,\n",
    ")"
   ]
  },
  {
   "cell_type": "code",
   "execution_count": 28,
   "metadata": {},
   "outputs": [
    {
     "data": {
      "text/html": [
       "== Status ==<br>Current time: 2021-12-13 16:47:11 (running for 00:00:00.15)<br>Memory usage on this node: 7.3/11.9 GiB<br>Using FIFO scheduling algorithm.<br>Resources requested: 0/3 CPUs, 0/0 GPUs, 0.0/3.64 GiB heap, 0.0/1.82 GiB objects<br>Result logdir: C:\\Users\\Stefan\\git-repos\\work\\mobile-env\\examples\\results_rllib\\PPO<br>Number of trials: 1/1 (1 PENDING)<br><table>\n",
       "<thead>\n",
       "<tr><th>Trial name                        </th><th>status  </th><th>loc  </th></tr>\n",
       "</thead>\n",
       "<tbody>\n",
       "<tr><td>PPO_mobile-small-ma-v0_ef76d_00000</td><td>PENDING </td><td>     </td></tr>\n",
       "</tbody>\n",
       "</table><br><br>"
      ],
      "text/plain": [
       "<IPython.core.display.HTML object>"
      ]
     },
     "metadata": {},
     "output_type": "display_data"
    },
    {
     "data": {
      "text/html": [
       "== Status ==<br>Current time: 2021-12-13 16:47:16 (running for 00:00:05.17)<br>Memory usage on this node: 7.4/11.9 GiB<br>Using FIFO scheduling algorithm.<br>Resources requested: 0/3 CPUs, 0/0 GPUs, 0.0/3.64 GiB heap, 0.0/1.82 GiB objects<br>Result logdir: C:\\Users\\Stefan\\git-repos\\work\\mobile-env\\examples\\results_rllib\\PPO<br>Number of trials: 1/1 (1 PENDING)<br><table>\n",
       "<thead>\n",
       "<tr><th>Trial name                        </th><th>status  </th><th>loc  </th></tr>\n",
       "</thead>\n",
       "<tbody>\n",
       "<tr><td>PPO_mobile-small-ma-v0_ef76d_00000</td><td>PENDING </td><td>     </td></tr>\n",
       "</tbody>\n",
       "</table><br><br>"
      ],
      "text/plain": [
       "<IPython.core.display.HTML object>"
      ]
     },
     "metadata": {},
     "output_type": "display_data"
    },
    {
     "data": {
      "text/html": [
       "== Status ==<br>Current time: 2021-12-13 16:47:21 (running for 00:00:10.17)<br>Memory usage on this node: 7.4/11.9 GiB<br>Using FIFO scheduling algorithm.<br>Resources requested: 0/3 CPUs, 0/0 GPUs, 0.0/3.64 GiB heap, 0.0/1.82 GiB objects<br>Result logdir: C:\\Users\\Stefan\\git-repos\\work\\mobile-env\\examples\\results_rllib\\PPO<br>Number of trials: 1/1 (1 PENDING)<br><table>\n",
       "<thead>\n",
       "<tr><th>Trial name                        </th><th>status  </th><th>loc  </th></tr>\n",
       "</thead>\n",
       "<tbody>\n",
       "<tr><td>PPO_mobile-small-ma-v0_ef76d_00000</td><td>PENDING </td><td>     </td></tr>\n",
       "</tbody>\n",
       "</table><br><br>"
      ],
      "text/plain": [
       "<IPython.core.display.HTML object>"
      ]
     },
     "metadata": {},
     "output_type": "display_data"
    },
    {
     "data": {
      "text/html": [
       "== Status ==<br>Current time: 2021-12-13 16:47:26 (running for 00:00:15.18)<br>Memory usage on this node: 7.4/11.9 GiB<br>Using FIFO scheduling algorithm.<br>Resources requested: 0/3 CPUs, 0/0 GPUs, 0.0/3.64 GiB heap, 0.0/1.82 GiB objects<br>Result logdir: C:\\Users\\Stefan\\git-repos\\work\\mobile-env\\examples\\results_rllib\\PPO<br>Number of trials: 1/1 (1 PENDING)<br><table>\n",
       "<thead>\n",
       "<tr><th>Trial name                        </th><th>status  </th><th>loc  </th></tr>\n",
       "</thead>\n",
       "<tbody>\n",
       "<tr><td>PPO_mobile-small-ma-v0_ef76d_00000</td><td>PENDING </td><td>     </td></tr>\n",
       "</tbody>\n",
       "</table><br><br>"
      ],
      "text/plain": [
       "<IPython.core.display.HTML object>"
      ]
     },
     "metadata": {},
     "output_type": "display_data"
    },
    {
     "data": {
      "text/html": [
       "== Status ==<br>Current time: 2021-12-13 16:47:31 (running for 00:00:20.18)<br>Memory usage on this node: 7.4/11.9 GiB<br>Using FIFO scheduling algorithm.<br>Resources requested: 0/3 CPUs, 0/0 GPUs, 0.0/3.64 GiB heap, 0.0/1.82 GiB objects<br>Result logdir: C:\\Users\\Stefan\\git-repos\\work\\mobile-env\\examples\\results_rllib\\PPO<br>Number of trials: 1/1 (1 PENDING)<br><table>\n",
       "<thead>\n",
       "<tr><th>Trial name                        </th><th>status  </th><th>loc  </th></tr>\n",
       "</thead>\n",
       "<tbody>\n",
       "<tr><td>PPO_mobile-small-ma-v0_ef76d_00000</td><td>PENDING </td><td>     </td></tr>\n",
       "</tbody>\n",
       "</table><br><br>"
      ],
      "text/plain": [
       "<IPython.core.display.HTML object>"
      ]
     },
     "metadata": {},
     "output_type": "display_data"
    },
    {
     "data": {
      "text/html": [
       "== Status ==<br>Current time: 2021-12-13 16:47:36 (running for 00:00:25.18)<br>Memory usage on this node: 7.4/11.9 GiB<br>Using FIFO scheduling algorithm.<br>Resources requested: 0/3 CPUs, 0/0 GPUs, 0.0/3.64 GiB heap, 0.0/1.82 GiB objects<br>Result logdir: C:\\Users\\Stefan\\git-repos\\work\\mobile-env\\examples\\results_rllib\\PPO<br>Number of trials: 1/1 (1 PENDING)<br><table>\n",
       "<thead>\n",
       "<tr><th>Trial name                        </th><th>status  </th><th>loc  </th></tr>\n",
       "</thead>\n",
       "<tbody>\n",
       "<tr><td>PPO_mobile-small-ma-v0_ef76d_00000</td><td>PENDING </td><td>     </td></tr>\n",
       "</tbody>\n",
       "</table><br><br>"
      ],
      "text/plain": [
       "<IPython.core.display.HTML object>"
      ]
     },
     "metadata": {},
     "output_type": "display_data"
    },
    {
     "data": {
      "text/html": [
       "== Status ==<br>Current time: 2021-12-13 16:47:41 (running for 00:00:30.20)<br>Memory usage on this node: 7.4/11.9 GiB<br>Using FIFO scheduling algorithm.<br>Resources requested: 0/3 CPUs, 0/0 GPUs, 0.0/3.64 GiB heap, 0.0/1.82 GiB objects<br>Result logdir: C:\\Users\\Stefan\\git-repos\\work\\mobile-env\\examples\\results_rllib\\PPO<br>Number of trials: 1/1 (1 PENDING)<br><table>\n",
       "<thead>\n",
       "<tr><th>Trial name                        </th><th>status  </th><th>loc  </th></tr>\n",
       "</thead>\n",
       "<tbody>\n",
       "<tr><td>PPO_mobile-small-ma-v0_ef76d_00000</td><td>PENDING </td><td>     </td></tr>\n",
       "</tbody>\n",
       "</table><br><br>"
      ],
      "text/plain": [
       "<IPython.core.display.HTML object>"
      ]
     },
     "metadata": {},
     "output_type": "display_data"
    },
    {
     "data": {
      "text/html": [
       "== Status ==<br>Current time: 2021-12-13 16:47:46 (running for 00:00:35.20)<br>Memory usage on this node: 7.4/11.9 GiB<br>Using FIFO scheduling algorithm.<br>Resources requested: 0/3 CPUs, 0/0 GPUs, 0.0/3.64 GiB heap, 0.0/1.82 GiB objects<br>Result logdir: C:\\Users\\Stefan\\git-repos\\work\\mobile-env\\examples\\results_rllib\\PPO<br>Number of trials: 1/1 (1 PENDING)<br><table>\n",
       "<thead>\n",
       "<tr><th>Trial name                        </th><th>status  </th><th>loc  </th></tr>\n",
       "</thead>\n",
       "<tbody>\n",
       "<tr><td>PPO_mobile-small-ma-v0_ef76d_00000</td><td>PENDING </td><td>     </td></tr>\n",
       "</tbody>\n",
       "</table><br><br>"
      ],
      "text/plain": [
       "<IPython.core.display.HTML object>"
      ]
     },
     "metadata": {},
     "output_type": "display_data"
    },
    {
     "data": {
      "text/html": [
       "== Status ==<br>Current time: 2021-12-13 16:47:51 (running for 00:00:40.22)<br>Memory usage on this node: 7.4/11.9 GiB<br>Using FIFO scheduling algorithm.<br>Resources requested: 0/3 CPUs, 0/0 GPUs, 0.0/3.64 GiB heap, 0.0/1.82 GiB objects<br>Result logdir: C:\\Users\\Stefan\\git-repos\\work\\mobile-env\\examples\\results_rllib\\PPO<br>Number of trials: 1/1 (1 PENDING)<br><table>\n",
       "<thead>\n",
       "<tr><th>Trial name                        </th><th>status  </th><th>loc  </th></tr>\n",
       "</thead>\n",
       "<tbody>\n",
       "<tr><td>PPO_mobile-small-ma-v0_ef76d_00000</td><td>PENDING </td><td>     </td></tr>\n",
       "</tbody>\n",
       "</table><br><br>"
      ],
      "text/plain": [
       "<IPython.core.display.HTML object>"
      ]
     },
     "metadata": {},
     "output_type": "display_data"
    },
    {
     "data": {
      "text/html": [
       "== Status ==<br>Current time: 2021-12-13 16:47:56 (running for 00:00:45.22)<br>Memory usage on this node: 7.5/11.9 GiB<br>Using FIFO scheduling algorithm.<br>Resources requested: 0/3 CPUs, 0/0 GPUs, 0.0/3.64 GiB heap, 0.0/1.82 GiB objects<br>Result logdir: C:\\Users\\Stefan\\git-repos\\work\\mobile-env\\examples\\results_rllib\\PPO<br>Number of trials: 1/1 (1 PENDING)<br><table>\n",
       "<thead>\n",
       "<tr><th>Trial name                        </th><th>status  </th><th>loc  </th></tr>\n",
       "</thead>\n",
       "<tbody>\n",
       "<tr><td>PPO_mobile-small-ma-v0_ef76d_00000</td><td>PENDING </td><td>     </td></tr>\n",
       "</tbody>\n",
       "</table><br><br>"
      ],
      "text/plain": [
       "<IPython.core.display.HTML object>"
      ]
     },
     "metadata": {},
     "output_type": "display_data"
    },
    {
     "data": {
      "text/html": [
       "== Status ==<br>Current time: 2021-12-13 16:48:01 (running for 00:00:50.23)<br>Memory usage on this node: 7.4/11.9 GiB<br>Using FIFO scheduling algorithm.<br>Resources requested: 0/3 CPUs, 0/0 GPUs, 0.0/3.64 GiB heap, 0.0/1.82 GiB objects<br>Result logdir: C:\\Users\\Stefan\\git-repos\\work\\mobile-env\\examples\\results_rllib\\PPO<br>Number of trials: 1/1 (1 PENDING)<br><table>\n",
       "<thead>\n",
       "<tr><th>Trial name                        </th><th>status  </th><th>loc  </th></tr>\n",
       "</thead>\n",
       "<tbody>\n",
       "<tr><td>PPO_mobile-small-ma-v0_ef76d_00000</td><td>PENDING </td><td>     </td></tr>\n",
       "</tbody>\n",
       "</table><br><br>"
      ],
      "text/plain": [
       "<IPython.core.display.HTML object>"
      ]
     },
     "metadata": {},
     "output_type": "display_data"
    },
    {
     "data": {
      "text/html": [
       "== Status ==<br>Current time: 2021-12-13 16:48:06 (running for 00:00:55.23)<br>Memory usage on this node: 7.4/11.9 GiB<br>Using FIFO scheduling algorithm.<br>Resources requested: 0/3 CPUs, 0/0 GPUs, 0.0/3.64 GiB heap, 0.0/1.82 GiB objects<br>Result logdir: C:\\Users\\Stefan\\git-repos\\work\\mobile-env\\examples\\results_rllib\\PPO<br>Number of trials: 1/1 (1 PENDING)<br><table>\n",
       "<thead>\n",
       "<tr><th>Trial name                        </th><th>status  </th><th>loc  </th></tr>\n",
       "</thead>\n",
       "<tbody>\n",
       "<tr><td>PPO_mobile-small-ma-v0_ef76d_00000</td><td>PENDING </td><td>     </td></tr>\n",
       "</tbody>\n",
       "</table><br><br>"
      ],
      "text/plain": [
       "<IPython.core.display.HTML object>"
      ]
     },
     "metadata": {},
     "output_type": "display_data"
    },
    {
     "data": {
      "text/html": [
       "== Status ==<br>Current time: 2021-12-13 16:48:11 (running for 00:01:00.25)<br>Memory usage on this node: 7.4/11.9 GiB<br>Using FIFO scheduling algorithm.<br>Resources requested: 0/3 CPUs, 0/0 GPUs, 0.0/3.64 GiB heap, 0.0/1.82 GiB objects<br>Result logdir: C:\\Users\\Stefan\\git-repos\\work\\mobile-env\\examples\\results_rllib\\PPO<br>Number of trials: 1/1 (1 PENDING)<br><table>\n",
       "<thead>\n",
       "<tr><th>Trial name                        </th><th>status  </th><th>loc  </th></tr>\n",
       "</thead>\n",
       "<tbody>\n",
       "<tr><td>PPO_mobile-small-ma-v0_ef76d_00000</td><td>PENDING </td><td>     </td></tr>\n",
       "</tbody>\n",
       "</table><br><br>"
      ],
      "text/plain": [
       "<IPython.core.display.HTML object>"
      ]
     },
     "metadata": {},
     "output_type": "display_data"
    },
    {
     "data": {
      "text/html": [
       "== Status ==<br>Current time: 2021-12-13 16:48:16 (running for 00:01:05.25)<br>Memory usage on this node: 7.5/11.9 GiB<br>Using FIFO scheduling algorithm.<br>Resources requested: 0/3 CPUs, 0/0 GPUs, 0.0/3.64 GiB heap, 0.0/1.82 GiB objects<br>Result logdir: C:\\Users\\Stefan\\git-repos\\work\\mobile-env\\examples\\results_rllib\\PPO<br>Number of trials: 1/1 (1 PENDING)<br><table>\n",
       "<thead>\n",
       "<tr><th>Trial name                        </th><th>status  </th><th>loc  </th></tr>\n",
       "</thead>\n",
       "<tbody>\n",
       "<tr><td>PPO_mobile-small-ma-v0_ef76d_00000</td><td>PENDING </td><td>     </td></tr>\n",
       "</tbody>\n",
       "</table><br><br>"
      ],
      "text/plain": [
       "<IPython.core.display.HTML object>"
      ]
     },
     "metadata": {},
     "output_type": "display_data"
    },
    {
     "data": {
      "text/html": [
       "== Status ==<br>Current time: 2021-12-13 16:48:21 (running for 00:01:10.27)<br>Memory usage on this node: 7.5/11.9 GiB<br>Using FIFO scheduling algorithm.<br>Resources requested: 0/3 CPUs, 0/0 GPUs, 0.0/3.64 GiB heap, 0.0/1.82 GiB objects<br>Result logdir: C:\\Users\\Stefan\\git-repos\\work\\mobile-env\\examples\\results_rllib\\PPO<br>Number of trials: 1/1 (1 PENDING)<br><table>\n",
       "<thead>\n",
       "<tr><th>Trial name                        </th><th>status  </th><th>loc  </th></tr>\n",
       "</thead>\n",
       "<tbody>\n",
       "<tr><td>PPO_mobile-small-ma-v0_ef76d_00000</td><td>PENDING </td><td>     </td></tr>\n",
       "</tbody>\n",
       "</table><br><br>"
      ],
      "text/plain": [
       "<IPython.core.display.HTML object>"
      ]
     },
     "metadata": {},
     "output_type": "display_data"
    },
    {
     "data": {
      "text/html": [
       "== Status ==<br>Current time: 2021-12-13 16:48:26 (running for 00:01:15.27)<br>Memory usage on this node: 7.5/11.9 GiB<br>Using FIFO scheduling algorithm.<br>Resources requested: 0/3 CPUs, 0/0 GPUs, 0.0/3.64 GiB heap, 0.0/1.82 GiB objects<br>Result logdir: C:\\Users\\Stefan\\git-repos\\work\\mobile-env\\examples\\results_rllib\\PPO<br>Number of trials: 1/1 (1 PENDING)<br><table>\n",
       "<thead>\n",
       "<tr><th>Trial name                        </th><th>status  </th><th>loc  </th></tr>\n",
       "</thead>\n",
       "<tbody>\n",
       "<tr><td>PPO_mobile-small-ma-v0_ef76d_00000</td><td>PENDING </td><td>     </td></tr>\n",
       "</tbody>\n",
       "</table><br><br>"
      ],
      "text/plain": [
       "<IPython.core.display.HTML object>"
      ]
     },
     "metadata": {},
     "output_type": "display_data"
    },
    {
     "data": {
      "text/html": [
       "== Status ==<br>Current time: 2021-12-13 16:48:31 (running for 00:01:20.27)<br>Memory usage on this node: 7.4/11.9 GiB<br>Using FIFO scheduling algorithm.<br>Resources requested: 0/3 CPUs, 0/0 GPUs, 0.0/3.64 GiB heap, 0.0/1.82 GiB objects<br>Result logdir: C:\\Users\\Stefan\\git-repos\\work\\mobile-env\\examples\\results_rllib\\PPO<br>Number of trials: 1/1 (1 PENDING)<br><table>\n",
       "<thead>\n",
       "<tr><th>Trial name                        </th><th>status  </th><th>loc  </th></tr>\n",
       "</thead>\n",
       "<tbody>\n",
       "<tr><td>PPO_mobile-small-ma-v0_ef76d_00000</td><td>PENDING </td><td>     </td></tr>\n",
       "</tbody>\n",
       "</table><br><br>"
      ],
      "text/plain": [
       "<IPython.core.display.HTML object>"
      ]
     },
     "metadata": {},
     "output_type": "display_data"
    },
    {
     "data": {
      "text/html": [
       "== Status ==<br>Current time: 2021-12-13 16:48:36 (running for 00:01:25.28)<br>Memory usage on this node: 7.4/11.9 GiB<br>Using FIFO scheduling algorithm.<br>Resources requested: 0/3 CPUs, 0/0 GPUs, 0.0/3.64 GiB heap, 0.0/1.82 GiB objects<br>Result logdir: C:\\Users\\Stefan\\git-repos\\work\\mobile-env\\examples\\results_rllib\\PPO<br>Number of trials: 1/1 (1 PENDING)<br><table>\n",
       "<thead>\n",
       "<tr><th>Trial name                        </th><th>status  </th><th>loc  </th></tr>\n",
       "</thead>\n",
       "<tbody>\n",
       "<tr><td>PPO_mobile-small-ma-v0_ef76d_00000</td><td>PENDING </td><td>     </td></tr>\n",
       "</tbody>\n",
       "</table><br><br>"
      ],
      "text/plain": [
       "<IPython.core.display.HTML object>"
      ]
     },
     "metadata": {},
     "output_type": "display_data"
    },
    {
     "data": {
      "text/html": [
       "== Status ==<br>Current time: 2021-12-13 16:48:41 (running for 00:01:30.30)<br>Memory usage on this node: 7.4/11.9 GiB<br>Using FIFO scheduling algorithm.<br>Resources requested: 0/3 CPUs, 0/0 GPUs, 0.0/3.64 GiB heap, 0.0/1.82 GiB objects<br>Result logdir: C:\\Users\\Stefan\\git-repos\\work\\mobile-env\\examples\\results_rllib\\PPO<br>Number of trials: 1/1 (1 PENDING)<br><table>\n",
       "<thead>\n",
       "<tr><th>Trial name                        </th><th>status  </th><th>loc  </th></tr>\n",
       "</thead>\n",
       "<tbody>\n",
       "<tr><td>PPO_mobile-small-ma-v0_ef76d_00000</td><td>PENDING </td><td>     </td></tr>\n",
       "</tbody>\n",
       "</table><br><br>"
      ],
      "text/plain": [
       "<IPython.core.display.HTML object>"
      ]
     },
     "metadata": {},
     "output_type": "display_data"
    },
    {
     "data": {
      "text/html": [
       "== Status ==<br>Current time: 2021-12-13 16:48:46 (running for 00:01:35.32)<br>Memory usage on this node: 7.4/11.9 GiB<br>Using FIFO scheduling algorithm.<br>Resources requested: 0/3 CPUs, 0/0 GPUs, 0.0/3.64 GiB heap, 0.0/1.82 GiB objects<br>Result logdir: C:\\Users\\Stefan\\git-repos\\work\\mobile-env\\examples\\results_rllib\\PPO<br>Number of trials: 1/1 (1 PENDING)<br><table>\n",
       "<thead>\n",
       "<tr><th>Trial name                        </th><th>status  </th><th>loc  </th></tr>\n",
       "</thead>\n",
       "<tbody>\n",
       "<tr><td>PPO_mobile-small-ma-v0_ef76d_00000</td><td>PENDING </td><td>     </td></tr>\n",
       "</tbody>\n",
       "</table><br><br>"
      ],
      "text/plain": [
       "<IPython.core.display.HTML object>"
      ]
     },
     "metadata": {},
     "output_type": "display_data"
    },
    {
     "data": {
      "text/html": [
       "== Status ==<br>Current time: 2021-12-13 16:48:51 (running for 00:01:40.33)<br>Memory usage on this node: 7.4/11.9 GiB<br>Using FIFO scheduling algorithm.<br>Resources requested: 0/3 CPUs, 0/0 GPUs, 0.0/3.64 GiB heap, 0.0/1.82 GiB objects<br>Result logdir: C:\\Users\\Stefan\\git-repos\\work\\mobile-env\\examples\\results_rllib\\PPO<br>Number of trials: 1/1 (1 PENDING)<br><table>\n",
       "<thead>\n",
       "<tr><th>Trial name                        </th><th>status  </th><th>loc  </th></tr>\n",
       "</thead>\n",
       "<tbody>\n",
       "<tr><td>PPO_mobile-small-ma-v0_ef76d_00000</td><td>PENDING </td><td>     </td></tr>\n",
       "</tbody>\n",
       "</table><br><br>"
      ],
      "text/plain": [
       "<IPython.core.display.HTML object>"
      ]
     },
     "metadata": {},
     "output_type": "display_data"
    },
    {
     "data": {
      "text/html": [
       "== Status ==<br>Current time: 2021-12-13 16:48:56 (running for 00:01:45.33)<br>Memory usage on this node: 7.4/11.9 GiB<br>Using FIFO scheduling algorithm.<br>Resources requested: 0/3 CPUs, 0/0 GPUs, 0.0/3.64 GiB heap, 0.0/1.82 GiB objects<br>Result logdir: C:\\Users\\Stefan\\git-repos\\work\\mobile-env\\examples\\results_rllib\\PPO<br>Number of trials: 1/1 (1 PENDING)<br><table>\n",
       "<thead>\n",
       "<tr><th>Trial name                        </th><th>status  </th><th>loc  </th></tr>\n",
       "</thead>\n",
       "<tbody>\n",
       "<tr><td>PPO_mobile-small-ma-v0_ef76d_00000</td><td>PENDING </td><td>     </td></tr>\n",
       "</tbody>\n",
       "</table><br><br>"
      ],
      "text/plain": [
       "<IPython.core.display.HTML object>"
      ]
     },
     "metadata": {},
     "output_type": "display_data"
    },
    {
     "data": {
      "text/html": [
       "== Status ==<br>Current time: 2021-12-13 16:49:01 (running for 00:01:50.35)<br>Memory usage on this node: 7.5/11.9 GiB<br>Using FIFO scheduling algorithm.<br>Resources requested: 0/3 CPUs, 0/0 GPUs, 0.0/3.64 GiB heap, 0.0/1.82 GiB objects<br>Result logdir: C:\\Users\\Stefan\\git-repos\\work\\mobile-env\\examples\\results_rllib\\PPO<br>Number of trials: 1/1 (1 PENDING)<br><table>\n",
       "<thead>\n",
       "<tr><th>Trial name                        </th><th>status  </th><th>loc  </th></tr>\n",
       "</thead>\n",
       "<tbody>\n",
       "<tr><td>PPO_mobile-small-ma-v0_ef76d_00000</td><td>PENDING </td><td>     </td></tr>\n",
       "</tbody>\n",
       "</table><br><br>"
      ],
      "text/plain": [
       "<IPython.core.display.HTML object>"
      ]
     },
     "metadata": {},
     "output_type": "display_data"
    },
    {
     "data": {
      "text/html": [
       "== Status ==<br>Current time: 2021-12-13 16:49:06 (running for 00:01:55.35)<br>Memory usage on this node: 7.4/11.9 GiB<br>Using FIFO scheduling algorithm.<br>Resources requested: 0/3 CPUs, 0/0 GPUs, 0.0/3.64 GiB heap, 0.0/1.82 GiB objects<br>Result logdir: C:\\Users\\Stefan\\git-repos\\work\\mobile-env\\examples\\results_rllib\\PPO<br>Number of trials: 1/1 (1 PENDING)<br><table>\n",
       "<thead>\n",
       "<tr><th>Trial name                        </th><th>status  </th><th>loc  </th></tr>\n",
       "</thead>\n",
       "<tbody>\n",
       "<tr><td>PPO_mobile-small-ma-v0_ef76d_00000</td><td>PENDING </td><td>     </td></tr>\n",
       "</tbody>\n",
       "</table><br><br>"
      ],
      "text/plain": [
       "<IPython.core.display.HTML object>"
      ]
     },
     "metadata": {},
     "output_type": "display_data"
    },
    {
     "data": {
      "text/html": [
       "== Status ==<br>Current time: 2021-12-13 16:49:11 (running for 00:02:00.35)<br>Memory usage on this node: 7.4/11.9 GiB<br>Using FIFO scheduling algorithm.<br>Resources requested: 0/3 CPUs, 0/0 GPUs, 0.0/3.64 GiB heap, 0.0/1.82 GiB objects<br>Result logdir: C:\\Users\\Stefan\\git-repos\\work\\mobile-env\\examples\\results_rllib\\PPO<br>Number of trials: 1/1 (1 PENDING)<br><table>\n",
       "<thead>\n",
       "<tr><th>Trial name                        </th><th>status  </th><th>loc  </th></tr>\n",
       "</thead>\n",
       "<tbody>\n",
       "<tr><td>PPO_mobile-small-ma-v0_ef76d_00000</td><td>PENDING </td><td>     </td></tr>\n",
       "</tbody>\n",
       "</table><br><br>"
      ],
      "text/plain": [
       "<IPython.core.display.HTML object>"
      ]
     },
     "metadata": {},
     "output_type": "display_data"
    },
    {
     "data": {
      "text/html": [
       "== Status ==<br>Current time: 2021-12-13 16:49:16 (running for 00:02:05.37)<br>Memory usage on this node: 7.4/11.9 GiB<br>Using FIFO scheduling algorithm.<br>Resources requested: 0/3 CPUs, 0/0 GPUs, 0.0/3.64 GiB heap, 0.0/1.82 GiB objects<br>Result logdir: C:\\Users\\Stefan\\git-repos\\work\\mobile-env\\examples\\results_rllib\\PPO<br>Number of trials: 1/1 (1 PENDING)<br><table>\n",
       "<thead>\n",
       "<tr><th>Trial name                        </th><th>status  </th><th>loc  </th></tr>\n",
       "</thead>\n",
       "<tbody>\n",
       "<tr><td>PPO_mobile-small-ma-v0_ef76d_00000</td><td>PENDING </td><td>     </td></tr>\n",
       "</tbody>\n",
       "</table><br><br>"
      ],
      "text/plain": [
       "<IPython.core.display.HTML object>"
      ]
     },
     "metadata": {},
     "output_type": "display_data"
    },
    {
     "data": {
      "text/html": [
       "== Status ==<br>Current time: 2021-12-13 16:49:21 (running for 00:02:10.38)<br>Memory usage on this node: 7.5/11.9 GiB<br>Using FIFO scheduling algorithm.<br>Resources requested: 0/3 CPUs, 0/0 GPUs, 0.0/3.64 GiB heap, 0.0/1.82 GiB objects<br>Result logdir: C:\\Users\\Stefan\\git-repos\\work\\mobile-env\\examples\\results_rllib\\PPO<br>Number of trials: 1/1 (1 PENDING)<br><table>\n",
       "<thead>\n",
       "<tr><th>Trial name                        </th><th>status  </th><th>loc  </th></tr>\n",
       "</thead>\n",
       "<tbody>\n",
       "<tr><td>PPO_mobile-small-ma-v0_ef76d_00000</td><td>PENDING </td><td>     </td></tr>\n",
       "</tbody>\n",
       "</table><br><br>"
      ],
      "text/plain": [
       "<IPython.core.display.HTML object>"
      ]
     },
     "metadata": {},
     "output_type": "display_data"
    },
    {
     "data": {
      "text/html": [
       "== Status ==<br>Current time: 2021-12-13 16:49:26 (running for 00:02:15.38)<br>Memory usage on this node: 7.5/11.9 GiB<br>Using FIFO scheduling algorithm.<br>Resources requested: 0/3 CPUs, 0/0 GPUs, 0.0/3.64 GiB heap, 0.0/1.82 GiB objects<br>Result logdir: C:\\Users\\Stefan\\git-repos\\work\\mobile-env\\examples\\results_rllib\\PPO<br>Number of trials: 1/1 (1 PENDING)<br><table>\n",
       "<thead>\n",
       "<tr><th>Trial name                        </th><th>status  </th><th>loc  </th></tr>\n",
       "</thead>\n",
       "<tbody>\n",
       "<tr><td>PPO_mobile-small-ma-v0_ef76d_00000</td><td>PENDING </td><td>     </td></tr>\n",
       "</tbody>\n",
       "</table><br><br>"
      ],
      "text/plain": [
       "<IPython.core.display.HTML object>"
      ]
     },
     "metadata": {},
     "output_type": "display_data"
    },
    {
     "data": {
      "text/html": [
       "== Status ==<br>Current time: 2021-12-13 16:49:31 (running for 00:02:20.40)<br>Memory usage on this node: 7.6/11.9 GiB<br>Using FIFO scheduling algorithm.<br>Resources requested: 0/3 CPUs, 0/0 GPUs, 0.0/3.64 GiB heap, 0.0/1.82 GiB objects<br>Result logdir: C:\\Users\\Stefan\\git-repos\\work\\mobile-env\\examples\\results_rllib\\PPO<br>Number of trials: 1/1 (1 PENDING)<br><table>\n",
       "<thead>\n",
       "<tr><th>Trial name                        </th><th>status  </th><th>loc  </th></tr>\n",
       "</thead>\n",
       "<tbody>\n",
       "<tr><td>PPO_mobile-small-ma-v0_ef76d_00000</td><td>PENDING </td><td>     </td></tr>\n",
       "</tbody>\n",
       "</table><br><br>"
      ],
      "text/plain": [
       "<IPython.core.display.HTML object>"
      ]
     },
     "metadata": {},
     "output_type": "display_data"
    },
    {
     "data": {
      "text/html": [
       "== Status ==<br>Current time: 2021-12-13 16:49:36 (running for 00:02:25.40)<br>Memory usage on this node: 7.7/11.9 GiB<br>Using FIFO scheduling algorithm.<br>Resources requested: 0/3 CPUs, 0/0 GPUs, 0.0/3.64 GiB heap, 0.0/1.82 GiB objects<br>Result logdir: C:\\Users\\Stefan\\git-repos\\work\\mobile-env\\examples\\results_rllib\\PPO<br>Number of trials: 1/1 (1 PENDING)<br><table>\n",
       "<thead>\n",
       "<tr><th>Trial name                        </th><th>status  </th><th>loc  </th></tr>\n",
       "</thead>\n",
       "<tbody>\n",
       "<tr><td>PPO_mobile-small-ma-v0_ef76d_00000</td><td>PENDING </td><td>     </td></tr>\n",
       "</tbody>\n",
       "</table><br><br>"
      ],
      "text/plain": [
       "<IPython.core.display.HTML object>"
      ]
     },
     "metadata": {},
     "output_type": "display_data"
    },
    {
     "data": {
      "text/html": [
       "== Status ==<br>Current time: 2021-12-13 16:49:41 (running for 00:02:30.42)<br>Memory usage on this node: 7.7/11.9 GiB<br>Using FIFO scheduling algorithm.<br>Resources requested: 0/3 CPUs, 0/0 GPUs, 0.0/3.64 GiB heap, 0.0/1.82 GiB objects<br>Result logdir: C:\\Users\\Stefan\\git-repos\\work\\mobile-env\\examples\\results_rllib\\PPO<br>Number of trials: 1/1 (1 PENDING)<br><table>\n",
       "<thead>\n",
       "<tr><th>Trial name                        </th><th>status  </th><th>loc  </th></tr>\n",
       "</thead>\n",
       "<tbody>\n",
       "<tr><td>PPO_mobile-small-ma-v0_ef76d_00000</td><td>PENDING </td><td>     </td></tr>\n",
       "</tbody>\n",
       "</table><br><br>"
      ],
      "text/plain": [
       "<IPython.core.display.HTML object>"
      ]
     },
     "metadata": {},
     "output_type": "display_data"
    },
    {
     "data": {
      "text/html": [
       "== Status ==<br>Current time: 2021-12-13 16:49:46 (running for 00:02:35.43)<br>Memory usage on this node: 7.7/11.9 GiB<br>Using FIFO scheduling algorithm.<br>Resources requested: 0/3 CPUs, 0/0 GPUs, 0.0/3.64 GiB heap, 0.0/1.82 GiB objects<br>Result logdir: C:\\Users\\Stefan\\git-repos\\work\\mobile-env\\examples\\results_rllib\\PPO<br>Number of trials: 1/1 (1 PENDING)<br><table>\n",
       "<thead>\n",
       "<tr><th>Trial name                        </th><th>status  </th><th>loc  </th></tr>\n",
       "</thead>\n",
       "<tbody>\n",
       "<tr><td>PPO_mobile-small-ma-v0_ef76d_00000</td><td>PENDING </td><td>     </td></tr>\n",
       "</tbody>\n",
       "</table><br><br>"
      ],
      "text/plain": [
       "<IPython.core.display.HTML object>"
      ]
     },
     "metadata": {},
     "output_type": "display_data"
    },
    {
     "data": {
      "text/html": [
       "== Status ==<br>Current time: 2021-12-13 16:49:51 (running for 00:02:40.45)<br>Memory usage on this node: 7.7/11.9 GiB<br>Using FIFO scheduling algorithm.<br>Resources requested: 0/3 CPUs, 0/0 GPUs, 0.0/3.64 GiB heap, 0.0/1.82 GiB objects<br>Result logdir: C:\\Users\\Stefan\\git-repos\\work\\mobile-env\\examples\\results_rllib\\PPO<br>Number of trials: 1/1 (1 PENDING)<br><table>\n",
       "<thead>\n",
       "<tr><th>Trial name                        </th><th>status  </th><th>loc  </th></tr>\n",
       "</thead>\n",
       "<tbody>\n",
       "<tr><td>PPO_mobile-small-ma-v0_ef76d_00000</td><td>PENDING </td><td>     </td></tr>\n",
       "</tbody>\n",
       "</table><br><br>"
      ],
      "text/plain": [
       "<IPython.core.display.HTML object>"
      ]
     },
     "metadata": {},
     "output_type": "display_data"
    },
    {
     "data": {
      "text/html": [
       "== Status ==<br>Current time: 2021-12-13 16:49:56 (running for 00:02:45.45)<br>Memory usage on this node: 7.6/11.9 GiB<br>Using FIFO scheduling algorithm.<br>Resources requested: 0/3 CPUs, 0/0 GPUs, 0.0/3.64 GiB heap, 0.0/1.82 GiB objects<br>Result logdir: C:\\Users\\Stefan\\git-repos\\work\\mobile-env\\examples\\results_rllib\\PPO<br>Number of trials: 1/1 (1 PENDING)<br><table>\n",
       "<thead>\n",
       "<tr><th>Trial name                        </th><th>status  </th><th>loc  </th></tr>\n",
       "</thead>\n",
       "<tbody>\n",
       "<tr><td>PPO_mobile-small-ma-v0_ef76d_00000</td><td>PENDING </td><td>     </td></tr>\n",
       "</tbody>\n",
       "</table><br><br>"
      ],
      "text/plain": [
       "<IPython.core.display.HTML object>"
      ]
     },
     "metadata": {},
     "output_type": "display_data"
    },
    {
     "data": {
      "text/html": [
       "== Status ==<br>Current time: 2021-12-13 16:50:01 (running for 00:02:50.45)<br>Memory usage on this node: 7.7/11.9 GiB<br>Using FIFO scheduling algorithm.<br>Resources requested: 0/3 CPUs, 0/0 GPUs, 0.0/3.64 GiB heap, 0.0/1.82 GiB objects<br>Result logdir: C:\\Users\\Stefan\\git-repos\\work\\mobile-env\\examples\\results_rllib\\PPO<br>Number of trials: 1/1 (1 PENDING)<br><table>\n",
       "<thead>\n",
       "<tr><th>Trial name                        </th><th>status  </th><th>loc  </th></tr>\n",
       "</thead>\n",
       "<tbody>\n",
       "<tr><td>PPO_mobile-small-ma-v0_ef76d_00000</td><td>PENDING </td><td>     </td></tr>\n",
       "</tbody>\n",
       "</table><br><br>"
      ],
      "text/plain": [
       "<IPython.core.display.HTML object>"
      ]
     },
     "metadata": {},
     "output_type": "display_data"
    },
    {
     "data": {
      "text/html": [
       "== Status ==<br>Current time: 2021-12-13 16:50:06 (running for 00:02:55.47)<br>Memory usage on this node: 7.8/11.9 GiB<br>Using FIFO scheduling algorithm.<br>Resources requested: 0/3 CPUs, 0/0 GPUs, 0.0/3.64 GiB heap, 0.0/1.82 GiB objects<br>Result logdir: C:\\Users\\Stefan\\git-repos\\work\\mobile-env\\examples\\results_rllib\\PPO<br>Number of trials: 1/1 (1 PENDING)<br><table>\n",
       "<thead>\n",
       "<tr><th>Trial name                        </th><th>status  </th><th>loc  </th></tr>\n",
       "</thead>\n",
       "<tbody>\n",
       "<tr><td>PPO_mobile-small-ma-v0_ef76d_00000</td><td>PENDING </td><td>     </td></tr>\n",
       "</tbody>\n",
       "</table><br><br>"
      ],
      "text/plain": [
       "<IPython.core.display.HTML object>"
      ]
     },
     "metadata": {},
     "output_type": "display_data"
    },
    {
     "data": {
      "text/html": [
       "== Status ==<br>Current time: 2021-12-13 16:50:11 (running for 00:03:00.48)<br>Memory usage on this node: 7.7/11.9 GiB<br>Using FIFO scheduling algorithm.<br>Resources requested: 0/3 CPUs, 0/0 GPUs, 0.0/3.64 GiB heap, 0.0/1.82 GiB objects<br>Result logdir: C:\\Users\\Stefan\\git-repos\\work\\mobile-env\\examples\\results_rllib\\PPO<br>Number of trials: 1/1 (1 PENDING)<br><table>\n",
       "<thead>\n",
       "<tr><th>Trial name                        </th><th>status  </th><th>loc  </th></tr>\n",
       "</thead>\n",
       "<tbody>\n",
       "<tr><td>PPO_mobile-small-ma-v0_ef76d_00000</td><td>PENDING </td><td>     </td></tr>\n",
       "</tbody>\n",
       "</table><br><br>"
      ],
      "text/plain": [
       "<IPython.core.display.HTML object>"
      ]
     },
     "metadata": {},
     "output_type": "display_data"
    },
    {
     "data": {
      "text/html": [
       "== Status ==<br>Current time: 2021-12-13 16:50:16 (running for 00:03:05.50)<br>Memory usage on this node: 7.7/11.9 GiB<br>Using FIFO scheduling algorithm.<br>Resources requested: 0/3 CPUs, 0/0 GPUs, 0.0/3.64 GiB heap, 0.0/1.82 GiB objects<br>Result logdir: C:\\Users\\Stefan\\git-repos\\work\\mobile-env\\examples\\results_rllib\\PPO<br>Number of trials: 1/1 (1 PENDING)<br><table>\n",
       "<thead>\n",
       "<tr><th>Trial name                        </th><th>status  </th><th>loc  </th></tr>\n",
       "</thead>\n",
       "<tbody>\n",
       "<tr><td>PPO_mobile-small-ma-v0_ef76d_00000</td><td>PENDING </td><td>     </td></tr>\n",
       "</tbody>\n",
       "</table><br><br>"
      ],
      "text/plain": [
       "<IPython.core.display.HTML object>"
      ]
     },
     "metadata": {},
     "output_type": "display_data"
    },
    {
     "data": {
      "text/html": [
       "== Status ==<br>Current time: 2021-12-13 16:50:21 (running for 00:03:10.52)<br>Memory usage on this node: 7.8/11.9 GiB<br>Using FIFO scheduling algorithm.<br>Resources requested: 0/3 CPUs, 0/0 GPUs, 0.0/3.64 GiB heap, 0.0/1.82 GiB objects<br>Result logdir: C:\\Users\\Stefan\\git-repos\\work\\mobile-env\\examples\\results_rllib\\PPO<br>Number of trials: 1/1 (1 PENDING)<br><table>\n",
       "<thead>\n",
       "<tr><th>Trial name                        </th><th>status  </th><th>loc  </th></tr>\n",
       "</thead>\n",
       "<tbody>\n",
       "<tr><td>PPO_mobile-small-ma-v0_ef76d_00000</td><td>PENDING </td><td>     </td></tr>\n",
       "</tbody>\n",
       "</table><br><br>"
      ],
      "text/plain": [
       "<IPython.core.display.HTML object>"
      ]
     },
     "metadata": {},
     "output_type": "display_data"
    },
    {
     "data": {
      "text/html": [
       "== Status ==<br>Current time: 2021-12-13 16:50:26 (running for 00:03:15.52)<br>Memory usage on this node: 7.7/11.9 GiB<br>Using FIFO scheduling algorithm.<br>Resources requested: 0/3 CPUs, 0/0 GPUs, 0.0/3.64 GiB heap, 0.0/1.82 GiB objects<br>Result logdir: C:\\Users\\Stefan\\git-repos\\work\\mobile-env\\examples\\results_rllib\\PPO<br>Number of trials: 1/1 (1 PENDING)<br><table>\n",
       "<thead>\n",
       "<tr><th>Trial name                        </th><th>status  </th><th>loc  </th></tr>\n",
       "</thead>\n",
       "<tbody>\n",
       "<tr><td>PPO_mobile-small-ma-v0_ef76d_00000</td><td>PENDING </td><td>     </td></tr>\n",
       "</tbody>\n",
       "</table><br><br>"
      ],
      "text/plain": [
       "<IPython.core.display.HTML object>"
      ]
     },
     "metadata": {},
     "output_type": "display_data"
    },
    {
     "name": "stderr",
     "output_type": "stream",
     "text": [
      "2021-12-13 16:50:31,170\tWARNING util.py:165 -- The `start_trial` operation took 1.267 s, which may be a performance bottleneck.\n"
     ]
    },
    {
     "data": {
      "text/html": [
       "== Status ==<br>Current time: 2021-12-13 16:50:31 (running for 00:03:20.52)<br>Memory usage on this node: 7.5/11.9 GiB<br>Using FIFO scheduling algorithm.<br>Resources requested: 0/3 CPUs, 0/0 GPUs, 0.0/3.64 GiB heap, 0.0/1.82 GiB objects<br>Result logdir: C:\\Users\\Stefan\\git-repos\\work\\mobile-env\\examples\\results_rllib\\PPO<br>Number of trials: 1/1 (1 PENDING)<br><table>\n",
       "<thead>\n",
       "<tr><th>Trial name                        </th><th>status  </th><th>loc  </th></tr>\n",
       "</thead>\n",
       "<tbody>\n",
       "<tr><td>PPO_mobile-small-ma-v0_ef76d_00000</td><td>PENDING </td><td>     </td></tr>\n",
       "</tbody>\n",
       "</table><br><br>"
      ],
      "text/plain": [
       "<IPython.core.display.HTML object>"
      ]
     },
     "metadata": {},
     "output_type": "display_data"
    },
    {
     "data": {
      "text/html": [
       "== Status ==<br>Current time: 2021-12-13 16:50:36 (running for 00:03:25.54)<br>Memory usage on this node: 7.5/11.9 GiB<br>Using FIFO scheduling algorithm.<br>Resources requested: 0/3 CPUs, 0/0 GPUs, 0.0/3.64 GiB heap, 0.0/1.82 GiB objects<br>Result logdir: C:\\Users\\Stefan\\git-repos\\work\\mobile-env\\examples\\results_rllib\\PPO<br>Number of trials: 1/1 (1 PENDING)<br><table>\n",
       "<thead>\n",
       "<tr><th>Trial name                        </th><th>status  </th><th>loc  </th></tr>\n",
       "</thead>\n",
       "<tbody>\n",
       "<tr><td>PPO_mobile-small-ma-v0_ef76d_00000</td><td>PENDING </td><td>     </td></tr>\n",
       "</tbody>\n",
       "</table><br><br>"
      ],
      "text/plain": [
       "<IPython.core.display.HTML object>"
      ]
     },
     "metadata": {},
     "output_type": "display_data"
    },
    {
     "data": {
      "text/html": [
       "== Status ==<br>Current time: 2021-12-13 16:50:41 (running for 00:03:30.55)<br>Memory usage on this node: 7.4/11.9 GiB<br>Using FIFO scheduling algorithm.<br>Resources requested: 0/3 CPUs, 0/0 GPUs, 0.0/3.64 GiB heap, 0.0/1.82 GiB objects<br>Result logdir: C:\\Users\\Stefan\\git-repos\\work\\mobile-env\\examples\\results_rllib\\PPO<br>Number of trials: 1/1 (1 PENDING)<br><table>\n",
       "<thead>\n",
       "<tr><th>Trial name                        </th><th>status  </th><th>loc  </th></tr>\n",
       "</thead>\n",
       "<tbody>\n",
       "<tr><td>PPO_mobile-small-ma-v0_ef76d_00000</td><td>PENDING </td><td>     </td></tr>\n",
       "</tbody>\n",
       "</table><br><br>"
      ],
      "text/plain": [
       "<IPython.core.display.HTML object>"
      ]
     },
     "metadata": {},
     "output_type": "display_data"
    },
    {
     "data": {
      "text/html": [
       "== Status ==<br>Current time: 2021-12-13 16:50:46 (running for 00:03:35.55)<br>Memory usage on this node: 7.4/11.9 GiB<br>Using FIFO scheduling algorithm.<br>Resources requested: 0/3 CPUs, 0/0 GPUs, 0.0/3.64 GiB heap, 0.0/1.82 GiB objects<br>Result logdir: C:\\Users\\Stefan\\git-repos\\work\\mobile-env\\examples\\results_rllib\\PPO<br>Number of trials: 1/1 (1 PENDING)<br><table>\n",
       "<thead>\n",
       "<tr><th>Trial name                        </th><th>status  </th><th>loc  </th></tr>\n",
       "</thead>\n",
       "<tbody>\n",
       "<tr><td>PPO_mobile-small-ma-v0_ef76d_00000</td><td>PENDING </td><td>     </td></tr>\n",
       "</tbody>\n",
       "</table><br><br>"
      ],
      "text/plain": [
       "<IPython.core.display.HTML object>"
      ]
     },
     "metadata": {},
     "output_type": "display_data"
    },
    {
     "data": {
      "text/html": [
       "== Status ==<br>Current time: 2021-12-13 16:50:51 (running for 00:03:40.55)<br>Memory usage on this node: 7.4/11.9 GiB<br>Using FIFO scheduling algorithm.<br>Resources requested: 0/3 CPUs, 0/0 GPUs, 0.0/3.64 GiB heap, 0.0/1.82 GiB objects<br>Result logdir: C:\\Users\\Stefan\\git-repos\\work\\mobile-env\\examples\\results_rllib\\PPO<br>Number of trials: 1/1 (1 PENDING)<br><table>\n",
       "<thead>\n",
       "<tr><th>Trial name                        </th><th>status  </th><th>loc  </th></tr>\n",
       "</thead>\n",
       "<tbody>\n",
       "<tr><td>PPO_mobile-small-ma-v0_ef76d_00000</td><td>PENDING </td><td>     </td></tr>\n",
       "</tbody>\n",
       "</table><br><br>"
      ],
      "text/plain": [
       "<IPython.core.display.HTML object>"
      ]
     },
     "metadata": {},
     "output_type": "display_data"
    },
    {
     "data": {
      "text/html": [
       "== Status ==<br>Current time: 2021-12-13 16:50:56 (running for 00:03:45.57)<br>Memory usage on this node: 7.4/11.9 GiB<br>Using FIFO scheduling algorithm.<br>Resources requested: 0/3 CPUs, 0/0 GPUs, 0.0/3.64 GiB heap, 0.0/1.82 GiB objects<br>Result logdir: C:\\Users\\Stefan\\git-repos\\work\\mobile-env\\examples\\results_rllib\\PPO<br>Number of trials: 1/1 (1 PENDING)<br><table>\n",
       "<thead>\n",
       "<tr><th>Trial name                        </th><th>status  </th><th>loc  </th></tr>\n",
       "</thead>\n",
       "<tbody>\n",
       "<tr><td>PPO_mobile-small-ma-v0_ef76d_00000</td><td>PENDING </td><td>     </td></tr>\n",
       "</tbody>\n",
       "</table><br><br>"
      ],
      "text/plain": [
       "<IPython.core.display.HTML object>"
      ]
     },
     "metadata": {},
     "output_type": "display_data"
    },
    {
     "data": {
      "text/html": [
       "== Status ==<br>Current time: 2021-12-13 16:51:01 (running for 00:03:50.58)<br>Memory usage on this node: 7.4/11.9 GiB<br>Using FIFO scheduling algorithm.<br>Resources requested: 0/3 CPUs, 0/0 GPUs, 0.0/3.64 GiB heap, 0.0/1.82 GiB objects<br>Result logdir: C:\\Users\\Stefan\\git-repos\\work\\mobile-env\\examples\\results_rllib\\PPO<br>Number of trials: 1/1 (1 PENDING)<br><table>\n",
       "<thead>\n",
       "<tr><th>Trial name                        </th><th>status  </th><th>loc  </th></tr>\n",
       "</thead>\n",
       "<tbody>\n",
       "<tr><td>PPO_mobile-small-ma-v0_ef76d_00000</td><td>PENDING </td><td>     </td></tr>\n",
       "</tbody>\n",
       "</table><br><br>"
      ],
      "text/plain": [
       "<IPython.core.display.HTML object>"
      ]
     },
     "metadata": {},
     "output_type": "display_data"
    },
    {
     "data": {
      "text/html": [
       "== Status ==<br>Current time: 2021-12-13 16:51:06 (running for 00:03:55.58)<br>Memory usage on this node: 7.4/11.9 GiB<br>Using FIFO scheduling algorithm.<br>Resources requested: 0/3 CPUs, 0/0 GPUs, 0.0/3.64 GiB heap, 0.0/1.82 GiB objects<br>Result logdir: C:\\Users\\Stefan\\git-repos\\work\\mobile-env\\examples\\results_rllib\\PPO<br>Number of trials: 1/1 (1 PENDING)<br><table>\n",
       "<thead>\n",
       "<tr><th>Trial name                        </th><th>status  </th><th>loc  </th></tr>\n",
       "</thead>\n",
       "<tbody>\n",
       "<tr><td>PPO_mobile-small-ma-v0_ef76d_00000</td><td>PENDING </td><td>     </td></tr>\n",
       "</tbody>\n",
       "</table><br><br>"
      ],
      "text/plain": [
       "<IPython.core.display.HTML object>"
      ]
     },
     "metadata": {},
     "output_type": "display_data"
    },
    {
     "data": {
      "text/html": [
       "== Status ==<br>Current time: 2021-12-13 16:51:11 (running for 00:04:00.60)<br>Memory usage on this node: 7.4/11.9 GiB<br>Using FIFO scheduling algorithm.<br>Resources requested: 0/3 CPUs, 0/0 GPUs, 0.0/3.64 GiB heap, 0.0/1.82 GiB objects<br>Result logdir: C:\\Users\\Stefan\\git-repos\\work\\mobile-env\\examples\\results_rllib\\PPO<br>Number of trials: 1/1 (1 PENDING)<br><table>\n",
       "<thead>\n",
       "<tr><th>Trial name                        </th><th>status  </th><th>loc  </th></tr>\n",
       "</thead>\n",
       "<tbody>\n",
       "<tr><td>PPO_mobile-small-ma-v0_ef76d_00000</td><td>PENDING </td><td>     </td></tr>\n",
       "</tbody>\n",
       "</table><br><br>"
      ],
      "text/plain": [
       "<IPython.core.display.HTML object>"
      ]
     },
     "metadata": {},
     "output_type": "display_data"
    },
    {
     "data": {
      "text/html": [
       "== Status ==<br>Current time: 2021-12-13 16:51:16 (running for 00:04:05.60)<br>Memory usage on this node: 7.4/11.9 GiB<br>Using FIFO scheduling algorithm.<br>Resources requested: 0/3 CPUs, 0/0 GPUs, 0.0/3.64 GiB heap, 0.0/1.82 GiB objects<br>Result logdir: C:\\Users\\Stefan\\git-repos\\work\\mobile-env\\examples\\results_rllib\\PPO<br>Number of trials: 1/1 (1 PENDING)<br><table>\n",
       "<thead>\n",
       "<tr><th>Trial name                        </th><th>status  </th><th>loc  </th></tr>\n",
       "</thead>\n",
       "<tbody>\n",
       "<tr><td>PPO_mobile-small-ma-v0_ef76d_00000</td><td>PENDING </td><td>     </td></tr>\n",
       "</tbody>\n",
       "</table><br><br>"
      ],
      "text/plain": [
       "<IPython.core.display.HTML object>"
      ]
     },
     "metadata": {},
     "output_type": "display_data"
    },
    {
     "data": {
      "text/html": [
       "== Status ==<br>Current time: 2021-12-13 16:51:21 (running for 00:04:10.60)<br>Memory usage on this node: 7.5/11.9 GiB<br>Using FIFO scheduling algorithm.<br>Resources requested: 0/3 CPUs, 0/0 GPUs, 0.0/3.64 GiB heap, 0.0/1.82 GiB objects<br>Result logdir: C:\\Users\\Stefan\\git-repos\\work\\mobile-env\\examples\\results_rllib\\PPO<br>Number of trials: 1/1 (1 PENDING)<br><table>\n",
       "<thead>\n",
       "<tr><th>Trial name                        </th><th>status  </th><th>loc  </th></tr>\n",
       "</thead>\n",
       "<tbody>\n",
       "<tr><td>PPO_mobile-small-ma-v0_ef76d_00000</td><td>PENDING </td><td>     </td></tr>\n",
       "</tbody>\n",
       "</table><br><br>"
      ],
      "text/plain": [
       "<IPython.core.display.HTML object>"
      ]
     },
     "metadata": {},
     "output_type": "display_data"
    },
    {
     "data": {
      "text/html": [
       "== Status ==<br>Current time: 2021-12-13 16:51:26 (running for 00:04:15.60)<br>Memory usage on this node: 7.5/11.9 GiB<br>Using FIFO scheduling algorithm.<br>Resources requested: 0/3 CPUs, 0/0 GPUs, 0.0/3.64 GiB heap, 0.0/1.82 GiB objects<br>Result logdir: C:\\Users\\Stefan\\git-repos\\work\\mobile-env\\examples\\results_rllib\\PPO<br>Number of trials: 1/1 (1 PENDING)<br><table>\n",
       "<thead>\n",
       "<tr><th>Trial name                        </th><th>status  </th><th>loc  </th></tr>\n",
       "</thead>\n",
       "<tbody>\n",
       "<tr><td>PPO_mobile-small-ma-v0_ef76d_00000</td><td>PENDING </td><td>     </td></tr>\n",
       "</tbody>\n",
       "</table><br><br>"
      ],
      "text/plain": [
       "<IPython.core.display.HTML object>"
      ]
     },
     "metadata": {},
     "output_type": "display_data"
    },
    {
     "data": {
      "text/html": [
       "== Status ==<br>Current time: 2021-12-13 16:51:31 (running for 00:04:20.60)<br>Memory usage on this node: 7.6/11.9 GiB<br>Using FIFO scheduling algorithm.<br>Resources requested: 0/3 CPUs, 0/0 GPUs, 0.0/3.64 GiB heap, 0.0/1.82 GiB objects<br>Result logdir: C:\\Users\\Stefan\\git-repos\\work\\mobile-env\\examples\\results_rllib\\PPO<br>Number of trials: 1/1 (1 PENDING)<br><table>\n",
       "<thead>\n",
       "<tr><th>Trial name                        </th><th>status  </th><th>loc  </th></tr>\n",
       "</thead>\n",
       "<tbody>\n",
       "<tr><td>PPO_mobile-small-ma-v0_ef76d_00000</td><td>PENDING </td><td>     </td></tr>\n",
       "</tbody>\n",
       "</table><br><br>"
      ],
      "text/plain": [
       "<IPython.core.display.HTML object>"
      ]
     },
     "metadata": {},
     "output_type": "display_data"
    },
    {
     "data": {
      "text/html": [
       "== Status ==<br>Current time: 2021-12-13 16:51:36 (running for 00:04:25.60)<br>Memory usage on this node: 7.4/11.9 GiB<br>Using FIFO scheduling algorithm.<br>Resources requested: 0/3 CPUs, 0/0 GPUs, 0.0/3.64 GiB heap, 0.0/1.82 GiB objects<br>Result logdir: C:\\Users\\Stefan\\git-repos\\work\\mobile-env\\examples\\results_rllib\\PPO<br>Number of trials: 1/1 (1 PENDING)<br><table>\n",
       "<thead>\n",
       "<tr><th>Trial name                        </th><th>status  </th><th>loc  </th></tr>\n",
       "</thead>\n",
       "<tbody>\n",
       "<tr><td>PPO_mobile-small-ma-v0_ef76d_00000</td><td>PENDING </td><td>     </td></tr>\n",
       "</tbody>\n",
       "</table><br><br>"
      ],
      "text/plain": [
       "<IPython.core.display.HTML object>"
      ]
     },
     "metadata": {},
     "output_type": "display_data"
    },
    {
     "data": {
      "text/html": [
       "== Status ==<br>Current time: 2021-12-13 16:51:41 (running for 00:04:30.61)<br>Memory usage on this node: 7.5/11.9 GiB<br>Using FIFO scheduling algorithm.<br>Resources requested: 0/3 CPUs, 0/0 GPUs, 0.0/3.64 GiB heap, 0.0/1.82 GiB objects<br>Result logdir: C:\\Users\\Stefan\\git-repos\\work\\mobile-env\\examples\\results_rllib\\PPO<br>Number of trials: 1/1 (1 PENDING)<br><table>\n",
       "<thead>\n",
       "<tr><th>Trial name                        </th><th>status  </th><th>loc  </th></tr>\n",
       "</thead>\n",
       "<tbody>\n",
       "<tr><td>PPO_mobile-small-ma-v0_ef76d_00000</td><td>PENDING </td><td>     </td></tr>\n",
       "</tbody>\n",
       "</table><br><br>"
      ],
      "text/plain": [
       "<IPython.core.display.HTML object>"
      ]
     },
     "metadata": {},
     "output_type": "display_data"
    },
    {
     "data": {
      "text/html": [
       "== Status ==<br>Current time: 2021-12-13 16:51:46 (running for 00:04:35.61)<br>Memory usage on this node: 7.5/11.9 GiB<br>Using FIFO scheduling algorithm.<br>Resources requested: 0/3 CPUs, 0/0 GPUs, 0.0/3.64 GiB heap, 0.0/1.82 GiB objects<br>Result logdir: C:\\Users\\Stefan\\git-repos\\work\\mobile-env\\examples\\results_rllib\\PPO<br>Number of trials: 1/1 (1 PENDING)<br><table>\n",
       "<thead>\n",
       "<tr><th>Trial name                        </th><th>status  </th><th>loc  </th></tr>\n",
       "</thead>\n",
       "<tbody>\n",
       "<tr><td>PPO_mobile-small-ma-v0_ef76d_00000</td><td>PENDING </td><td>     </td></tr>\n",
       "</tbody>\n",
       "</table><br><br>"
      ],
      "text/plain": [
       "<IPython.core.display.HTML object>"
      ]
     },
     "metadata": {},
     "output_type": "display_data"
    },
    {
     "data": {
      "text/html": [
       "== Status ==<br>Current time: 2021-12-13 16:51:51 (running for 00:04:40.61)<br>Memory usage on this node: 7.5/11.9 GiB<br>Using FIFO scheduling algorithm.<br>Resources requested: 0/3 CPUs, 0/0 GPUs, 0.0/3.64 GiB heap, 0.0/1.82 GiB objects<br>Result logdir: C:\\Users\\Stefan\\git-repos\\work\\mobile-env\\examples\\results_rllib\\PPO<br>Number of trials: 1/1 (1 PENDING)<br><table>\n",
       "<thead>\n",
       "<tr><th>Trial name                        </th><th>status  </th><th>loc  </th></tr>\n",
       "</thead>\n",
       "<tbody>\n",
       "<tr><td>PPO_mobile-small-ma-v0_ef76d_00000</td><td>PENDING </td><td>     </td></tr>\n",
       "</tbody>\n",
       "</table><br><br>"
      ],
      "text/plain": [
       "<IPython.core.display.HTML object>"
      ]
     },
     "metadata": {},
     "output_type": "display_data"
    },
    {
     "data": {
      "text/html": [
       "== Status ==<br>Current time: 2021-12-13 16:51:56 (running for 00:04:45.61)<br>Memory usage on this node: 7.5/11.9 GiB<br>Using FIFO scheduling algorithm.<br>Resources requested: 0/3 CPUs, 0/0 GPUs, 0.0/3.64 GiB heap, 0.0/1.82 GiB objects<br>Result logdir: C:\\Users\\Stefan\\git-repos\\work\\mobile-env\\examples\\results_rllib\\PPO<br>Number of trials: 1/1 (1 PENDING)<br><table>\n",
       "<thead>\n",
       "<tr><th>Trial name                        </th><th>status  </th><th>loc  </th></tr>\n",
       "</thead>\n",
       "<tbody>\n",
       "<tr><td>PPO_mobile-small-ma-v0_ef76d_00000</td><td>PENDING </td><td>     </td></tr>\n",
       "</tbody>\n",
       "</table><br><br>"
      ],
      "text/plain": [
       "<IPython.core.display.HTML object>"
      ]
     },
     "metadata": {},
     "output_type": "display_data"
    },
    {
     "data": {
      "text/html": [
       "== Status ==<br>Current time: 2021-12-13 16:52:01 (running for 00:04:50.61)<br>Memory usage on this node: 7.5/11.9 GiB<br>Using FIFO scheduling algorithm.<br>Resources requested: 0/3 CPUs, 0/0 GPUs, 0.0/3.64 GiB heap, 0.0/1.82 GiB objects<br>Result logdir: C:\\Users\\Stefan\\git-repos\\work\\mobile-env\\examples\\results_rllib\\PPO<br>Number of trials: 1/1 (1 PENDING)<br><table>\n",
       "<thead>\n",
       "<tr><th>Trial name                        </th><th>status  </th><th>loc  </th></tr>\n",
       "</thead>\n",
       "<tbody>\n",
       "<tr><td>PPO_mobile-small-ma-v0_ef76d_00000</td><td>PENDING </td><td>     </td></tr>\n",
       "</tbody>\n",
       "</table><br><br>"
      ],
      "text/plain": [
       "<IPython.core.display.HTML object>"
      ]
     },
     "metadata": {},
     "output_type": "display_data"
    },
    {
     "data": {
      "text/html": [
       "== Status ==<br>Current time: 2021-12-13 16:52:06 (running for 00:04:55.62)<br>Memory usage on this node: 7.5/11.9 GiB<br>Using FIFO scheduling algorithm.<br>Resources requested: 0/3 CPUs, 0/0 GPUs, 0.0/3.64 GiB heap, 0.0/1.82 GiB objects<br>Result logdir: C:\\Users\\Stefan\\git-repos\\work\\mobile-env\\examples\\results_rllib\\PPO<br>Number of trials: 1/1 (1 PENDING)<br><table>\n",
       "<thead>\n",
       "<tr><th>Trial name                        </th><th>status  </th><th>loc  </th></tr>\n",
       "</thead>\n",
       "<tbody>\n",
       "<tr><td>PPO_mobile-small-ma-v0_ef76d_00000</td><td>PENDING </td><td>     </td></tr>\n",
       "</tbody>\n",
       "</table><br><br>"
      ],
      "text/plain": [
       "<IPython.core.display.HTML object>"
      ]
     },
     "metadata": {},
     "output_type": "display_data"
    },
    {
     "data": {
      "text/html": [
       "== Status ==<br>Current time: 2021-12-13 16:52:11 (running for 00:05:00.62)<br>Memory usage on this node: 7.5/11.9 GiB<br>Using FIFO scheduling algorithm.<br>Resources requested: 0/3 CPUs, 0/0 GPUs, 0.0/3.64 GiB heap, 0.0/1.82 GiB objects<br>Result logdir: C:\\Users\\Stefan\\git-repos\\work\\mobile-env\\examples\\results_rllib\\PPO<br>Number of trials: 1/1 (1 PENDING)<br><table>\n",
       "<thead>\n",
       "<tr><th>Trial name                        </th><th>status  </th><th>loc  </th></tr>\n",
       "</thead>\n",
       "<tbody>\n",
       "<tr><td>PPO_mobile-small-ma-v0_ef76d_00000</td><td>PENDING </td><td>     </td></tr>\n",
       "</tbody>\n",
       "</table><br><br>"
      ],
      "text/plain": [
       "<IPython.core.display.HTML object>"
      ]
     },
     "metadata": {},
     "output_type": "display_data"
    },
    {
     "data": {
      "text/html": [
       "== Status ==<br>Current time: 2021-12-13 16:52:16 (running for 00:05:05.63)<br>Memory usage on this node: 7.5/11.9 GiB<br>Using FIFO scheduling algorithm.<br>Resources requested: 0/3 CPUs, 0/0 GPUs, 0.0/3.64 GiB heap, 0.0/1.82 GiB objects<br>Result logdir: C:\\Users\\Stefan\\git-repos\\work\\mobile-env\\examples\\results_rllib\\PPO<br>Number of trials: 1/1 (1 PENDING)<br><table>\n",
       "<thead>\n",
       "<tr><th>Trial name                        </th><th>status  </th><th>loc  </th></tr>\n",
       "</thead>\n",
       "<tbody>\n",
       "<tr><td>PPO_mobile-small-ma-v0_ef76d_00000</td><td>PENDING </td><td>     </td></tr>\n",
       "</tbody>\n",
       "</table><br><br>"
      ],
      "text/plain": [
       "<IPython.core.display.HTML object>"
      ]
     },
     "metadata": {},
     "output_type": "display_data"
    },
    {
     "data": {
      "text/html": [
       "== Status ==<br>Current time: 2021-12-13 16:52:21 (running for 00:05:10.63)<br>Memory usage on this node: 7.5/11.9 GiB<br>Using FIFO scheduling algorithm.<br>Resources requested: 0/3 CPUs, 0/0 GPUs, 0.0/3.64 GiB heap, 0.0/1.82 GiB objects<br>Result logdir: C:\\Users\\Stefan\\git-repos\\work\\mobile-env\\examples\\results_rllib\\PPO<br>Number of trials: 1/1 (1 PENDING)<br><table>\n",
       "<thead>\n",
       "<tr><th>Trial name                        </th><th>status  </th><th>loc  </th></tr>\n",
       "</thead>\n",
       "<tbody>\n",
       "<tr><td>PPO_mobile-small-ma-v0_ef76d_00000</td><td>PENDING </td><td>     </td></tr>\n",
       "</tbody>\n",
       "</table><br><br>"
      ],
      "text/plain": [
       "<IPython.core.display.HTML object>"
      ]
     },
     "metadata": {},
     "output_type": "display_data"
    },
    {
     "data": {
      "text/html": [
       "== Status ==<br>Current time: 2021-12-13 16:52:26 (running for 00:05:15.65)<br>Memory usage on this node: 7.5/11.9 GiB<br>Using FIFO scheduling algorithm.<br>Resources requested: 0/3 CPUs, 0/0 GPUs, 0.0/3.64 GiB heap, 0.0/1.82 GiB objects<br>Result logdir: C:\\Users\\Stefan\\git-repos\\work\\mobile-env\\examples\\results_rllib\\PPO<br>Number of trials: 1/1 (1 PENDING)<br><table>\n",
       "<thead>\n",
       "<tr><th>Trial name                        </th><th>status  </th><th>loc  </th></tr>\n",
       "</thead>\n",
       "<tbody>\n",
       "<tr><td>PPO_mobile-small-ma-v0_ef76d_00000</td><td>PENDING </td><td>     </td></tr>\n",
       "</tbody>\n",
       "</table><br><br>"
      ],
      "text/plain": [
       "<IPython.core.display.HTML object>"
      ]
     },
     "metadata": {},
     "output_type": "display_data"
    },
    {
     "data": {
      "text/html": [
       "== Status ==<br>Current time: 2021-12-13 16:52:31 (running for 00:05:20.65)<br>Memory usage on this node: 7.5/11.9 GiB<br>Using FIFO scheduling algorithm.<br>Resources requested: 0/3 CPUs, 0/0 GPUs, 0.0/3.64 GiB heap, 0.0/1.82 GiB objects<br>Result logdir: C:\\Users\\Stefan\\git-repos\\work\\mobile-env\\examples\\results_rllib\\PPO<br>Number of trials: 1/1 (1 PENDING)<br><table>\n",
       "<thead>\n",
       "<tr><th>Trial name                        </th><th>status  </th><th>loc  </th></tr>\n",
       "</thead>\n",
       "<tbody>\n",
       "<tr><td>PPO_mobile-small-ma-v0_ef76d_00000</td><td>PENDING </td><td>     </td></tr>\n",
       "</tbody>\n",
       "</table><br><br>"
      ],
      "text/plain": [
       "<IPython.core.display.HTML object>"
      ]
     },
     "metadata": {},
     "output_type": "display_data"
    },
    {
     "data": {
      "text/html": [
       "== Status ==<br>Current time: 2021-12-13 16:52:36 (running for 00:05:25.67)<br>Memory usage on this node: 7.3/11.9 GiB<br>Using FIFO scheduling algorithm.<br>Resources requested: 0/3 CPUs, 0/0 GPUs, 0.0/3.64 GiB heap, 0.0/1.82 GiB objects<br>Result logdir: C:\\Users\\Stefan\\git-repos\\work\\mobile-env\\examples\\results_rllib\\PPO<br>Number of trials: 1/1 (1 PENDING)<br><table>\n",
       "<thead>\n",
       "<tr><th>Trial name                        </th><th>status  </th><th>loc  </th></tr>\n",
       "</thead>\n",
       "<tbody>\n",
       "<tr><td>PPO_mobile-small-ma-v0_ef76d_00000</td><td>PENDING </td><td>     </td></tr>\n",
       "</tbody>\n",
       "</table><br><br>"
      ],
      "text/plain": [
       "<IPython.core.display.HTML object>"
      ]
     },
     "metadata": {},
     "output_type": "display_data"
    },
    {
     "data": {
      "text/html": [
       "== Status ==<br>Current time: 2021-12-13 16:52:41 (running for 00:05:30.67)<br>Memory usage on this node: 7.1/11.9 GiB<br>Using FIFO scheduling algorithm.<br>Resources requested: 0/3 CPUs, 0/0 GPUs, 0.0/3.64 GiB heap, 0.0/1.82 GiB objects<br>Result logdir: C:\\Users\\Stefan\\git-repos\\work\\mobile-env\\examples\\results_rllib\\PPO<br>Number of trials: 1/1 (1 PENDING)<br><table>\n",
       "<thead>\n",
       "<tr><th>Trial name                        </th><th>status  </th><th>loc  </th></tr>\n",
       "</thead>\n",
       "<tbody>\n",
       "<tr><td>PPO_mobile-small-ma-v0_ef76d_00000</td><td>PENDING </td><td>     </td></tr>\n",
       "</tbody>\n",
       "</table><br><br>"
      ],
      "text/plain": [
       "<IPython.core.display.HTML object>"
      ]
     },
     "metadata": {},
     "output_type": "display_data"
    },
    {
     "data": {
      "text/html": [
       "== Status ==<br>Current time: 2021-12-13 16:52:46 (running for 00:05:35.68)<br>Memory usage on this node: 7.0/11.9 GiB<br>Using FIFO scheduling algorithm.<br>Resources requested: 0/3 CPUs, 0/0 GPUs, 0.0/3.64 GiB heap, 0.0/1.82 GiB objects<br>Result logdir: C:\\Users\\Stefan\\git-repos\\work\\mobile-env\\examples\\results_rllib\\PPO<br>Number of trials: 1/1 (1 PENDING)<br><table>\n",
       "<thead>\n",
       "<tr><th>Trial name                        </th><th>status  </th><th>loc  </th></tr>\n",
       "</thead>\n",
       "<tbody>\n",
       "<tr><td>PPO_mobile-small-ma-v0_ef76d_00000</td><td>PENDING </td><td>     </td></tr>\n",
       "</tbody>\n",
       "</table><br><br>"
      ],
      "text/plain": [
       "<IPython.core.display.HTML object>"
      ]
     },
     "metadata": {},
     "output_type": "display_data"
    },
    {
     "data": {
      "text/html": [
       "== Status ==<br>Current time: 2021-12-13 16:52:51 (running for 00:05:40.68)<br>Memory usage on this node: 7.0/11.9 GiB<br>Using FIFO scheduling algorithm.<br>Resources requested: 0/3 CPUs, 0/0 GPUs, 0.0/3.64 GiB heap, 0.0/1.82 GiB objects<br>Result logdir: C:\\Users\\Stefan\\git-repos\\work\\mobile-env\\examples\\results_rllib\\PPO<br>Number of trials: 1/1 (1 PENDING)<br><table>\n",
       "<thead>\n",
       "<tr><th>Trial name                        </th><th>status  </th><th>loc  </th></tr>\n",
       "</thead>\n",
       "<tbody>\n",
       "<tr><td>PPO_mobile-small-ma-v0_ef76d_00000</td><td>PENDING </td><td>     </td></tr>\n",
       "</tbody>\n",
       "</table><br><br>"
      ],
      "text/plain": [
       "<IPython.core.display.HTML object>"
      ]
     },
     "metadata": {},
     "output_type": "display_data"
    },
    {
     "name": "stderr",
     "output_type": "stream",
     "text": [
      "2021-12-13 16:52:54,720\tWARNING tune.py:582 -- SIGINT received (e.g. via Ctrl+C), ending Ray Tune run. This will try to checkpoint the experiment state one last time. Press CTRL+C one more time (or send SIGINT/SIGKILL/SIGTERM) to skip. \n"
     ]
    },
    {
     "data": {
      "text/html": [
       "== Status ==<br>Current time: 2021-12-13 16:52:54 (running for 00:05:43.47)<br>Memory usage on this node: 7.0/11.9 GiB<br>Using FIFO scheduling algorithm.<br>Resources requested: 0/3 CPUs, 0/0 GPUs, 0.0/3.64 GiB heap, 0.0/1.82 GiB objects<br>Result logdir: C:\\Users\\Stefan\\git-repos\\work\\mobile-env\\examples\\results_rllib\\PPO<br>Number of trials: 1/1 (1 PENDING)<br><table>\n",
       "<thead>\n",
       "<tr><th>Trial name                        </th><th>status  </th><th>loc  </th></tr>\n",
       "</thead>\n",
       "<tbody>\n",
       "<tr><td>PPO_mobile-small-ma-v0_ef76d_00000</td><td>PENDING </td><td>     </td></tr>\n",
       "</tbody>\n",
       "</table><br><br>"
      ],
      "text/plain": [
       "<IPython.core.display.HTML object>"
      ]
     },
     "metadata": {},
     "output_type": "display_data"
    },
    {
     "name": "stderr",
     "output_type": "stream",
     "text": [
      "2021-12-13 16:52:54,970\tERROR tune.py:622 -- Trials did not complete: [PPO_mobile-small-ma-v0_ef76d_00000]\n",
      "2021-12-13 16:52:54,970\tINFO tune.py:626 -- Total run time: 343.72 seconds (343.45 seconds for the tuning loop).\n",
      "2021-12-13 16:52:54,970\tWARNING tune.py:630 -- Experiment has been interrupted, but the most recent state was saved. You can continue running this experiment by passing `resume=True` to `tune.run()`\n"
     ]
    }
   ],
   "source": [
    "# configure and run multi-agent PPO\n",
    "config = {\n",
    "        # environment configuration:\n",
    "        \"env\": \"mobile-small-ma-v0\",\n",
    "\n",
    "        # multi-agent configuration (here with shared policy)\n",
    "        \"multiagent\": {\n",
    "            \"policies\": {\"shared_policy\"},\n",
    "            \"policy_mapping_fn\": (\n",
    "                lambda agent_id, **kwargs: \"shared_policy\"),\n",
    "        },\n",
    "}\n",
    "\n",
    "analysis = ray.tune.run(\"PPO\", config=config, local_dir=\"results_rllib\", stop={\"timesteps_total\": 30000}, checkpoint_at_end=True)"
   ]
  },
  {
   "cell_type": "markdown",
   "metadata": {},
   "source": [
    "As before, we can check the learning curve on TensorBoard. The corresponding files are in the configured `save_dir=results_rllib`.\n",
    "\n",
    "The \"episode_reward_mean\" should increase with increasing training. RLlib also logs many other metrics by default, which can be useful for debugging. "
   ]
  },
  {
   "cell_type": "code",
   "execution_count": 23,
   "metadata": {},
   "outputs": [
    {
     "data": {
      "text/html": [
       "\n",
       "      <iframe id=\"tensorboard-frame-1418bc201a46b154\" width=\"100%\" height=\"800\" frameborder=\"0\">\n",
       "      </iframe>\n",
       "      <script>\n",
       "        (function() {\n",
       "          const frame = document.getElementById(\"tensorboard-frame-1418bc201a46b154\");\n",
       "          const url = new URL(\"/\", window.location);\n",
       "          const port = 6006;\n",
       "          if (port) {\n",
       "            url.port = port;\n",
       "          }\n",
       "          frame.src = url;\n",
       "        })();\n",
       "      </script>\n",
       "    "
      ],
      "text/plain": [
       "<IPython.core.display.HTML object>"
      ]
     },
     "metadata": {},
     "output_type": "display_data"
    }
   ],
   "source": [
    "%tensorboard --logdir results_rllib"
   ]
  },
  {
   "cell_type": "markdown",
   "metadata": {},
   "source": [
    "### Load and Test the Trained Multi-Agent Policy\n",
    "\n",
    "Let's load the trained multi-agent model and visualize the learned multi-agent policy:"
   ]
  },
  {
   "cell_type": "code",
   "execution_count": 26,
   "metadata": {},
   "outputs": [
    {
     "data": {
      "image/png": "[encoded data removed]",
      "text/plain": [
       "<Figure size 432x288 with 1 Axes>"
      ]
     },
     "metadata": {
      "needs_background": "light"
     },
     "output_type": "display_data"
    }
   ],
   "source": [
    "from ray.rllib.agents.ppo import PPOTrainer\n",
    "\n",
    "\n",
    "# load the trained agent\n",
    "checkpoint = analysis.get_last_checkpoint()\n",
    "model = PPOTrainer(config=config, env='mobile-small-ma-v0')\n",
    "model.restore(checkpoint)\n",
    "\n",
    "# create the env for testing\n",
    "env = gym.make(\"mobile-small-ma-v0\")\n",
    "obs = env.reset()\n",
    "done = False\n",
    "\n",
    "# run one episode with the trained model\n",
    "while not done:\n",
    "    # gather action from each actor (for each UE)\n",
    "    action = {}\n",
    "    for agent_id, agent_obs in obs.items():\n",
    "        policy_id = config['multiagent']['policy_mapping_fn'](agent_id)\n",
    "        action[agent_id] = model.compute_action(agent_obs, policy_id=policy_id)\n",
    "\n",
    "    # apply actions and perform step on simulation environment\n",
    "    obs, reward, done, info = env.step(action)\n",
    "\n",
    "    # render environment as RGB\n",
    "    plt.imshow(env.render(mode='rgb_array'))\n",
    "    display.display(plt.gcf())\n",
    "    display.clear_output(wait=True)"
   ]
  },
  {
   "cell_type": "code",
   "execution_count": null,
   "metadata": {},
   "outputs": [],
   "source": []
  }
 ],
 "metadata": {
  "kernelspec": {
   "display_name": "Python 3 (ipykernel)",
   "language": "python",
   "name": "python3"
  },
  "language_info": {
   "codemirror_mode": {
    "name": "ipython",
    "version": 3
   },
   "file_extension": ".py",
   "mimetype": "text/x-python",
   "name": "python",
   "nbconvert_exporter": "python",
   "pygments_lexer": "ipython3",
   "version": "3.8.2"
  }
 },
 "nbformat": 4,
 "nbformat_minor": 4
}
